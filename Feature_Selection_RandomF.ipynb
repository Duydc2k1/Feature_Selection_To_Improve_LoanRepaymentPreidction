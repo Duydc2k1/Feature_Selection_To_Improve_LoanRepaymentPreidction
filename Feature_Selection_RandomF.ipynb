{
  "cells": [
    {
      "cell_type": "code",
      "execution_count": null,
      "metadata": {
        "id": "7gMGRDOJ3WS_"
      },
      "outputs": [],
      "source": [
        "import pandas as pd\n",
        "import numpy as np\n",
        "\n",
        "import matplotlib.pyplot as plt\n",
        "import seaborn as sns\n",
        "\n",
        "from sklearn.preprocessing import LabelEncoder\n",
        "\n",
        "import os\n",
        "import warnings\n",
        "warnings.filterwarnings('ignore')\n",
        "\n",
        "from sklearn.preprocessing import MinMaxScaler\n",
        "from sklearn.impute import SimpleImputer\n",
        "\n",
        "from sklearn.model_selection import train_test_split\n",
        "from imblearn.over_sampling import SMOTE\n",
        "\n",
        "from sklearn.linear_model import LogisticRegression\n",
        "from sklearn.metrics import*\n",
        "from sklearn.metrics import confusion_matrix, classification_report\n",
        "\n",
        "from sklearn.ensemble import RandomForestClassifier\n",
        "from sklearn.metrics import roc_curve, roc_auc_score"
      ]
    },
    {
      "cell_type": "code",
      "execution_count": null,
      "metadata": {
        "id": "EdS7S5Bc3cqB"
      },
      "outputs": [],
      "source": [
        "data = pd.read_csv(\"/content/drive/MyDrive/Loan_Prediction_dataMining/dataset/home-credit-default-risk/loan_data_of.csv\")"
      ]
    },
    {
      "cell_type": "code",
      "execution_count": null,
      "metadata": {
        "colab": {
          "base_uri": "https://localhost:8080/"
        },
        "id": "PwU7IsI43cse",
        "outputId": "2a35a0da-f7e1-47e4-d5c0-30deec709530"
      },
      "outputs": [
        {
          "output_type": "execute_result",
          "data": {
            "text/plain": [
              "(307511, 246)"
            ]
          },
          "metadata": {},
          "execution_count": 3
        }
      ],
      "source": [
        "data.shape"
      ]
    },
    {
      "cell_type": "code",
      "execution_count": null,
      "metadata": {
        "id": "DwzAIFzC3cuz"
      },
      "outputs": [],
      "source": [
        "data = data.drop(columns = ['Unnamed: 0'])"
      ]
    },
    {
      "cell_type": "code",
      "execution_count": null,
      "metadata": {
        "id": "w9BA3TdV3cwz"
      },
      "outputs": [],
      "source": [
        "from sklearn.model_selection import train_test_split\n",
        "train, test  = train_test_split(data, test_size = 0.30,\n",
        "                                                    random_state = 1)"
      ]
    },
    {
      "cell_type": "code",
      "execution_count": null,
      "metadata": {
        "id": "v6i80FaC3cy2"
      },
      "outputs": [],
      "source": [
        "X_train = train.drop(columns = ['TARGET'])\n",
        "y_train = train.iloc[:, -6]"
      ]
    },
    {
      "cell_type": "code",
      "execution_count": null,
      "metadata": {
        "id": "bjrR6Eid3c08"
      },
      "outputs": [],
      "source": [
        "X_test = test.drop(columns = ['TARGET'])\n",
        "y_test = test.iloc[:, -6]"
      ]
    },
    {
      "cell_type": "code",
      "execution_count": null,
      "metadata": {
        "colab": {
          "base_uri": "https://localhost:8080/",
          "height": 447
        },
        "id": "C9aXpKYs3c3L",
        "outputId": "651bc19e-0618-4905-b17c-97dca9462915"
      },
      "outputs": [
        {
          "output_type": "execute_result",
          "data": {
            "text/plain": [
              "<Axes: ylabel='Frequency'>"
            ]
          },
          "metadata": {},
          "execution_count": 8
        },
        {
          "output_type": "display_data",
          "data": {
            "text/plain": [
              "<Figure size 640x480 with 1 Axes>"
            ],
            "image/png": "[encoded data removed]"
          },
          "metadata": {}
        }
      ],
      "source": [
        "y_train.astype(int).plot.hist()"
      ]
    },
    {
      "cell_type": "code",
      "execution_count": null,
      "metadata": {
        "colab": {
          "base_uri": "https://localhost:8080/"
        },
        "id": "KSLRxahZ3c45",
        "outputId": "a896ab3b-70e7-40b7-e494-021269228c8c"
      },
      "outputs": [
        {
          "output_type": "stream",
          "name": "stdout",
          "text": [
            "Training data shape:  (215257, 244)\n",
            "Testing data shape:  (92254, 244)\n"
          ]
        }
      ],
      "source": [
        "from sklearn.preprocessing import MinMaxScaler\n",
        "from sklearn.impute import SimpleImputer\n",
        "\n",
        "# Drop the target from the training data\n",
        "\n",
        "train = X_train.copy()\n",
        "\n",
        "# Feature names\n",
        "features = list(train.columns)\n",
        "\n",
        "# Copy of the testing data\n",
        "test = X_test.copy()\n",
        "\n",
        "# Median imputation of missing values\n",
        "imputer = SimpleImputer(strategy = 'median')\n",
        "\n",
        "# Scale each feature to 0-1\n",
        "scaler = MinMaxScaler(feature_range = (0, 1))\n",
        "\n",
        "# Fit on the training data\n",
        "imputer.fit(train)\n",
        "\n",
        "# Transform both training and testing data\n",
        "train = imputer.transform(train)\n",
        "test = imputer.transform(test)\n",
        "\n",
        "# Repeat with the scaler\n",
        "scaler.fit(train)\n",
        "train = scaler.transform(train)\n",
        "test = scaler.transform(test)\n",
        "\n",
        "print('Training data shape: ', train.shape)\n",
        "print('Testing data shape: ', test.shape)"
      ]
    },
    {
      "cell_type": "code",
      "execution_count": null,
      "metadata": {
        "colab": {
          "base_uri": "https://localhost:8080/"
        },
        "id": "A8wvYSS_4lBv",
        "outputId": "85d06d78-eea5-4f0b-e223-15b6b65e902d"
      },
      "outputs": [
        {
          "output_type": "stream",
          "name": "stdout",
          "text": [
            "After OverSampling, the shape of train_X: (395798, 244)\n",
            "After OverSampling, the shape of train_y: (395798,) \n",
            "\n",
            "After OverSampling, counts of label '1': 197899\n",
            "After OverSampling, counts of label '0': 197899\n"
          ]
        }
      ],
      "source": [
        "from imblearn.over_sampling import SMOTE\n",
        "\n",
        "sm = SMOTE(random_state = 2)\n",
        "X_train_res, y_train_res = sm.fit_resample(train, y_train.ravel())\n",
        "\n",
        "print('After OverSampling, the shape of train_X: {}'.format(X_train_res.shape))\n",
        "print('After OverSampling, the shape of train_y: {} \\n'.format(y_train_res.shape))\n",
        "\n",
        "print(\"After OverSampling, counts of label '1': {}\".format(sum(y_train_res == 1)))\n",
        "print(\"After OverSampling, counts of label '0': {}\".format(sum(y_train_res == 0)))"
      ]
    },
    {
      "cell_type": "code",
      "execution_count": null,
      "metadata": {
        "colab": {
          "base_uri": "https://localhost:8080/",
          "height": 74
        },
        "id": "fZIQQfZG4wHQ",
        "outputId": "57644b7e-83d9-4436-e45f-43532d5b006c"
      },
      "outputs": [
        {
          "output_type": "execute_result",
          "data": {
            "text/plain": [
              "RandomForestClassifier()"
            ],
            "text/html": [
              "<style>#sk-container-id-1 {color: black;background-color: white;}#sk-container-id-1 pre{padding: 0;}#sk-container-id-1 div.sk-toggleable {background-color: white;}#sk-container-id-1 label.sk-toggleable__label {cursor: pointer;display: block;width: 100%;margin-bottom: 0;padding: 0.3em;box-sizing: border-box;text-align: center;}#sk-container-id-1 label.sk-toggleable__label-arrow:before {content: \"▸\";float: left;margin-right: 0.25em;color: #696969;}#sk-container-id-1 label.sk-toggleable__label-arrow:hover:before {color: black;}#sk-container-id-1 div.sk-estimator:hover label.sk-toggleable__label-arrow:before {color: black;}#sk-container-id-1 div.sk-toggleable__content {max-height: 0;max-width: 0;overflow: hidden;text-align: left;background-color: #f0f8ff;}#sk-container-id-1 div.sk-toggleable__content pre {margin: 0.2em;color: black;border-radius: 0.25em;background-color: #f0f8ff;}#sk-container-id-1 input.sk-toggleable__control:checked~div.sk-toggleable__content {max-height: 200px;max-width: 100%;overflow: auto;}#sk-container-id-1 input.sk-toggleable__control:checked~label.sk-toggleable__label-arrow:before {content: \"▾\";}#sk-container-id-1 div.sk-estimator input.sk-toggleable__control:checked~label.sk-toggleable__label {background-color: #d4ebff;}#sk-container-id-1 div.sk-label input.sk-toggleable__control:checked~label.sk-toggleable__label {background-color: #d4ebff;}#sk-container-id-1 input.sk-hidden--visually {border: 0;clip: rect(1px 1px 1px 1px);clip: rect(1px, 1px, 1px, 1px);height: 1px;margin: -1px;overflow: hidden;padding: 0;position: absolute;width: 1px;}#sk-container-id-1 div.sk-estimator {font-family: monospace;background-color: #f0f8ff;border: 1px dotted black;border-radius: 0.25em;box-sizing: border-box;margin-bottom: 0.5em;}#sk-container-id-1 div.sk-estimator:hover {background-color: #d4ebff;}#sk-container-id-1 div.sk-parallel-item::after {content: \"\";width: 100%;border-bottom: 1px solid gray;flex-grow: 1;}#sk-container-id-1 div.sk-label:hover label.sk-toggleable__label {background-color: #d4ebff;}#sk-container-id-1 div.sk-serial::before {content: \"\";position: absolute;border-left: 1px solid gray;box-sizing: border-box;top: 0;bottom: 0;left: 50%;z-index: 0;}#sk-container-id-1 div.sk-serial {display: flex;flex-direction: column;align-items: center;background-color: white;padding-right: 0.2em;padding-left: 0.2em;position: relative;}#sk-container-id-1 div.sk-item {position: relative;z-index: 1;}#sk-container-id-1 div.sk-parallel {display: flex;align-items: stretch;justify-content: center;background-color: white;position: relative;}#sk-container-id-1 div.sk-item::before, #sk-container-id-1 div.sk-parallel-item::before {content: \"\";position: absolute;border-left: 1px solid gray;box-sizing: border-box;top: 0;bottom: 0;left: 50%;z-index: -1;}#sk-container-id-1 div.sk-parallel-item {display: flex;flex-direction: column;z-index: 1;position: relative;background-color: white;}#sk-container-id-1 div.sk-parallel-item:first-child::after {align-self: flex-end;width: 50%;}#sk-container-id-1 div.sk-parallel-item:last-child::after {align-self: flex-start;width: 50%;}#sk-container-id-1 div.sk-parallel-item:only-child::after {width: 0;}#sk-container-id-1 div.sk-dashed-wrapped {border: 1px dashed gray;margin: 0 0.4em 0.5em 0.4em;box-sizing: border-box;padding-bottom: 0.4em;background-color: white;}#sk-container-id-1 div.sk-label label {font-family: monospace;font-weight: bold;display: inline-block;line-height: 1.2em;}#sk-container-id-1 div.sk-label-container {text-align: center;}#sk-container-id-1 div.sk-container {/* jupyter's `normalize.less` sets `[hidden] { display: none; }` but bootstrap.min.css set `[hidden] { display: none !important; }` so we also need the `!important` here to be able to override the default hidden behavior on the sphinx rendered scikit-learn.org. See: https://github.com/scikit-learn/scikit-learn/issues/21755 */display: inline-block !important;position: relative;}#sk-container-id-1 div.sk-text-repr-fallback {display: none;}</style><div id=\"sk-container-id-1\" class=\"sk-top-container\"><div class=\"sk-text-repr-fallback\"><pre>RandomForestClassifier()</pre><b>In a Jupyter environment, please rerun this cell to show the HTML representation or trust the notebook. <br />On GitHub, the HTML representation is unable to render, please try loading this page with nbviewer.org.</b></div><div class=\"sk-container\" hidden><div class=\"sk-item\"><div class=\"sk-estimator sk-toggleable\"><input class=\"sk-toggleable__control sk-hidden--visually\" id=\"sk-estimator-id-1\" type=\"checkbox\" checked><label for=\"sk-estimator-id-1\" class=\"sk-toggleable__label sk-toggleable__label-arrow\">RandomForestClassifier</label><div class=\"sk-toggleable__content\"><pre>RandomForestClassifier()</pre></div></div></div></div></div>"
            ]
          },
          "metadata": {},
          "execution_count": 11
        }
      ],
      "source": [
        "clf = RandomForestClassifier(n_estimators=100)\n",
        "\n",
        "clf.fit(X_train_res, y_train_res)"
      ]
    },
    {
      "cell_type": "code",
      "execution_count": null,
      "metadata": {
        "colab": {
          "base_uri": "https://localhost:8080/"
        },
        "id": "J28LRuLz6EyP",
        "outputId": "e2158ddc-3908-4a27-8fa8-cd43c999f181"
      },
      "outputs": [
        {
          "output_type": "stream",
          "name": "stdout",
          "text": [
            "Collecting eli5\n",
            "  Downloading eli5-0.13.0.tar.gz (216 kB)\n",
            "\u001b[?25l     \u001b[90m━━━━━━━━━━━━━━━━━━━━━━━━━━━━━━━━━━━━━━━━\u001b[0m \u001b[32m0.0/216.2 kB\u001b[0m \u001b[31m?\u001b[0m eta \u001b[36m-:--:--\u001b[0m\r\u001b[2K     \u001b[90m━━━━━━━━━━━━━━━━━━━━━━━━━━━━━━━━━━━━━━\u001b[0m \u001b[32m216.2/216.2 kB\u001b[0m \u001b[31m13.1 MB/s\u001b[0m eta \u001b[36m0:00:00\u001b[0m\n",
            "\u001b[?25h  Preparing metadata (setup.py) ... \u001b[?25l\u001b[?25hdone\n",
            "Requirement already satisfied: attrs>17.1.0 in /usr/local/lib/python3.10/dist-packages (from eli5) (23.1.0)\n",
            "Requirement already satisfied: jinja2>=3.0.0 in /usr/local/lib/python3.10/dist-packages (from eli5) (3.1.2)\n",
            "Requirement already satisfied: numpy>=1.9.0 in /usr/local/lib/python3.10/dist-packages (from eli5) (1.22.4)\n",
            "Requirement already satisfied: scipy in /usr/local/lib/python3.10/dist-packages (from eli5) (1.10.1)\n",
            "Requirement already satisfied: six in /usr/local/lib/python3.10/dist-packages (from eli5) (1.16.0)\n",
            "Requirement already satisfied: scikit-learn>=0.20 in /usr/local/lib/python3.10/dist-packages (from eli5) (1.2.2)\n",
            "Requirement already satisfied: graphviz in /usr/local/lib/python3.10/dist-packages (from eli5) (0.20.1)\n",
            "Requirement already satisfied: tabulate>=0.7.7 in /usr/local/lib/python3.10/dist-packages (from eli5) (0.8.10)\n",
            "Requirement already satisfied: MarkupSafe>=2.0 in /usr/local/lib/python3.10/dist-packages (from jinja2>=3.0.0->eli5) (2.1.3)\n",
            "Requirement already satisfied: joblib>=1.1.1 in /usr/local/lib/python3.10/dist-packages (from scikit-learn>=0.20->eli5) (1.3.1)\n",
            "Requirement already satisfied: threadpoolctl>=2.0.0 in /usr/local/lib/python3.10/dist-packages (from scikit-learn>=0.20->eli5) (3.1.0)\n",
            "Building wheels for collected packages: eli5\n",
            "  Building wheel for eli5 (setup.py) ... \u001b[?25l\u001b[?25hdone\n",
            "  Created wheel for eli5: filename=eli5-0.13.0-py2.py3-none-any.whl size=107730 sha256=e3c3455f2cc61ba8950df2175a3845a1e95458a4b0ceeca0ad024dfc368d3cf1\n",
            "  Stored in directory: /root/.cache/pip/wheels/b8/58/ef/2cf4c306898c2338d51540e0922c8e0d6028e07007085c0004\n",
            "Successfully built eli5\n",
            "Installing collected packages: eli5\n",
            "Successfully installed eli5-0.13.0\n"
          ]
        }
      ],
      "source": [
        "pip install eli5"
      ]
    },
    {
      "cell_type": "code",
      "execution_count": null,
      "metadata": {
        "id": "9c407Ygk6Lh_"
      },
      "outputs": [],
      "source": [
        "import eli5\n",
        "from eli5.sklearn import *"
      ]
    },
    {
      "cell_type": "code",
      "execution_count": null,
      "metadata": {
        "id": "z1TeLyt96M2n"
      },
      "outputs": [],
      "source": [
        "train_col = data.drop(columns = ['TARGET'])\n",
        "%load_ext google.colab.data_table"
      ]
    },
    {
      "cell_type": "code",
      "execution_count": null,
      "metadata": {
        "colab": {
          "base_uri": "https://localhost:8080/",
          "height": 399
        },
        "id": "ZcXXbbBe6QqO",
        "outputId": "b6ce4b41-dea1-4c80-c27e-c16704b3abdb"
      },
      "outputs": [
        {
          "output_type": "execute_result",
          "data": {
            "text/plain": [
              "<IPython.core.display.HTML object>"
            ],
            "text/html": [
              "\n",
              "    <style>\n",
              "    table.eli5-weights tr:hover {\n",
              "        filter: brightness(85%);\n",
              "    }\n",
              "</style>\n",
              "\n",
              "\n",
              "\n",
              "    \n",
              "\n",
              "    \n",
              "\n",
              "    \n",
              "\n",
              "    \n",
              "\n",
              "    \n",
              "\n",
              "    \n",
              "\n",
              "\n",
              "    \n",
              "\n",
              "    \n",
              "\n",
              "    \n",
              "\n",
              "    \n",
              "\n",
              "    \n",
              "\n",
              "    \n",
              "\n",
              "\n",
              "    \n",
              "\n",
              "    \n",
              "\n",
              "    \n",
              "\n",
              "    \n",
              "\n",
              "    \n",
              "        <table class=\"eli5-weights eli5-feature-importances\" style=\"border-collapse: collapse; border: none; margin-top: 0em; table-layout: auto;\">\n",
              "    <thead>\n",
              "    <tr style=\"border: none;\">\n",
              "        <th style=\"padding: 0 1em 0 0.5em; text-align: right; border: none;\">Weight</th>\n",
              "        <th style=\"padding: 0 0.5em 0 0.5em; text-align: left; border: none;\">Feature</th>\n",
              "    </tr>\n",
              "    </thead>\n",
              "    <tbody>\n",
              "    \n",
              "        <tr style=\"background-color: hsl(120, 100.00%, 80.00%); border: none;\">\n",
              "            <td style=\"padding: 0 1em 0 0.5em; text-align: right; border: none;\">\n",
              "                0.0034\n",
              "                \n",
              "                    &plusmn; 0.0003\n",
              "                \n",
              "            </td>\n",
              "            <td style=\"padding: 0 0.5em 0 0.5em; text-align: left; border: none;\">\n",
              "                OBS_30_CNT_SOCIAL_CIRCLE\n",
              "            </td>\n",
              "        </tr>\n",
              "    \n",
              "        <tr style=\"background-color: hsl(120, 100.00%, 80.66%); border: none;\">\n",
              "            <td style=\"padding: 0 1em 0 0.5em; text-align: right; border: none;\">\n",
              "                0.0032\n",
              "                \n",
              "                    &plusmn; 0.0004\n",
              "                \n",
              "            </td>\n",
              "            <td style=\"padding: 0 0.5em 0 0.5em; text-align: left; border: none;\">\n",
              "                OBS_60_CNT_SOCIAL_CIRCLE\n",
              "            </td>\n",
              "        </tr>\n",
              "    \n",
              "        <tr style=\"background-color: hsl(120, 100.00%, 85.94%); border: none;\">\n",
              "            <td style=\"padding: 0 1em 0 0.5em; text-align: right; border: none;\">\n",
              "                0.0020\n",
              "                \n",
              "                    &plusmn; 0.0003\n",
              "                \n",
              "            </td>\n",
              "            <td style=\"padding: 0 0.5em 0 0.5em; text-align: left; border: none;\">\n",
              "                CNT_FAM_MEMBERS\n",
              "            </td>\n",
              "        </tr>\n",
              "    \n",
              "        <tr style=\"background-color: hsl(120, 100.00%, 87.60%); border: none;\">\n",
              "            <td style=\"padding: 0 1em 0 0.5em; text-align: right; border: none;\">\n",
              "                0.0017\n",
              "                \n",
              "                    &plusmn; 0.0003\n",
              "                \n",
              "            </td>\n",
              "            <td style=\"padding: 0 0.5em 0 0.5em; text-align: left; border: none;\">\n",
              "                CNT_CHILDREN\n",
              "            </td>\n",
              "        </tr>\n",
              "    \n",
              "        <tr style=\"background-color: hsl(120, 100.00%, 93.83%); border: none;\">\n",
              "            <td style=\"padding: 0 1em 0 0.5em; text-align: right; border: none;\">\n",
              "                0.0006\n",
              "                \n",
              "                    &plusmn; 0.0002\n",
              "                \n",
              "            </td>\n",
              "            <td style=\"padding: 0 0.5em 0 0.5em; text-align: left; border: none;\">\n",
              "                EXT_SOURCE_3\n",
              "            </td>\n",
              "        </tr>\n",
              "    \n",
              "        <tr style=\"background-color: hsl(120, 100.00%, 94.25%); border: none;\">\n",
              "            <td style=\"padding: 0 1em 0 0.5em; text-align: right; border: none;\">\n",
              "                0.0006\n",
              "                \n",
              "                    &plusmn; 0.0002\n",
              "                \n",
              "            </td>\n",
              "            <td style=\"padding: 0 0.5em 0 0.5em; text-align: left; border: none;\">\n",
              "                DEF_30_CNT_SOCIAL_CIRCLE\n",
              "            </td>\n",
              "        </tr>\n",
              "    \n",
              "        <tr style=\"background-color: hsl(120, 100.00%, 94.71%); border: none;\">\n",
              "            <td style=\"padding: 0 1em 0 0.5em; text-align: right; border: none;\">\n",
              "                0.0005\n",
              "                \n",
              "                    &plusmn; 0.0001\n",
              "                \n",
              "            </td>\n",
              "            <td style=\"padding: 0 0.5em 0 0.5em; text-align: left; border: none;\">\n",
              "                REGION_RATING_CLIENT\n",
              "            </td>\n",
              "        </tr>\n",
              "    \n",
              "        <tr style=\"background-color: hsl(120, 100.00%, 95.21%); border: none;\">\n",
              "            <td style=\"padding: 0 1em 0 0.5em; text-align: right; border: none;\">\n",
              "                0.0004\n",
              "                \n",
              "                    &plusmn; 0.0002\n",
              "                \n",
              "            </td>\n",
              "            <td style=\"padding: 0 0.5em 0 0.5em; text-align: left; border: none;\">\n",
              "                FLAG_OWN_CAR\n",
              "            </td>\n",
              "        </tr>\n",
              "    \n",
              "        <tr style=\"background-color: hsl(120, 100.00%, 95.69%); border: none;\">\n",
              "            <td style=\"padding: 0 1em 0 0.5em; text-align: right; border: none;\">\n",
              "                0.0004\n",
              "                \n",
              "                    &plusmn; 0.0003\n",
              "                \n",
              "            </td>\n",
              "            <td style=\"padding: 0 0.5em 0 0.5em; text-align: left; border: none;\">\n",
              "                REGION_RATING_CLIENT_W_CITY\n",
              "            </td>\n",
              "        </tr>\n",
              "    \n",
              "        <tr style=\"background-color: hsl(120, 100.00%, 96.12%); border: none;\">\n",
              "            <td style=\"padding: 0 1em 0 0.5em; text-align: right; border: none;\">\n",
              "                0.0003\n",
              "                \n",
              "                    &plusmn; 0.0001\n",
              "                \n",
              "            </td>\n",
              "            <td style=\"padding: 0 0.5em 0 0.5em; text-align: left; border: none;\">\n",
              "                DEF_60_CNT_SOCIAL_CIRCLE\n",
              "            </td>\n",
              "        </tr>\n",
              "    \n",
              "        <tr style=\"background-color: hsl(120, 100.00%, 96.30%); border: none;\">\n",
              "            <td style=\"padding: 0 1em 0 0.5em; text-align: right; border: none;\">\n",
              "                0.0003\n",
              "                \n",
              "                    &plusmn; 0.0002\n",
              "                \n",
              "            </td>\n",
              "            <td style=\"padding: 0 0.5em 0 0.5em; text-align: left; border: none;\">\n",
              "                OWN_CAR_AGE\n",
              "            </td>\n",
              "        </tr>\n",
              "    \n",
              "        <tr style=\"background-color: hsl(120, 100.00%, 96.82%); border: none;\">\n",
              "            <td style=\"padding: 0 1em 0 0.5em; text-align: right; border: none;\">\n",
              "                0.0002\n",
              "                \n",
              "                    &plusmn; 0.0001\n",
              "                \n",
              "            </td>\n",
              "            <td style=\"padding: 0 0.5em 0 0.5em; text-align: left; border: none;\">\n",
              "                ELEVATORS_MODE\n",
              "            </td>\n",
              "        </tr>\n",
              "    \n",
              "        <tr style=\"background-color: hsl(120, 100.00%, 97.62%); border: none;\">\n",
              "            <td style=\"padding: 0 1em 0 0.5em; text-align: right; border: none;\">\n",
              "                0.0002\n",
              "                \n",
              "                    &plusmn; 0.0001\n",
              "                \n",
              "            </td>\n",
              "            <td style=\"padding: 0 0.5em 0 0.5em; text-align: left; border: none;\">\n",
              "                NAME_FAMILY_STATUS_Married\n",
              "            </td>\n",
              "        </tr>\n",
              "    \n",
              "        <tr style=\"background-color: hsl(120, 100.00%, 97.67%); border: none;\">\n",
              "            <td style=\"padding: 0 1em 0 0.5em; text-align: right; border: none;\">\n",
              "                0.0002\n",
              "                \n",
              "                    &plusmn; 0.0002\n",
              "                \n",
              "            </td>\n",
              "            <td style=\"padding: 0 0.5em 0 0.5em; text-align: left; border: none;\">\n",
              "                AMT_REQ_CREDIT_BUREAU_QRT\n",
              "            </td>\n",
              "        </tr>\n",
              "    \n",
              "        <tr style=\"background-color: hsl(120, 100.00%, 97.76%); border: none;\">\n",
              "            <td style=\"padding: 0 1em 0 0.5em; text-align: right; border: none;\">\n",
              "                0.0001\n",
              "                \n",
              "                    &plusmn; 0.0001\n",
              "                \n",
              "            </td>\n",
              "            <td style=\"padding: 0 0.5em 0 0.5em; text-align: left; border: none;\">\n",
              "                NAME_INCOME_TYPE_Commercial associate\n",
              "            </td>\n",
              "        </tr>\n",
              "    \n",
              "        <tr style=\"background-color: hsl(120, 100.00%, 97.99%); border: none;\">\n",
              "            <td style=\"padding: 0 1em 0 0.5em; text-align: right; border: none;\">\n",
              "                0.0001\n",
              "                \n",
              "                    &plusmn; 0.0001\n",
              "                \n",
              "            </td>\n",
              "            <td style=\"padding: 0 0.5em 0 0.5em; text-align: left; border: none;\">\n",
              "                SK_ID_CURR\n",
              "            </td>\n",
              "        </tr>\n",
              "    \n",
              "        <tr style=\"background-color: hsl(120, 100.00%, 98.12%); border: none;\">\n",
              "            <td style=\"padding: 0 1em 0 0.5em; text-align: right; border: none;\">\n",
              "                0.0001\n",
              "                \n",
              "                    &plusmn; 0.0002\n",
              "                \n",
              "            </td>\n",
              "            <td style=\"padding: 0 0.5em 0 0.5em; text-align: left; border: none;\">\n",
              "                DAYS_BIRTH\n",
              "            </td>\n",
              "        </tr>\n",
              "    \n",
              "        <tr style=\"background-color: hsl(120, 100.00%, 98.45%); border: none;\">\n",
              "            <td style=\"padding: 0 1em 0 0.5em; text-align: right; border: none;\">\n",
              "                0.0001\n",
              "                \n",
              "                    &plusmn; 0.0001\n",
              "                \n",
              "            </td>\n",
              "            <td style=\"padding: 0 0.5em 0 0.5em; text-align: left; border: none;\">\n",
              "                YEARS_BEGINEXPLUATATION_MEDI\n",
              "            </td>\n",
              "        </tr>\n",
              "    \n",
              "        <tr style=\"background-color: hsl(120, 100.00%, 98.54%); border: none;\">\n",
              "            <td style=\"padding: 0 1em 0 0.5em; text-align: right; border: none;\">\n",
              "                0.0001\n",
              "                \n",
              "                    &plusmn; 0.0003\n",
              "                \n",
              "            </td>\n",
              "            <td style=\"padding: 0 0.5em 0 0.5em; text-align: left; border: none;\">\n",
              "                REGION_POPULATION_RELATIVE\n",
              "            </td>\n",
              "        </tr>\n",
              "    \n",
              "        <tr style=\"background-color: hsl(120, 100.00%, 98.68%); border: none;\">\n",
              "            <td style=\"padding: 0 1em 0 0.5em; text-align: right; border: none;\">\n",
              "                0.0001\n",
              "                \n",
              "                    &plusmn; 0.0000\n",
              "                \n",
              "            </td>\n",
              "            <td style=\"padding: 0 0.5em 0 0.5em; text-align: left; border: none;\">\n",
              "                NONLIVINGAPARTMENTS_MODE\n",
              "            </td>\n",
              "        </tr>\n",
              "    \n",
              "    \n",
              "        \n",
              "            <tr style=\"background-color: hsl(120, 100.00%, 98.68%); border: none;\">\n",
              "                <td colspan=\"2\" style=\"padding: 0 0.5em 0 0.5em; text-align: center; border: none; white-space: nowrap;\">\n",
              "                    <i>&hellip; 224 more &hellip;</i>\n",
              "                </td>\n",
              "            </tr>\n",
              "        \n",
              "    \n",
              "    </tbody>\n",
              "</table>\n",
              "    \n",
              "\n",
              "    \n",
              "\n",
              "\n",
              "    \n",
              "\n",
              "    \n",
              "\n",
              "    \n",
              "\n",
              "    \n",
              "\n",
              "    \n",
              "\n",
              "    \n",
              "\n",
              "\n",
              "\n"
            ]
          },
          "metadata": {},
          "execution_count": 15
        }
      ],
      "source": [
        "perm = PermutationImportance(clf, random_state = 1)\n",
        "perm.fit(test, y_test)\n",
        "eli5.show_weights(perm, feature_names = train_col.columns.tolist())"
      ]
    },
    {
      "cell_type": "code",
      "execution_count": 37,
      "metadata": {
        "colab": {
          "base_uri": "https://localhost:8080/",
          "height": 664
        },
        "id": "bpffpr5s6SWs",
        "outputId": "6d8185b2-256d-451c-d540-ffc9928cfb70"
      },
      "outputs": [
        {
          "output_type": "execute_result",
          "data": {
            "text/plain": [
              "                      feature    weight       std\n",
              "0    OBS_30_CNT_SOCIAL_CIRCLE  0.003360  0.000162\n",
              "1    OBS_60_CNT_SOCIAL_CIRCLE  0.003202  0.000182\n",
              "2             CNT_FAM_MEMBERS  0.002031  0.000139\n",
              "3                CNT_CHILDREN  0.001697  0.000174\n",
              "4                EXT_SOURCE_3  0.000627  0.000106\n",
              "..                        ...       ...       ...\n",
              "239           FLAG_DOCUMENT_3 -0.000264  0.000059\n",
              "240              EXT_SOURCE_1 -0.000271  0.000093\n",
              "241              EXT_SOURCE_2 -0.000277  0.000203\n",
              "242            FLOORSMAX_MEDI -0.000327  0.000158\n",
              "243           AMT_GOODS_PRICE -0.000353  0.000162\n",
              "\n",
              "[244 rows x 3 columns]"
            ],
            "text/html": [
              "\n",
              "\n",
              "  <div id=\"df-600731eb-5980-41b4-9be6-4c0be79e8d07\">\n",
              "    <div class=\"colab-df-container\">\n",
              "      <div>\n",
              "<style scoped>\n",
              "    .dataframe tbody tr th:only-of-type {\n",
              "        vertical-align: middle;\n",
              "    }\n",
              "\n",
              "    .dataframe tbody tr th {\n",
              "        vertical-align: top;\n",
              "    }\n",
              "\n",
              "    .dataframe thead th {\n",
              "        text-align: right;\n",
              "    }\n",
              "</style>\n",
              "<table border=\"1\" class=\"dataframe\">\n",
              "  <thead>\n",
              "    <tr style=\"text-align: right;\">\n",
              "      <th></th>\n",
              "      <th>feature</th>\n",
              "      <th>weight</th>\n",
              "      <th>std</th>\n",
              "    </tr>\n",
              "  </thead>\n",
              "  <tbody>\n",
              "    <tr>\n",
              "      <th>0</th>\n",
              "      <td>OBS_30_CNT_SOCIAL_CIRCLE</td>\n",
              "      <td>0.003360</td>\n",
              "      <td>0.000162</td>\n",
              "    </tr>\n",
              "    <tr>\n",
              "      <th>1</th>\n",
              "      <td>OBS_60_CNT_SOCIAL_CIRCLE</td>\n",
              "      <td>0.003202</td>\n",
              "      <td>0.000182</td>\n",
              "    </tr>\n",
              "    <tr>\n",
              "      <th>2</th>\n",
              "      <td>CNT_FAM_MEMBERS</td>\n",
              "      <td>0.002031</td>\n",
              "      <td>0.000139</td>\n",
              "    </tr>\n",
              "    <tr>\n",
              "      <th>3</th>\n",
              "      <td>CNT_CHILDREN</td>\n",
              "      <td>0.001697</td>\n",
              "      <td>0.000174</td>\n",
              "    </tr>\n",
              "    <tr>\n",
              "      <th>4</th>\n",
              "      <td>EXT_SOURCE_3</td>\n",
              "      <td>0.000627</td>\n",
              "      <td>0.000106</td>\n",
              "    </tr>\n",
              "    <tr>\n",
              "      <th>...</th>\n",
              "      <td>...</td>\n",
              "      <td>...</td>\n",
              "      <td>...</td>\n",
              "    </tr>\n",
              "    <tr>\n",
              "      <th>239</th>\n",
              "      <td>FLAG_DOCUMENT_3</td>\n",
              "      <td>-0.000264</td>\n",
              "      <td>0.000059</td>\n",
              "    </tr>\n",
              "    <tr>\n",
              "      <th>240</th>\n",
              "      <td>EXT_SOURCE_1</td>\n",
              "      <td>-0.000271</td>\n",
              "      <td>0.000093</td>\n",
              "    </tr>\n",
              "    <tr>\n",
              "      <th>241</th>\n",
              "      <td>EXT_SOURCE_2</td>\n",
              "      <td>-0.000277</td>\n",
              "      <td>0.000203</td>\n",
              "    </tr>\n",
              "    <tr>\n",
              "      <th>242</th>\n",
              "      <td>FLOORSMAX_MEDI</td>\n",
              "      <td>-0.000327</td>\n",
              "      <td>0.000158</td>\n",
              "    </tr>\n",
              "    <tr>\n",
              "      <th>243</th>\n",
              "      <td>AMT_GOODS_PRICE</td>\n",
              "      <td>-0.000353</td>\n",
              "      <td>0.000162</td>\n",
              "    </tr>\n",
              "  </tbody>\n",
              "</table>\n",
              "<p>244 rows × 3 columns</p>\n",
              "</div>\n",
              "      <button class=\"colab-df-convert\" onclick=\"convertToInteractive('df-600731eb-5980-41b4-9be6-4c0be79e8d07')\"\n",
              "              title=\"Convert this dataframe to an interactive table.\"\n",
              "              style=\"display:none;\">\n",
              "\n",
              "  <svg xmlns=\"http://www.w3.org/2000/svg\" height=\"24px\"viewBox=\"0 0 24 24\"\n",
              "       width=\"24px\">\n",
              "    <path d=\"M0 0h24v24H0V0z\" fill=\"none\"/>\n",
              "    <path d=\"M18.56 5.44l.94 2.06.94-2.06 2.06-.94-2.06-.94-.94-2.06-.94 2.06-2.06.94zm-11 1L8.5 8.5l.94-2.06 2.06-.94-2.06-.94L8.5 2.5l-.94 2.06-2.06.94zm10 10l.94 2.06.94-2.06 2.06-.94-2.06-.94-.94-2.06-.94 2.06-2.06.94z\"/><path d=\"M17.41 7.96l-1.37-1.37c-.4-.4-.92-.59-1.43-.59-.52 0-1.04.2-1.43.59L10.3 9.45l-7.72 7.72c-.78.78-.78 2.05 0 2.83L4 21.41c.39.39.9.59 1.41.59.51 0 1.02-.2 1.41-.59l7.78-7.78 2.81-2.81c.8-.78.8-2.07 0-2.86zM5.41 20L4 18.59l7.72-7.72 1.47 1.35L5.41 20z\"/>\n",
              "  </svg>\n",
              "      </button>\n",
              "\n",
              "\n",
              "\n",
              "    <div id=\"df-bbae0f1f-7662-4598-897d-4e28a66aa586\">\n",
              "      <button class=\"colab-df-quickchart\" onclick=\"quickchart('df-bbae0f1f-7662-4598-897d-4e28a66aa586')\"\n",
              "              title=\"Suggest charts.\"\n",
              "              style=\"display:none;\">\n",
              "\n",
              "<svg xmlns=\"http://www.w3.org/2000/svg\" height=\"24px\"viewBox=\"0 0 24 24\"\n",
              "     width=\"24px\">\n",
              "    <g>\n",
              "        <path d=\"M19 3H5c-1.1 0-2 .9-2 2v14c0 1.1.9 2 2 2h14c1.1 0 2-.9 2-2V5c0-1.1-.9-2-2-2zM9 17H7v-7h2v7zm4 0h-2V7h2v10zm4 0h-2v-4h2v4z\"/>\n",
              "    </g>\n",
              "</svg>\n",
              "      </button>\n",
              "    </div>\n",
              "\n",
              "<style>\n",
              "  .colab-df-quickchart {\n",
              "    background-color: #E8F0FE;\n",
              "    border: none;\n",
              "    border-radius: 50%;\n",
              "    cursor: pointer;\n",
              "    display: none;\n",
              "    fill: #1967D2;\n",
              "    height: 32px;\n",
              "    padding: 0 0 0 0;\n",
              "    width: 32px;\n",
              "  }\n",
              "\n",
              "  .colab-df-quickchart:hover {\n",
              "    background-color: #E2EBFA;\n",
              "    box-shadow: 0px 1px 2px rgba(60, 64, 67, 0.3), 0px 1px 3px 1px rgba(60, 64, 67, 0.15);\n",
              "    fill: #174EA6;\n",
              "  }\n",
              "\n",
              "  [theme=dark] .colab-df-quickchart {\n",
              "    background-color: #3B4455;\n",
              "    fill: #D2E3FC;\n",
              "  }\n",
              "\n",
              "  [theme=dark] .colab-df-quickchart:hover {\n",
              "    background-color: #434B5C;\n",
              "    box-shadow: 0px 1px 3px 1px rgba(0, 0, 0, 0.15);\n",
              "    filter: drop-shadow(0px 1px 2px rgba(0, 0, 0, 0.3));\n",
              "    fill: #FFFFFF;\n",
              "  }\n",
              "</style>\n",
              "\n",
              "    <script>\n",
              "      async function quickchart(key) {\n",
              "        const containerElement = document.querySelector('#' + key);\n",
              "        const charts = await google.colab.kernel.invokeFunction(\n",
              "            'suggestCharts', [key], {});\n",
              "      }\n",
              "    </script>\n",
              "\n",
              "      <script>\n",
              "\n",
              "function displayQuickchartButton(domScope) {\n",
              "  let quickchartButtonEl =\n",
              "    domScope.querySelector('#df-bbae0f1f-7662-4598-897d-4e28a66aa586 button.colab-df-quickchart');\n",
              "  quickchartButtonEl.style.display =\n",
              "    google.colab.kernel.accessAllowed ? 'block' : 'none';\n",
              "}\n",
              "\n",
              "        displayQuickchartButton(document);\n",
              "      </script>\n",
              "      <style>\n",
              "    .colab-df-container {\n",
              "      display:flex;\n",
              "      flex-wrap:wrap;\n",
              "      gap: 12px;\n",
              "    }\n",
              "\n",
              "    .colab-df-convert {\n",
              "      background-color: #E8F0FE;\n",
              "      border: none;\n",
              "      border-radius: 50%;\n",
              "      cursor: pointer;\n",
              "      display: none;\n",
              "      fill: #1967D2;\n",
              "      height: 32px;\n",
              "      padding: 0 0 0 0;\n",
              "      width: 32px;\n",
              "    }\n",
              "\n",
              "    .colab-df-convert:hover {\n",
              "      background-color: #E2EBFA;\n",
              "      box-shadow: 0px 1px 2px rgba(60, 64, 67, 0.3), 0px 1px 3px 1px rgba(60, 64, 67, 0.15);\n",
              "      fill: #174EA6;\n",
              "    }\n",
              "\n",
              "    [theme=dark] .colab-df-convert {\n",
              "      background-color: #3B4455;\n",
              "      fill: #D2E3FC;\n",
              "    }\n",
              "\n",
              "    [theme=dark] .colab-df-convert:hover {\n",
              "      background-color: #434B5C;\n",
              "      box-shadow: 0px 1px 3px 1px rgba(0, 0, 0, 0.15);\n",
              "      filter: drop-shadow(0px 1px 2px rgba(0, 0, 0, 0.3));\n",
              "      fill: #FFFFFF;\n",
              "    }\n",
              "  </style>\n",
              "\n",
              "      <script>\n",
              "        const buttonEl =\n",
              "          document.querySelector('#df-600731eb-5980-41b4-9be6-4c0be79e8d07 button.colab-df-convert');\n",
              "        buttonEl.style.display =\n",
              "          google.colab.kernel.accessAllowed ? 'block' : 'none';\n",
              "\n",
              "        async function convertToInteractive(key) {\n",
              "          const element = document.querySelector('#df-600731eb-5980-41b4-9be6-4c0be79e8d07');\n",
              "          const dataTable =\n",
              "            await google.colab.kernel.invokeFunction('convertToInteractive',\n",
              "                                                     [key], {});\n",
              "          if (!dataTable) return;\n",
              "\n",
              "          const docLinkHtml = 'Like what you see? Visit the ' +\n",
              "            '<a target=\"_blank\" href=https://colab.research.google.com/notebooks/data_table.ipynb>data table notebook</a>'\n",
              "            + ' to learn more about interactive tables.';\n",
              "          element.innerHTML = '';\n",
              "          dataTable['output_type'] = 'display_data';\n",
              "          await google.colab.output.renderOutput(dataTable, element);\n",
              "          const docLink = document.createElement('div');\n",
              "          docLink.innerHTML = docLinkHtml;\n",
              "          element.appendChild(docLink);\n",
              "        }\n",
              "      </script>\n",
              "    </div>\n",
              "  </div>\n"
            ],
            "application/vnd.google.colaboratory.module+javascript": "\n      import \"https://ssl.gstatic.com/colaboratory/data_table/881c4a0d49046431/data_table.js\";\n\n      const table = window.createDataTable({\n        data: [[{\n            'v': 0,\n            'f': \"0\",\n        },\n\"OBS_30_CNT_SOCIAL_CIRCLE\",\n{\n            'v': 0.0033602879007956555,\n            'f': \"0.0033602879007956555\",\n        },\n{\n            'v': 0.00016150697450249238,\n            'f': \"0.00016150697450249238\",\n        }],\n [{\n            'v': 1,\n            'f': \"1\",\n        },\n\"OBS_60_CNT_SOCIAL_CIRCLE\",\n{\n            'v': 0.0032020291803065647,\n            'f': \"0.0032020291803065647\",\n        },\n{\n            'v': 0.00018249264427109394,\n            'f': \"0.00018249264427109394\",\n        }],\n [{\n            'v': 2,\n            'f': \"2\",\n        },\n\"CNT_FAM_MEMBERS\",\n{\n            'v': 0.0020313482342229515,\n            'f': \"0.0020313482342229515\",\n        },\n{\n            'v': 0.00013925455245519203,\n            'f': \"0.00013925455245519203\",\n        }],\n [{\n            'v': 3,\n            'f': \"3\",\n        },\n\"CNT_CHILDREN\",\n{\n            'v': 0.0016974873718212935,\n            'f': \"0.0016974873718212935\",\n        },\n{\n            'v': 0.00017405637749403374,\n            'f': \"0.00017405637749403374\",\n        }],\n [{\n            'v': 4,\n            'f': \"4\",\n        },\n\"EXT_SOURCE_3\",\n{\n            'v': 0.000626531098922567,\n            'f': \"0.000626531098922567\",\n        },\n{\n            'v': 0.00010607349121101528,\n            'f': \"0.00010607349121101528\",\n        }],\n [{\n            'v': 5,\n            'f': \"5\",\n        },\n\"DEF_30_CNT_SOCIAL_CIRCLE\",\n{\n            'v': 0.0005658291239404534,\n            'f': \"0.0005658291239404534\",\n        },\n{\n            'v': 0.00011105208207656906,\n            'f': \"0.00011105208207656906\",\n        }],\n [{\n            'v': 6,\n            'f': \"6\",\n        },\n\"REGION_RATING_CLIENT\",\n{\n            'v': 0.0005029592212804079,\n            'f': \"0.0005029592212804079\",\n        },\n{\n            'v': 4.828204186552686e-05,\n            'f': \"4.828204186552686e-05\",\n        }],\n [{\n            'v': 7,\n            'f': \"7\",\n        },\n\"FLAG_OWN_CAR\",\n{\n            'v': 0.0004357534632644766,\n            'f': \"0.0004357534632644766\",\n        },\n{\n            'v': 0.00011479786064451066,\n            'f': \"0.00011479786064451066\",\n        }],\n [{\n            'v': 8,\n            'f': \"8\",\n        },\n\"REGION_RATING_CLIENT_W_CITY\",\n{\n            'v': 0.000375051488282363,\n            'f': \"0.000375051488282363\",\n        },\n{\n            'v': 0.00015107205229200553,\n            'f': \"0.00015107205229200553\",\n        }],\n [{\n            'v': 9,\n            'f': \"9\",\n        },\n\"DEF_60_CNT_SOCIAL_CIRCLE\",\n{\n            'v': 0.00032302122401199894,\n            'f': \"0.00032302122401199894\",\n        },\n{\n            'v': 6.625493437656834e-05,\n            'f': \"6.625493437656834e-05\",\n        }],\n [{\n            'v': 10,\n            'f': \"10\",\n        },\n\"OWN_CAR_AGE\",\n{\n            'v': 0.0003013419472326584,\n            'f': \"0.0003013419472326584\",\n        },\n{\n            'v': 8.518604159988268e-05,\n            'f': \"8.518604159988268e-05\",\n        }],\n [{\n            'v': 11,\n            'f': \"11\",\n        },\n\"ELEVATORS_MODE\",\n{\n            'v': 0.00024280789992847662,\n            'f': \"0.00024280789992847662\",\n        },\n{\n            'v': 2.528216400304842e-05,\n            'f': \"2.528216400304842e-05\",\n        }],\n [{\n            'v': 12,\n            'f': \"12\",\n        },\n\"NAME_FAMILY_STATUS_Married\",\n{\n            'v': 0.00016042664816706687,\n            'f': \"0.00016042664816706687\",\n        },\n{\n            'v': 6.482067503943608e-05,\n            'f': \"6.482067503943608e-05\",\n        }],\n [{\n            'v': 13,\n            'f': \"13\",\n        },\n\"AMT_REQ_CREDIT_BUREAU_QRT\",\n{\n            'v': 0.000156090792811181,\n            'f': \"0.000156090792811181\",\n        },\n{\n            'v': 8.300643752716468e-05,\n            'f': \"8.300643752716468e-05\",\n        }],\n [{\n            'v': 14,\n            'f': \"14\",\n        },\n\"NAME_INCOME_TYPE_Commercial associate\",\n{\n            'v': 0.00014741908209947585,\n            'f': \"0.00014741908209947585\",\n        },\n{\n            'v': 2.793179423487372e-05,\n            'f': \"2.793179423487372e-05\",\n        }],\n [{\n            'v': 15,\n            'f': \"15\",\n        },\n\"SK_ID_CURR\",\n{\n            'v': 0.0001257398053201353,\n            'f': \"0.0001257398053201353\",\n        },\n{\n            'v': 7.43444325426913e-05,\n            'f': \"7.43444325426913e-05\",\n        }],\n [{\n            'v': 16,\n            'f': \"16\",\n        },\n\"DAYS_BIRTH\",\n{\n            'v': 0.0001149001669304539,\n            'f': \"0.0001149001669304539\",\n        },\n{\n            'v': 0.00010917404827553703,\n            'f': \"0.00010917404827553703\",\n        }],\n [{\n            'v': 17,\n            'f': \"17\",\n        },\n\"YEARS_BEGINEXPLUATATION_MEDI\",\n{\n            'v': 8.671710711736225e-05,\n            'f': \"8.671710711736225e-05\",\n        },\n{\n            'v': 3.817030559470534e-05,\n            'f': \"3.817030559470534e-05\",\n        }],\n [{\n            'v': 18,\n            'f': \"18\",\n        },\n\"REGION_POPULATION_RELATIVE\",\n{\n            'v': 8.021332408352233e-05,\n            'f': \"8.021332408352233e-05\",\n        },\n{\n            'v': 0.00012502760513621639,\n            'f': \"0.00012502760513621639\",\n        }],\n [{\n            'v': 19,\n            'f': \"19\",\n        },\n\"NONLIVINGAPARTMENTS_MODE\",\n{\n            'v': 6.937368569388535e-05,\n            'f': \"6.937368569388535e-05\",\n        },\n{\n            'v': 2.0104534211011218e-05,\n            'f': \"2.0104534211011218e-05\",\n        }],\n [{\n            'v': 20,\n            'f': \"20\",\n        },\n\"ELEVATORS_MEDI\",\n{\n            'v': 6.286990266006765e-05,\n            'f': \"6.286990266006765e-05\",\n        },\n{\n            'v': 9.156768088948585e-05,\n            'f': \"9.156768088948585e-05\",\n        }],\n [{\n            'v': 21,\n            'f': \"21\",\n        },\n\"FLOORSMIN_AVG\",\n{\n            'v': 6.286990266004543e-05,\n            'f': \"6.286990266004543e-05\",\n        },\n{\n            'v': 1.4380405360689508e-05,\n            'f': \"1.4380405360689508e-05\",\n        }],\n [{\n            'v': 22,\n            'f': \"22\",\n        },\n\"CODE_GENDER_M\",\n{\n            'v': 6.070197498213581e-05,\n            'f': \"6.070197498213581e-05\",\n        },\n{\n            'v': 4.203767734663244e-05,\n            'f': \"4.203767734663244e-05\",\n        }],\n [{\n            'v': 23,\n            'f': \"23\",\n        },\n\"FLOORSMIN_MEDI\",\n{\n            'v': 6.070197498213581e-05,\n            'f': \"6.070197498213581e-05\",\n        },\n{\n            'v': 5.678149827091886e-05,\n            'f': \"5.678149827091886e-05\",\n        }],\n [{\n            'v': 24,\n            'f': \"24\",\n        },\n\"NAME_FAMILY_STATUS_Separated\",\n{\n            'v': 6.070197498213581e-05,\n            'f': \"6.070197498213581e-05\",\n        },\n{\n            'v': 2.5282164003094115e-05,\n            'f': \"2.5282164003094115e-05\",\n        }],\n [{\n            'v': 25,\n            'f': \"25\",\n        },\n\"WEEKDAY_APPR_PROCESS_START_THURSDAY\",\n{\n            'v': 5.8534047304203976e-05,\n            'f': \"5.8534047304203976e-05\",\n        },\n{\n            'v': 2.4334927830407646e-05,\n            'f': \"2.4334927830407646e-05\",\n        }],\n [{\n            'v': 26,\n            'f': \"26\",\n        },\n\"ELEVATORS_AVG\",\n{\n            'v': 5.853404730418177e-05,\n            'f': \"5.853404730418177e-05\",\n        },\n{\n            'v': 6.632583320303242e-05,\n            'f': \"6.632583320303242e-05\",\n        }],\n [{\n            'v': 27,\n            'f': \"27\",\n        },\n\"NONLIVINGAPARTMENTS_MEDI\",\n{\n            'v': 5.203026427040847e-05,\n            'f': \"5.203026427040847e-05\",\n        },\n{\n            'v': 3.779911066007941e-05,\n            'f': \"3.779911066007941e-05\",\n        }],\n [{\n            'v': 28,\n            'f': \"28\",\n        },\n\"LANDAREA_AVG\",\n{\n            'v': 5.203026427038626e-05,\n            'f': \"5.203026427038626e-05\",\n        },\n{\n            'v': 4.1925725943206246e-05,\n            'f': \"4.1925725943206246e-05\",\n        }],\n [{\n            'v': 29,\n            'f': \"29\",\n        },\n\"FLAG_OWN_REALTY\",\n{\n            'v': 4.986233659247663e-05,\n            'f': \"4.986233659247663e-05\",\n        },\n{\n            'v': 4.032578584722589e-05,\n            'f': \"4.032578584722589e-05\",\n        }],\n [{\n            'v': 30,\n            'f': \"30\",\n        },\n\"NAME_INCOME_TYPE_Pensioner\",\n{\n            'v': 4.76944089145448e-05,\n            'f': \"4.76944089145448e-05\",\n        },\n{\n            'v': 3.3304336930103146e-05,\n            'f': \"3.3304336930103146e-05\",\n        }],\n [{\n            'v': 31,\n            'f': \"31\",\n        },\n\"LIVINGAPARTMENTS_MODE\",\n{\n            'v': 4.552648123661296e-05,\n            'f': \"4.552648123661296e-05\",\n        },\n{\n            'v': 7.615569219873058e-05,\n            'f': \"7.615569219873058e-05\",\n        }],\n [{\n            'v': 32,\n            'f': \"32\",\n        },\n\"YEARS_BUILD_AVG\",\n{\n            'v': 4.119062588074929e-05,\n            'f': \"4.119062588074929e-05\",\n        },\n{\n            'v': 4.866985566080342e-05,\n            'f': \"4.866985566080342e-05\",\n        }],\n [{\n            'v': 33,\n            'f': \"33\",\n        },\n\"NONLIVINGAPARTMENTS_AVG\",\n{\n            'v': 3.902269820277304e-05,\n            'f': \"3.902269820277304e-05\",\n        },\n{\n            'v': 1.622328522025066e-05,\n            'f': \"1.622328522025066e-05\",\n        }],\n [{\n            'v': 34,\n            'f': \"34\",\n        },\n\"NAME_TYPE_SUITE_Family\",\n{\n            'v': 3.685477052484121e-05,\n            'f': \"3.685477052484121e-05\",\n        },\n{\n            'v': 2.0104534210965726e-05,\n            'f': \"2.0104534210965726e-05\",\n        }],\n [{\n            'v': 35,\n            'f': \"35\",\n        },\n\"YEARS_BEGINEXPLUATATION_AVG\",\n{\n            'v': 3.685477052484121e-05,\n            'f': \"3.685477052484121e-05\",\n        },\n{\n            'v': 2.0104534210965726e-05,\n            'f': \"2.0104534210965726e-05\",\n        }],\n [{\n            'v': 36,\n            'f': \"36\",\n        },\n\"OCCUPATION_TYPE_Sales staff\",\n{\n            'v': 3.468684284693158e-05,\n            'f': \"3.468684284693158e-05\",\n        },\n{\n            'v': 4.411080267389525e-05,\n            'f': \"4.411080267389525e-05\",\n        }],\n [{\n            'v': 37,\n            'f': \"37\",\n        },\n\"OCCUPATION_TYPE_Core staff\",\n{\n            'v': 3.251891516899974e-05,\n            'f': \"3.251891516899974e-05\",\n        },\n{\n            'v': 3.1416256739432515e-05,\n            'f': \"3.1416256739432515e-05\",\n        }],\n [{\n            'v': 38,\n            'f': \"38\",\n        },\n\"NAME_FAMILY_STATUS_Civil marriage\",\n{\n            'v': 3.2518915168977536e-05,\n            'f': \"3.2518915168977536e-05\",\n        },\n{\n            'v': 1.8138184285424064e-05,\n            'f': \"1.8138184285424064e-05\",\n        }],\n [{\n            'v': 39,\n            'f': \"39\",\n        },\n\"WEEKDAY_APPR_PROCESS_START_SATURDAY\",\n{\n            'v': 3.2518915168977536e-05,\n            'f': \"3.2518915168977536e-05\",\n        },\n{\n            'v': 6.855589264784554e-06,\n            'f': \"6.855589264784554e-06\",\n        }],\n [{\n            'v': 40,\n            'f': \"40\",\n        },\n\"DAYS_EMPLOYED_PERCENT\",\n{\n            'v': 3.2518915168977536e-05,\n            'f': \"3.2518915168977536e-05\",\n        },\n{\n            'v': 5.976564160723635e-05,\n            'f': \"5.976564160723635e-05\",\n        }],\n [{\n            'v': 41,\n            'f': \"41\",\n        },\n\"ORGANIZATION_TYPE_Trade: type 7\",\n{\n            'v': 3.2518915168977536e-05,\n            'f': \"3.2518915168977536e-05\",\n        },\n{\n            'v': 1.1874228922430611e-05,\n            'f': \"1.1874228922430611e-05\",\n        }],\n [{\n            'v': 42,\n            'f': \"42\",\n        },\n\"LANDAREA_MEDI\",\n{\n            'v': 3.0350987491067906e-05,\n            'f': \"3.0350987491067906e-05\",\n        },\n{\n            'v': 4.5163714648697026e-05,\n            'f': \"4.5163714648697026e-05\",\n        }],\n [{\n            'v': 43,\n            'f': \"43\",\n        },\n\"FONDKAPREMONT_MODE_reg oper account\",\n{\n            'v': 3.0350987491067906e-05,\n            'f': \"3.0350987491067906e-05\",\n        },\n{\n            'v': 3.316291660152746e-05,\n            'f': \"3.316291660152746e-05\",\n        }],\n [{\n            'v': 44,\n            'f': \"44\",\n        },\n\"WEEKDAY_APPR_PROCESS_START_TUESDAY\",\n{\n            'v': 2.8183059813158273e-05,\n            'f': \"2.8183059813158273e-05\",\n        },\n{\n            'v': 5.0191154433619126e-05,\n            'f': \"5.0191154433619126e-05\",\n        }],\n [{\n            'v': 45,\n            'f': \"45\",\n        },\n\"OCCUPATION_TYPE_High skill tech staff\",\n{\n            'v': 2.3847204457250193e-05,\n            'f': \"2.3847204457250193e-05\",\n        },\n{\n            'v': 3.09642007004146e-05,\n            'f': \"3.09642007004146e-05\",\n        }],\n [{\n            'v': 46,\n            'f': \"46\",\n        },\n\"NAME_FAMILY_STATUS_Single / not married\",\n{\n            'v': 2.1679276779340563e-05,\n            'f': \"2.1679276779340563e-05\",\n        },\n{\n            'v': 6.682001867637834e-05,\n            'f': \"6.682001867637834e-05\",\n        }],\n [{\n            'v': 47,\n            'f': \"47\",\n        },\n\"NAME_HOUSING_TYPE_Rented apartment\",\n{\n            'v': 2.1679276779318357e-05,\n            'f': \"2.1679276779318357e-05\",\n        },\n{\n            'v': 1.1874228922430611e-05,\n            'f': \"1.1874228922430611e-05\",\n        }],\n [{\n            'v': 48,\n            'f': \"48\",\n        },\n\"FLAG_DOCUMENT_6\",\n{\n            'v': 2.1679276779318357e-05,\n            'f': \"2.1679276779318357e-05\",\n        },\n{\n            'v': 2.1679276779318357e-05,\n            'f': \"2.1679276779318357e-05\",\n        }],\n [{\n            'v': 49,\n            'f': \"49\",\n        },\n\"WALLSMATERIAL_MODE_Block\",\n{\n            'v': 1.951134910138652e-05,\n            'f': \"1.951134910138652e-05\",\n        },\n{\n            'v': 1.264108200152421e-05,\n            'f': \"1.264108200152421e-05\",\n        }],\n [{\n            'v': 50,\n            'f': \"50\",\n        },\n\"ORGANIZATION_TYPE_Business Entity Type 2\",\n{\n            'v': 1.517549374552285e-05,\n            'f': \"1.517549374552285e-05\",\n        },\n{\n            'v': 1.470360089128423e-05,\n            'f': \"1.470360089128423e-05\",\n        }],\n [{\n            'v': 51,\n            'f': \"51\",\n        },\n\"NAME_FAMILY_STATUS_Widow\",\n{\n            'v': 1.517549374552285e-05,\n            'f': \"1.517549374552285e-05\",\n        },\n{\n            'v': 1.6223285220250664e-05,\n            'f': \"1.6223285220250664e-05\",\n        }],\n [{\n            'v': 52,\n            'f': \"52\",\n        },\n\"NAME_HOUSING_TYPE_Municipal apartment\",\n{\n            'v': 1.517549374552285e-05,\n            'f': \"1.517549374552285e-05\",\n        },\n{\n            'v': 1.1054305533832324e-05,\n            'f': \"1.1054305533832324e-05\",\n        }],\n [{\n            'v': 53,\n            'f': \"53\",\n        },\n\"FONDKAPREMONT_MODE_reg oper spec account\",\n{\n            'v': 1.517549374552285e-05,\n            'f': \"1.517549374552285e-05\",\n        },\n{\n            'v': 1.7612327713991493e-05,\n            'f': \"1.7612327713991493e-05\",\n        }],\n [{\n            'v': 54,\n            'f': \"54\",\n        },\n\"ENTRANCES_AVG\",\n{\n            'v': 1.3007566067635423e-05,\n            'f': \"1.3007566067635423e-05\",\n        },\n{\n            'v': 7.428118758651627e-05,\n            'f': \"7.428118758651627e-05\",\n        }],\n [{\n            'v': 55,\n            'f': \"55\",\n        },\n\"FLAG_PHONE\",\n{\n            'v': 1.3007566067635423e-05,\n            'f': \"1.3007566067635423e-05\",\n        },\n{\n            'v': 9.079450903537921e-05,\n            'f': \"9.079450903537921e-05\",\n        }],\n [{\n            'v': 56,\n            'f': \"56\",\n        },\n\"WALLSMATERIAL_MODE_Stone, brick\",\n{\n            'v': 1.3007566067591014e-05,\n            'f': \"1.3007566067591014e-05\",\n        },\n{\n            'v': 1.7343421423454686e-05,\n            'f': \"1.7343421423454686e-05\",\n        }],\n [{\n            'v': 57,\n            'f': \"57\",\n        },\n\"ORGANIZATION_TYPE_Industry: type 3\",\n{\n            'v': 1.3007566067591014e-05,\n            'f': \"1.3007566067591014e-05\",\n        },\n{\n            'v': 4.3358553558636714e-06,\n            'f': \"4.3358553558636714e-06\",\n        }],\n [{\n            'v': 58,\n            'f': \"58\",\n        },\n\"ORGANIZATION_TYPE_Industry: type 9\",\n{\n            'v': 1.3007566067591014e-05,\n            'f': \"1.3007566067591014e-05\",\n        },\n{\n            'v': 1.4380405360652686e-05,\n            'f': \"1.4380405360652686e-05\",\n        }],\n [{\n            'v': 59,\n            'f': \"59\",\n        },\n\"FONDKAPREMONT_MODE_org spec account\",\n{\n            'v': 1.3007566067591014e-05,\n            'f': \"1.3007566067591014e-05\",\n        },\n{\n            'v': 1.4380405360652686e-05,\n            'f': \"1.4380405360652686e-05\",\n        }],\n [{\n            'v': 60,\n            'f': \"60\",\n        },\n\"COMMONAREA_MODE\",\n{\n            'v': 1.3007566067591014e-05,\n            'f': \"1.3007566067591014e-05\",\n        },\n{\n            'v': 4.3574807037600756e-05,\n            'f': \"4.3574807037600756e-05\",\n        }],\n [{\n            'v': 61,\n            'f': \"61\",\n        },\n\"ORGANIZATION_TYPE_Kindergarten\",\n{\n            'v': 1.0839638389659179e-05,\n            'f': \"1.0839638389659179e-05\",\n        },\n{\n            'v': 1.1874228922430611e-05,\n            'f': \"1.1874228922430611e-05\",\n        }],\n [{\n            'v': 62,\n            'f': \"62\",\n        },\n\"ORGANIZATION_TYPE_Bank\",\n{\n            'v': 1.0839638389659179e-05,\n            'f': \"1.0839638389659179e-05\",\n        },\n{\n            'v': 0.0,\n            'f': \"0.0\",\n        }],\n [{\n            'v': 63,\n            'f': \"63\",\n        },\n\"ORGANIZATION_TYPE_Cleaning\",\n{\n            'v': 1.0839638389659179e-05,\n            'f': \"1.0839638389659179e-05\",\n        },\n{\n            'v': 0.0,\n            'f': \"0.0\",\n        }],\n [{\n            'v': 64,\n            'f': \"64\",\n        },\n\"WEEKDAY_APPR_PROCESS_START_SUNDAY\",\n{\n            'v': 1.0839638389659179e-05,\n            'f': \"1.0839638389659179e-05\",\n        },\n{\n            'v': 2.374845784486122e-05,\n            'f': \"2.374845784486122e-05\",\n        }],\n [{\n            'v': 65,\n            'f': \"65\",\n        },\n\"WEEKDAY_APPR_PROCESS_START_FRIDAY\",\n{\n            'v': 8.671710711727343e-06,\n            'f': \"8.671710711727343e-06\",\n        },\n{\n            'v': 2.5095577216783668e-05,\n            'f': \"2.5095577216783668e-05\",\n        }],\n [{\n            'v': 66,\n            'f': \"66\",\n        },\n\"NAME_HOUSING_TYPE_Office apartment\",\n{\n            'v': 8.671710711727343e-06,\n            'f': \"8.671710711727343e-06\",\n        },\n{\n            'v': 4.3358553558636714e-06,\n            'f': \"4.3358553558636714e-06\",\n        }],\n [{\n            'v': 67,\n            'f': \"67\",\n        },\n\"LIVINGAPARTMENTS_AVG\",\n{\n            'v': 6.503783033795507e-06,\n            'f': \"6.503783033795507e-06\",\n        },\n{\n            'v': 2.1241266440759137e-05,\n            'f': \"2.1241266440759137e-05\",\n        }],\n [{\n            'v': 68,\n            'f': \"68\",\n        },\n\"OCCUPATION_TYPE_Accountants\",\n{\n            'v': 6.503783033795507e-06,\n            'f': \"6.503783033795507e-06\",\n        },\n{\n            'v': 8.671710711727343e-06,\n            'f': \"8.671710711727343e-06\",\n        }],\n [{\n            'v': 69,\n            'f': \"69\",\n        },\n\"ORGANIZATION_TYPE_Transport: type 4\",\n{\n            'v': 6.503783033795507e-06,\n            'f': \"6.503783033795507e-06\",\n        },\n{\n            'v': 5.310316610189784e-06,\n            'f': \"5.310316610189784e-06\",\n        }],\n [{\n            'v': 70,\n            'f': \"70\",\n        },\n\"NAME_TYPE_SUITE_Children\",\n{\n            'v': 6.503783033795507e-06,\n            'f': \"6.503783033795507e-06\",\n        },\n{\n            'v': 5.310316610189784e-06,\n            'f': \"5.310316610189784e-06\",\n        }],\n [{\n            'v': 71,\n            'f': \"71\",\n        },\n\"ORGANIZATION_TYPE_Business Entity Type 1\",\n{\n            'v': 6.503783033795507e-06,\n            'f': \"6.503783033795507e-06\",\n        },\n{\n            'v': 1.1054305533832326e-05,\n            'f': \"1.1054305533832326e-05\",\n        }],\n [{\n            'v': 72,\n            'f': \"72\",\n        },\n\"NAME_HOUSING_TYPE_With parents\",\n{\n            'v': 6.503783033795507e-06,\n            'f': \"6.503783033795507e-06\",\n        },\n{\n            'v': 2.793179423487372e-05,\n            'f': \"2.793179423487372e-05\",\n        }],\n [{\n            'v': 73,\n            'f': \"73\",\n        },\n\"NAME_EDUCATION_TYPE_Lower secondary\",\n{\n            'v': 6.503783033795507e-06,\n            'f': \"6.503783033795507e-06\",\n        },\n{\n            'v': 8.671710711727343e-06,\n            'f': \"8.671710711727343e-06\",\n        }],\n [{\n            'v': 74,\n            'f': \"74\",\n        },\n\"REG_REGION_NOT_LIVE_REGION\",\n{\n            'v': 4.3358553558636714e-06,\n            'f': \"4.3358553558636714e-06\",\n        },\n{\n            'v': 5.310316610189784e-06,\n            'f': \"5.310316610189784e-06\",\n        }],\n [{\n            'v': 75,\n            'f': \"75\",\n        },\n\"REG_CITY_NOT_WORK_CITY\",\n{\n            'v': 4.3358553558636714e-06,\n            'f': \"4.3358553558636714e-06\",\n        },\n{\n            'v': 3.2591099309227054e-05,\n            'f': \"3.2591099309227054e-05\",\n        }],\n [{\n            'v': 76,\n            'f': \"76\",\n        },\n\"OCCUPATION_TYPE_Cleaning staff\",\n{\n            'v': 4.3358553558636714e-06,\n            'f': \"4.3358553558636714e-06\",\n        },\n{\n            'v': 1.470360089128423e-05,\n            'f': \"1.470360089128423e-05\",\n        }],\n [{\n            'v': 77,\n            'f': \"77\",\n        },\n\"COMMONAREA_MEDI\",\n{\n            'v': 4.3358553558636714e-06,\n            'f': \"4.3358553558636714e-06\",\n        },\n{\n            'v': 1.1054305533832326e-05,\n            'f': \"1.1054305533832326e-05\",\n        }],\n [{\n            'v': 78,\n            'f': \"78\",\n        },\n\"FLAG_DOCUMENT_5\",\n{\n            'v': 4.3358553558636714e-06,\n            'f': \"4.3358553558636714e-06\",\n        },\n{\n            'v': 1.7612327713991493e-05,\n            'f': \"1.7612327713991493e-05\",\n        }],\n [{\n            'v': 79,\n            'f': \"79\",\n        },\n\"ORGANIZATION_TYPE_Security Ministries\",\n{\n            'v': 2.1679276779318357e-06,\n            'f': \"2.1679276779318357e-06\",\n        },\n{\n            'v': 4.3358553558636714e-06,\n            'f': \"4.3358553558636714e-06\",\n        }],\n [{\n            'v': 80,\n            'f': \"80\",\n        },\n\"ORGANIZATION_TYPE_Trade: type 1\",\n{\n            'v': 2.1679276779318357e-06,\n            'f': \"2.1679276779318357e-06\",\n        },\n{\n            'v': 4.3358553558636714e-06,\n            'f': \"4.3358553558636714e-06\",\n        }],\n [{\n            'v': 81,\n            'f': \"81\",\n        },\n\"ORGANIZATION_TYPE_Industry: type 11\",\n{\n            'v': 2.1679276779318357e-06,\n            'f': \"2.1679276779318357e-06\",\n        },\n{\n            'v': 1.0620633220379568e-05,\n            'f': \"1.0620633220379568e-05\",\n        }],\n [{\n            'v': 82,\n            'f': \"82\",\n        },\n\"ORGANIZATION_TYPE_Military\",\n{\n            'v': 2.1679276779318357e-06,\n            'f': \"2.1679276779318357e-06\",\n        },\n{\n            'v': 4.3358553558636714e-06,\n            'f': \"4.3358553558636714e-06\",\n        }],\n [{\n            'v': 83,\n            'f': \"83\",\n        },\n\"ORGANIZATION_TYPE_Transport: type 2\",\n{\n            'v': 2.1679276779318357e-06,\n            'f': \"2.1679276779318357e-06\",\n        },\n{\n            'v': 8.11164261012533e-06,\n            'f': \"8.11164261012533e-06\",\n        }],\n [{\n            'v': 84,\n            'f': \"84\",\n        },\n\"ORGANIZATION_TYPE_Housing\",\n{\n            'v': 2.1679276779318357e-06,\n            'f': \"2.1679276779318357e-06\",\n        },\n{\n            'v': 1.0620633220379568e-05,\n            'f': \"1.0620633220379568e-05\",\n        }],\n [{\n            'v': 85,\n            'f': \"85\",\n        },\n\"YEARS_BUILD_MEDI\",\n{\n            'v': 2.1679276779318357e-06,\n            'f': \"2.1679276779318357e-06\",\n        },\n{\n            'v': 2.6903274971244853e-05,\n            'f': \"2.6903274971244853e-05\",\n        }],\n [{\n            'v': 86,\n            'f': \"86\",\n        },\n\"COMMONAREA_AVG\",\n{\n            'v': 0.0,\n            'f': \"0.0\",\n        },\n{\n            'v': 3.6918478040886886e-05,\n            'f': \"3.6918478040886886e-05\",\n        }],\n [{\n            'v': 87,\n            'f': \"87\",\n        },\n\"WALLSMATERIAL_MODE_Mixed\",\n{\n            'v': 0.0,\n            'f': \"0.0\",\n        },\n{\n            'v': 0.0,\n            'f': \"0.0\",\n        }],\n [{\n            'v': 88,\n            'f': \"88\",\n        },\n\"WALLSMATERIAL_MODE_Monolithic\",\n{\n            'v': 0.0,\n            'f': \"0.0\",\n        },\n{\n            'v': 0.0,\n            'f': \"0.0\",\n        }],\n [{\n            'v': 89,\n            'f': \"89\",\n        },\n\"WALLSMATERIAL_MODE_Others\",\n{\n            'v': 0.0,\n            'f': \"0.0\",\n        },\n{\n            'v': 0.0,\n            'f': \"0.0\",\n        }],\n [{\n            'v': 90,\n            'f': \"90\",\n        },\n\"AMT_REQ_CREDIT_BUREAU_DAY\",\n{\n            'v': 0.0,\n            'f': \"0.0\",\n        },\n{\n            'v': 0.0,\n            'f': \"0.0\",\n        }],\n [{\n            'v': 91,\n            'f': \"91\",\n        },\n\"ORGANIZATION_TYPE_Trade: type 5\",\n{\n            'v': 0.0,\n            'f': \"0.0\",\n        },\n{\n            'v': 0.0,\n            'f': \"0.0\",\n        }],\n [{\n            'v': 92,\n            'f': \"92\",\n        },\n\"ORGANIZATION_TYPE_Trade: type 4\",\n{\n            'v': 0.0,\n            'f': \"0.0\",\n        },\n{\n            'v': 0.0,\n            'f': \"0.0\",\n        }],\n [{\n            'v': 93,\n            'f': \"93\",\n        },\n\"FLAG_CONT_MOBILE\",\n{\n            'v': 0.0,\n            'f': \"0.0\",\n        },\n{\n            'v': 0.0,\n            'f': \"0.0\",\n        }],\n [{\n            'v': 94,\n            'f': \"94\",\n        },\n\"HOUSETYPE_MODE_specific housing\",\n{\n            'v': 0.0,\n            'f': \"0.0\",\n        },\n{\n            'v': 0.0,\n            'f': \"0.0\",\n        }],\n [{\n            'v': 95,\n            'f': \"95\",\n        },\n\"FLAG_MOBIL\",\n{\n            'v': 0.0,\n            'f': \"0.0\",\n        },\n{\n            'v': 0.0,\n            'f': \"0.0\",\n        }],\n [{\n            'v': 96,\n            'f': \"96\",\n        },\n\"NAME_TYPE_SUITE_Group of people\",\n{\n            'v': 0.0,\n            'f': \"0.0\",\n        },\n{\n            'v': 0.0,\n            'f': \"0.0\",\n        }],\n [{\n            'v': 97,\n            'f': \"97\",\n        },\n\"NAME_TYPE_SUITE_Other_A\",\n{\n            'v': 0.0,\n            'f': \"0.0\",\n        },\n{\n            'v': 0.0,\n            'f': \"0.0\",\n        }],\n [{\n            'v': 98,\n            'f': \"98\",\n        },\n\"WALLSMATERIAL_MODE_Wooden\",\n{\n            'v': 0.0,\n            'f': \"0.0\",\n        },\n{\n            'v': 0.0,\n            'f': \"0.0\",\n        }],\n [{\n            'v': 99,\n            'f': \"99\",\n        },\n\"NAME_TYPE_SUITE_Other_B\",\n{\n            'v': 0.0,\n            'f': \"0.0\",\n        },\n{\n            'v': 6.855589264784554e-06,\n            'f': \"6.855589264784554e-06\",\n        }],\n [{\n            'v': 100,\n            'f': \"100\",\n        },\n\"NAME_INCOME_TYPE_Businessman\",\n{\n            'v': 0.0,\n            'f': \"0.0\",\n        },\n{\n            'v': 0.0,\n            'f': \"0.0\",\n        }],\n [{\n            'v': 101,\n            'f': \"101\",\n        },\n\"HOUSETYPE_MODE_terraced house\",\n{\n            'v': 0.0,\n            'f': \"0.0\",\n        },\n{\n            'v': 0.0,\n            'f': \"0.0\",\n        }],\n [{\n            'v': 102,\n            'f': \"102\",\n        },\n\"NAME_INCOME_TYPE_Unemployed\",\n{\n            'v': 0.0,\n            'f': \"0.0\",\n        },\n{\n            'v': 0.0,\n            'f': \"0.0\",\n        }],\n [{\n            'v': 103,\n            'f': \"103\",\n        },\n\"ORGANIZATION_TYPE_Realtor\",\n{\n            'v': 0.0,\n            'f': \"0.0\",\n        },\n{\n            'v': 0.0,\n            'f': \"0.0\",\n        }],\n [{\n            'v': 104,\n            'f': \"104\",\n        },\n\"FLAG_DOCUMENT_11\",\n{\n            'v': 0.0,\n            'f': \"0.0\",\n        },\n{\n            'v': 0.0,\n            'f': \"0.0\",\n        }],\n [{\n            'v': 105,\n            'f': \"105\",\n        },\n\"ORGANIZATION_TYPE_Trade: type 6\",\n{\n            'v': 0.0,\n            'f': \"0.0\",\n        },\n{\n            'v': 0.0,\n            'f': \"0.0\",\n        }],\n [{\n            'v': 106,\n            'f': \"106\",\n        },\n\"FLAG_DOCUMENT_2\",\n{\n            'v': 0.0,\n            'f': \"0.0\",\n        },\n{\n            'v': 0.0,\n            'f': \"0.0\",\n        }],\n [{\n            'v': 107,\n            'f': \"107\",\n        },\n\"FLAG_DOCUMENT_4\",\n{\n            'v': 0.0,\n            'f': \"0.0\",\n        },\n{\n            'v': 0.0,\n            'f': \"0.0\",\n        }],\n [{\n            'v': 108,\n            'f': \"108\",\n        },\n\"ORGANIZATION_TYPE_University\",\n{\n            'v': 0.0,\n            'f': \"0.0\",\n        },\n{\n            'v': 0.0,\n            'f': \"0.0\",\n        }],\n [{\n            'v': 109,\n            'f': \"109\",\n        },\n\"FLAG_DOCUMENT_7\",\n{\n            'v': 0.0,\n            'f': \"0.0\",\n        },\n{\n            'v': 0.0,\n            'f': \"0.0\",\n        }],\n [{\n            'v': 110,\n            'f': \"110\",\n        },\n\"FLAG_DOCUMENT_10\",\n{\n            'v': 0.0,\n            'f': \"0.0\",\n        },\n{\n            'v': 0.0,\n            'f': \"0.0\",\n        }],\n [{\n            'v': 111,\n            'f': \"111\",\n        },\n\"FLAG_DOCUMENT_12\",\n{\n            'v': 0.0,\n            'f': \"0.0\",\n        },\n{\n            'v': 0.0,\n            'f': \"0.0\",\n        }],\n [{\n            'v': 112,\n            'f': \"112\",\n        },\n\"ORGANIZATION_TYPE_Transport: type 1\",\n{\n            'v': 0.0,\n            'f': \"0.0\",\n        },\n{\n            'v': 0.0,\n            'f': \"0.0\",\n        }],\n [{\n            'v': 113,\n            'f': \"113\",\n        },\n\"FLAG_DOCUMENT_13\",\n{\n            'v': 0.0,\n            'f': \"0.0\",\n        },\n{\n            'v': 0.0,\n            'f': \"0.0\",\n        }],\n [{\n            'v': 114,\n            'f': \"114\",\n        },\n\"FLAG_DOCUMENT_14\",\n{\n            'v': 0.0,\n            'f': \"0.0\",\n        },\n{\n            'v': 0.0,\n            'f': \"0.0\",\n        }],\n [{\n            'v': 115,\n            'f': \"115\",\n        },\n\"FLAG_DOCUMENT_15\",\n{\n            'v': 0.0,\n            'f': \"0.0\",\n        },\n{\n            'v': 0.0,\n            'f': \"0.0\",\n        }],\n [{\n            'v': 116,\n            'f': \"116\",\n        },\n\"FLAG_DOCUMENT_17\",\n{\n            'v': 0.0,\n            'f': \"0.0\",\n        },\n{\n            'v': 0.0,\n            'f': \"0.0\",\n        }],\n [{\n            'v': 117,\n            'f': \"117\",\n        },\n\"FLAG_DOCUMENT_19\",\n{\n            'v': 0.0,\n            'f': \"0.0\",\n        },\n{\n            'v': 0.0,\n            'f': \"0.0\",\n        }],\n [{\n            'v': 118,\n            'f': \"118\",\n        },\n\"FLAG_DOCUMENT_20\",\n{\n            'v': 0.0,\n            'f': \"0.0\",\n        },\n{\n            'v': 0.0,\n            'f': \"0.0\",\n        }],\n [{\n            'v': 119,\n            'f': \"119\",\n        },\n\"ORGANIZATION_TYPE_Religion\",\n{\n            'v': 0.0,\n            'f': \"0.0\",\n        },\n{\n            'v': 0.0,\n            'f': \"0.0\",\n        }],\n [{\n            'v': 120,\n            'f': \"120\",\n        },\n\"FLAG_DOCUMENT_21\",\n{\n            'v': 0.0,\n            'f': \"0.0\",\n        },\n{\n            'v': 0.0,\n            'f': \"0.0\",\n        }],\n [{\n            'v': 121,\n            'f': \"121\",\n        },\n\"NAME_INCOME_TYPE_Student\",\n{\n            'v': 0.0,\n            'f': \"0.0\",\n        },\n{\n            'v': 0.0,\n            'f': \"0.0\",\n        }],\n [{\n            'v': 122,\n            'f': \"122\",\n        },\n\"ORGANIZATION_TYPE_Industry: type 2\",\n{\n            'v': 0.0,\n            'f': \"0.0\",\n        },\n{\n            'v': 0.0,\n            'f': \"0.0\",\n        }],\n [{\n            'v': 123,\n            'f': \"123\",\n        },\n\"OCCUPATION_TYPE_Realty agents\",\n{\n            'v': 0.0,\n            'f': \"0.0\",\n        },\n{\n            'v': 0.0,\n            'f': \"0.0\",\n        }],\n [{\n            'v': 124,\n            'f': \"124\",\n        },\n\"OCCUPATION_TYPE_Private service staff\",\n{\n            'v': 0.0,\n            'f': \"0.0\",\n        },\n{\n            'v': 6.855589264784554e-06,\n            'f': \"6.855589264784554e-06\",\n        }],\n [{\n            'v': 125,\n            'f': \"125\",\n        },\n\"ORGANIZATION_TYPE_Advertising\",\n{\n            'v': 0.0,\n            'f': \"0.0\",\n        },\n{\n            'v': 0.0,\n            'f': \"0.0\",\n        }],\n [{\n            'v': 126,\n            'f': \"126\",\n        },\n\"ORGANIZATION_TYPE_Culture\",\n{\n            'v': 0.0,\n            'f': \"0.0\",\n        },\n{\n            'v': 0.0,\n            'f': \"0.0\",\n        }],\n [{\n            'v': 127,\n            'f': \"127\",\n        },\n\"ORGANIZATION_TYPE_Electricity\",\n{\n            'v': 0.0,\n            'f': \"0.0\",\n        },\n{\n            'v': 0.0,\n            'f': \"0.0\",\n        }],\n [{\n            'v': 128,\n            'f': \"128\",\n        },\n\"OCCUPATION_TYPE_HR staff\",\n{\n            'v': 0.0,\n            'f': \"0.0\",\n        },\n{\n            'v': 0.0,\n            'f': \"0.0\",\n        }],\n [{\n            'v': 129,\n            'f': \"129\",\n        },\n\"ORGANIZATION_TYPE_Emergency\",\n{\n            'v': 0.0,\n            'f': \"0.0\",\n        },\n{\n            'v': 0.0,\n            'f': \"0.0\",\n        }],\n [{\n            'v': 130,\n            'f': \"130\",\n        },\n\"ORGANIZATION_TYPE_Hotel\",\n{\n            'v': 0.0,\n            'f': \"0.0\",\n        },\n{\n            'v': 0.0,\n            'f': \"0.0\",\n        }],\n [{\n            'v': 131,\n            'f': \"131\",\n        },\n\"ORGANIZATION_TYPE_Industry: type 10\",\n{\n            'v': 0.0,\n            'f': \"0.0\",\n        },\n{\n            'v': 0.0,\n            'f': \"0.0\",\n        }],\n [{\n            'v': 132,\n            'f': \"132\",\n        },\n\"ORGANIZATION_TYPE_Industry: type 12\",\n{\n            'v': 0.0,\n            'f': \"0.0\",\n        },\n{\n            'v': 0.0,\n            'f': \"0.0\",\n        }],\n [{\n            'v': 133,\n            'f': \"133\",\n        },\n\"ORGANIZATION_TYPE_Industry: type 13\",\n{\n            'v': 0.0,\n            'f': \"0.0\",\n        },\n{\n            'v': 0.0,\n            'f': \"0.0\",\n        }],\n [{\n            'v': 134,\n            'f': \"134\",\n        },\n\"ORGANIZATION_TYPE_Industry: type 1\",\n{\n            'v': 0.0,\n            'f': \"0.0\",\n        },\n{\n            'v': 0.0,\n            'f': \"0.0\",\n        }],\n [{\n            'v': 135,\n            'f': \"135\",\n        },\n\"ORGANIZATION_TYPE_Services\",\n{\n            'v': 0.0,\n            'f': \"0.0\",\n        },\n{\n            'v': 0.0,\n            'f': \"0.0\",\n        }],\n [{\n            'v': 136,\n            'f': \"136\",\n        },\n\"ORGANIZATION_TYPE_Telecom\",\n{\n            'v': 0.0,\n            'f': \"0.0\",\n        },\n{\n            'v': 0.0,\n            'f': \"0.0\",\n        }],\n [{\n            'v': 137,\n            'f': \"137\",\n        },\n\"ORGANIZATION_TYPE_Legal Services\",\n{\n            'v': 0.0,\n            'f': \"0.0\",\n        },\n{\n            'v': 0.0,\n            'f': \"0.0\",\n        }],\n [{\n            'v': 138,\n            'f': \"138\",\n        },\n\"ORGANIZATION_TYPE_Industry: type 5\",\n{\n            'v': 0.0,\n            'f': \"0.0\",\n        },\n{\n            'v': 0.0,\n            'f': \"0.0\",\n        }],\n [{\n            'v': 139,\n            'f': \"139\",\n        },\n\"NAME_EDUCATION_TYPE_Academic degree\",\n{\n            'v': 0.0,\n            'f': \"0.0\",\n        },\n{\n            'v': 0.0,\n            'f': \"0.0\",\n        }],\n [{\n            'v': 140,\n            'f': \"140\",\n        },\n\"ORGANIZATION_TYPE_Industry: type 6\",\n{\n            'v': 0.0,\n            'f': \"0.0\",\n        },\n{\n            'v': 0.0,\n            'f': \"0.0\",\n        }],\n [{\n            'v': 141,\n            'f': \"141\",\n        },\n\"ORGANIZATION_TYPE_Insurance\",\n{\n            'v': 0.0,\n            'f': \"0.0\",\n        },\n{\n            'v': 0.0,\n            'f': \"0.0\",\n        }],\n [{\n            'v': 142,\n            'f': \"142\",\n        },\n\"ORGANIZATION_TYPE_Industry: type 8\",\n{\n            'v': 0.0,\n            'f': \"0.0\",\n        },\n{\n            'v': 0.0,\n            'f': \"0.0\",\n        }],\n [{\n            'v': 143,\n            'f': \"143\",\n        },\n\"ORGANIZATION_TYPE_Mobile\",\n{\n            'v': 0.0,\n            'f': \"0.0\",\n        },\n{\n            'v': 0.0,\n            'f': \"0.0\",\n        }],\n [{\n            'v': 144,\n            'f': \"144\",\n        },\n\"FLAG_DOCUMENT_16\",\n{\n            'v': -2.1679276779318357e-06,\n            'f': \"-2.1679276779318357e-06\",\n        },\n{\n            'v': 4.3358553558636714e-06,\n            'f': \"4.3358553558636714e-06\",\n        }],\n [{\n            'v': 145,\n            'f': \"145\",\n        },\n\"FLAG_DOCUMENT_9\",\n{\n            'v': -2.1679276779318357e-06,\n            'f': \"-2.1679276779318357e-06\",\n        },\n{\n            'v': 4.3358553558636714e-06,\n            'f': \"4.3358553558636714e-06\",\n        }],\n [{\n            'v': 146,\n            'f': \"146\",\n        },\n\"ORGANIZATION_TYPE_Postal\",\n{\n            'v': -2.1679276779318357e-06,\n            'f': \"-2.1679276779318357e-06\",\n        },\n{\n            'v': 8.111642610125332e-06,\n            'f': \"8.111642610125332e-06\",\n        }],\n [{\n            'v': 147,\n            'f': \"147\",\n        },\n\"OCCUPATION_TYPE_IT staff\",\n{\n            'v': -2.1679276779318357e-06,\n            'f': \"-2.1679276779318357e-06\",\n        },\n{\n            'v': 4.3358553558636714e-06,\n            'f': \"4.3358553558636714e-06\",\n        }],\n [{\n            'v': 148,\n            'f': \"148\",\n        },\n\"ORGANIZATION_TYPE_Industry: type 4\",\n{\n            'v': -2.1679276779318357e-06,\n            'f': \"-2.1679276779318357e-06\",\n        },\n{\n            'v': 4.3358553558636714e-06,\n            'f': \"4.3358553558636714e-06\",\n        }],\n [{\n            'v': 149,\n            'f': \"149\",\n        },\n\"APARTMENTS_MEDI\",\n{\n            'v': -2.1679276779318357e-06,\n            'f': \"-2.1679276779318357e-06\",\n        },\n{\n            'v': 6.031360263289718e-05,\n            'f': \"6.031360263289718e-05\",\n        }],\n [{\n            'v': 150,\n            'f': \"150\",\n        },\n\"FONDKAPREMONT_MODE_not specified\",\n{\n            'v': -2.1679276779318357e-06,\n            'f': \"-2.1679276779318357e-06\",\n        },\n{\n            'v': 4.3358553558636714e-06,\n            'f': \"4.3358553558636714e-06\",\n        }],\n [{\n            'v': 151,\n            'f': \"151\",\n        },\n\"AMT_REQ_CREDIT_BUREAU_HOUR\",\n{\n            'v': -2.1679276779318357e-06,\n            'f': \"-2.1679276779318357e-06\",\n        },\n{\n            'v': 4.3358553558636714e-06,\n            'f': \"4.3358553558636714e-06\",\n        }],\n [{\n            'v': 152,\n            'f': \"152\",\n        },\n\"OCCUPATION_TYPE_Secretaries\",\n{\n            'v': -2.1679276779318357e-06,\n            'f': \"-2.1679276779318357e-06\",\n        },\n{\n            'v': 4.3358553558636714e-06,\n            'f': \"4.3358553558636714e-06\",\n        }],\n [{\n            'v': 153,\n            'f': \"153\",\n        },\n\"NAME_HOUSING_TYPE_Co-op apartment\",\n{\n            'v': -2.1679276779318357e-06,\n            'f': \"-2.1679276779318357e-06\",\n        },\n{\n            'v': 4.3358553558636714e-06,\n            'f': \"4.3358553558636714e-06\",\n        }],\n [{\n            'v': 154,\n            'f': \"154\",\n        },\n\"OCCUPATION_TYPE_Waiters/barmen staff\",\n{\n            'v': -2.1679276779318357e-06,\n            'f': \"-2.1679276779318357e-06\",\n        },\n{\n            'v': 4.3358553558636714e-06,\n            'f': \"4.3358553558636714e-06\",\n        }],\n [{\n            'v': 155,\n            'f': \"155\",\n        },\n\"ORGANIZATION_TYPE_Industry: type 7\",\n{\n            'v': -4.3358553558636714e-06,\n            'f': \"-4.3358553558636714e-06\",\n        },\n{\n            'v': 8.671710711727343e-06,\n            'f': \"8.671710711727343e-06\",\n        }],\n [{\n            'v': 156,\n            'f': \"156\",\n        },\n\"EMERGENCYSTATE_MODE_Yes\",\n{\n            'v': -4.3358553558636714e-06,\n            'f': \"-4.3358553558636714e-06\",\n        },\n{\n            'v': 5.310316610189784e-06,\n            'f': \"5.310316610189784e-06\",\n        }],\n [{\n            'v': 157,\n            'f': \"157\",\n        },\n\"ORGANIZATION_TYPE_Agriculture\",\n{\n            'v': -4.3358553558636714e-06,\n            'f': \"-4.3358553558636714e-06\",\n        },\n{\n            'v': 5.310316610189784e-06,\n            'f': \"5.310316610189784e-06\",\n        }],\n [{\n            'v': 158,\n            'f': \"158\",\n        },\n\"ORGANIZATION_TYPE_Trade: type 2\",\n{\n            'v': -4.3358553558636714e-06,\n            'f': \"-4.3358553558636714e-06\",\n        },\n{\n            'v': 8.671710711727343e-06,\n            'f': \"8.671710711727343e-06\",\n        }],\n [{\n            'v': 159,\n            'f': \"159\",\n        },\n\"FLAG_DOCUMENT_8\",\n{\n            'v': -6.503783033795507e-06,\n            'f': \"-6.503783033795507e-06\",\n        },\n{\n            'v': 3.186189966113871e-05,\n            'f': \"3.186189966113871e-05\",\n        }],\n [{\n            'v': 160,\n            'f': \"160\",\n        },\n\"ORGANIZATION_TYPE_Police\",\n{\n            'v': -6.503783033795507e-06,\n            'f': \"-6.503783033795507e-06\",\n        },\n{\n            'v': 8.671710711727343e-06,\n            'f': \"8.671710711727343e-06\",\n        }],\n [{\n            'v': 161,\n            'f': \"161\",\n        },\n\"ORGANIZATION_TYPE_Security\",\n{\n            'v': -6.503783033795507e-06,\n            'f': \"-6.503783033795507e-06\",\n        },\n{\n            'v': 5.310316610189784e-06,\n            'f': \"5.310316610189784e-06\",\n        }],\n [{\n            'v': 162,\n            'f': \"162\",\n        },\n\"OCCUPATION_TYPE_Drivers\",\n{\n            'v': -8.671710711727343e-06,\n            'f': \"-8.671710711727343e-06\",\n        },\n{\n            'v': 2.7763020519133706e-05,\n            'f': \"2.7763020519133706e-05\",\n        }],\n [{\n            'v': 163,\n            'f': \"163\",\n        },\n\"AMT_REQ_CREDIT_BUREAU_MON\",\n{\n            'v': -8.671710711727343e-06,\n            'f': \"-8.671710711727343e-06\",\n        },\n{\n            'v': 5.371913063220731e-05,\n            'f': \"5.371913063220731e-05\",\n        }],\n [{\n            'v': 164,\n            'f': \"164\",\n        },\n\"OCCUPATION_TYPE_Low-skill Laborers\",\n{\n            'v': -8.671710711727343e-06,\n            'f': \"-8.671710711727343e-06\",\n        },\n{\n            'v': 4.3358553558636714e-06,\n            'f': \"4.3358553558636714e-06\",\n        }],\n [{\n            'v': 165,\n            'f': \"165\",\n        },\n\"ORGANIZATION_TYPE_Transport: type 3\",\n{\n            'v': -8.671710711727343e-06,\n            'f': \"-8.671710711727343e-06\",\n        },\n{\n            'v': 4.3358553558636714e-06,\n            'f': \"4.3358553558636714e-06\",\n        }],\n [{\n            'v': 166,\n            'f': \"166\",\n        },\n\"LIVINGAPARTMENTS_MEDI\",\n{\n            'v': -1.0839638389659179e-05,\n            'f': \"-1.0839638389659179e-05\",\n        },\n{\n            'v': 4.17009215029462e-05,\n            'f': \"4.17009215029462e-05\",\n        }],\n [{\n            'v': 167,\n            'f': \"167\",\n        },\n\"NAME_HOUSING_TYPE_House / apartment\",\n{\n            'v': -1.0839638389659179e-05,\n            'f': \"-1.0839638389659179e-05\",\n        },\n{\n            'v': 3.627636857084813e-05,\n            'f': \"3.627636857084813e-05\",\n        }],\n [{\n            'v': 168,\n            'f': \"168\",\n        },\n\"OCCUPATION_TYPE_Security staff\",\n{\n            'v': -1.0839638389659179e-05,\n            'f': \"-1.0839638389659179e-05\",\n        },\n{\n            'v': 1.679269558482423e-05,\n            'f': \"1.679269558482423e-05\",\n        }],\n [{\n            'v': 169,\n            'f': \"169\",\n        },\n\"TOTALAREA_MODE\",\n{\n            'v': -1.0839638389659179e-05,\n            'f': \"-1.0839638389659179e-05\",\n        },\n{\n            'v': 5.398096385190441e-05,\n            'f': \"5.398096385190441e-05\",\n        }],\n [{\n            'v': 170,\n            'f': \"170\",\n        },\n\"OCCUPATION_TYPE_Medicine staff\",\n{\n            'v': -1.0839638389659179e-05,\n            'f': \"-1.0839638389659179e-05\",\n        },\n{\n            'v': 9.695267316317712e-06,\n            'f': \"9.695267316317712e-06\",\n        }],\n [{\n            'v': 171,\n            'f': \"171\",\n        },\n\"HOUSETYPE_MODE_block of flats\",\n{\n            'v': -1.3007566067591014e-05,\n            'f': \"-1.3007566067591014e-05\",\n        },\n{\n            'v': 1.864921904099408e-05,\n            'f': \"1.864921904099408e-05\",\n        }],\n [{\n            'v': 172,\n            'f': \"172\",\n        },\n\"ORGANIZATION_TYPE_Restaurant\",\n{\n            'v': -1.3007566067591014e-05,\n            'f': \"-1.3007566067591014e-05\",\n        },\n{\n            'v': 1.0620633220379568e-05,\n            'f': \"1.0620633220379568e-05\",\n        }],\n [{\n            'v': 173,\n            'f': \"173\",\n        },\n\"ORGANIZATION_TYPE_Trade: type 3\",\n{\n            'v': -1.3007566067591014e-05,\n            'f': \"-1.3007566067591014e-05\",\n        },\n{\n            'v': 8.11164261012533e-06,\n            'f': \"8.11164261012533e-06\",\n        }],\n [{\n            'v': 174,\n            'f': \"174\",\n        },\n\"AMT_REQ_CREDIT_BUREAU_YEAR\",\n{\n            'v': -1.5175493745500646e-05,\n            'f': \"-1.5175493745500646e-05\",\n        },\n{\n            'v': 0.00012408427186904157,\n            'f': \"0.00012408427186904157\",\n        }],\n [{\n            'v': 175,\n            'f': \"175\",\n        },\n\"ORGANIZATION_TYPE_Government\",\n{\n            'v': -1.517549374552285e-05,\n            'f': \"-1.517549374552285e-05\",\n        },\n{\n            'v': 5.310316610189784e-06,\n            'f': \"5.310316610189784e-06\",\n        }],\n [{\n            'v': 176,\n            'f': \"176\",\n        },\n\"ORGANIZATION_TYPE_School\",\n{\n            'v': -1.517549374552285e-05,\n            'f': \"-1.517549374552285e-05\",\n        },\n{\n            'v': 2.0104534210965726e-05,\n            'f': \"2.0104534210965726e-05\",\n        }],\n [{\n            'v': 177,\n            'f': \"177\",\n        },\n\"DAYS_EMPLOYED_ANOM\",\n{\n            'v': -1.7343421423454686e-05,\n            'f': \"-1.7343421423454686e-05\",\n        },\n{\n            'v': 1.3007566067591014e-05,\n            'f': \"1.3007566067591014e-05\",\n        }],\n [{\n            'v': 178,\n            'f': \"178\",\n        },\n\"CREDIT_TERM\",\n{\n            'v': -1.9511349101342113e-05,\n            'f': \"-1.9511349101342113e-05\",\n        },\n{\n            'v': 0.00013458623535172939,\n            'f': \"0.00013458623535172939\",\n        }],\n [{\n            'v': 179,\n            'f': \"179\",\n        },\n\"ORGANIZATION_TYPE_Medicine\",\n{\n            'v': -1.951134910138652e-05,\n            'f': \"-1.951134910138652e-05\",\n        },\n{\n            'v': 1.5930949830569355e-05,\n            'f': \"1.5930949830569355e-05\",\n        }],\n [{\n            'v': 180,\n            'f': \"180\",\n        },\n\"FLOORSMAX_MODE\",\n{\n            'v': -1.951134910138652e-05,\n            'f': \"-1.951134910138652e-05\",\n        },\n{\n            'v': 4.5163714648669324e-05,\n            'f': \"4.5163714648669324e-05\",\n        }],\n [{\n            'v': 181,\n            'f': \"181\",\n        },\n\"WALLSMATERIAL_MODE_Panel\",\n{\n            'v': -1.951134910138652e-05,\n            'f': \"-1.951134910138652e-05\",\n        },\n{\n            'v': 4.5163714648669324e-05,\n            'f': \"4.5163714648669324e-05\",\n        }],\n [{\n            'v': 182,\n            'f': \"182\",\n        },\n\"NAME_TYPE_SUITE_Spouse, partner\",\n{\n            'v': -1.951134910138652e-05,\n            'f': \"-1.951134910138652e-05\",\n        },\n{\n            'v': 1.5930949830569355e-05,\n            'f': \"1.5930949830569355e-05\",\n        }],\n [{\n            'v': 183,\n            'f': \"183\",\n        },\n\"LIVE_REGION_NOT_WORK_REGION\",\n{\n            'v': -2.1679276779318357e-05,\n            'f': \"-2.1679276779318357e-05\",\n        },\n{\n            'v': 9.695267316317712e-06,\n            'f': \"9.695267316317712e-06\",\n        }],\n [{\n            'v': 184,\n            'f': \"184\",\n        },\n\"FLAG_DOCUMENT_18\",\n{\n            'v': -2.1679276779318357e-05,\n            'f': \"-2.1679276779318357e-05\",\n        },\n{\n            'v': 6.855589264784554e-06,\n            'f': \"6.855589264784554e-06\",\n        }],\n [{\n            'v': 185,\n            'f': \"185\",\n        },\n\"YEARS_BEGINEXPLUATATION_MODE\",\n{\n            'v': -2.3847204457250193e-05,\n            'f': \"-2.3847204457250193e-05\",\n        },\n{\n            'v': 2.601513213518203e-05,\n            'f': \"2.601513213518203e-05\",\n        }],\n [{\n            'v': 186,\n            'f': \"186\",\n        },\n\"ORGANIZATION_TYPE_Self-employed\",\n{\n            'v': -2.601513213518203e-05,\n            'f': \"-2.601513213518203e-05\",\n        },\n{\n            'v': 2.6195169799878496e-05,\n            'f': \"2.6195169799878496e-05\",\n        }],\n [{\n            'v': 187,\n            'f': \"187\",\n        },\n\"ORGANIZATION_TYPE_Construction\",\n{\n            'v': -2.601513213518203e-05,\n            'f': \"-2.601513213518203e-05\",\n        },\n{\n            'v': 1.761232771399149e-05,\n            'f': \"1.761232771399149e-05\",\n        }],\n [{\n            'v': 188,\n            'f': \"188\",\n        },\n\"FLAG_EMAIL\",\n{\n            'v': -2.8183059813113864e-05,\n            'f': \"-2.8183059813113864e-05\",\n        },\n{\n            'v': 6.876125274632058e-05,\n            'f': \"6.876125274632058e-05\",\n        }],\n [{\n            'v': 189,\n            'f': \"189\",\n        },\n\"LIVE_CITY_NOT_WORK_CITY\",\n{\n            'v': -3.03509874910457e-05,\n            'f': \"-3.03509874910457e-05\",\n        },\n{\n            'v': 6.185246219212892e-05,\n            'f': \"6.185246219212892e-05\",\n        }],\n [{\n            'v': 190,\n            'f': \"190\",\n        },\n\"NAME_INCOME_TYPE_State servant\",\n{\n            'v': -3.03509874910457e-05,\n            'f': \"-3.03509874910457e-05\",\n        },\n{\n            'v': 1.0620633220379568e-05,\n            'f': \"1.0620633220379568e-05\",\n        }],\n [{\n            'v': 191,\n            'f': \"191\",\n        },\n\"FLOORSMIN_MODE\",\n{\n            'v': -3.251891516895533e-05,\n            'f': \"-3.251891516895533e-05\",\n        },\n{\n            'v': 6.39446797049734e-05,\n            'f': \"6.39446797049734e-05\",\n        }],\n [{\n            'v': 192,\n            'f': \"192\",\n        },\n\"DAYS_ID_PUBLISH\",\n{\n            'v': -3.251891516895533e-05,\n            'f': \"-3.251891516895533e-05\",\n        },\n{\n            'v': 0.0001252904656864485,\n            'f': \"0.0001252904656864485\",\n        }],\n [{\n            'v': 193,\n            'f': \"193\",\n        },\n\"AMT_REQ_CREDIT_BUREAU_WEEK\",\n{\n            'v': -3.2518915168977536e-05,\n            'f': \"-3.2518915168977536e-05\",\n        },\n{\n            'v': 4.17009215029462e-05,\n            'f': \"4.17009215029462e-05\",\n        }],\n [{\n            'v': 194,\n            'f': \"194\",\n        },\n\"LANDAREA_MODE\",\n{\n            'v': -3.468684284690937e-05,\n            'f': \"-3.468684284690937e-05\",\n        },\n{\n            'v': 4.669859134244539e-05,\n            'f': \"4.669859134244539e-05\",\n        }],\n [{\n            'v': 195,\n            'f': \"195\",\n        },\n\"NAME_EDUCATION_TYPE_Incomplete higher\",\n{\n            'v': -3.468684284690937e-05,\n            'f': \"-3.468684284690937e-05\",\n        },\n{\n            'v': 2.314713346202274e-05,\n            'f': \"2.314713346202274e-05\",\n        }],\n [{\n            'v': 196,\n            'f': \"196\",\n        },\n\"OCCUPATION_TYPE_Managers\",\n{\n            'v': -3.468684284690937e-05,\n            'f': \"-3.468684284690937e-05\",\n        },\n{\n            'v': 3.455108168860567e-05,\n            'f': \"3.455108168860567e-05\",\n        }],\n [{\n            'v': 197,\n            'f': \"197\",\n        },\n\"BASEMENTAREA_MEDI\",\n{\n            'v': -3.468684284690937e-05,\n            'f': \"-3.468684284690937e-05\",\n        },\n{\n            'v': 2.101883867329103e-05,\n            'f': \"2.101883867329103e-05\",\n        }],\n [{\n            'v': 198,\n            'f': \"198\",\n        },\n\"OCCUPATION_TYPE_Cooking staff\",\n{\n            'v': -3.468684284690937e-05,\n            'f': \"-3.468684284690937e-05\",\n        },\n{\n            'v': 1.4380405360652686e-05,\n            'f': \"1.4380405360652686e-05\",\n        }],\n [{\n            'v': 199,\n            'f': \"199\",\n        },\n\"REG_REGION_NOT_WORK_REGION\",\n{\n            'v': -3.685477052484121e-05,\n            'f': \"-3.685477052484121e-05\",\n        },\n{\n            'v': 3.111561578772051e-05,\n            'f': \"3.111561578772051e-05\",\n        }],\n [{\n            'v': 200,\n            'f': \"200\",\n        },\n\"LIVINGAREA_MEDI\",\n{\n            'v': -3.902269820277304e-05,\n            'f': \"-3.902269820277304e-05\",\n        },\n{\n            'v': 4.203767734658206e-05,\n            'f': \"4.203767734658206e-05\",\n        }],\n [{\n            'v': 201,\n            'f': \"201\",\n        },\n\"FLAG_EMP_PHONE\",\n{\n            'v': -3.902269820277304e-05,\n            'f': \"-3.902269820277304e-05\",\n        },\n{\n            'v': 2.6195169799878496e-05,\n            'f': \"2.6195169799878496e-05\",\n        }],\n [{\n            'v': 202,\n            'f': \"202\",\n        },\n\"CODE_GENDER_F\",\n{\n            'v': -4.119062588070488e-05,\n            'f': \"-4.119062588070488e-05\",\n        },\n{\n            'v': 6.298193702746071e-05,\n            'f': \"6.298193702746071e-05\",\n        }],\n [{\n            'v': 203,\n            'f': \"203\",\n        },\n\"BASEMENTAREA_MODE\",\n{\n            'v': -4.3358553558636714e-05,\n            'f': \"-4.3358553558636714e-05\",\n        },\n{\n            'v': 5.17585639053429e-05,\n            'f': \"5.17585639053429e-05\",\n        }],\n [{\n            'v': 204,\n            'f': \"204\",\n        },\n\"ORGANIZATION_TYPE_Other\",\n{\n            'v': -4.7694408914500386e-05,\n            'f': \"-4.7694408914500386e-05\",\n        },\n{\n            'v': 2.0104534210965726e-05,\n            'f': \"2.0104534210965726e-05\",\n        }],\n [{\n            'v': 205,\n            'f': \"205\",\n        },\n\"HOUR_APPR_PROCESS_START\",\n{\n            'v': -4.986233659243222e-05,\n            'f': \"-4.986233659243222e-05\",\n        },\n{\n            'v': 0.0001235148137381257,\n            'f': \"0.0001235148137381257\",\n        }],\n [{\n            'v': 206,\n            'f': \"206\",\n        },\n\"ORGANIZATION_TYPE_XNA\",\n{\n            'v': -5.203026427036406e-05,\n            'f': \"-5.203026427036406e-05\",\n        },\n{\n            'v': 3.171404782084723e-05,\n            'f': \"3.171404782084723e-05\",\n        }],\n [{\n            'v': 207,\n            'f': \"207\",\n        },\n\"LIVINGAREA_MODE\",\n{\n            'v': -5.419819194829589e-05,\n            'f': \"-5.419819194829589e-05\",\n        },\n{\n            'v': 5.6946801381224353e-05,\n            'f': \"5.6946801381224353e-05\",\n        }],\n [{\n            'v': 208,\n            'f': \"208\",\n        },\n\"APARTMENTS_MODE\",\n{\n            'v': -5.636611962622773e-05,\n            'f': \"-5.636611962622773e-05\",\n        },\n{\n            'v': 3.09642007004146e-05,\n            'f': \"3.09642007004146e-05\",\n        }],\n [{\n            'v': 209,\n            'f': \"209\",\n        },\n\"WEEKDAY_APPR_PROCESS_START_WEDNESDAY\",\n{\n            'v': -5.636611962622773e-05,\n            'f': \"-5.636611962622773e-05\",\n        },\n{\n            'v': 3.7799110660038657e-05,\n            'f': \"3.7799110660038657e-05\",\n        }],\n [{\n            'v': 210,\n            'f': \"210\",\n        },\n\"BASEMENTAREA_AVG\",\n{\n            'v': -5.8534047304159564e-05,\n            'f': \"-5.8534047304159564e-05\",\n        },\n{\n            'v': 5.881440356513692e-05,\n            'f': \"5.881440356513692e-05\",\n        }],\n [{\n            'v': 211,\n            'f': \"211\",\n        },\n\"FLAG_WORK_PHONE\",\n{\n            'v': -5.8534047304159564e-05,\n            'f': \"-5.8534047304159564e-05\",\n        },\n{\n            'v': 4.2593020799924104e-05,\n            'f': \"4.2593020799924104e-05\",\n        }],\n [{\n            'v': 212,\n            'f': \"212\",\n        },\n\"DAYS_REGISTRATION\",\n{\n            'v': -6.07019749820914e-05,\n            'f': \"-6.07019749820914e-05\",\n        },\n{\n            'v': 6.154776840710632e-05,\n            'f': \"6.154776840710632e-05\",\n        }],\n [{\n            'v': 213,\n            'f': \"213\",\n        },\n\"YEARS_BUILD_MODE\",\n{\n            'v': -6.07019749820914e-05,\n            'f': \"-6.07019749820914e-05\",\n        },\n{\n            'v': 4.259302079992411e-05,\n            'f': \"4.259302079992411e-05\",\n        }],\n [{\n            'v': 214,\n            'f': \"214\",\n        },\n\"ORGANIZATION_TYPE_Business Entity Type 3\",\n{\n            'v': -6.286990266002324e-05,\n            'f': \"-6.286990266002324e-05\",\n        },\n{\n            'v': 6.335395406680198e-05,\n            'f': \"6.335395406680198e-05\",\n        }],\n [{\n            'v': 215,\n            'f': \"215\",\n        },\n\"OCCUPATION_TYPE_Laborers\",\n{\n            'v': -6.720575801588691e-05,\n            'f': \"-6.720575801588691e-05\",\n        },\n{\n            'v': 7.03825658756985e-05,\n            'f': \"7.03825658756985e-05\",\n        }],\n [{\n            'v': 216,\n            'f': \"216\",\n        },\n\"AMT_ANNUITY\",\n{\n            'v': -6.937368569379654e-05,\n            'f': \"-6.937368569379654e-05\",\n        },\n{\n            'v': 9.314523406656579e-05,\n            'f': \"9.314523406656579e-05\",\n        }],\n [{\n            'v': 217,\n            'f': \"217\",\n        },\n\"REG_CITY_NOT_LIVE_CITY\",\n{\n            'v': -6.937368569381874e-05,\n            'f': \"-6.937368569381874e-05\",\n        },\n{\n            'v': 2.528216400304842e-05,\n            'f': \"2.528216400304842e-05\",\n        }],\n [{\n            'v': 218,\n            'f': \"218\",\n        },\n\"NONLIVINGAREA_MEDI\",\n{\n            'v': -6.937368569381874e-05,\n            'f': \"-6.937368569381874e-05\",\n        },\n{\n            'v': 3.6662983773671164e-05,\n            'f': \"3.6662983773671164e-05\",\n        }],\n [{\n            'v': 219,\n            'f': \"219\",\n        },\n\"WEEKDAY_APPR_PROCESS_START_MONDAY\",\n{\n            'v': -7.154161337175058e-05,\n            'f': \"-7.154161337175058e-05\",\n        },\n{\n            'v': 3.9738770741249934e-05,\n            'f': \"3.9738770741249934e-05\",\n        }],\n [{\n            'v': 220,\n            'f': \"220\",\n        },\n\"NAME_CONTRACT_TYPE\",\n{\n            'v': -7.370954104968241e-05,\n            'f': \"-7.370954104968241e-05\",\n        },\n{\n            'v': 3.5224655427982985e-05,\n            'f': \"3.5224655427982985e-05\",\n        }],\n [{\n            'v': 221,\n            'f': \"221\",\n        },\n\"LIVINGAREA_AVG\",\n{\n            'v': -7.587746872761425e-05,\n            'f': \"-7.587746872761425e-05\",\n        },\n{\n            'v': 5.4844714118276433e-05,\n            'f': \"5.4844714118276433e-05\",\n        }],\n [{\n            'v': 222,\n            'f': \"222\",\n        },\n\"NONLIVINGAREA_AVG\",\n{\n            'v': -7.804539640552389e-05,\n            'f': \"-7.804539640552389e-05\",\n        },\n{\n            'v': 0.00010269663565657072,\n            'f': \"0.00010269663565657072\",\n        }],\n [{\n            'v': 223,\n            'f': \"223\",\n        },\n\"NONLIVINGAREA_MODE\",\n{\n            'v': -8.021332408347792e-05,\n            'f': \"-8.021332408347792e-05\",\n        },\n{\n            'v': 3.9142953335922316e-05,\n            'f': \"3.9142953335922316e-05\",\n        }],\n [{\n            'v': 224,\n            'f': \"224\",\n        },\n\"APARTMENTS_AVG\",\n{\n            'v': -9.755674550693261e-05,\n            'f': \"-9.755674550693261e-05\",\n        },\n{\n            'v': 6.01575516530722e-05,\n            'f': \"6.01575516530722e-05\",\n        }],\n [{\n            'v': 225,\n            'f': \"225\",\n        },\n\"NAME_TYPE_SUITE_Unaccompanied\",\n{\n            'v': -0.00010189260086279628,\n            'f': \"-0.00010189260086279628\",\n        },\n{\n            'v': 4.876632722352503e-05,\n            'f': \"4.876632722352503e-05\",\n        }],\n [{\n            'v': 226,\n            'f': \"226\",\n        },\n\"CREDIT_INCOME_PERCENT\",\n{\n            'v': -0.00010189260086279628,\n            'f': \"-0.00010189260086279628\",\n        },\n{\n            'v': 0.00011088266613954122,\n            'f': \"0.00011088266613954122\",\n        }],\n [{\n            'v': 227,\n            'f': \"227\",\n        },\n\"ENTRANCES_MEDI\",\n{\n            'v': -0.00010406052854072811,\n            'f': \"-0.00010406052854072811\",\n        },\n{\n            'v': 4.0904377618544446e-05,\n            'f': \"4.0904377618544446e-05\",\n        }],\n [{\n            'v': 228,\n            'f': \"228\",\n        },\n\"FLOORSMAX_AVG\",\n{\n            'v': -0.00010622845621865995,\n            'f': \"-0.00010622845621865995\",\n        },\n{\n            'v': 6.372379932227742e-05,\n            'f': \"6.372379932227742e-05\",\n        }],\n [{\n            'v': 229,\n            'f': \"229\",\n        },\n\"EMERGENCYSTATE_MODE_No\",\n{\n            'v': -0.00011056431157452362,\n            'f': \"-0.00011056431157452362\",\n        },\n{\n            'v': 4.669859134244539e-05,\n            'f': \"4.669859134244539e-05\",\n        }],\n [{\n            'v': 230,\n            'f': \"230\",\n        },\n\"AMT_INCOME_TOTAL\",\n{\n            'v': -0.00011056431157456803,\n            'f': \"-0.00011056431157456803\",\n        },\n{\n            'v': 0.00013820432675447423,\n            'f': \"0.00013820432675447423\",\n        }],\n [{\n            'v': 231,\n            'f': \"231\",\n        },\n\"NAME_INCOME_TYPE_Working\",\n{\n            'v': -0.00012357187764211464,\n            'f': \"-0.00012357187764211464\",\n        },\n{\n            'v': 4.0904377618544446e-05,\n            'f': \"4.0904377618544446e-05\",\n        }],\n [{\n            'v': 232,\n            'f': \"232\",\n        },\n\"ENTRANCES_MODE\",\n{\n            'v': -0.00012573980532004647,\n            'f': \"-0.00012573980532004647\",\n        },\n{\n            'v': 6.876125274632056e-05,\n            'f': \"6.876125274632056e-05\",\n        }],\n [{\n            'v': 233,\n            'f': \"233\",\n        },\n\"AMT_CREDIT\",\n{\n            'v': -0.00013874737138763749,\n            'f': \"-0.00013874737138763749\",\n        },\n{\n            'v': 5.992271320953009e-05,\n            'f': \"5.992271320953009e-05\",\n        }],\n [{\n            'v': 234,\n            'f': \"234\",\n        },\n\"NAME_EDUCATION_TYPE_Higher education\",\n{\n            'v': -0.00016042664816697804,\n            'f': \"-0.00016042664816697804\",\n        },\n{\n            'v': 9.079450903536224e-05,\n            'f': \"9.079450903536224e-05\",\n        }],\n [{\n            'v': 235,\n            'f': \"235\",\n        },\n\"ANNUITY_INCOME_PERCENT\",\n{\n            'v': -0.00016259457584490988,\n            'f': \"-0.00016259457584490988\",\n        },\n{\n            'v': 5.221061234761857e-05,\n            'f': \"5.221061234761857e-05\",\n        }],\n [{\n            'v': 236,\n            'f': \"236\",\n        },\n\"DAYS_EMPLOYED\",\n{\n            'v': -0.00017343421423459126,\n            'f': \"-0.00017343421423459126\",\n        },\n{\n            'v': 0.00010328986710232315,\n            'f': \"0.00010328986710232315\",\n        }],\n [{\n            'v': 237,\n            'f': \"237\",\n        },\n\"DAYS_LAST_PHONE_CHANGE\",\n{\n            'v': -0.00018427385262427266,\n            'f': \"-0.00018427385262427266\",\n        },\n{\n            'v': 0.0001193345237671944,\n            'f': \"0.0001193345237671944\",\n        }],\n [{\n            'v': 238,\n            'f': \"238\",\n        },\n\"NAME_EDUCATION_TYPE_Secondary / secondary special\",\n{\n            'v': -0.00024280789992843222,\n            'f': \"-0.00024280789992843222\",\n        },\n{\n            'v': 0.00010522827063986339,\n            'f': \"0.00010522827063986339\",\n        }],\n [{\n            'v': 239,\n            'f': \"239\",\n        },\n\"FLAG_DOCUMENT_3\",\n{\n            'v': -0.00026448717670777275,\n            'f': \"-0.00026448717670777275\",\n        },\n{\n            'v': 5.9212609897667067e-05,\n            'f': \"5.9212609897667067e-05\",\n        }],\n [{\n            'v': 240,\n            'f': \"240\",\n        },\n\"EXT_SOURCE_1\",\n{\n            'v': -0.0002709909597415461,\n            'f': \"-0.0002709909597415461\",\n        },\n{\n            'v': 9.324609520502202e-05,\n            'f': \"9.324609520502202e-05\",\n        }],\n [{\n            'v': 241,\n            'f': \"241\",\n        },\n\"EXT_SOURCE_2\",\n{\n            'v': -0.00027749474277536377,\n            'f': \"-0.00027749474277536377\",\n        },\n{\n            'v': 0.0002034389616810695,\n            'f': \"0.0002034389616810695\",\n        }],\n [{\n            'v': 242,\n            'f': \"242\",\n        },\n\"FLOORSMAX_MEDI\",\n{\n            'v': -0.0003273570793678182,\n            'f': \"-0.0003273570793678182\",\n        },\n{\n            'v': 0.00015848129626898033,\n            'f': \"0.00015848129626898033\",\n        }],\n [{\n            'v': 243,\n            'f': \"243\",\n        },\n\"AMT_GOODS_PRICE\",\n{\n            'v': -0.00035337221150300024,\n            'f': \"-0.00035337221150300024\",\n        },\n{\n            'v': 0.00016231973939198076,\n            'f': \"0.00016231973939198076\",\n        }]],\n        columns: [[\"number\", \"index\"], [\"string\", \"feature\"], [\"number\", \"weight\"], [\"number\", \"std\"]],\n        columnOptions: [{\"width\": \"1px\", \"className\": \"index_column\"}],\n        rowsPerPage: 25,\n        helpUrl: \"https://colab.research.google.com/notebooks/data_table.ipynb\",\n        suppressOutputScrolling: true,\n        minimumWidth: undefined,\n      });\n      \n      function appendQuickchartButton(parentElement) {\n        let quickchartButtonContainerElement = document.createElement('div');\n        quickchartButtonContainerElement.innerHTML = `\n    <div id=\"df-8d2e770b-bbe9-4a5e-9e12-9433f011ff14\">\n      <button class=\"colab-df-quickchart\" onclick=\"quickchart('df-8d2e770b-bbe9-4a5e-9e12-9433f011ff14')\"\n              title=\"Suggest charts.\"\n              style=\"display:none;\">\n\n<svg xmlns=\"http://www.w3.org/2000/svg\" height=\"24px\"viewBox=\"0 0 24 24\"\n     width=\"24px\">\n    <g>\n        <path d=\"M19 3H5c-1.1 0-2 .9-2 2v14c0 1.1.9 2 2 2h14c1.1 0 2-.9 2-2V5c0-1.1-.9-2-2-2zM9 17H7v-7h2v7zm4 0h-2V7h2v10zm4 0h-2v-4h2v4z\"/>\n    </g>\n</svg>\n      </button>\n    </div>\n\n<style>\n  .colab-df-quickchart {\n    background-color: #E8F0FE;\n    border: none;\n    border-radius: 50%;\n    cursor: pointer;\n    display: none;\n    fill: #1967D2;\n    height: 32px;\n    padding: 0 0 0 0;\n    width: 32px;\n  }\n\n  .colab-df-quickchart:hover {\n    background-color: #E2EBFA;\n    box-shadow: 0px 1px 2px rgba(60, 64, 67, 0.3), 0px 1px 3px 1px rgba(60, 64, 67, 0.15);\n    fill: #174EA6;\n  }\n\n  [theme=dark] .colab-df-quickchart {\n    background-color: #3B4455;\n    fill: #D2E3FC;\n  }\n\n  [theme=dark] .colab-df-quickchart:hover {\n    background-color: #434B5C;\n    box-shadow: 0px 1px 3px 1px rgba(0, 0, 0, 0.15);\n    filter: drop-shadow(0px 1px 2px rgba(0, 0, 0, 0.3));\n    fill: #FFFFFF;\n  }\n</style>\n\n    <script>\n      async function quickchart(key) {\n        const containerElement = document.querySelector('#' + key);\n        const charts = await google.colab.kernel.invokeFunction(\n            'suggestCharts', [key], {});\n      }\n    </script>\n`;\n        parentElement.appendChild(quickchartButtonContainerElement);\n        \nfunction displayQuickchartButton(domScope) {\n  let quickchartButtonEl =\n    domScope.querySelector('#df-8d2e770b-bbe9-4a5e-9e12-9433f011ff14 button.colab-df-quickchart');\n  quickchartButtonEl.style.display =\n    google.colab.kernel.accessAllowed ? 'block' : 'none';\n}\n\n        displayQuickchartButton(parentElement);\n      }\n\n      appendQuickchartButton(table);\n    "
          },
          "metadata": {},
          "execution_count": 37
        }
      ],
      "source": [
        "eli5.explain_weights_df(perm, feature_names = train_col.columns.tolist())"
      ]
    },
    {
      "cell_type": "code",
      "execution_count": 69,
      "metadata": {
        "id": "6xyxoC-T6bDc"
      },
      "outputs": [],
      "source": [
        "sub_data = data[['OBS_60_CNT_SOCIAL_CIRCLE',\n",
        "'OBS_30_CNT_SOCIAL_CIRCLE',\n",
        "'CNT_FAM_MEMBERS',\n",
        "'CNT_CHILDREN',\n",
        "'EXT_SOURCE_3',\n",
        "'DEF_30_CNT_SOCIAL_CIRCLE',\n",
        "'REGION_RATING_CLIENT',\n",
        "'FLAG_OWN_CAR',\n",
        "'DEF_60_CNT_SOCIAL_CIRCLE',\n",
        "'DAYS_BIRTH',\n",
        "'REGION_RATING_CLIENT_W_CITY',\n",
        "'NAME_FAMILY_STATUS_Married',\n",
        "'SK_ID_CURR',\n",
        "'AMT_REQ_CREDIT_BUREAU_YEAR',\n",
        "'ELEVATORS_MODE',\n",
        "'AMT_REQ_CREDIT_BUREAU_MON',\n",
        "'ELEVATORS_MEDI',\n",
        "'CODE_GENDER_F',\n",
        "'OWN_CAR_AGE',\n",
        "'REG_CITY_NOT_LIVE_CITY',\n",
        "'DAYS_ID_PUBLISH',\n",
        "'REGION_POPULATION_RELATIVE',\n",
        "'FLAG_PHONE',\n",
        "'HOUR_APPR_PROCESS_START',\n",
        "'AMT_REQ_CREDIT_BUREAU_QRT',\n",
        "\n",
        "'YEARS_BUILD_AVG',\n",
        "'ELEVATORS_AVG',\n",
        "'NAME_FAMILY_STATUS_Civil marriage',\n",
        "'NAME_FAMILY_STATUS_Separated',\n",
        "'OCCUPATION_TYPE_Private service staff',\n",
        "'NAME_FAMILY_STATUS_Single / not married',\n",
        "'LIVINGAREA_MODE',\n",
        "'ORGANIZATION_TYPE_XNA',\n",
        "'WEEKDAY_APPR_PROCESS_START_SUNDAY',\n",
        "'LANDAREA_MEDI',\n",
        "'OCCUPATION_TYPE_Sales staff',\n",
        "'FLAG_OWN_REALTY',\n",
        "'YEARS_BUILD_MEDI',\n",
        "'FLAG_DOCUMENT_8',\n",
        "'OCCUPATION_TYPE_Cooking staff',\n",
        "'COMMONAREA_MODE',\n",
        "'FLOORSMIN_AVG',\n",
        "'ORGANIZATION_TYPE_Government',\n",
        "'ORGANIZATION_TYPE_Agriculture',\n",
        "'AMT_REQ_CREDIT_BUREAU_WEEK',\n",
        "'EMERGENCYSTATE_MODE_No',\n",
        "'WEEKDAY_APPR_PROCESS_START_SATURDAY',\n",
        "'ORGANIZATION_TYPE_Trade: type 3',\n",
        "'DAYS_REGISTRATION',\n",
        "'LIVINGAREA_MEDI',\n",
        "\n",
        "\n",
        "'OCCUPATION_TYPE_Waiters/barmen staff',\n",
        "'ORGANIZATION_TYPE_Construction',\n",
        "'BASEMENTAREA_MEDI',\n",
        "'FLOORSMIN_MODE',\n",
        "'FLAG_DOCUMENT_6',\n",
        "'ORGANIZATION_TYPE_Other',\n",
        "'NAME_EDUCATION_TYPE_Incomplete higher',\n",
        "'ORGANIZATION_TYPE_Business Entity Type 1',\n",
        "'OCCUPATION_TYPE_Low-skill Laborers',\n",
        "'NAME_HOUSING_TYPE_Municipal apartment',\n",
        "'ORGANIZATION_TYPE_Transport: type 4',\n",
        "'CODE_GENDER_M',\n",
        "'ORGANIZATION_TYPE_Industry: type 1',\n",
        "'OCCUPATION_TYPE_Medicine staff',\n",
        "'YEARS_BUILD_MODE',\n",
        "'ORGANIZATION_TYPE_Police',\n",
        "'OCCUPATION_TYPE_High skill tech staff',\n",
        "'CREDIT_TERM',\n",
        "'ORGANIZATION_TYPE_Industry: type 11',\n",
        "'AMT_INCOME_TOTAL',\n",
        "'ORGANIZATION_TYPE_Housing',\n",
        "'WALLSMATERIAL_MODE_Mixed',\n",
        "'ORGANIZATION_TYPE_Industry: type 3',\n",
        "'EXT_SOURCE_1',\n",
        "'ORGANIZATION_TYPE_Bank',\n",
        "\n",
        "\n",
        "'ORGANIZATION_TYPE_Industry: type 9',\n",
        "'OCCUPATION_TYPE_Managers',\n",
        "'AMT_REQ_CREDIT_BUREAU_HOUR',\n",
        "'WALLSMATERIAL_MODE_Wooden',\n",
        "'ORGANIZATION_TYPE_Military',\n",
        "'FLAG_DOCUMENT_9',\n",
        "'ORGANIZATION_TYPE_Services',\n",
        "'NAME_TYPE_SUITE_Other_A',\n",
        "'ORGANIZATION_TYPE_Telecom',\n",
        "'OCCUPATION_TYPE_Secretaries',\n",
        "'NAME_TYPE_SUITE_Other_B',\n",
        "'WEEKDAY_APPR_PROCESS_START_FRIDAY',\n",
        "'ORGANIZATION_TYPE_School',\n",
        "'NAME_FAMILY_STATUS_Widow',\n",
        "\n",
        "'TARGET'\n",
        "\n",
        "]]\n"
      ]
    },
    {
      "cell_type": "code",
      "source": [
        "sub_data = data[['OBS_30_CNT_SOCIAL_CIRCLE',\n",
        "'OBS_60_CNT_SOCIAL_CIRCLE',\n",
        "'CNT_FAM_MEMBERS',\n",
        "'CNT_CHILDREN',\n",
        "'EXT_SOURCE_3',\n",
        "'DEF_30_CNT_SOCIAL_CIRCLE',\n",
        "'REGION_RATING_CLIENT',\n",
        "'FLAG_OWN_CAR',\n",
        "'REGION_RATING_CLIENT_W_CITY',\n",
        "'DEF_60_CNT_SOCIAL_CIRCLE',\n",
        "'OWN_CAR_AGE',\n",
        "'ELEVATORS_MODE',\n",
        "'NAME_FAMILY_STATUS_Married',\n",
        "'AMT_REQ_CREDIT_BUREAU_QRT',\n",
        "'NAME_INCOME_TYPE_Commercial associate',\n",
        "'SK_ID_CURR',\n",
        "'DAYS_BIRTH',\n",
        "'YEARS_BEGINEXPLUATATION_MEDI',\n",
        "'REGION_POPULATION_RELATIVE',\n",
        "'NONLIVINGAPARTMENTS_MODE',\n",
        "'ELEVATORS_MEDI',\n",
        "'FLOORSMIN_AVG',\n",
        "'CODE_GENDER_M',\n",
        "'FLOORSMIN_MEDI',\n",
        "'NAME_FAMILY_STATUS_Separated',\n",
        "\n",
        "'WEEKDAY_APPR_PROCESS_START_THURSDAY',\n",
        "'ELEVATORS_AVG',\n",
        "'NONLIVINGAPARTMENTS_MEDI',\n",
        "'LANDAREA_AVG',\n",
        "'FLAG_OWN_REALTY',\n",
        "'NAME_INCOME_TYPE_Pensioner',\n",
        "'LIVINGAPARTMENTS_MODE',\n",
        "'YEARS_BUILD_AVG',\n",
        "'NONLIVINGAPARTMENTS_AVG',\n",
        "'NAME_TYPE_SUITE_Family',\n",
        "'YEARS_BEGINEXPLUATATION_AVG',\n",
        "'OCCUPATION_TYPE_Sales staff',\n",
        "'OCCUPATION_TYPE_Core staff',\n",
        "'NAME_FAMILY_STATUS_Civil marriage',\n",
        "'WEEKDAY_APPR_PROCESS_START_SATURDAY',\n",
        "'DAYS_EMPLOYED_PERCENT',\n",
        "'ORGANIZATION_TYPE_Trade: type 7',\n",
        "'LANDAREA_MEDI',\n",
        "'FONDKAPREMONT_MODE_reg oper account',\n",
        "'WEEKDAY_APPR_PROCESS_START_TUESDAY',\n",
        "'OCCUPATION_TYPE_High skill tech staff',\n",
        "'NAME_FAMILY_STATUS_Single / not married',\n",
        "'NAME_HOUSING_TYPE_Rented apartment',\n",
        "'FLAG_DOCUMENT_6',\n",
        "'WALLSMATERIAL_MODE_Block',\n",
        "\n",
        "'ORGANIZATION_TYPE_Business Entity Type 2',\n",
        "'NAME_FAMILY_STATUS_Widow',\n",
        "'NAME_HOUSING_TYPE_Municipal apartment',\n",
        "'FONDKAPREMONT_MODE_reg oper spec account',\n",
        "'ENTRANCES_AVG',\n",
        "'FLAG_PHONE',\n",
        "'WALLSMATERIAL_MODE_Stone, brick',\n",
        "'ORGANIZATION_TYPE_Industry: type 3',\n",
        "'ORGANIZATION_TYPE_Industry: type 9',\n",
        "'FONDKAPREMONT_MODE_org spec account',\n",
        "'COMMONAREA_MODE',\n",
        "'ORGANIZATION_TYPE_Kindergarten',\n",
        "'ORGANIZATION_TYPE_Bank',\n",
        "'ORGANIZATION_TYPE_Cleaning',\n",
        "'WEEKDAY_APPR_PROCESS_START_SUNDAY',\n",
        "'WEEKDAY_APPR_PROCESS_START_FRIDAY',\n",
        "'NAME_HOUSING_TYPE_Office apartment',\n",
        "'LIVINGAPARTMENTS_AVG',\n",
        "'OCCUPATION_TYPE_Accountants',\n",
        "'ORGANIZATION_TYPE_Transport: type 4',\n",
        "'NAME_TYPE_SUITE_Children',\n",
        "'ORGANIZATION_TYPE_Business Entity Type 1',\n",
        "'NAME_HOUSING_TYPE_With parents',\n",
        "'NAME_EDUCATION_TYPE_Lower secondary',\n",
        "'REG_REGION_NOT_LIVE_REGION',\n",
        "\n",
        "'REG_CITY_NOT_WORK_CITY',\n",
        "'OCCUPATION_TYPE_Cleaning staff',\n",
        "'COMMONAREA_MEDI',\n",
        "'FLAG_DOCUMENT_5',\n",
        "'ORGANIZATION_TYPE_Security Ministries',\n",
        "'ORGANIZATION_TYPE_Trade: type 1',\n",
        "'ORGANIZATION_TYPE_Industry: type 11',\n",
        "'ORGANIZATION_TYPE_Military',\n",
        "'ORGANIZATION_TYPE_Transport: type 2',\n",
        "'ORGANIZATION_TYPE_Housing',\n",
        "'YEARS_BUILD_MEDI',\n",
        "'TARGET' ]]"
      ],
      "metadata": {
        "id": "K8yIYGcMXrbt"
      },
      "execution_count": 56,
      "outputs": []
    },
    {
      "cell_type": "code",
      "source": [
        "sub_data.shape"
      ],
      "metadata": {
        "colab": {
          "base_uri": "https://localhost:8080/"
        },
        "id": "5O7bySBYUUbN",
        "outputId": "e17555c1-9060-430b-bbdd-485aa7c26862"
      },
      "execution_count": 70,
      "outputs": [
        {
          "output_type": "execute_result",
          "data": {
            "text/plain": [
              "(307511, 90)"
            ]
          },
          "metadata": {},
          "execution_count": 70
        }
      ]
    },
    {
      "cell_type": "code",
      "source": [
        "from sklearn.model_selection import train_test_split\n",
        "train1, test1  = train_test_split(sub_data, test_size = 0.30,\n",
        "                                                    random_state = 1)"
      ],
      "metadata": {
        "id": "gawDB9ECU8wM"
      },
      "execution_count": 71,
      "outputs": []
    },
    {
      "cell_type": "code",
      "source": [
        "X_train1 = train1.drop(columns = ['TARGET'])\n",
        "y_train1 = train1.iloc[:, -1]"
      ],
      "metadata": {
        "id": "6q_5M42cU_tz"
      },
      "execution_count": 72,
      "outputs": []
    },
    {
      "cell_type": "code",
      "source": [
        "X_test1 = test1.drop(columns = ['TARGET'])\n",
        "y_test1 = test1.iloc[:, -1]"
      ],
      "metadata": {
        "id": "-lPp9DAyVBSm"
      },
      "execution_count": 73,
      "outputs": []
    },
    {
      "cell_type": "code",
      "source": [
        "y_train1.head()"
      ],
      "metadata": {
        "colab": {
          "base_uri": "https://localhost:8080/"
        },
        "id": "nfUNfFrSVCxN",
        "outputId": "7e9f6c54-067b-4929-a466-a58ace963bab"
      },
      "execution_count": 74,
      "outputs": [
        {
          "output_type": "execute_result",
          "data": {
            "text/plain": [
              "208983    0\n",
              "71687     0\n",
              "301340    0\n",
              "216927    0\n",
              "109091    0\n",
              "Name: TARGET, dtype: int64"
            ]
          },
          "metadata": {},
          "execution_count": 74
        }
      ]
    },
    {
      "cell_type": "code",
      "source": [
        "y_train1.astype(int).plot.hist()"
      ],
      "metadata": {
        "colab": {
          "base_uri": "https://localhost:8080/",
          "height": 447
        },
        "id": "IlVkRr5aVEQj",
        "outputId": "d2f368db-a14b-4a83-a515-17d733bb6201"
      },
      "execution_count": 75,
      "outputs": [
        {
          "output_type": "execute_result",
          "data": {
            "text/plain": [
              "<Axes: ylabel='Frequency'>"
            ]
          },
          "metadata": {},
          "execution_count": 75
        },
        {
          "output_type": "display_data",
          "data": {
            "text/plain": [
              "<Figure size 640x480 with 1 Axes>"
            ],
            "image/png": "[encoded data removed]"
          },
          "metadata": {}
        }
      ]
    },
    {
      "cell_type": "code",
      "source": [
        "from sklearn.preprocessing import MinMaxScaler\n",
        "from sklearn.impute import SimpleImputer\n",
        "\n",
        "# Drop the target from the training data\n",
        "\n",
        "train = X_train1.copy()\n",
        "\n",
        "# Feature names\n",
        "features = list(train.columns)\n",
        "\n",
        "# Copy of the testing data\n",
        "test = X_test1.copy()\n",
        "\n",
        "# Median imputation of missing values\n",
        "imputer = SimpleImputer(strategy = 'median')\n",
        "\n",
        "# Scale each feature to 0-1\n",
        "scaler = MinMaxScaler(feature_range = (0, 1))\n",
        "\n",
        "# Fit on the training data\n",
        "imputer.fit(train)\n",
        "\n",
        "# Transform both training and testing data\n",
        "train = imputer.transform(train)\n",
        "test = imputer.transform(test)\n",
        "\n",
        "# Repeat with the scaler\n",
        "scaler.fit(train)\n",
        "train = scaler.transform(train)\n",
        "test = scaler.transform(test)\n",
        "\n",
        "print('Training data shape: ', train.shape)\n",
        "print('Testing data shape: ', test.shape)"
      ],
      "metadata": {
        "colab": {
          "base_uri": "https://localhost:8080/"
        },
        "id": "e1_urlvAVGMp",
        "outputId": "70eda81e-3ef3-4030-ba9f-9563a71dab9f"
      },
      "execution_count": 76,
      "outputs": [
        {
          "output_type": "stream",
          "name": "stdout",
          "text": [
            "Training data shape:  (215257, 89)\n",
            "Testing data shape:  (92254, 89)\n"
          ]
        }
      ]
    },
    {
      "cell_type": "code",
      "source": [
        "from imblearn.over_sampling import SMOTE\n",
        "\n",
        "sm = SMOTE(random_state = 2)\n",
        "X_train_res, y_train_res = sm.fit_resample(train, y_train.ravel())\n",
        "\n",
        "print('After OverSampling, the shape of train_X: {}'.format(X_train_res.shape))\n",
        "print('After OverSampling, the shape of train_y: {} \\n'.format(y_train_res.shape))\n",
        "\n",
        "print(\"After OverSampling, counts of label '1': {}\".format(sum(y_train_res == 1)))\n",
        "print(\"After OverSampling, counts of label '0': {}\".format(sum(y_train_res == 0)))"
      ],
      "metadata": {
        "colab": {
          "base_uri": "https://localhost:8080/"
        },
        "id": "PAO7ZW8OVJJp",
        "outputId": "7b6eb3e9-5894-4bf7-a9ce-80e256733337"
      },
      "execution_count": 77,
      "outputs": [
        {
          "output_type": "stream",
          "name": "stdout",
          "text": [
            "After OverSampling, the shape of train_X: (395798, 89)\n",
            "After OverSampling, the shape of train_y: (395798,) \n",
            "\n",
            "After OverSampling, counts of label '1': 197899\n",
            "After OverSampling, counts of label '0': 197899\n"
          ]
        }
      ]
    },
    {
      "cell_type": "code",
      "source": [
        "clf = RandomForestClassifier(n_estimators=100)\n",
        "clf.fit(X_train_res, y_train_res)"
      ],
      "metadata": {
        "colab": {
          "base_uri": "https://localhost:8080/",
          "height": 74
        },
        "id": "rSDHo3KkVLOj",
        "outputId": "aa10cb0d-3d77-4de9-9335-65376ab5d05c"
      },
      "execution_count": 78,
      "outputs": [
        {
          "output_type": "execute_result",
          "data": {
            "text/plain": [
              "RandomForestClassifier()"
            ],
            "text/html": [
              "<style>#sk-container-id-7 {color: black;background-color: white;}#sk-container-id-7 pre{padding: 0;}#sk-container-id-7 div.sk-toggleable {background-color: white;}#sk-container-id-7 label.sk-toggleable__label {cursor: pointer;display: block;width: 100%;margin-bottom: 0;padding: 0.3em;box-sizing: border-box;text-align: center;}#sk-container-id-7 label.sk-toggleable__label-arrow:before {content: \"▸\";float: left;margin-right: 0.25em;color: #696969;}#sk-container-id-7 label.sk-toggleable__label-arrow:hover:before {color: black;}#sk-container-id-7 div.sk-estimator:hover label.sk-toggleable__label-arrow:before {color: black;}#sk-container-id-7 div.sk-toggleable__content {max-height: 0;max-width: 0;overflow: hidden;text-align: left;background-color: #f0f8ff;}#sk-container-id-7 div.sk-toggleable__content pre {margin: 0.2em;color: black;border-radius: 0.25em;background-color: #f0f8ff;}#sk-container-id-7 input.sk-toggleable__control:checked~div.sk-toggleable__content {max-height: 200px;max-width: 100%;overflow: auto;}#sk-container-id-7 input.sk-toggleable__control:checked~label.sk-toggleable__label-arrow:before {content: \"▾\";}#sk-container-id-7 div.sk-estimator input.sk-toggleable__control:checked~label.sk-toggleable__label {background-color: #d4ebff;}#sk-container-id-7 div.sk-label input.sk-toggleable__control:checked~label.sk-toggleable__label {background-color: #d4ebff;}#sk-container-id-7 input.sk-hidden--visually {border: 0;clip: rect(1px 1px 1px 1px);clip: rect(1px, 1px, 1px, 1px);height: 1px;margin: -1px;overflow: hidden;padding: 0;position: absolute;width: 1px;}#sk-container-id-7 div.sk-estimator {font-family: monospace;background-color: #f0f8ff;border: 1px dotted black;border-radius: 0.25em;box-sizing: border-box;margin-bottom: 0.5em;}#sk-container-id-7 div.sk-estimator:hover {background-color: #d4ebff;}#sk-container-id-7 div.sk-parallel-item::after {content: \"\";width: 100%;border-bottom: 1px solid gray;flex-grow: 1;}#sk-container-id-7 div.sk-label:hover label.sk-toggleable__label {background-color: #d4ebff;}#sk-container-id-7 div.sk-serial::before {content: \"\";position: absolute;border-left: 1px solid gray;box-sizing: border-box;top: 0;bottom: 0;left: 50%;z-index: 0;}#sk-container-id-7 div.sk-serial {display: flex;flex-direction: column;align-items: center;background-color: white;padding-right: 0.2em;padding-left: 0.2em;position: relative;}#sk-container-id-7 div.sk-item {position: relative;z-index: 1;}#sk-container-id-7 div.sk-parallel {display: flex;align-items: stretch;justify-content: center;background-color: white;position: relative;}#sk-container-id-7 div.sk-item::before, #sk-container-id-7 div.sk-parallel-item::before {content: \"\";position: absolute;border-left: 1px solid gray;box-sizing: border-box;top: 0;bottom: 0;left: 50%;z-index: -1;}#sk-container-id-7 div.sk-parallel-item {display: flex;flex-direction: column;z-index: 1;position: relative;background-color: white;}#sk-container-id-7 div.sk-parallel-item:first-child::after {align-self: flex-end;width: 50%;}#sk-container-id-7 div.sk-parallel-item:last-child::after {align-self: flex-start;width: 50%;}#sk-container-id-7 div.sk-parallel-item:only-child::after {width: 0;}#sk-container-id-7 div.sk-dashed-wrapped {border: 1px dashed gray;margin: 0 0.4em 0.5em 0.4em;box-sizing: border-box;padding-bottom: 0.4em;background-color: white;}#sk-container-id-7 div.sk-label label {font-family: monospace;font-weight: bold;display: inline-block;line-height: 1.2em;}#sk-container-id-7 div.sk-label-container {text-align: center;}#sk-container-id-7 div.sk-container {/* jupyter's `normalize.less` sets `[hidden] { display: none; }` but bootstrap.min.css set `[hidden] { display: none !important; }` so we also need the `!important` here to be able to override the default hidden behavior on the sphinx rendered scikit-learn.org. See: https://github.com/scikit-learn/scikit-learn/issues/21755 */display: inline-block !important;position: relative;}#sk-container-id-7 div.sk-text-repr-fallback {display: none;}</style><div id=\"sk-container-id-7\" class=\"sk-top-container\"><div class=\"sk-text-repr-fallback\"><pre>RandomForestClassifier()</pre><b>In a Jupyter environment, please rerun this cell to show the HTML representation or trust the notebook. <br />On GitHub, the HTML representation is unable to render, please try loading this page with nbviewer.org.</b></div><div class=\"sk-container\" hidden><div class=\"sk-item\"><div class=\"sk-estimator sk-toggleable\"><input class=\"sk-toggleable__control sk-hidden--visually\" id=\"sk-estimator-id-7\" type=\"checkbox\" checked><label for=\"sk-estimator-id-7\" class=\"sk-toggleable__label sk-toggleable__label-arrow\">RandomForestClassifier</label><div class=\"sk-toggleable__content\"><pre>RandomForestClassifier()</pre></div></div></div></div></div>"
            ]
          },
          "metadata": {},
          "execution_count": 78
        }
      ]
    },
    {
      "cell_type": "code",
      "source": [
        "y_pred = clf.predict(test)\n",
        "print(classification_report(y_test, y_pred))"
      ],
      "metadata": {
        "colab": {
          "base_uri": "https://localhost:8080/"
        },
        "id": "4Wba6az9VSLU",
        "outputId": "f67a0650-8526-4321-c3a9-d87337d7f9d7"
      },
      "execution_count": 79,
      "outputs": [
        {
          "output_type": "stream",
          "name": "stdout",
          "text": [
            "              precision    recall  f1-score   support\n",
            "\n",
            "           0       0.92      1.00      0.96     84787\n",
            "           1       0.32      0.01      0.01      7467\n",
            "\n",
            "    accuracy                           0.92     92254\n",
            "   macro avg       0.62      0.50      0.48     92254\n",
            "weighted avg       0.87      0.92      0.88     92254\n",
            "\n"
          ]
        }
      ]
    },
    {
      "cell_type": "code",
      "source": [
        "from sklearn.metrics import confusion_matrix, classification_report\n",
        "\n",
        "cm = confusion_matrix(y_test, y_pred)\n",
        "\n",
        "sns.heatmap(\n",
        "    cm,\n",
        "    annot = True,\n",
        "    fmt = 'g',\n",
        "    xticklabels = ['0', '1'],\n",
        "    yticklabels = ['0', '1']\n",
        ")\n",
        "\n",
        "plt.ylabel('Prediction', fontsize =13)\n",
        "plt.xlabel('Actual', fontsize = 13)\n",
        "plt.title('ConfusionMatrix', fontsize = 17)\n",
        "plt.show()"
      ],
      "metadata": {
        "colab": {
          "base_uri": "https://localhost:8080/",
          "height": 481
        },
        "id": "MwHgM251VggT",
        "outputId": "e19ba966-1a8c-4ee0-cea8-a0125f0c9f6b"
      },
      "execution_count": 80,
      "outputs": [
        {
          "output_type": "display_data",
          "data": {
            "text/plain": [
              "<Figure size 640x480 with 2 Axes>"
            ],
            "image/png": "[encoded data removed]"
          },
          "metadata": {}
        }
      ]
    },
    {
      "cell_type": "code",
      "source": [
        "y_pred_prob = clf.predict_proba(test)[:,1]\n",
        "# Compute the ROC AUC score\n",
        "roc_auc = roc_auc_score(y_test, y_pred_prob)\n",
        "roc_auc"
      ],
      "metadata": {
        "colab": {
          "base_uri": "https://localhost:8080/"
        },
        "id": "7XxHmOcWVgkx",
        "outputId": "aaf5aafa-f895-4f3f-98b9-2818a2673b32"
      },
      "execution_count": 90,
      "outputs": [
        {
          "output_type": "execute_result",
          "data": {
            "text/plain": [
              "0.6680769503703867"
            ]
          },
          "metadata": {},
          "execution_count": 90
        }
      ]
    },
    {
      "cell_type": "code",
      "source": [
        "\n",
        "# Compute the false positive rate (FPR)\n",
        "# and true positive rate (TPR) for different classification thresholds\n",
        "fpr, tpr, thresholds = roc_curve(y_test, y_pred_prob, pos_label=1)"
      ],
      "metadata": {
        "id": "6maUrpoHVgpC"
      },
      "execution_count": 82,
      "outputs": []
    },
    {
      "cell_type": "code",
      "source": [
        "\n",
        "# Plot the ROC curve\n",
        "plt.plot(fpr, tpr, label='ROC curve (area = %0.2f)' % roc_auc)\n",
        "# roc curve for tpr = fpr\n",
        "plt.plot([0, 1], [0, 1], 'k--', label='Random classifier')\n",
        "plt.xlabel('False Positive Rate')\n",
        "plt.ylabel('True Positive Rate')\n",
        "plt.title('ROC Curve')\n",
        "plt.legend(loc=\"lower right\")\n",
        "plt.show()"
      ],
      "metadata": {
        "colab": {
          "base_uri": "https://localhost:8080/",
          "height": 472
        },
        "id": "FPJ6_jj4Vgrb",
        "outputId": "491b736f-fc67-4771-a9e4-1f63f11f826e"
      },
      "execution_count": 88,
      "outputs": [
        {
          "output_type": "display_data",
          "data": {
            "text/plain": [
              "<Figure size 640x480 with 1 Axes>"
            ],
            "image/png": "[encoded data removed]"
          },
          "metadata": {}
        }
      ]
    },
    {
      "cell_type": "code",
      "source": [],
      "metadata": {
        "id": "QNZe2BchgrQd"
      },
      "execution_count": null,
      "outputs": []
    }
  ],
  "metadata": {
    "colab": {
      "provenance": []
    },
    "kernelspec": {
      "display_name": "Python 3",
      "name": "python3"
    },
    "language_info": {
      "name": "python"
    }
  },
  "nbformat": 4,
  "nbformat_minor": 0
}