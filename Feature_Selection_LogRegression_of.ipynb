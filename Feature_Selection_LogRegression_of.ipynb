{
  "nbformat": 4,
  "nbformat_minor": 0,
  "metadata": {
    "colab": {
      "provenance": []
    },
    "kernelspec": {
      "name": "python3",
      "display_name": "Python 3"
    },
    "language_info": {
      "name": "python"
    }
  },
  "cells": [
    {
      "cell_type": "code",
      "execution_count": 1,
      "metadata": {
        "id": "m3-7GXlQRg5_"
      },
      "outputs": [],
      "source": [
        "import pandas as pd\n",
        "import numpy as np\n",
        "\n",
        "import matplotlib.pyplot as plt\n",
        "import seaborn as sns\n",
        "\n",
        "from sklearn.preprocessing import LabelEncoder\n",
        "\n",
        "import os\n",
        "import warnings\n",
        "warnings.filterwarnings('ignore')\n",
        "\n",
        "from sklearn.preprocessing import MinMaxScaler\n",
        "from sklearn.impute import SimpleImputer\n",
        "\n",
        "from sklearn.model_selection import train_test_split\n",
        "from imblearn.over_sampling import SMOTE\n",
        "\n",
        "from sklearn.linear_model import LogisticRegression\n",
        "from sklearn.metrics import*\n",
        "from sklearn.metrics import confusion_matrix, classification_report\n"
      ]
    },
    {
      "cell_type": "code",
      "source": [
        "data = pd.read_csv(\"/content/drive/MyDrive/Loan_Prediction_dataMining/dataset/home-credit-default-risk/loan_data_of.csv\")"
      ],
      "metadata": {
        "id": "6IXRPAn5Rz75"
      },
      "execution_count": 2,
      "outputs": []
    },
    {
      "cell_type": "code",
      "source": [
        "data.shape"
      ],
      "metadata": {
        "colab": {
          "base_uri": "https://localhost:8080/"
        },
        "id": "qT_n0GNyRz-F",
        "outputId": "4030d9c3-dfa5-420e-dc1b-43527baafb3c"
      },
      "execution_count": null,
      "outputs": [
        {
          "output_type": "execute_result",
          "data": {
            "text/plain": [
              "(307511, 246)"
            ]
          },
          "metadata": {},
          "execution_count": 4
        }
      ]
    },
    {
      "cell_type": "code",
      "source": [
        "data.head()"
      ],
      "metadata": {
        "colab": {
          "base_uri": "https://localhost:8080/",
          "height": 317
        },
        "id": "JLYqCf1zR0AR",
        "outputId": "fd662ba4-3b7b-4c25-981b-f9be5a135eca"
      },
      "execution_count": 3,
      "outputs": [
        {
          "output_type": "execute_result",
          "data": {
            "text/plain": [
              "   Unnamed: 0  SK_ID_CURR  NAME_CONTRACT_TYPE  FLAG_OWN_CAR  FLAG_OWN_REALTY  \\\n",
              "0           0      100002                   0             0                1   \n",
              "1           1      100003                   0             0                0   \n",
              "2           2      100004                   1             1                1   \n",
              "3           3      100006                   0             0                1   \n",
              "4           4      100007                   0             0                1   \n",
              "\n",
              "   CNT_CHILDREN  AMT_INCOME_TOTAL  AMT_CREDIT  AMT_ANNUITY  AMT_GOODS_PRICE  \\\n",
              "0             0          202500.0    406597.5      24700.5         351000.0   \n",
              "1             0          270000.0   1293502.5      35698.5        1129500.0   \n",
              "2             0           67500.0    135000.0       6750.0         135000.0   \n",
              "3             0          135000.0    312682.5      29686.5         297000.0   \n",
              "4             0          121500.0    513000.0      21865.5         513000.0   \n",
              "\n",
              "   ...  WALLSMATERIAL_MODE_Stone, brick  WALLSMATERIAL_MODE_Wooden  \\\n",
              "0  ...                                1                          0   \n",
              "1  ...                                0                          0   \n",
              "2  ...                                0                          0   \n",
              "3  ...                                0                          0   \n",
              "4  ...                                0                          0   \n",
              "\n",
              "   EMERGENCYSTATE_MODE_No  EMERGENCYSTATE_MODE_Yes  TARGET  \\\n",
              "0                       1                        0       1   \n",
              "1                       1                        0       0   \n",
              "2                       0                        0       0   \n",
              "3                       0                        0       0   \n",
              "4                       0                        0       0   \n",
              "\n",
              "   DAYS_EMPLOYED_ANOM  CREDIT_INCOME_PERCENT  ANNUITY_INCOME_PERCENT  \\\n",
              "0               False               2.007889                0.121978   \n",
              "1               False               4.790750                0.132217   \n",
              "2               False               2.000000                0.100000   \n",
              "3               False               2.316167                0.219900   \n",
              "4               False               4.222222                0.179963   \n",
              "\n",
              "   CREDIT_TERM  DAYS_EMPLOYED_PERCENT  \n",
              "0     0.060749              -0.067329  \n",
              "1     0.027598              -0.070862  \n",
              "2     0.050000              -0.011814  \n",
              "3     0.094941              -0.159905  \n",
              "4     0.042623              -0.152418  \n",
              "\n",
              "[5 rows x 246 columns]"
            ],
            "text/html": [
              "\n",
              "\n",
              "  <div id=\"df-eeeb7874-1aa1-4bcd-a117-3dfefa112270\">\n",
              "    <div class=\"colab-df-container\">\n",
              "      <div>\n",
              "<style scoped>\n",
              "    .dataframe tbody tr th:only-of-type {\n",
              "        vertical-align: middle;\n",
              "    }\n",
              "\n",
              "    .dataframe tbody tr th {\n",
              "        vertical-align: top;\n",
              "    }\n",
              "\n",
              "    .dataframe thead th {\n",
              "        text-align: right;\n",
              "    }\n",
              "</style>\n",
              "<table border=\"1\" class=\"dataframe\">\n",
              "  <thead>\n",
              "    <tr style=\"text-align: right;\">\n",
              "      <th></th>\n",
              "      <th>Unnamed: 0</th>\n",
              "      <th>SK_ID_CURR</th>\n",
              "      <th>NAME_CONTRACT_TYPE</th>\n",
              "      <th>FLAG_OWN_CAR</th>\n",
              "      <th>FLAG_OWN_REALTY</th>\n",
              "      <th>CNT_CHILDREN</th>\n",
              "      <th>AMT_INCOME_TOTAL</th>\n",
              "      <th>AMT_CREDIT</th>\n",
              "      <th>AMT_ANNUITY</th>\n",
              "      <th>AMT_GOODS_PRICE</th>\n",
              "      <th>...</th>\n",
              "      <th>WALLSMATERIAL_MODE_Stone, brick</th>\n",
              "      <th>WALLSMATERIAL_MODE_Wooden</th>\n",
              "      <th>EMERGENCYSTATE_MODE_No</th>\n",
              "      <th>EMERGENCYSTATE_MODE_Yes</th>\n",
              "      <th>TARGET</th>\n",
              "      <th>DAYS_EMPLOYED_ANOM</th>\n",
              "      <th>CREDIT_INCOME_PERCENT</th>\n",
              "      <th>ANNUITY_INCOME_PERCENT</th>\n",
              "      <th>CREDIT_TERM</th>\n",
              "      <th>DAYS_EMPLOYED_PERCENT</th>\n",
              "    </tr>\n",
              "  </thead>\n",
              "  <tbody>\n",
              "    <tr>\n",
              "      <th>0</th>\n",
              "      <td>0</td>\n",
              "      <td>100002</td>\n",
              "      <td>0</td>\n",
              "      <td>0</td>\n",
              "      <td>1</td>\n",
              "      <td>0</td>\n",
              "      <td>202500.0</td>\n",
              "      <td>406597.5</td>\n",
              "      <td>24700.5</td>\n",
              "      <td>351000.0</td>\n",
              "      <td>...</td>\n",
              "      <td>1</td>\n",
              "      <td>0</td>\n",
              "      <td>1</td>\n",
              "      <td>0</td>\n",
              "      <td>1</td>\n",
              "      <td>False</td>\n",
              "      <td>2.007889</td>\n",
              "      <td>0.121978</td>\n",
              "      <td>0.060749</td>\n",
              "      <td>-0.067329</td>\n",
              "    </tr>\n",
              "    <tr>\n",
              "      <th>1</th>\n",
              "      <td>1</td>\n",
              "      <td>100003</td>\n",
              "      <td>0</td>\n",
              "      <td>0</td>\n",
              "      <td>0</td>\n",
              "      <td>0</td>\n",
              "      <td>270000.0</td>\n",
              "      <td>1293502.5</td>\n",
              "      <td>35698.5</td>\n",
              "      <td>1129500.0</td>\n",
              "      <td>...</td>\n",
              "      <td>0</td>\n",
              "      <td>0</td>\n",
              "      <td>1</td>\n",
              "      <td>0</td>\n",
              "      <td>0</td>\n",
              "      <td>False</td>\n",
              "      <td>4.790750</td>\n",
              "      <td>0.132217</td>\n",
              "      <td>0.027598</td>\n",
              "      <td>-0.070862</td>\n",
              "    </tr>\n",
              "    <tr>\n",
              "      <th>2</th>\n",
              "      <td>2</td>\n",
              "      <td>100004</td>\n",
              "      <td>1</td>\n",
              "      <td>1</td>\n",
              "      <td>1</td>\n",
              "      <td>0</td>\n",
              "      <td>67500.0</td>\n",
              "      <td>135000.0</td>\n",
              "      <td>6750.0</td>\n",
              "      <td>135000.0</td>\n",
              "      <td>...</td>\n",
              "      <td>0</td>\n",
              "      <td>0</td>\n",
              "      <td>0</td>\n",
              "      <td>0</td>\n",
              "      <td>0</td>\n",
              "      <td>False</td>\n",
              "      <td>2.000000</td>\n",
              "      <td>0.100000</td>\n",
              "      <td>0.050000</td>\n",
              "      <td>-0.011814</td>\n",
              "    </tr>\n",
              "    <tr>\n",
              "      <th>3</th>\n",
              "      <td>3</td>\n",
              "      <td>100006</td>\n",
              "      <td>0</td>\n",
              "      <td>0</td>\n",
              "      <td>1</td>\n",
              "      <td>0</td>\n",
              "      <td>135000.0</td>\n",
              "      <td>312682.5</td>\n",
              "      <td>29686.5</td>\n",
              "      <td>297000.0</td>\n",
              "      <td>...</td>\n",
              "      <td>0</td>\n",
              "      <td>0</td>\n",
              "      <td>0</td>\n",
              "      <td>0</td>\n",
              "      <td>0</td>\n",
              "      <td>False</td>\n",
              "      <td>2.316167</td>\n",
              "      <td>0.219900</td>\n",
              "      <td>0.094941</td>\n",
              "      <td>-0.159905</td>\n",
              "    </tr>\n",
              "    <tr>\n",
              "      <th>4</th>\n",
              "      <td>4</td>\n",
              "      <td>100007</td>\n",
              "      <td>0</td>\n",
              "      <td>0</td>\n",
              "      <td>1</td>\n",
              "      <td>0</td>\n",
              "      <td>121500.0</td>\n",
              "      <td>513000.0</td>\n",
              "      <td>21865.5</td>\n",
              "      <td>513000.0</td>\n",
              "      <td>...</td>\n",
              "      <td>0</td>\n",
              "      <td>0</td>\n",
              "      <td>0</td>\n",
              "      <td>0</td>\n",
              "      <td>0</td>\n",
              "      <td>False</td>\n",
              "      <td>4.222222</td>\n",
              "      <td>0.179963</td>\n",
              "      <td>0.042623</td>\n",
              "      <td>-0.152418</td>\n",
              "    </tr>\n",
              "  </tbody>\n",
              "</table>\n",
              "<p>5 rows × 246 columns</p>\n",
              "</div>\n",
              "      <button class=\"colab-df-convert\" onclick=\"convertToInteractive('df-eeeb7874-1aa1-4bcd-a117-3dfefa112270')\"\n",
              "              title=\"Convert this dataframe to an interactive table.\"\n",
              "              style=\"display:none;\">\n",
              "\n",
              "  <svg xmlns=\"http://www.w3.org/2000/svg\" height=\"24px\"viewBox=\"0 0 24 24\"\n",
              "       width=\"24px\">\n",
              "    <path d=\"M0 0h24v24H0V0z\" fill=\"none\"/>\n",
              "    <path d=\"M18.56 5.44l.94 2.06.94-2.06 2.06-.94-2.06-.94-.94-2.06-.94 2.06-2.06.94zm-11 1L8.5 8.5l.94-2.06 2.06-.94-2.06-.94L8.5 2.5l-.94 2.06-2.06.94zm10 10l.94 2.06.94-2.06 2.06-.94-2.06-.94-.94-2.06-.94 2.06-2.06.94z\"/><path d=\"M17.41 7.96l-1.37-1.37c-.4-.4-.92-.59-1.43-.59-.52 0-1.04.2-1.43.59L10.3 9.45l-7.72 7.72c-.78.78-.78 2.05 0 2.83L4 21.41c.39.39.9.59 1.41.59.51 0 1.02-.2 1.41-.59l7.78-7.78 2.81-2.81c.8-.78.8-2.07 0-2.86zM5.41 20L4 18.59l7.72-7.72 1.47 1.35L5.41 20z\"/>\n",
              "  </svg>\n",
              "      </button>\n",
              "\n",
              "\n",
              "\n",
              "    <div id=\"df-84f2b0ec-1dd2-4221-bed9-a064c641d5aa\">\n",
              "      <button class=\"colab-df-quickchart\" onclick=\"quickchart('df-84f2b0ec-1dd2-4221-bed9-a064c641d5aa')\"\n",
              "              title=\"Suggest charts.\"\n",
              "              style=\"display:none;\">\n",
              "\n",
              "<svg xmlns=\"http://www.w3.org/2000/svg\" height=\"24px\"viewBox=\"0 0 24 24\"\n",
              "     width=\"24px\">\n",
              "    <g>\n",
              "        <path d=\"M19 3H5c-1.1 0-2 .9-2 2v14c0 1.1.9 2 2 2h14c1.1 0 2-.9 2-2V5c0-1.1-.9-2-2-2zM9 17H7v-7h2v7zm4 0h-2V7h2v10zm4 0h-2v-4h2v4z\"/>\n",
              "    </g>\n",
              "</svg>\n",
              "      </button>\n",
              "    </div>\n",
              "\n",
              "<style>\n",
              "  .colab-df-quickchart {\n",
              "    background-color: #E8F0FE;\n",
              "    border: none;\n",
              "    border-radius: 50%;\n",
              "    cursor: pointer;\n",
              "    display: none;\n",
              "    fill: #1967D2;\n",
              "    height: 32px;\n",
              "    padding: 0 0 0 0;\n",
              "    width: 32px;\n",
              "  }\n",
              "\n",
              "  .colab-df-quickchart:hover {\n",
              "    background-color: #E2EBFA;\n",
              "    box-shadow: 0px 1px 2px rgba(60, 64, 67, 0.3), 0px 1px 3px 1px rgba(60, 64, 67, 0.15);\n",
              "    fill: #174EA6;\n",
              "  }\n",
              "\n",
              "  [theme=dark] .colab-df-quickchart {\n",
              "    background-color: #3B4455;\n",
              "    fill: #D2E3FC;\n",
              "  }\n",
              "\n",
              "  [theme=dark] .colab-df-quickchart:hover {\n",
              "    background-color: #434B5C;\n",
              "    box-shadow: 0px 1px 3px 1px rgba(0, 0, 0, 0.15);\n",
              "    filter: drop-shadow(0px 1px 2px rgba(0, 0, 0, 0.3));\n",
              "    fill: #FFFFFF;\n",
              "  }\n",
              "</style>\n",
              "\n",
              "    <script>\n",
              "      async function quickchart(key) {\n",
              "        const containerElement = document.querySelector('#' + key);\n",
              "        const charts = await google.colab.kernel.invokeFunction(\n",
              "            'suggestCharts', [key], {});\n",
              "      }\n",
              "    </script>\n",
              "\n",
              "      <script>\n",
              "\n",
              "function displayQuickchartButton(domScope) {\n",
              "  let quickchartButtonEl =\n",
              "    domScope.querySelector('#df-84f2b0ec-1dd2-4221-bed9-a064c641d5aa button.colab-df-quickchart');\n",
              "  quickchartButtonEl.style.display =\n",
              "    google.colab.kernel.accessAllowed ? 'block' : 'none';\n",
              "}\n",
              "\n",
              "        displayQuickchartButton(document);\n",
              "      </script>\n",
              "      <style>\n",
              "    .colab-df-container {\n",
              "      display:flex;\n",
              "      flex-wrap:wrap;\n",
              "      gap: 12px;\n",
              "    }\n",
              "\n",
              "    .colab-df-convert {\n",
              "      background-color: #E8F0FE;\n",
              "      border: none;\n",
              "      border-radius: 50%;\n",
              "      cursor: pointer;\n",
              "      display: none;\n",
              "      fill: #1967D2;\n",
              "      height: 32px;\n",
              "      padding: 0 0 0 0;\n",
              "      width: 32px;\n",
              "    }\n",
              "\n",
              "    .colab-df-convert:hover {\n",
              "      background-color: #E2EBFA;\n",
              "      box-shadow: 0px 1px 2px rgba(60, 64, 67, 0.3), 0px 1px 3px 1px rgba(60, 64, 67, 0.15);\n",
              "      fill: #174EA6;\n",
              "    }\n",
              "\n",
              "    [theme=dark] .colab-df-convert {\n",
              "      background-color: #3B4455;\n",
              "      fill: #D2E3FC;\n",
              "    }\n",
              "\n",
              "    [theme=dark] .colab-df-convert:hover {\n",
              "      background-color: #434B5C;\n",
              "      box-shadow: 0px 1px 3px 1px rgba(0, 0, 0, 0.15);\n",
              "      filter: drop-shadow(0px 1px 2px rgba(0, 0, 0, 0.3));\n",
              "      fill: #FFFFFF;\n",
              "    }\n",
              "  </style>\n",
              "\n",
              "      <script>\n",
              "        const buttonEl =\n",
              "          document.querySelector('#df-eeeb7874-1aa1-4bcd-a117-3dfefa112270 button.colab-df-convert');\n",
              "        buttonEl.style.display =\n",
              "          google.colab.kernel.accessAllowed ? 'block' : 'none';\n",
              "\n",
              "        async function convertToInteractive(key) {\n",
              "          const element = document.querySelector('#df-eeeb7874-1aa1-4bcd-a117-3dfefa112270');\n",
              "          const dataTable =\n",
              "            await google.colab.kernel.invokeFunction('convertToInteractive',\n",
              "                                                     [key], {});\n",
              "          if (!dataTable) return;\n",
              "\n",
              "          const docLinkHtml = 'Like what you see? Visit the ' +\n",
              "            '<a target=\"_blank\" href=https://colab.research.google.com/notebooks/data_table.ipynb>data table notebook</a>'\n",
              "            + ' to learn more about interactive tables.';\n",
              "          element.innerHTML = '';\n",
              "          dataTable['output_type'] = 'display_data';\n",
              "          await google.colab.output.renderOutput(dataTable, element);\n",
              "          const docLink = document.createElement('div');\n",
              "          docLink.innerHTML = docLinkHtml;\n",
              "          element.appendChild(docLink);\n",
              "        }\n",
              "      </script>\n",
              "    </div>\n",
              "  </div>\n"
            ]
          },
          "metadata": {},
          "execution_count": 3
        }
      ]
    },
    {
      "cell_type": "code",
      "source": [
        "data = data.drop(columns = ['Unnamed: 0'])"
      ],
      "metadata": {
        "id": "2PePwzSlR0CO"
      },
      "execution_count": 4,
      "outputs": []
    },
    {
      "cell_type": "code",
      "source": [
        "data.shape"
      ],
      "metadata": {
        "colab": {
          "base_uri": "https://localhost:8080/"
        },
        "id": "vu3osQTeR0EZ",
        "outputId": "9f535bc8-e52f-4fde-fe3f-c9181a38056c"
      },
      "execution_count": 5,
      "outputs": [
        {
          "output_type": "execute_result",
          "data": {
            "text/plain": [
              "(307511, 245)"
            ]
          },
          "metadata": {},
          "execution_count": 5
        }
      ]
    },
    {
      "cell_type": "code",
      "source": [
        "from sklearn.model_selection import train_test_split\n",
        "train, test  = train_test_split(data, test_size = 0.30,\n",
        "                                                    random_state = 1)"
      ],
      "metadata": {
        "id": "FWkSYdZpR0GL"
      },
      "execution_count": null,
      "outputs": []
    },
    {
      "cell_type": "code",
      "source": [],
      "metadata": {
        "id": "y8pzEM2qTrCw"
      },
      "execution_count": null,
      "outputs": []
    },
    {
      "cell_type": "code",
      "source": [
        "X_train = train.drop(columns = ['TARGET'])\n",
        "y_train = train.iloc[:, -6]"
      ],
      "metadata": {
        "id": "ZPAp275BR0IG"
      },
      "execution_count": null,
      "outputs": []
    },
    {
      "cell_type": "code",
      "source": [
        "X_test = test.drop(columns = ['TARGET'])\n",
        "y_test = test.iloc[:, -6]"
      ],
      "metadata": {
        "id": "LJfL73XUTbDt"
      },
      "execution_count": null,
      "outputs": []
    },
    {
      "cell_type": "code",
      "source": [
        "y_train.astype(int).plot.hist()"
      ],
      "metadata": {
        "colab": {
          "base_uri": "https://localhost:8080/",
          "height": 447
        },
        "id": "rUkUVum2TbF3",
        "outputId": "1359b69a-7a65-4c48-de28-867c3d737d02"
      },
      "execution_count": null,
      "outputs": [
        {
          "output_type": "execute_result",
          "data": {
            "text/plain": [
              "<Axes: ylabel='Frequency'>"
            ]
          },
          "metadata": {},
          "execution_count": 22
        },
        {
          "output_type": "display_data",
          "data": {
            "text/plain": [
              "<Figure size 640x480 with 1 Axes>"
            ],
            "image/png": "[encoded data removed]"
          },
          "metadata": {}
        }
      ]
    },
    {
      "cell_type": "code",
      "source": [
        "from sklearn.preprocessing import MinMaxScaler\n",
        "from sklearn.impute import SimpleImputer\n",
        "\n",
        "# Drop the target from the training data\n",
        "\n",
        "train = X_train.copy()\n",
        "\n",
        "# Feature names\n",
        "features = list(train.columns)\n",
        "\n",
        "# Copy of the testing data\n",
        "test = X_test.copy()\n",
        "\n",
        "# Median imputation of missing values\n",
        "imputer = SimpleImputer(strategy = 'median')\n",
        "\n",
        "# Scale each feature to 0-1\n",
        "scaler = MinMaxScaler(feature_range = (0, 1))\n",
        "\n",
        "# Fit on the training data\n",
        "imputer.fit(train)\n",
        "\n",
        "# Transform both training and testing data\n",
        "train = imputer.transform(train)\n",
        "test = imputer.transform(test)\n",
        "\n",
        "# Repeat with the scaler\n",
        "scaler.fit(train)\n",
        "train = scaler.transform(train)\n",
        "test = scaler.transform(test)\n",
        "\n",
        "print('Training data shape: ', train.shape)\n",
        "print('Testing data shape: ', test.shape)"
      ],
      "metadata": {
        "colab": {
          "base_uri": "https://localhost:8080/"
        },
        "id": "eT3eYzYZTbHw",
        "outputId": "2e69a804-5133-455c-e339-66ffcff4f2e6"
      },
      "execution_count": null,
      "outputs": [
        {
          "output_type": "stream",
          "name": "stdout",
          "text": [
            "Training data shape:  (215257, 244)\n",
            "Testing data shape:  (92254, 244)\n"
          ]
        }
      ]
    },
    {
      "cell_type": "code",
      "source": [
        "from imblearn.over_sampling import SMOTE\n",
        "\n",
        "sm = SMOTE(random_state = 2)\n",
        "X_train_res, y_train_res = sm.fit_resample(train, y_train.ravel())\n",
        "\n",
        "print('After OverSampling, the shape of train_X: {}'.format(X_train_res.shape))\n",
        "print('After OverSampling, the shape of train_y: {} \\n'.format(y_train_res.shape))\n",
        "\n",
        "print(\"After OverSampling, counts of label '1': {}\".format(sum(y_train_res == 1)))\n",
        "print(\"After OverSampling, counts of label '0': {}\".format(sum(y_train_res == 0)))"
      ],
      "metadata": {
        "colab": {
          "base_uri": "https://localhost:8080/"
        },
        "id": "dZmHqPSjUA55",
        "outputId": "d1233490-e13c-44a5-d10c-296b507ae109"
      },
      "execution_count": null,
      "outputs": [
        {
          "output_type": "stream",
          "name": "stdout",
          "text": [
            "After OverSampling, the shape of train_X: (395798, 244)\n",
            "After OverSampling, the shape of train_y: (395798,) \n",
            "\n",
            "After OverSampling, counts of label '1': 197899\n",
            "After OverSampling, counts of label '0': 197899\n"
          ]
        }
      ]
    },
    {
      "cell_type": "code",
      "source": [
        "from sklearn.linear_model import LogisticRegression\n",
        "\n",
        "log_class = LogisticRegression()\n",
        "log_class.fit(X_train_res, y_train_res.ravel())"
      ],
      "metadata": {
        "colab": {
          "base_uri": "https://localhost:8080/",
          "height": 74
        },
        "id": "EhXi_nDUURfJ",
        "outputId": "fec1a3af-5f8c-4002-f53a-8481c60b5762"
      },
      "execution_count": null,
      "outputs": [
        {
          "output_type": "execute_result",
          "data": {
            "text/plain": [
              "LogisticRegression()"
            ],
            "text/html": [
              "<style>#sk-container-id-1 {color: black;background-color: white;}#sk-container-id-1 pre{padding: 0;}#sk-container-id-1 div.sk-toggleable {background-color: white;}#sk-container-id-1 label.sk-toggleable__label {cursor: pointer;display: block;width: 100%;margin-bottom: 0;padding: 0.3em;box-sizing: border-box;text-align: center;}#sk-container-id-1 label.sk-toggleable__label-arrow:before {content: \"▸\";float: left;margin-right: 0.25em;color: #696969;}#sk-container-id-1 label.sk-toggleable__label-arrow:hover:before {color: black;}#sk-container-id-1 div.sk-estimator:hover label.sk-toggleable__label-arrow:before {color: black;}#sk-container-id-1 div.sk-toggleable__content {max-height: 0;max-width: 0;overflow: hidden;text-align: left;background-color: #f0f8ff;}#sk-container-id-1 div.sk-toggleable__content pre {margin: 0.2em;color: black;border-radius: 0.25em;background-color: #f0f8ff;}#sk-container-id-1 input.sk-toggleable__control:checked~div.sk-toggleable__content {max-height: 200px;max-width: 100%;overflow: auto;}#sk-container-id-1 input.sk-toggleable__control:checked~label.sk-toggleable__label-arrow:before {content: \"▾\";}#sk-container-id-1 div.sk-estimator input.sk-toggleable__control:checked~label.sk-toggleable__label {background-color: #d4ebff;}#sk-container-id-1 div.sk-label input.sk-toggleable__control:checked~label.sk-toggleable__label {background-color: #d4ebff;}#sk-container-id-1 input.sk-hidden--visually {border: 0;clip: rect(1px 1px 1px 1px);clip: rect(1px, 1px, 1px, 1px);height: 1px;margin: -1px;overflow: hidden;padding: 0;position: absolute;width: 1px;}#sk-container-id-1 div.sk-estimator {font-family: monospace;background-color: #f0f8ff;border: 1px dotted black;border-radius: 0.25em;box-sizing: border-box;margin-bottom: 0.5em;}#sk-container-id-1 div.sk-estimator:hover {background-color: #d4ebff;}#sk-container-id-1 div.sk-parallel-item::after {content: \"\";width: 100%;border-bottom: 1px solid gray;flex-grow: 1;}#sk-container-id-1 div.sk-label:hover label.sk-toggleable__label {background-color: #d4ebff;}#sk-container-id-1 div.sk-serial::before {content: \"\";position: absolute;border-left: 1px solid gray;box-sizing: border-box;top: 0;bottom: 0;left: 50%;z-index: 0;}#sk-container-id-1 div.sk-serial {display: flex;flex-direction: column;align-items: center;background-color: white;padding-right: 0.2em;padding-left: 0.2em;position: relative;}#sk-container-id-1 div.sk-item {position: relative;z-index: 1;}#sk-container-id-1 div.sk-parallel {display: flex;align-items: stretch;justify-content: center;background-color: white;position: relative;}#sk-container-id-1 div.sk-item::before, #sk-container-id-1 div.sk-parallel-item::before {content: \"\";position: absolute;border-left: 1px solid gray;box-sizing: border-box;top: 0;bottom: 0;left: 50%;z-index: -1;}#sk-container-id-1 div.sk-parallel-item {display: flex;flex-direction: column;z-index: 1;position: relative;background-color: white;}#sk-container-id-1 div.sk-parallel-item:first-child::after {align-self: flex-end;width: 50%;}#sk-container-id-1 div.sk-parallel-item:last-child::after {align-self: flex-start;width: 50%;}#sk-container-id-1 div.sk-parallel-item:only-child::after {width: 0;}#sk-container-id-1 div.sk-dashed-wrapped {border: 1px dashed gray;margin: 0 0.4em 0.5em 0.4em;box-sizing: border-box;padding-bottom: 0.4em;background-color: white;}#sk-container-id-1 div.sk-label label {font-family: monospace;font-weight: bold;display: inline-block;line-height: 1.2em;}#sk-container-id-1 div.sk-label-container {text-align: center;}#sk-container-id-1 div.sk-container {/* jupyter's `normalize.less` sets `[hidden] { display: none; }` but bootstrap.min.css set `[hidden] { display: none !important; }` so we also need the `!important` here to be able to override the default hidden behavior on the sphinx rendered scikit-learn.org. See: https://github.com/scikit-learn/scikit-learn/issues/21755 */display: inline-block !important;position: relative;}#sk-container-id-1 div.sk-text-repr-fallback {display: none;}</style><div id=\"sk-container-id-1\" class=\"sk-top-container\"><div class=\"sk-text-repr-fallback\"><pre>LogisticRegression()</pre><b>In a Jupyter environment, please rerun this cell to show the HTML representation or trust the notebook. <br />On GitHub, the HTML representation is unable to render, please try loading this page with nbviewer.org.</b></div><div class=\"sk-container\" hidden><div class=\"sk-item\"><div class=\"sk-estimator sk-toggleable\"><input class=\"sk-toggleable__control sk-hidden--visually\" id=\"sk-estimator-id-1\" type=\"checkbox\" checked><label for=\"sk-estimator-id-1\" class=\"sk-toggleable__label sk-toggleable__label-arrow\">LogisticRegression</label><div class=\"sk-toggleable__content\"><pre>LogisticRegression()</pre></div></div></div></div></div>"
            ]
          },
          "metadata": {},
          "execution_count": 25
        }
      ]
    },
    {
      "cell_type": "code",
      "source": [
        "import eli5\n",
        "from eli5.sklearn import *"
      ],
      "metadata": {
        "id": "DXEAJJyBUrfF"
      },
      "execution_count": null,
      "outputs": []
    },
    {
      "cell_type": "code",
      "source": [
        "pip install eli5"
      ],
      "metadata": {
        "colab": {
          "base_uri": "https://localhost:8080/"
        },
        "id": "3OiNxgs6UvhW",
        "outputId": "35023e81-d81f-4018-879f-a68a9f7a55bb"
      },
      "execution_count": null,
      "outputs": [
        {
          "output_type": "stream",
          "name": "stdout",
          "text": [
            "Collecting eli5\n",
            "  Downloading eli5-0.13.0.tar.gz (216 kB)\n",
            "\u001b[?25l     \u001b[90m━━━━━━━━━━━━━━━━━━━━━━━━━━━━━━━━━━━━━━━━\u001b[0m \u001b[32m0.0/216.2 kB\u001b[0m \u001b[31m?\u001b[0m eta \u001b[36m-:--:--\u001b[0m\r\u001b[2K     \u001b[90m━━━━━━━━━━━━━━━━━━━━━━━━━━━━━━━━━━━━━━━\u001b[0m \u001b[32m216.2/216.2 kB\u001b[0m \u001b[31m6.4 MB/s\u001b[0m eta \u001b[36m0:00:00\u001b[0m\n",
            "\u001b[?25h  Preparing metadata (setup.py) ... \u001b[?25l\u001b[?25hdone\n",
            "Requirement already satisfied: attrs>17.1.0 in /usr/local/lib/python3.10/dist-packages (from eli5) (23.1.0)\n",
            "Requirement already satisfied: jinja2>=3.0.0 in /usr/local/lib/python3.10/dist-packages (from eli5) (3.1.2)\n",
            "Requirement already satisfied: numpy>=1.9.0 in /usr/local/lib/python3.10/dist-packages (from eli5) (1.22.4)\n",
            "Requirement already satisfied: scipy in /usr/local/lib/python3.10/dist-packages (from eli5) (1.10.1)\n",
            "Requirement already satisfied: six in /usr/local/lib/python3.10/dist-packages (from eli5) (1.16.0)\n",
            "Requirement already satisfied: scikit-learn>=0.20 in /usr/local/lib/python3.10/dist-packages (from eli5) (1.2.2)\n",
            "Requirement already satisfied: graphviz in /usr/local/lib/python3.10/dist-packages (from eli5) (0.20.1)\n",
            "Requirement already satisfied: tabulate>=0.7.7 in /usr/local/lib/python3.10/dist-packages (from eli5) (0.8.10)\n",
            "Requirement already satisfied: MarkupSafe>=2.0 in /usr/local/lib/python3.10/dist-packages (from jinja2>=3.0.0->eli5) (2.1.3)\n",
            "Requirement already satisfied: joblib>=1.1.1 in /usr/local/lib/python3.10/dist-packages (from scikit-learn>=0.20->eli5) (1.2.0)\n",
            "Requirement already satisfied: threadpoolctl>=2.0.0 in /usr/local/lib/python3.10/dist-packages (from scikit-learn>=0.20->eli5) (3.1.0)\n",
            "Building wheels for collected packages: eli5\n",
            "  Building wheel for eli5 (setup.py) ... \u001b[?25l\u001b[?25hdone\n",
            "  Created wheel for eli5: filename=eli5-0.13.0-py2.py3-none-any.whl size=107730 sha256=fde8804e179bfa2db295e578451bbf0b04eead46e471bcbd453cba1b6dfe6ace\n",
            "  Stored in directory: /root/.cache/pip/wheels/b8/58/ef/2cf4c306898c2338d51540e0922c8e0d6028e07007085c0004\n",
            "Successfully built eli5\n",
            "Installing collected packages: eli5\n",
            "Successfully installed eli5-0.13.0\n"
          ]
        }
      ]
    },
    {
      "cell_type": "code",
      "source": [
        "train_col = data.drop(columns = ['TARGET'])"
      ],
      "metadata": {
        "id": "6vqiLgc4V2m6"
      },
      "execution_count": null,
      "outputs": []
    },
    {
      "cell_type": "code",
      "source": [
        "%load_ext google.colab.data_table"
      ],
      "metadata": {
        "id": "-17ClUP3WJGn"
      },
      "execution_count": null,
      "outputs": []
    },
    {
      "cell_type": "code",
      "source": [
        "perm = PermutationImportance(log_class, random_state = 1)\n",
        "perm.fit(test, y_test)\n",
        "eli5.show_weights(perm, feature_names = train_col.columns.tolist())"
      ],
      "metadata": {
        "colab": {
          "base_uri": "https://localhost:8080/",
          "height": 399
        },
        "id": "iYeK3D1lUxY1",
        "outputId": "9b11a7b7-c656-49ed-fdad-fa77008c3f18"
      },
      "execution_count": null,
      "outputs": [
        {
          "output_type": "execute_result",
          "data": {
            "text/plain": [
              "<IPython.core.display.HTML object>"
            ],
            "text/html": [
              "\n",
              "    <style>\n",
              "    table.eli5-weights tr:hover {\n",
              "        filter: brightness(85%);\n",
              "    }\n",
              "</style>\n",
              "\n",
              "\n",
              "\n",
              "    \n",
              "\n",
              "    \n",
              "\n",
              "    \n",
              "\n",
              "    \n",
              "\n",
              "    \n",
              "\n",
              "    \n",
              "\n",
              "\n",
              "    \n",
              "\n",
              "    \n",
              "\n",
              "    \n",
              "\n",
              "    \n",
              "\n",
              "    \n",
              "\n",
              "    \n",
              "\n",
              "\n",
              "    \n",
              "\n",
              "    \n",
              "\n",
              "    \n",
              "\n",
              "    \n",
              "\n",
              "    \n",
              "        <table class=\"eli5-weights eli5-feature-importances\" style=\"border-collapse: collapse; border: none; margin-top: 0em; table-layout: auto;\">\n",
              "    <thead>\n",
              "    <tr style=\"border: none;\">\n",
              "        <th style=\"padding: 0 1em 0 0.5em; text-align: right; border: none;\">Weight</th>\n",
              "        <th style=\"padding: 0 0.5em 0 0.5em; text-align: left; border: none;\">Feature</th>\n",
              "    </tr>\n",
              "    </thead>\n",
              "    <tbody>\n",
              "    \n",
              "        <tr style=\"background-color: hsl(120, 100.00%, 80.00%); border: none;\">\n",
              "            <td style=\"padding: 0 1em 0 0.5em; text-align: right; border: none;\">\n",
              "                0.0198\n",
              "                \n",
              "                    &plusmn; 0.0013\n",
              "                \n",
              "            </td>\n",
              "            <td style=\"padding: 0 0.5em 0 0.5em; text-align: left; border: none;\">\n",
              "                AMT_GOODS_PRICE\n",
              "            </td>\n",
              "        </tr>\n",
              "    \n",
              "        <tr style=\"background-color: hsl(120, 100.00%, 83.53%); border: none;\">\n",
              "            <td style=\"padding: 0 1em 0 0.5em; text-align: right; border: none;\">\n",
              "                0.0150\n",
              "                \n",
              "                    &plusmn; 0.0016\n",
              "                \n",
              "            </td>\n",
              "            <td style=\"padding: 0 0.5em 0 0.5em; text-align: left; border: none;\">\n",
              "                NAME_INCOME_TYPE_Pensioner\n",
              "            </td>\n",
              "        </tr>\n",
              "    \n",
              "        <tr style=\"background-color: hsl(120, 100.00%, 83.60%); border: none;\">\n",
              "            <td style=\"padding: 0 1em 0 0.5em; text-align: right; border: none;\">\n",
              "                0.0149\n",
              "                \n",
              "                    &plusmn; 0.0011\n",
              "                \n",
              "            </td>\n",
              "            <td style=\"padding: 0 0.5em 0 0.5em; text-align: left; border: none;\">\n",
              "                AMT_ANNUITY\n",
              "            </td>\n",
              "        </tr>\n",
              "    \n",
              "        <tr style=\"background-color: hsl(120, 100.00%, 83.99%); border: none;\">\n",
              "            <td style=\"padding: 0 1em 0 0.5em; text-align: right; border: none;\">\n",
              "                0.0144\n",
              "                \n",
              "                    &plusmn; 0.0015\n",
              "                \n",
              "            </td>\n",
              "            <td style=\"padding: 0 0.5em 0 0.5em; text-align: left; border: none;\">\n",
              "                CREDIT_TERM\n",
              "            </td>\n",
              "        </tr>\n",
              "    \n",
              "        <tr style=\"background-color: hsl(120, 100.00%, 85.89%); border: none;\">\n",
              "            <td style=\"padding: 0 1em 0 0.5em; text-align: right; border: none;\">\n",
              "                0.0121\n",
              "                \n",
              "                    &plusmn; 0.0005\n",
              "                \n",
              "            </td>\n",
              "            <td style=\"padding: 0 0.5em 0 0.5em; text-align: left; border: none;\">\n",
              "                HOUSETYPE_MODE_block of flats\n",
              "            </td>\n",
              "        </tr>\n",
              "    \n",
              "        <tr style=\"background-color: hsl(120, 100.00%, 86.17%); border: none;\">\n",
              "            <td style=\"padding: 0 1em 0 0.5em; text-align: right; border: none;\">\n",
              "                0.0117\n",
              "                \n",
              "                    &plusmn; 0.0013\n",
              "                \n",
              "            </td>\n",
              "            <td style=\"padding: 0 0.5em 0 0.5em; text-align: left; border: none;\">\n",
              "                EXT_SOURCE_3\n",
              "            </td>\n",
              "        </tr>\n",
              "    \n",
              "        <tr style=\"background-color: hsl(120, 100.00%, 90.91%); border: none;\">\n",
              "            <td style=\"padding: 0 1em 0 0.5em; text-align: right; border: none;\">\n",
              "                0.0064\n",
              "                \n",
              "                    &plusmn; 0.0006\n",
              "                \n",
              "            </td>\n",
              "            <td style=\"padding: 0 0.5em 0 0.5em; text-align: left; border: none;\">\n",
              "                REGION_RATING_CLIENT\n",
              "            </td>\n",
              "        </tr>\n",
              "    \n",
              "        <tr style=\"background-color: hsl(120, 100.00%, 92.64%); border: none;\">\n",
              "            <td style=\"padding: 0 1em 0 0.5em; text-align: right; border: none;\">\n",
              "                0.0048\n",
              "                \n",
              "                    &plusmn; 0.0012\n",
              "                \n",
              "            </td>\n",
              "            <td style=\"padding: 0 0.5em 0 0.5em; text-align: left; border: none;\">\n",
              "                NAME_EDUCATION_TYPE_Higher education\n",
              "            </td>\n",
              "        </tr>\n",
              "    \n",
              "        <tr style=\"background-color: hsl(120, 100.00%, 93.59%); border: none;\">\n",
              "            <td style=\"padding: 0 1em 0 0.5em; text-align: right; border: none;\">\n",
              "                0.0039\n",
              "                \n",
              "                    &plusmn; 0.0010\n",
              "                \n",
              "            </td>\n",
              "            <td style=\"padding: 0 0.5em 0 0.5em; text-align: left; border: none;\">\n",
              "                FLAG_EMP_PHONE\n",
              "            </td>\n",
              "        </tr>\n",
              "    \n",
              "        <tr style=\"background-color: hsl(120, 100.00%, 94.02%); border: none;\">\n",
              "            <td style=\"padding: 0 1em 0 0.5em; text-align: right; border: none;\">\n",
              "                0.0035\n",
              "                \n",
              "                    &plusmn; 0.0021\n",
              "                \n",
              "            </td>\n",
              "            <td style=\"padding: 0 0.5em 0 0.5em; text-align: left; border: none;\">\n",
              "                EXT_SOURCE_2\n",
              "            </td>\n",
              "        </tr>\n",
              "    \n",
              "        <tr style=\"background-color: hsl(120, 100.00%, 94.56%); border: none;\">\n",
              "            <td style=\"padding: 0 1em 0 0.5em; text-align: right; border: none;\">\n",
              "                0.0031\n",
              "                \n",
              "                    &plusmn; 0.0014\n",
              "                \n",
              "            </td>\n",
              "            <td style=\"padding: 0 0.5em 0 0.5em; text-align: left; border: none;\">\n",
              "                FLAG_DOCUMENT_3\n",
              "            </td>\n",
              "        </tr>\n",
              "    \n",
              "        <tr style=\"background-color: hsl(120, 100.00%, 94.63%); border: none;\">\n",
              "            <td style=\"padding: 0 1em 0 0.5em; text-align: right; border: none;\">\n",
              "                0.0030\n",
              "                \n",
              "                    &plusmn; 0.0008\n",
              "                \n",
              "            </td>\n",
              "            <td style=\"padding: 0 0.5em 0 0.5em; text-align: left; border: none;\">\n",
              "                FLAG_DOCUMENT_6\n",
              "            </td>\n",
              "        </tr>\n",
              "    \n",
              "        <tr style=\"background-color: hsl(120, 100.00%, 95.45%); border: none;\">\n",
              "            <td style=\"padding: 0 1em 0 0.5em; text-align: right; border: none;\">\n",
              "                0.0024\n",
              "                \n",
              "                    &plusmn; 0.0006\n",
              "                \n",
              "            </td>\n",
              "            <td style=\"padding: 0 0.5em 0 0.5em; text-align: left; border: none;\">\n",
              "                FLAG_OWN_CAR\n",
              "            </td>\n",
              "        </tr>\n",
              "    \n",
              "        <tr style=\"background-color: hsl(120, 100.00%, 96.02%); border: none;\">\n",
              "            <td style=\"padding: 0 1em 0 0.5em; text-align: right; border: none;\">\n",
              "                0.0020\n",
              "                \n",
              "                    &plusmn; 0.0014\n",
              "                \n",
              "            </td>\n",
              "            <td style=\"padding: 0 0.5em 0 0.5em; text-align: left; border: none;\">\n",
              "                ORGANIZATION_TYPE_Business Entity Type 3\n",
              "            </td>\n",
              "        </tr>\n",
              "    \n",
              "        <tr style=\"background-color: hsl(120, 100.00%, 96.39%); border: none;\">\n",
              "            <td style=\"padding: 0 1em 0 0.5em; text-align: right; border: none;\">\n",
              "                0.0017\n",
              "                \n",
              "                    &plusmn; 0.0005\n",
              "                \n",
              "            </td>\n",
              "            <td style=\"padding: 0 0.5em 0 0.5em; text-align: left; border: none;\">\n",
              "                NAME_TYPE_SUITE_Unaccompanied\n",
              "            </td>\n",
              "        </tr>\n",
              "    \n",
              "        <tr style=\"background-color: hsl(120, 100.00%, 96.66%); border: none;\">\n",
              "            <td style=\"padding: 0 1em 0 0.5em; text-align: right; border: none;\">\n",
              "                0.0015\n",
              "                \n",
              "                    &plusmn; 0.0003\n",
              "                \n",
              "            </td>\n",
              "            <td style=\"padding: 0 0.5em 0 0.5em; text-align: left; border: none;\">\n",
              "                FLAG_DOCUMENT_8\n",
              "            </td>\n",
              "        </tr>\n",
              "    \n",
              "        <tr style=\"background-color: hsl(120, 100.00%, 96.77%); border: none;\">\n",
              "            <td style=\"padding: 0 1em 0 0.5em; text-align: right; border: none;\">\n",
              "                0.0015\n",
              "                \n",
              "                    &plusmn; 0.0006\n",
              "                \n",
              "            </td>\n",
              "            <td style=\"padding: 0 0.5em 0 0.5em; text-align: left; border: none;\">\n",
              "                ORGANIZATION_TYPE_XNA\n",
              "            </td>\n",
              "        </tr>\n",
              "    \n",
              "        <tr style=\"background-color: hsl(120, 100.00%, 96.81%); border: none;\">\n",
              "            <td style=\"padding: 0 1em 0 0.5em; text-align: right; border: none;\">\n",
              "                0.0014\n",
              "                \n",
              "                    &plusmn; 0.0004\n",
              "                \n",
              "            </td>\n",
              "            <td style=\"padding: 0 0.5em 0 0.5em; text-align: left; border: none;\">\n",
              "                DAYS_EMPLOYED_ANOM\n",
              "            </td>\n",
              "        </tr>\n",
              "    \n",
              "        <tr style=\"background-color: hsl(120, 100.00%, 97.21%); border: none;\">\n",
              "            <td style=\"padding: 0 1em 0 0.5em; text-align: right; border: none;\">\n",
              "                0.0012\n",
              "                \n",
              "                    &plusmn; 0.0006\n",
              "                \n",
              "            </td>\n",
              "            <td style=\"padding: 0 0.5em 0 0.5em; text-align: left; border: none;\">\n",
              "                APARTMENTS_MODE\n",
              "            </td>\n",
              "        </tr>\n",
              "    \n",
              "        <tr style=\"background-color: hsl(120, 100.00%, 97.38%); border: none;\">\n",
              "            <td style=\"padding: 0 1em 0 0.5em; text-align: right; border: none;\">\n",
              "                0.0011\n",
              "                \n",
              "                    &plusmn; 0.0003\n",
              "                \n",
              "            </td>\n",
              "            <td style=\"padding: 0 0.5em 0 0.5em; text-align: left; border: none;\">\n",
              "                LIVINGAREA_MODE\n",
              "            </td>\n",
              "        </tr>\n",
              "    \n",
              "    \n",
              "        \n",
              "            <tr style=\"background-color: hsl(120, 100.00%, 97.38%); border: none;\">\n",
              "                <td colspan=\"2\" style=\"padding: 0 0.5em 0 0.5em; text-align: center; border: none; white-space: nowrap;\">\n",
              "                    <i>&hellip; 224 more &hellip;</i>\n",
              "                </td>\n",
              "            </tr>\n",
              "        \n",
              "    \n",
              "    </tbody>\n",
              "</table>\n",
              "    \n",
              "\n",
              "    \n",
              "\n",
              "\n",
              "    \n",
              "\n",
              "    \n",
              "\n",
              "    \n",
              "\n",
              "    \n",
              "\n",
              "    \n",
              "\n",
              "    \n",
              "\n",
              "\n",
              "\n"
            ]
          },
          "metadata": {},
          "execution_count": 37
        }
      ]
    },
    {
      "cell_type": "code",
      "source": [
        "eli5.explain_weights_df(perm, feature_names = train_col.columns.tolist())"
      ],
      "metadata": {
        "colab": {
          "base_uri": "https://localhost:8080/",
          "height": 681
        },
        "id": "sT-FMgsZV-Pq",
        "outputId": "0421cd66-aca5-4c94-d9eb-3dae210c7040"
      },
      "execution_count": null,
      "outputs": [
        {
          "output_type": "execute_result",
          "data": {
            "text/plain": [
              "                                               feature    weight       std\n",
              "0                                      AMT_GOODS_PRICE  0.019847  0.000657\n",
              "1                           NAME_INCOME_TYPE_Pensioner  0.015039  0.000789\n",
              "2                                          AMT_ANNUITY  0.014946  0.000561\n",
              "3                                          CREDIT_TERM  0.014443  0.000765\n",
              "4                        HOUSETYPE_MODE_block of flats  0.012054  0.000273\n",
              "..                                                 ...       ...       ...\n",
              "239  NAME_EDUCATION_TYPE_Secondary / secondary special -0.000956  0.000383\n",
              "240                                 NAME_CONTRACT_TYPE -0.001446  0.000245\n",
              "241                              DAYS_EMPLOYED_PERCENT -0.002023  0.000318\n",
              "242                                       EXT_SOURCE_1 -0.002255  0.000672\n",
              "243                                      DAYS_EMPLOYED -0.002526  0.000300\n",
              "\n",
              "[244 rows x 3 columns]"
            ],
            "text/html": [
              "\n",
              "\n",
              "  <div id=\"df-a7f96aa7-c009-4913-a2fb-c2316413d94c\">\n",
              "    <div class=\"colab-df-container\">\n",
              "      <div>\n",
              "<style scoped>\n",
              "    .dataframe tbody tr th:only-of-type {\n",
              "        vertical-align: middle;\n",
              "    }\n",
              "\n",
              "    .dataframe tbody tr th {\n",
              "        vertical-align: top;\n",
              "    }\n",
              "\n",
              "    .dataframe thead th {\n",
              "        text-align: right;\n",
              "    }\n",
              "</style>\n",
              "<table border=\"1\" class=\"dataframe\">\n",
              "  <thead>\n",
              "    <tr style=\"text-align: right;\">\n",
              "      <th></th>\n",
              "      <th>feature</th>\n",
              "      <th>weight</th>\n",
              "      <th>std</th>\n",
              "    </tr>\n",
              "  </thead>\n",
              "  <tbody>\n",
              "    <tr>\n",
              "      <th>0</th>\n",
              "      <td>AMT_GOODS_PRICE</td>\n",
              "      <td>0.019847</td>\n",
              "      <td>0.000657</td>\n",
              "    </tr>\n",
              "    <tr>\n",
              "      <th>1</th>\n",
              "      <td>NAME_INCOME_TYPE_Pensioner</td>\n",
              "      <td>0.015039</td>\n",
              "      <td>0.000789</td>\n",
              "    </tr>\n",
              "    <tr>\n",
              "      <th>2</th>\n",
              "      <td>AMT_ANNUITY</td>\n",
              "      <td>0.014946</td>\n",
              "      <td>0.000561</td>\n",
              "    </tr>\n",
              "    <tr>\n",
              "      <th>3</th>\n",
              "      <td>CREDIT_TERM</td>\n",
              "      <td>0.014443</td>\n",
              "      <td>0.000765</td>\n",
              "    </tr>\n",
              "    <tr>\n",
              "      <th>4</th>\n",
              "      <td>HOUSETYPE_MODE_block of flats</td>\n",
              "      <td>0.012054</td>\n",
              "      <td>0.000273</td>\n",
              "    </tr>\n",
              "    <tr>\n",
              "      <th>...</th>\n",
              "      <td>...</td>\n",
              "      <td>...</td>\n",
              "      <td>...</td>\n",
              "    </tr>\n",
              "    <tr>\n",
              "      <th>239</th>\n",
              "      <td>NAME_EDUCATION_TYPE_Secondary / secondary special</td>\n",
              "      <td>-0.000956</td>\n",
              "      <td>0.000383</td>\n",
              "    </tr>\n",
              "    <tr>\n",
              "      <th>240</th>\n",
              "      <td>NAME_CONTRACT_TYPE</td>\n",
              "      <td>-0.001446</td>\n",
              "      <td>0.000245</td>\n",
              "    </tr>\n",
              "    <tr>\n",
              "      <th>241</th>\n",
              "      <td>DAYS_EMPLOYED_PERCENT</td>\n",
              "      <td>-0.002023</td>\n",
              "      <td>0.000318</td>\n",
              "    </tr>\n",
              "    <tr>\n",
              "      <th>242</th>\n",
              "      <td>EXT_SOURCE_1</td>\n",
              "      <td>-0.002255</td>\n",
              "      <td>0.000672</td>\n",
              "    </tr>\n",
              "    <tr>\n",
              "      <th>243</th>\n",
              "      <td>DAYS_EMPLOYED</td>\n",
              "      <td>-0.002526</td>\n",
              "      <td>0.000300</td>\n",
              "    </tr>\n",
              "  </tbody>\n",
              "</table>\n",
              "<p>244 rows × 3 columns</p>\n",
              "</div>\n",
              "      <button class=\"colab-df-convert\" onclick=\"convertToInteractive('df-a7f96aa7-c009-4913-a2fb-c2316413d94c')\"\n",
              "              title=\"Convert this dataframe to an interactive table.\"\n",
              "              style=\"display:none;\">\n",
              "\n",
              "  <svg xmlns=\"http://www.w3.org/2000/svg\" height=\"24px\"viewBox=\"0 0 24 24\"\n",
              "       width=\"24px\">\n",
              "    <path d=\"M0 0h24v24H0V0z\" fill=\"none\"/>\n",
              "    <path d=\"M18.56 5.44l.94 2.06.94-2.06 2.06-.94-2.06-.94-.94-2.06-.94 2.06-2.06.94zm-11 1L8.5 8.5l.94-2.06 2.06-.94-2.06-.94L8.5 2.5l-.94 2.06-2.06.94zm10 10l.94 2.06.94-2.06 2.06-.94-2.06-.94-.94-2.06-.94 2.06-2.06.94z\"/><path d=\"M17.41 7.96l-1.37-1.37c-.4-.4-.92-.59-1.43-.59-.52 0-1.04.2-1.43.59L10.3 9.45l-7.72 7.72c-.78.78-.78 2.05 0 2.83L4 21.41c.39.39.9.59 1.41.59.51 0 1.02-.2 1.41-.59l7.78-7.78 2.81-2.81c.8-.78.8-2.07 0-2.86zM5.41 20L4 18.59l7.72-7.72 1.47 1.35L5.41 20z\"/>\n",
              "  </svg>\n",
              "      </button>\n",
              "\n",
              "\n",
              "\n",
              "    <div id=\"df-c6facef8-7d17-43c2-bdb5-f85f2e2c579d\">\n",
              "      <button class=\"colab-df-quickchart\" onclick=\"quickchart('df-c6facef8-7d17-43c2-bdb5-f85f2e2c579d')\"\n",
              "              title=\"Suggest charts.\"\n",
              "              style=\"display:none;\">\n",
              "\n",
              "<svg xmlns=\"http://www.w3.org/2000/svg\" height=\"24px\"viewBox=\"0 0 24 24\"\n",
              "     width=\"24px\">\n",
              "    <g>\n",
              "        <path d=\"M19 3H5c-1.1 0-2 .9-2 2v14c0 1.1.9 2 2 2h14c1.1 0 2-.9 2-2V5c0-1.1-.9-2-2-2zM9 17H7v-7h2v7zm4 0h-2V7h2v10zm4 0h-2v-4h2v4z\"/>\n",
              "    </g>\n",
              "</svg>\n",
              "      </button>\n",
              "    </div>\n",
              "\n",
              "<style>\n",
              "  .colab-df-quickchart {\n",
              "    background-color: #E8F0FE;\n",
              "    border: none;\n",
              "    border-radius: 50%;\n",
              "    cursor: pointer;\n",
              "    display: none;\n",
              "    fill: #1967D2;\n",
              "    height: 32px;\n",
              "    padding: 0 0 0 0;\n",
              "    width: 32px;\n",
              "  }\n",
              "\n",
              "  .colab-df-quickchart:hover {\n",
              "    background-color: #E2EBFA;\n",
              "    box-shadow: 0px 1px 2px rgba(60, 64, 67, 0.3), 0px 1px 3px 1px rgba(60, 64, 67, 0.15);\n",
              "    fill: #174EA6;\n",
              "  }\n",
              "\n",
              "  [theme=dark] .colab-df-quickchart {\n",
              "    background-color: #3B4455;\n",
              "    fill: #D2E3FC;\n",
              "  }\n",
              "\n",
              "  [theme=dark] .colab-df-quickchart:hover {\n",
              "    background-color: #434B5C;\n",
              "    box-shadow: 0px 1px 3px 1px rgba(0, 0, 0, 0.15);\n",
              "    filter: drop-shadow(0px 1px 2px rgba(0, 0, 0, 0.3));\n",
              "    fill: #FFFFFF;\n",
              "  }\n",
              "</style>\n",
              "\n",
              "    <script>\n",
              "      async function quickchart(key) {\n",
              "        const containerElement = document.querySelector('#' + key);\n",
              "        const charts = await google.colab.kernel.invokeFunction(\n",
              "            'suggestCharts', [key], {});\n",
              "      }\n",
              "    </script>\n",
              "\n",
              "      <script>\n",
              "\n",
              "function displayQuickchartButton(domScope) {\n",
              "  let quickchartButtonEl =\n",
              "    domScope.querySelector('#df-c6facef8-7d17-43c2-bdb5-f85f2e2c579d button.colab-df-quickchart');\n",
              "  quickchartButtonEl.style.display =\n",
              "    google.colab.kernel.accessAllowed ? 'block' : 'none';\n",
              "}\n",
              "\n",
              "        displayQuickchartButton(document);\n",
              "      </script>\n",
              "      <style>\n",
              "    .colab-df-container {\n",
              "      display:flex;\n",
              "      flex-wrap:wrap;\n",
              "      gap: 12px;\n",
              "    }\n",
              "\n",
              "    .colab-df-convert {\n",
              "      background-color: #E8F0FE;\n",
              "      border: none;\n",
              "      border-radius: 50%;\n",
              "      cursor: pointer;\n",
              "      display: none;\n",
              "      fill: #1967D2;\n",
              "      height: 32px;\n",
              "      padding: 0 0 0 0;\n",
              "      width: 32px;\n",
              "    }\n",
              "\n",
              "    .colab-df-convert:hover {\n",
              "      background-color: #E2EBFA;\n",
              "      box-shadow: 0px 1px 2px rgba(60, 64, 67, 0.3), 0px 1px 3px 1px rgba(60, 64, 67, 0.15);\n",
              "      fill: #174EA6;\n",
              "    }\n",
              "\n",
              "    [theme=dark] .colab-df-convert {\n",
              "      background-color: #3B4455;\n",
              "      fill: #D2E3FC;\n",
              "    }\n",
              "\n",
              "    [theme=dark] .colab-df-convert:hover {\n",
              "      background-color: #434B5C;\n",
              "      box-shadow: 0px 1px 3px 1px rgba(0, 0, 0, 0.15);\n",
              "      filter: drop-shadow(0px 1px 2px rgba(0, 0, 0, 0.3));\n",
              "      fill: #FFFFFF;\n",
              "    }\n",
              "  </style>\n",
              "\n",
              "      <script>\n",
              "        const buttonEl =\n",
              "          document.querySelector('#df-a7f96aa7-c009-4913-a2fb-c2316413d94c button.colab-df-convert');\n",
              "        buttonEl.style.display =\n",
              "          google.colab.kernel.accessAllowed ? 'block' : 'none';\n",
              "\n",
              "        async function convertToInteractive(key) {\n",
              "          const element = document.querySelector('#df-a7f96aa7-c009-4913-a2fb-c2316413d94c');\n",
              "          const dataTable =\n",
              "            await google.colab.kernel.invokeFunction('convertToInteractive',\n",
              "                                                     [key], {});\n",
              "          if (!dataTable) return;\n",
              "\n",
              "          const docLinkHtml = 'Like what you see? Visit the ' +\n",
              "            '<a target=\"_blank\" href=https://colab.research.google.com/notebooks/data_table.ipynb>data table notebook</a>'\n",
              "            + ' to learn more about interactive tables.';\n",
              "          element.innerHTML = '';\n",
              "          dataTable['output_type'] = 'display_data';\n",
              "          await google.colab.output.renderOutput(dataTable, element);\n",
              "          const docLink = document.createElement('div');\n",
              "          docLink.innerHTML = docLinkHtml;\n",
              "          element.appendChild(docLink);\n",
              "        }\n",
              "      </script>\n",
              "    </div>\n",
              "  </div>\n"
            ],
            "application/vnd.google.colaboratory.module+javascript": "\n      import \"https://ssl.gstatic.com/colaboratory/data_table/881c4a0d49046431/data_table.js\";\n\n      const table = window.createDataTable({\n        data: [[{\n            'v': 0,\n            'f': \"0\",\n        },\n\"AMT_GOODS_PRICE\",\n{\n            'v': 0.019847377891473526,\n            'f': \"0.019847377891473526\",\n        },\n{\n            'v': 0.0006568856638422513,\n            'f': \"0.0006568856638422513\",\n        }],\n [{\n            'v': 1,\n            'f': \"1\",\n        },\n\"NAME_INCOME_TYPE_Pensioner\",\n{\n            'v': 0.015038914301818872,\n            'f': \"0.015038914301818872\",\n        },\n{\n            'v': 0.0007888874049849853,\n            'f': \"0.0007888874049849853\",\n        }],\n [{\n            'v': 2,\n            'f': \"2\",\n        },\n\"AMT_ANNUITY\",\n{\n            'v': 0.014945693411667783,\n            'f': \"0.014945693411667783\",\n        },\n{\n            'v': 0.0005611290390449465,\n            'f': \"0.0005611290390449465\",\n        }],\n [{\n            'v': 3,\n            'f': \"3\",\n        },\n\"CREDIT_TERM\",\n{\n            'v': 0.014442734190387396,\n            'f': \"0.014442734190387396\",\n        },\n{\n            'v': 0.0007649006786106732,\n            'f': \"0.0007649006786106732\",\n        }],\n [{\n            'v': 4,\n            'f': \"4\",\n        },\n\"HOUSETYPE_MODE_block of flats\",\n{\n            'v': 0.012053677889305604,\n            'f': \"0.012053677889305604\",\n        },\n{\n            'v': 0.0002726767001284363,\n            'f': \"0.0002726767001284363\",\n        }],\n [{\n            'v': 5,\n            'f': \"5\",\n        },\n\"EXT_SOURCE_3\",\n{\n            'v': 0.011719817026903945,\n            'f': \"0.011719817026903945\",\n        },\n{\n            'v': 0.0006361824310901095,\n            'f': \"0.0006361824310901095\",\n        }],\n [{\n            'v': 6,\n            'f': \"6\",\n        },\n\"REGION_RATING_CLIENT\",\n{\n            'v': 0.006432241420426199,\n            'f': \"0.006432241420426199\",\n        },\n{\n            'v': 0.0003061770944607688,\n            'f': \"0.0003061770944607688\",\n        }],\n [{\n            'v': 7,\n            'f': \"7\",\n        },\n\"NAME_EDUCATION_TYPE_Higher education\",\n{\n            'v': 0.00476076918074011,\n            'f': \"0.00476076918074011\",\n        },\n{\n            'v': 0.000617627338339888,\n            'f': \"0.000617627338339888\",\n        }],\n [{\n            'v': 8,\n            'f': \"8\",\n        },\n\"FLAG_EMP_PHONE\",\n{\n            'v': 0.003906605675634634,\n            'f': \"0.003906605675634634\",\n        },\n{\n            'v': 0.0004811432089173219,\n            'f': \"0.0004811432089173219\",\n        }],\n [{\n            'v': 9,\n            'f': \"9\",\n        },\n\"EXT_SOURCE_2\",\n{\n            'v': 0.0035337221150302245,\n            'f': \"0.0035337221150302245\",\n        },\n{\n            'v': 0.0010657740611964962,\n            'f': \"0.0010657740611964962\",\n        }],\n [{\n            'v': 10,\n            'f': \"10\",\n        },\n\"FLAG_DOCUMENT_3\",\n{\n            'v': 0.003087129013376111,\n            'f': \"0.003087129013376111\",\n        },\n{\n            'v': 0.0006930726110827948,\n            'f': \"0.0006930726110827948\",\n        }],\n [{\n            'v': 11,\n            'f': \"11\",\n        },\n\"FLAG_DOCUMENT_6\",\n{\n            'v': 0.0030329308214277705,\n            'f': \"0.0030329308214277705\",\n        },\n{\n            'v': 0.00040427055894776316,\n            'f': \"0.00040427055894776316\",\n        }],\n [{\n            'v': 12,\n            'f': \"12\",\n        },\n\"FLAG_OWN_CAR\",\n{\n            'v': 0.0023955600841155888,\n            'f': \"0.0023955600841155888\",\n        },\n{\n            'v': 0.00028662594803109844,\n            'f': \"0.00028662594803109844\",\n        }],\n [{\n            'v': 13,\n            'f': \"13\",\n        },\n\"ORGANIZATION_TYPE_Business Entity Type 3\",\n{\n            'v': 0.001979317969952543,\n            'f': \"0.001979317969952543\",\n        },\n{\n            'v': 0.000709034990418462,\n            'f': \"0.000709034990418462\",\n        }],\n [{\n            'v': 14,\n            'f': \"14\",\n        },\n\"NAME_TYPE_SUITE_Unaccompanied\",\n{\n            'v': 0.0017191666486005897,\n            'f': \"0.0017191666486005897\",\n        },\n{\n            'v': 0.0002660993241981356,\n            'f': \"0.0002660993241981356\",\n        }],\n [{\n            'v': 15,\n            'f': \"15\",\n        },\n\"FLAG_DOCUMENT_8\",\n{\n            'v': 0.0015392286513321806,\n            'f': \"0.0015392286513321806\",\n        },\n{\n            'v': 0.00015708128369709058,\n            'f': \"0.00015708128369709058\",\n        }],\n [{\n            'v': 16,\n            'f': \"16\",\n        },\n\"ORGANIZATION_TYPE_XNA\",\n{\n            'v': 0.0014698549656383176,\n            'f': \"0.0014698549656383176\",\n        },\n{\n            'v': 0.0002995821912567522,\n            'f': \"0.0002995821912567522\",\n        }],\n [{\n            'v': 17,\n            'f': \"17\",\n        },\n\"DAYS_EMPLOYED_ANOM\",\n{\n            'v': 0.001441671905825248,\n            'f': \"0.001441671905825248\",\n        },\n{\n            'v': 0.0001754548751950043,\n            'f': \"0.0001754548751950043\",\n        }],\n [{\n            'v': 18,\n            'f': \"18\",\n        },\n\"APARTMENTS_MODE\",\n{\n            'v': 0.0011923602228629316,\n            'f': \"0.0011923602228629316\",\n        },\n{\n            'v': 0.0003131886498542296,\n            'f': \"0.0003131886498542296\",\n        }],\n [{\n            'v': 19,\n            'f': \"19\",\n        },\n\"LIVINGAREA_MODE\",\n{\n            'v': 0.0010861317666442272,\n            'f': \"0.0010861317666442272\",\n        },\n{\n            'v': 0.00012924194992775084,\n            'f': \"0.00012924194992775084\",\n        }],\n [{\n            'v': 20,\n            'f': \"20\",\n        },\n\"ELEVATORS_MODE\",\n{\n            'v': 0.0010817959112883857,\n            'f': \"0.0010817959112883857\",\n        },\n{\n            'v': 0.00021034485176313266,\n            'f': \"0.00021034485176313266\",\n        }],\n [{\n            'v': 21,\n            'f': \"21\",\n        },\n\"OCCUPATION_TYPE_Sales staff\",\n{\n            'v': 0.0010471090684414763,\n            'f': \"0.0010471090684414763\",\n        },\n{\n            'v': 0.00018907014208959332,\n            'f': \"0.00018907014208959332\",\n        }],\n [{\n            'v': 22,\n            'f': \"22\",\n        },\n\"NAME_TYPE_SUITE_Family\",\n{\n            'v': 0.0009994146595269315,\n            'f': \"0.0009994146595269315\",\n        },\n{\n            'v': 0.0001299672190892134,\n            'f': \"0.0001299672190892134\",\n        }],\n [{\n            'v': 23,\n            'f': \"23\",\n        },\n\"CREDIT_INCOME_PERCENT\",\n{\n            'v': 0.0008888503479523857,\n            'f': \"0.0008888503479523857\",\n        },\n{\n            'v': 0.0002296366583886104,\n            'f': \"0.0002296366583886104\",\n        }],\n [{\n            'v': 24,\n            'f': \"24\",\n        },\n\"ORGANIZATION_TYPE_Construction\",\n{\n            'v': 0.0006980727122942954,\n            'f': \"0.0006980727122942954\",\n        },\n{\n            'v': 0.0001764698456432865,\n            'f': \"0.0001764698456432865\",\n        }],\n [{\n            'v': 25,\n            'f': \"25\",\n        },\n\"NAME_HOUSING_TYPE_House / apartment\",\n{\n            'v': 0.0006590500140915223,\n            'f': \"0.0006590500140915223\",\n        },\n{\n            'v': 0.0001240463893244219,\n            'f': \"0.0001240463893244219\",\n        }],\n [{\n            'v': 26,\n            'f': \"26\",\n        },\n\"OCCUPATION_TYPE_Cooking staff\",\n{\n            'v': 0.0005983480391093865,\n            'f': \"0.0005983480391093865\",\n        },\n{\n            'v': 7.947754148254287e-05,\n            'f': \"7.947754148254287e-05\",\n        }],\n [{\n            'v': 27,\n            'f': \"27\",\n        },\n\"OCCUPATION_TYPE_Laborers\",\n{\n            'v': 0.0005376460641273173,\n            'f': \"0.0005376460641273173\",\n        },\n{\n            'v': 0.00018807319265762661,\n            'f': \"0.00018807319265762661\",\n        }],\n [{\n            'v': 28,\n            'f': \"28\",\n        },\n\"APARTMENTS_MEDI\",\n{\n            'v': 0.0005181347150258863,\n            'f': \"0.0005181347150258863\",\n        },\n{\n            'v': 0.00010406052854076883,\n            'f': \"0.00010406052854076883\",\n        }],\n [{\n            'v': 29,\n            'f': \"29\",\n        },\n\"LIVINGAREA_AVG\",\n{\n            'v': 0.0005137988596700449,\n            'f': \"0.0005137988596700449\",\n        },\n{\n            'v': 0.00013215470899149783,\n            'f': \"0.00013215470899149783\",\n        }],\n [{\n            'v': 30,\n            'f': \"30\",\n        },\n\"OCCUPATION_TYPE_Cleaning staff\",\n{\n            'v': 0.00046176859539963643,\n            'f': \"0.00046176859539963643\",\n        },\n{\n            'v': 9.314523406657198e-05,\n            'f': \"9.314523406657198e-05\",\n        }],\n [{\n            'v': 31,\n            'f': \"31\",\n        },\n\"ORGANIZATION_TYPE_Medicine\",\n{\n            'v': 0.00045526481236586315,\n            'f': \"0.00045526481236586315\",\n        },\n{\n            'v': 0.0001203151033061884,\n            'f': \"0.0001203151033061884\",\n        }],\n [{\n            'v': 32,\n            'f': \"32\",\n        },\n\"REG_REGION_NOT_WORK_REGION\",\n{\n            'v': 0.00038805905434993184,\n            'f': \"0.00038805905434993184\",\n        },\n{\n            'v': 7.332596754737582e-05,\n            'f': \"7.332596754737582e-05\",\n        }],\n [{\n            'v': 33,\n            'f': \"33\",\n        },\n\"CODE_GENDER_F\",\n{\n            'v': 0.00037721941596029484,\n            'f': \"0.00037721941596029484\",\n        },\n{\n            'v': 0.00022977988080276002,\n            'f': \"0.00022977988080276002\",\n        }],\n [{\n            'v': 34,\n            'f': \"34\",\n        },\n\"ORGANIZATION_TYPE_Business Entity Type 2\",\n{\n            'v': 0.0003685477052485231,\n            'f': \"0.0003685477052485231\",\n        },\n{\n            'v': 8.562628247284216e-05,\n            'f': \"8.562628247284216e-05\",\n        }],\n [{\n            'v': 35,\n            'f': \"35\",\n        },\n\"CODE_GENDER_M\",\n{\n            'v': 0.00036421184989268165,\n            'f': \"0.00036421184989268165\",\n        },\n{\n            'v': 0.00019092539169080842,\n            'f': \"0.00019092539169080842\",\n        }],\n [{\n            'v': 36,\n            'f': \"36\",\n        },\n\"FLAG_DOCUMENT_5\",\n{\n            'v': 0.0003577080668588639,\n            'f': \"0.0003577080668588639\",\n        },\n{\n            'v': 8.255222652525634e-05,\n            'f': \"8.255222652525634e-05\",\n        }],\n [{\n            'v': 37,\n            'f': \"37\",\n        },\n\"NAME_HOUSING_TYPE_Municipal apartment\",\n{\n            'v': 0.00034903635614713657,\n            'f': \"0.00034903635614713657\",\n        },\n{\n            'v': 0.0002608189091534568,\n            'f': \"0.0002608189091534568\",\n        }],\n [{\n            'v': 38,\n            'f': \"38\",\n        },\n\"ORGANIZATION_TYPE_Other\",\n{\n            'v': 0.00032085329633404493,\n            'f': \"0.00032085329633404493\",\n        },\n{\n            'v': 0.00014341132446107332,\n            'f': \"0.00014341132446107332\",\n        }],\n [{\n            'v': 39,\n            'f': \"39\",\n        },\n\"FLOORSMIN_MODE\",\n{\n            'v': 0.0002905023088429548,\n            'f': \"0.0002905023088429548\",\n        },\n{\n            'v': 8.709566816224991e-05,\n            'f': \"8.709566816224991e-05\",\n        }],\n [{\n            'v': 40,\n            'f': \"40\",\n        },\n\"REGION_POPULATION_RELATIVE\",\n{\n            'v': 0.00028833438116504517,\n            'f': \"0.00028833438116504517\",\n        },\n{\n            'v': 6.37975110870273e-05,\n            'f': \"6.37975110870273e-05\",\n        }],\n [{\n            'v': 41,\n            'f': \"41\",\n        },\n\"FLAG_DOCUMENT_16\",\n{\n            'v': 0.0002839985258091815,\n            'f': \"0.0002839985258091815\",\n        },\n{\n            'v': 0.00012704130183176696,\n            'f': \"0.00012704130183176696\",\n        }],\n [{\n            'v': 42,\n            'f': \"42\",\n        },\n\"APARTMENTS_AVG\",\n{\n            'v': 0.00026882303206365865,\n            'f': \"0.00026882303206365865\",\n        },\n{\n            'v': 6.223123157544101e-05,\n            'f': \"6.223123157544101e-05\",\n        }],\n [{\n            'v': 43,\n            'f': \"43\",\n        },\n\"LIVINGAPARTMENTS_MEDI\",\n{\n            'v': 0.00025798339367397725,\n            'f': \"0.00025798339367397725\",\n        },\n{\n            'v': 9.13106843655612e-05,\n            'f': \"9.13106843655612e-05\",\n        }],\n [{\n            'v': 44,\n            'f': \"44\",\n        },\n\"REG_REGION_NOT_LIVE_REGION\",\n{\n            'v': 0.0002536475383181136,\n            'f': \"0.0002536475383181136\",\n        },\n{\n            'v': 7.306913324670989e-05,\n            'f': \"7.306913324670989e-05\",\n        }],\n [{\n            'v': 45,\n            'f': \"45\",\n        },\n\"ORGANIZATION_TYPE_Trade: type 3\",\n{\n            'v': 0.0002406399722505448,\n            'f': \"0.0002406399722505448\",\n        },\n{\n            'v': 3.7799110660038657e-05,\n            'f': \"3.7799110660038657e-05\",\n        }],\n [{\n            'v': 46,\n            'f': \"46\",\n        },\n\"EMERGENCYSTATE_MODE_Yes\",\n{\n            'v': 0.0002406399722505004,\n            'f': \"0.0002406399722505004\",\n        },\n{\n            'v': 0.00012924194992771135,\n            'f': \"0.00012924194992771135\",\n        }],\n [{\n            'v': 47,\n            'f': \"47\",\n        },\n\"NAME_EDUCATION_TYPE_Lower secondary\",\n{\n            'v': 0.00020595312940359102,\n            'f': \"0.00020595312940359102\",\n        },\n{\n            'v': 0.0001258518895544886,\n            'f': \"0.0001258518895544886\",\n        }],\n [{\n            'v': 48,\n            'f': \"48\",\n        },\n\"FLAG_DOCUMENT_18\",\n{\n            'v': 0.000179937997268409,\n            'f': \"0.000179937997268409\",\n        },\n{\n            'v': 5.424153317234368e-05,\n            'f': \"5.424153317234368e-05\",\n        }],\n [{\n            'v': 49,\n            'f': \"49\",\n        },\n\"OCCUPATION_TYPE_Private service staff\",\n{\n            'v': 0.00017993799726838676,\n            'f': \"0.00017993799726838676\",\n        },\n{\n            'v': 5.2925859543175865e-05,\n            'f': \"5.2925859543175865e-05\",\n        }],\n [{\n            'v': 50,\n            'f': \"50\",\n        },\n\"WALLSMATERIAL_MODE_Wooden\",\n{\n            'v': 0.00017126628655668165,\n            'f': \"0.00017126628655668165\",\n        },\n{\n            'v': 0.00018208011445442398,\n            'f': \"0.00018208011445442398\",\n        }],\n [{\n            'v': 51,\n            'f': \"51\",\n        },\n\"LIVE_CITY_NOT_WORK_CITY\",\n{\n            'v': 0.00015825872048909063,\n            'f': \"0.00015825872048909063\",\n        },\n{\n            'v': 0.00014324736953784934,\n            'f': \"0.00014324736953784934\",\n        }],\n [{\n            'v': 52,\n            'f': \"52\",\n        },\n\"AMT_REQ_CREDIT_BUREAU_WEEK\",\n{\n            'v': 0.00015609079281113657,\n            'f': \"0.00015609079281113657\",\n        },\n{\n            'v': 7.434443254269325e-05,\n            'f': \"7.434443254269325e-05\",\n        }],\n [{\n            'v': 53,\n            'f': \"53\",\n        },\n\"LANDAREA_AVG\",\n{\n            'v': 0.00015392286513318253,\n            'f': \"0.00015392286513318253\",\n        },\n{\n            'v': 6.185246219217096e-05,\n            'f': \"6.185246219217096e-05\",\n        }],\n [{\n            'v': 54,\n            'f': \"54\",\n        },\n\"ORGANIZATION_TYPE_Kindergarten\",\n{\n            'v': 0.0001452511544214774,\n            'f': \"0.0001452511544214774\",\n        },\n{\n            'v': 5.4241533172339244e-05,\n            'f': \"5.4241533172339244e-05\",\n        }],\n [{\n            'v': 55,\n            'f': \"55\",\n        },\n\"EMERGENCYSTATE_MODE_No\",\n{\n            'v': 0.0001452511544214774,\n            'f': \"0.0001452511544214774\",\n        },\n{\n            'v': 0.0007226584572723093,\n            'f': \"0.0007226584572723093\",\n        }],\n [{\n            'v': 56,\n            'f': \"56\",\n        },\n\"ORGANIZATION_TYPE_Housing\",\n{\n            'v': 0.00014091529906559152,\n            'f': \"0.00014091529906559152\",\n        },\n{\n            'v': 5.310316610192957e-05,\n            'f': \"5.310316610192957e-05\",\n        }],\n [{\n            'v': 57,\n            'f': \"57\",\n        },\n\"NAME_FAMILY_STATUS_Separated\",\n{\n            'v': 0.00013657944370972785,\n            'f': \"0.00013657944370972785\",\n        },\n{\n            'v': 3.6662983773713184e-05,\n            'f': \"3.6662983773713184e-05\",\n        }],\n [{\n            'v': 58,\n            'f': \"58\",\n        },\n\"WALLSMATERIAL_MODE_Block\",\n{\n            'v': 0.00013657944370972785,\n            'f': \"0.00013657944370972785\",\n        },\n{\n            'v': 0.00018210592494634874,\n            'f': \"0.00018210592494634874\",\n        }],\n [{\n            'v': 59,\n            'f': \"59\",\n        },\n\"NAME_FAMILY_STATUS_Widow\",\n{\n            'v': 0.0001279077329980005,\n            'f': \"0.0001279077329980005\",\n        },\n{\n            'v': 0.00015457795625098585,\n            'f': \"0.00015457795625098585\",\n        }],\n [{\n            'v': 60,\n            'f': \"60\",\n        },\n\"OCCUPATION_TYPE_Medicine staff\",\n{\n            'v': 0.00012573980532004647,\n            'f': \"0.00012573980532004647\",\n        },\n{\n            'v': 3.666298377367117e-05,\n            'f': \"3.666298377367117e-05\",\n        }],\n [{\n            'v': 61,\n            'f': \"61\",\n        },\n\"WEEKDAY_APPR_PROCESS_START_FRIDAY\",\n{\n            'v': 0.0001214039499641828,\n            'f': \"0.0001214039499641828\",\n        },\n{\n            'v': 3.588558839126872e-05,\n            'f': \"3.588558839126872e-05\",\n        }],\n [{\n            'v': 62,\n            'f': \"62\",\n        },\n\"DAYS_BIRTH\",\n{\n            'v': 0.00011273223925247766,\n            'f': \"0.00011273223925247766\",\n        },\n{\n            'v': 0.00024704865243886767,\n            'f': \"0.00024704865243886767\",\n        }],\n [{\n            'v': 63,\n            'f': \"63\",\n        },\n\"FONDKAPREMONT_MODE_reg oper account\",\n{\n            'v': 0.00010839638389661398,\n            'f': \"0.00010839638389661398\",\n        },\n{\n            'v': 7.63406111893697e-05,\n            'f': \"7.63406111893697e-05\",\n        }],\n [{\n            'v': 64,\n            'f': \"64\",\n        },\n\"ORGANIZATION_TYPE_Realtor\",\n{\n            'v': 0.00010622845621868215,\n            'f': \"0.00010622845621868215\",\n        },\n{\n            'v': 5.327988261732744e-05,\n            'f': \"5.327988261732744e-05\",\n        }],\n [{\n            'v': 65,\n            'f': \"65\",\n        },\n\"ORGANIZATION_TYPE_Government\",\n{\n            'v': 0.00010189260086281848,\n            'f': \"0.00010189260086281848\",\n        },\n{\n            'v': 0.00010500471340700094,\n            'f': \"0.00010500471340700094\",\n        }],\n [{\n            'v': 66,\n            'f': \"66\",\n        },\n\"LIVINGAREA_MEDI\",\n{\n            'v': 9.972467318486444e-05,\n            'f': \"9.972467318486444e-05\",\n        },\n{\n            'v': 5.99227132095301e-05,\n            'f': \"5.99227132095301e-05\",\n        }],\n [{\n            'v': 67,\n            'f': \"67\",\n        },\n\"CNT_CHILDREN\",\n{\n            'v': 7.587746872761425e-05,\n            'f': \"7.587746872761425e-05\",\n        },\n{\n            'v': 2.4718178617701182e-05,\n            'f': \"2.4718178617701182e-05\",\n        }],\n [{\n            'v': 68,\n            'f': \"68\",\n        },\n\"LIVINGAPARTMENTS_MODE\",\n{\n            'v': 7.370954104968241e-05,\n            'f': \"7.370954104968241e-05\",\n        },\n{\n            'v': 3.841577632766618e-05,\n            'f': \"3.841577632766618e-05\",\n        }],\n [{\n            'v': 69,\n            'f': \"69\",\n        },\n\"CNT_FAM_MEMBERS\",\n{\n            'v': 7.370954104968241e-05,\n            'f': \"7.370954104968241e-05\",\n        },\n{\n            'v': 4.2482532881518274e-05,\n            'f': \"4.2482532881518274e-05\",\n        }],\n [{\n            'v': 70,\n            'f': \"70\",\n        },\n\"ORGANIZATION_TYPE_Transport: type 4\",\n{\n            'v': 6.937368569381874e-05,\n            'f': \"6.937368569381874e-05\",\n        },\n{\n            'v': 5.380654994248971e-05,\n            'f': \"5.380654994248971e-05\",\n        }],\n [{\n            'v': 71,\n            'f': \"71\",\n        },\n\"BASEMENTAREA_MEDI\",\n{\n            'v': 6.720575801588691e-05,\n            'f': \"6.720575801588691e-05\",\n        },\n{\n            'v': 5.102695729588017e-05,\n            'f': \"5.102695729588017e-05\",\n        }],\n [{\n            'v': 72,\n            'f': \"72\",\n        },\n\"AMT_INCOME_TOTAL\",\n{\n            'v': 5.636611962622773e-05,\n            'f': \"5.636611962622773e-05\",\n        },\n{\n            'v': 5.2836983141974475e-05,\n            'f': \"5.2836983141974475e-05\",\n        }],\n [{\n            'v': 73,\n            'f': \"73\",\n        },\n\"NAME_HOUSING_TYPE_Rented apartment\",\n{\n            'v': 5.419819194829589e-05,\n            'f': \"5.419819194829589e-05\",\n        },\n{\n            'v': 1.1874228922430611e-05,\n            'f': \"1.1874228922430611e-05\",\n        }],\n [{\n            'v': 74,\n            'f': \"74\",\n        },\n\"HOUSETYPE_MODE_terraced house\",\n{\n            'v': 5.419819194829589e-05,\n            'f': \"5.419819194829589e-05\",\n        },\n{\n            'v': 3.0659127243752135e-05,\n            'f': \"3.0659127243752135e-05\",\n        }],\n [{\n            'v': 75,\n            'f': \"75\",\n        },\n\"OCCUPATION_TYPE_Low-skill Laborers\",\n{\n            'v': 5.419819194829589e-05,\n            'f': \"5.419819194829589e-05\",\n        },\n{\n            'v': 3.754960885312757e-05,\n            'f': \"3.754960885312757e-05\",\n        }],\n [{\n            'v': 76,\n            'f': \"76\",\n        },\n\"SK_ID_CURR\",\n{\n            'v': 5.419819194827369e-05,\n            'f': \"5.419819194827369e-05\",\n        },\n{\n            'v': 9.622278067584484e-05,\n            'f': \"9.622278067584484e-05\",\n        }],\n [{\n            'v': 77,\n            'f': \"77\",\n        },\n\"WALLSMATERIAL_MODE_Mixed\",\n{\n            'v': 4.552648123661296e-05,\n            'f': \"4.552648123661296e-05\",\n        },\n{\n            'v': 0.00013122679515617348,\n            'f': \"0.00013122679515617348\",\n        }],\n [{\n            'v': 78,\n            'f': \"78\",\n        },\n\"AMT_REQ_CREDIT_BUREAU_QRT\",\n{\n            'v': 4.552648123656855e-05,\n            'f': \"4.552648123656855e-05\",\n        },\n{\n            'v': 1.4380405360652686e-05,\n            'f': \"1.4380405360652686e-05\",\n        }],\n [{\n            'v': 79,\n            'f': \"79\",\n        },\n\"NAME_HOUSING_TYPE_Co-op apartment\",\n{\n            'v': 4.3358553558636714e-05,\n            'f': \"4.3358553558636714e-05\",\n        },\n{\n            'v': 3.562268676729183e-05,\n            'f': \"3.562268676729183e-05\",\n        }],\n [{\n            'v': 80,\n            'f': \"80\",\n        },\n\"OCCUPATION_TYPE_Realty agents\",\n{\n            'v': 4.119062588070488e-05,\n            'f': \"4.119062588070488e-05\",\n        },\n{\n            'v': 5.2836983141974475e-05,\n            'f': \"5.2836983141974475e-05\",\n        }],\n [{\n            'v': 81,\n            'f': \"81\",\n        },\n\"ORGANIZATION_TYPE_Transport: type 3\",\n{\n            'v': 3.902269820277304e-05,\n            'f': \"3.902269820277304e-05\",\n        },\n{\n            'v': 7.652508333390876e-05,\n            'f': \"7.652508333390876e-05\",\n        }],\n [{\n            'v': 82,\n            'f': \"82\",\n        },\n\"AMT_REQ_CREDIT_BUREAU_HOUR\",\n{\n            'v': 3.902269820277304e-05,\n            'f': \"3.902269820277304e-05\",\n        },\n{\n            'v': 1.7612327713991493e-05,\n            'f': \"1.7612327713991493e-05\",\n        }],\n [{\n            'v': 83,\n            'f': \"83\",\n        },\n\"WEEKDAY_APPR_PROCESS_START_MONDAY\",\n{\n            'v': 3.685477052484121e-05,\n            'f': \"3.685477052484121e-05\",\n        },\n{\n            'v': 7.144300324442425e-05,\n            'f': \"7.144300324442425e-05\",\n        }],\n [{\n            'v': 84,\n            'f': \"84\",\n        },\n\"WEEKDAY_APPR_PROCESS_START_SATURDAY\",\n{\n            'v': 3.251891516899974e-05,\n            'f': \"3.251891516899974e-05\",\n        },\n{\n            'v': 0.00011492061725841585,\n            'f': \"0.00011492061725841585\",\n        }],\n [{\n            'v': 85,\n            'f': \"85\",\n        },\n\"ORGANIZATION_TYPE_School\",\n{\n            'v': 3.2518915168977536e-05,\n            'f': \"3.2518915168977536e-05\",\n        },\n{\n            'v': 2.565126621326926e-05,\n            'f': \"2.565126621326926e-05\",\n        }],\n [{\n            'v': 86,\n            'f': \"86\",\n        },\n\"BASEMENTAREA_MODE\",\n{\n            'v': 3.2518915168977536e-05,\n            'f': \"3.2518915168977536e-05\",\n        },\n{\n            'v': 3.6918478040886886e-05,\n            'f': \"3.6918478040886886e-05\",\n        }],\n [{\n            'v': 87,\n            'f': \"87\",\n        },\n\"ORGANIZATION_TYPE_Culture\",\n{\n            'v': 3.03509874910457e-05,\n            'f': \"3.03509874910457e-05\",\n        },\n{\n            'v': 1.4380405360652686e-05,\n            'f': \"1.4380405360652686e-05\",\n        }],\n [{\n            'v': 88,\n            'f': \"88\",\n        },\n\"ORGANIZATION_TYPE_Industry: type 4\",\n{\n            'v': 2.601513213518203e-05,\n            'f': \"2.601513213518203e-05\",\n        },\n{\n            'v': 1.470360089128423e-05,\n            'f': \"1.470360089128423e-05\",\n        }],\n [{\n            'v': 89,\n            'f': \"89\",\n        },\n\"WALLSMATERIAL_MODE_Stone, brick\",\n{\n            'v': 2.601513213518203e-05,\n            'f': \"2.601513213518203e-05\",\n        },\n{\n            'v': 1.7612327713991493e-05,\n            'f': \"1.7612327713991493e-05\",\n        }],\n [{\n            'v': 90,\n            'f': \"90\",\n        },\n\"OCCUPATION_TYPE_Waiters/barmen staff\",\n{\n            'v': 2.601513213518203e-05,\n            'f': \"2.601513213518203e-05\",\n        },\n{\n            'v': 3.468684284690937e-05,\n            'f': \"3.468684284690937e-05\",\n        }],\n [{\n            'v': 91,\n            'f': \"91\",\n        },\n\"ORGANIZATION_TYPE_Advertising\",\n{\n            'v': 2.3847204457250193e-05,\n            'f': \"2.3847204457250193e-05\",\n        },\n{\n            'v': 1.4380405360652686e-05,\n            'f': \"1.4380405360652686e-05\",\n        }],\n [{\n            'v': 92,\n            'f': \"92\",\n        },\n\"ORGANIZATION_TYPE_Trade: type 7\",\n{\n            'v': 2.3847204457250193e-05,\n            'f': \"2.3847204457250193e-05\",\n        },\n{\n            'v': 0.00015848129626897577,\n            'f': \"0.00015848129626897577\",\n        }],\n [{\n            'v': 93,\n            'f': \"93\",\n        },\n\"ORGANIZATION_TYPE_Transport: type 2\",\n{\n            'v': 2.1679276779318357e-05,\n            'f': \"2.1679276779318357e-05\",\n        },\n{\n            'v': 3.562268676729183e-05,\n            'f': \"3.562268676729183e-05\",\n        }],\n [{\n            'v': 94,\n            'f': \"94\",\n        },\n\"ORGANIZATION_TYPE_Security\",\n{\n            'v': 2.1679276779318357e-05,\n            'f': \"2.1679276779318357e-05\",\n        },\n{\n            'v': 4.1700921502946206e-05,\n            'f': \"4.1700921502946206e-05\",\n        }],\n [{\n            'v': 95,\n            'f': \"95\",\n        },\n\"FLOORSMIN_AVG\",\n{\n            'v': 2.1679276779318357e-05,\n            'f': \"2.1679276779318357e-05\",\n        },\n{\n            'v': 2.3748457844861223e-05,\n            'f': \"2.3748457844861223e-05\",\n        }],\n [{\n            'v': 96,\n            'f': \"96\",\n        },\n\"ORGANIZATION_TYPE_Industry: type 11\",\n{\n            'v': 1.951134910138652e-05,\n            'f': \"1.951134910138652e-05\",\n        },\n{\n            'v': 3.962032406722761e-05,\n            'f': \"3.962032406722761e-05\",\n        }],\n [{\n            'v': 97,\n            'f': \"97\",\n        },\n\"ORGANIZATION_TYPE_Telecom\",\n{\n            'v': 1.951134910138652e-05,\n            'f': \"1.951134910138652e-05\",\n        },\n{\n            'v': 1.9869385370624967e-05,\n            'f': \"1.9869385370624967e-05\",\n        }],\n [{\n            'v': 98,\n            'f': \"98\",\n        },\n\"LANDAREA_MEDI\",\n{\n            'v': 1.951134910138652e-05,\n            'f': \"1.951134910138652e-05\",\n        },\n{\n            'v': 7.03825658756985e-05,\n            'f': \"7.03825658756985e-05\",\n        }],\n [{\n            'v': 99,\n            'f': \"99\",\n        },\n\"NAME_TYPE_SUITE_Spouse, partner\",\n{\n            'v': 1.7343421423454686e-05,\n            'f': \"1.7343421423454686e-05\",\n        },\n{\n            'v': 9.314523406652341e-05,\n            'f': \"9.314523406652341e-05\",\n        }],\n [{\n            'v': 100,\n            'f': \"100\",\n        },\n\"LIVINGAPARTMENTS_AVG\",\n{\n            'v': 1.7343421423454686e-05,\n            'f': \"1.7343421423454686e-05\",\n        },\n{\n            'v': 1.3007566067591014e-05,\n            'f': \"1.3007566067591014e-05\",\n        }],\n [{\n            'v': 101,\n            'f': \"101\",\n        },\n\"ORGANIZATION_TYPE_Transport: type 1\",\n{\n            'v': 1.3007566067591014e-05,\n            'f': \"1.3007566067591014e-05\",\n        },\n{\n            'v': 1.5930949830569355e-05,\n            'f': \"1.5930949830569355e-05\",\n        }],\n [{\n            'v': 102,\n            'f': \"102\",\n        },\n\"NAME_TYPE_SUITE_Other_B\",\n{\n            'v': 1.0839638389659179e-05,\n            'f': \"1.0839638389659179e-05\",\n        },\n{\n            'v': 2.3748457844861223e-05,\n            'f': \"2.3748457844861223e-05\",\n        }],\n [{\n            'v': 103,\n            'f': \"103\",\n        },\n\"FLAG_DOCUMENT_20\",\n{\n            'v': 8.671710711727343e-06,\n            'f': \"8.671710711727343e-06\",\n        },\n{\n            'v': 2.2108611067664648e-05,\n            'f': \"2.2108611067664648e-05\",\n        }],\n [{\n            'v': 104,\n            'f': \"104\",\n        },\n\"WALLSMATERIAL_MODE_Others\",\n{\n            'v': 8.671710711705139e-06,\n            'f': \"8.671710711705139e-06\",\n        },\n{\n            'v': 8.20955025419541e-05,\n            'f': \"8.20955025419541e-05\",\n        }],\n [{\n            'v': 105,\n            'f': \"105\",\n        },\n\"AMT_REQ_CREDIT_BUREAU_MON\",\n{\n            'v': 6.503783033795507e-06,\n            'f': \"6.503783033795507e-06\",\n        },\n{\n            'v': 0.00020134901850980786,\n            'f': \"0.00020134901850980786\",\n        }],\n [{\n            'v': 106,\n            'f': \"106\",\n        },\n\"FLAG_DOCUMENT_7\",\n{\n            'v': 4.3358553558636714e-06,\n            'f': \"4.3358553558636714e-06\",\n        },\n{\n            'v': 8.671710711727343e-06,\n            'f': \"8.671710711727343e-06\",\n        }],\n [{\n            'v': 107,\n            'f': \"107\",\n        },\n\"ORGANIZATION_TYPE_Industry: type 1\",\n{\n            'v': 4.3358553558636714e-06,\n            'f': \"4.3358553558636714e-06\",\n        },\n{\n            'v': 2.3349295671222694e-05,\n            'f': \"2.3349295671222694e-05\",\n        }],\n [{\n            'v': 108,\n            'f': \"108\",\n        },\n\"ORGANIZATION_TYPE_Industry: type 10\",\n{\n            'v': 4.3358553558636714e-06,\n            'f': \"4.3358553558636714e-06\",\n        },\n{\n            'v': 5.310316610189784e-06,\n            'f': \"5.310316610189784e-06\",\n        }],\n [{\n            'v': 109,\n            'f': \"109\",\n        },\n\"ORGANIZATION_TYPE_Industry: type 8\",\n{\n            'v': 2.1679276779318357e-06,\n            'f': \"2.1679276779318357e-06\",\n        },\n{\n            'v': 4.3358553558636714e-06,\n            'f': \"4.3358553558636714e-06\",\n        }],\n [{\n            'v': 110,\n            'f': \"110\",\n        },\n\"YEARS_BEGINEXPLUATATION_MEDI\",\n{\n            'v': 2.1679276779318357e-06,\n            'f': \"2.1679276779318357e-06\",\n        },\n{\n            'v': 2.5095577216783668e-05,\n            'f': \"2.5095577216783668e-05\",\n        }],\n [{\n            'v': 111,\n            'f': \"111\",\n        },\n\"FLAG_MOBIL\",\n{\n            'v': 0.0,\n            'f': \"0.0\",\n        },\n{\n            'v': 0.0,\n            'f': \"0.0\",\n        }],\n [{\n            'v': 112,\n            'f': \"112\",\n        },\n\"ORGANIZATION_TYPE_Trade: type 5\",\n{\n            'v': 0.0,\n            'f': \"0.0\",\n        },\n{\n            'v': 0.0,\n            'f': \"0.0\",\n        }],\n [{\n            'v': 113,\n            'f': \"113\",\n        },\n\"FLAG_DOCUMENT_12\",\n{\n            'v': 0.0,\n            'f': \"0.0\",\n        },\n{\n            'v': 0.0,\n            'f': \"0.0\",\n        }],\n [{\n            'v': 114,\n            'f': \"114\",\n        },\n\"ORGANIZATION_TYPE_Legal Services\",\n{\n            'v': 0.0,\n            'f': \"0.0\",\n        },\n{\n            'v': 2.471817861770118e-05,\n            'f': \"2.471817861770118e-05\",\n        }],\n [{\n            'v': 115,\n            'f': \"115\",\n        },\n\"NAME_INCOME_TYPE_Businessman\",\n{\n            'v': 0.0,\n            'f': \"0.0\",\n        },\n{\n            'v': 0.0,\n            'f': \"0.0\",\n        }],\n [{\n            'v': 116,\n            'f': \"116\",\n        },\n\"NAME_TYPE_SUITE_Children\",\n{\n            'v': -2.1679276779318357e-06,\n            'f': \"-2.1679276779318357e-06\",\n        },\n{\n            'v': 2.7763020519133706e-05,\n            'f': \"2.7763020519133706e-05\",\n        }],\n [{\n            'v': 117,\n            'f': \"117\",\n        },\n\"ORGANIZATION_TYPE_Industry: type 13\",\n{\n            'v': -2.1679276779318357e-06,\n            'f': \"-2.1679276779318357e-06\",\n        },\n{\n            'v': 8.111642610125332e-06,\n            'f': \"8.111642610125332e-06\",\n        }],\n [{\n            'v': 118,\n            'f': \"118\",\n        },\n\"FLAG_DOCUMENT_4\",\n{\n            'v': -2.1679276779318357e-06,\n            'f': \"-2.1679276779318357e-06\",\n        },\n{\n            'v': 4.3358553558636714e-06,\n            'f': \"4.3358553558636714e-06\",\n        }],\n [{\n            'v': 119,\n            'f': \"119\",\n        },\n\"FLAG_DOCUMENT_10\",\n{\n            'v': -2.1679276779318357e-06,\n            'f': \"-2.1679276779318357e-06\",\n        },\n{\n            'v': 4.3358553558636714e-06,\n            'f': \"4.3358553558636714e-06\",\n        }],\n [{\n            'v': 120,\n            'f': \"120\",\n        },\n\"NAME_INCOME_TYPE_Unemployed\",\n{\n            'v': -2.1679276779318357e-06,\n            'f': \"-2.1679276779318357e-06\",\n        },\n{\n            'v': 8.11164261012533e-06,\n            'f': \"8.11164261012533e-06\",\n        }],\n [{\n            'v': 121,\n            'f': \"121\",\n        },\n\"BASEMENTAREA_AVG\",\n{\n            'v': -4.3358553558636714e-06,\n            'f': \"-4.3358553558636714e-06\",\n        },\n{\n            'v': 2.232018154439496e-05,\n            'f': \"2.232018154439496e-05\",\n        }],\n [{\n            'v': 122,\n            'f': \"122\",\n        },\n\"FLAG_DOCUMENT_11\",\n{\n            'v': -4.3358553558636714e-06,\n            'f': \"-4.3358553558636714e-06\",\n        },\n{\n            'v': 2.0104534210965726e-05,\n            'f': \"2.0104534210965726e-05\",\n        }],\n [{\n            'v': 123,\n            'f': \"123\",\n        },\n\"FLAG_DOCUMENT_21\",\n{\n            'v': -4.3358553558636714e-06,\n            'f': \"-4.3358553558636714e-06\",\n        },\n{\n            'v': 2.2320181544394968e-05,\n            'f': \"2.2320181544394968e-05\",\n        }],\n [{\n            'v': 124,\n            'f': \"124\",\n        },\n\"NAME_INCOME_TYPE_Student\",\n{\n            'v': -4.3358553558636714e-06,\n            'f': \"-4.3358553558636714e-06\",\n        },\n{\n            'v': 5.310316610189784e-06,\n            'f': \"5.310316610189784e-06\",\n        }],\n [{\n            'v': 125,\n            'f': \"125\",\n        },\n\"ORGANIZATION_TYPE_Postal\",\n{\n            'v': -4.3358553558636714e-06,\n            'f': \"-4.3358553558636714e-06\",\n        },\n{\n            'v': 1.1054305533832322e-05,\n            'f': \"1.1054305533832322e-05\",\n        }],\n [{\n            'v': 126,\n            'f': \"126\",\n        },\n\"FLAG_EMAIL\",\n{\n            'v': -6.503783033795507e-06,\n            'f': \"-6.503783033795507e-06\",\n        },\n{\n            'v': 9.636920142599508e-05,\n            'f': \"9.636920142599508e-05\",\n        }],\n [{\n            'v': 127,\n            'f': \"127\",\n        },\n\"REG_CITY_NOT_LIVE_CITY\",\n{\n            'v': -6.503783033795507e-06,\n            'f': \"-6.503783033795507e-06\",\n        },\n{\n            'v': 2.0104534210965726e-05,\n            'f': \"2.0104534210965726e-05\",\n        }],\n [{\n            'v': 128,\n            'f': \"128\",\n        },\n\"FLAG_DOCUMENT_19\",\n{\n            'v': -6.503783033795507e-06,\n            'f': \"-6.503783033795507e-06\",\n        },\n{\n            'v': 4.032578584718531e-05,\n            'f': \"4.032578584718531e-05\",\n        }],\n [{\n            'v': 129,\n            'f': \"129\",\n        },\n\"ORGANIZATION_TYPE_Religion\",\n{\n            'v': -6.503783033795507e-06,\n            'f': \"-6.503783033795507e-06\",\n        },\n{\n            'v': 1.1054305533832326e-05,\n            'f': \"1.1054305533832326e-05\",\n        }],\n [{\n            'v': 130,\n            'f': \"130\",\n        },\n\"ORGANIZATION_TYPE_Insurance\",\n{\n            'v': -8.671710711727343e-06,\n            'f': \"-8.671710711727343e-06\",\n        },\n{\n            'v': 8.11164261012533e-06,\n            'f': \"8.11164261012533e-06\",\n        }],\n [{\n            'v': 131,\n            'f': \"131\",\n        },\n\"YEARS_BUILD_MEDI\",\n{\n            'v': -1.0839638389659179e-05,\n            'f': \"-1.0839638389659179e-05\",\n        },\n{\n            'v': 0.00014925674314878422,\n            'f': \"0.00014925674314878422\",\n        }],\n [{\n            'v': 132,\n            'f': \"132\",\n        },\n\"ORGANIZATION_TYPE_Industry: type 5\",\n{\n            'v': -1.0839638389659179e-05,\n            'f': \"-1.0839638389659179e-05\",\n        },\n{\n            'v': 1.8138184285424064e-05,\n            'f': \"1.8138184285424064e-05\",\n        }],\n [{\n            'v': 133,\n            'f': \"133\",\n        },\n\"FLAG_DOCUMENT_2\",\n{\n            'v': -1.0839638389659179e-05,\n            'f': \"-1.0839638389659179e-05\",\n        },\n{\n            'v': 0.0,\n            'f': \"0.0\",\n        }],\n [{\n            'v': 134,\n            'f': \"134\",\n        },\n\"ORGANIZATION_TYPE_Trade: type 1\",\n{\n            'v': -1.3007566067591014e-05,\n            'f': \"-1.3007566067591014e-05\",\n        },\n{\n            'v': 1.0620633220379568e-05,\n            'f': \"1.0620633220379568e-05\",\n        }],\n [{\n            'v': 135,\n            'f': \"135\",\n        },\n\"ORGANIZATION_TYPE_Cleaning\",\n{\n            'v': -1.3007566067591014e-05,\n            'f': \"-1.3007566067591014e-05\",\n        },\n{\n            'v': 2.101883867329103e-05,\n            'f': \"2.101883867329103e-05\",\n        }],\n [{\n            'v': 136,\n            'f': \"136\",\n        },\n\"AMT_REQ_CREDIT_BUREAU_DAY\",\n{\n            'v': -1.3007566067591014e-05,\n            'f': \"-1.3007566067591014e-05\",\n        },\n{\n            'v': 8.11164261012533e-06,\n            'f': \"8.11164261012533e-06\",\n        }],\n [{\n            'v': 137,\n            'f': \"137\",\n        },\n\"ORGANIZATION_TYPE_Business Entity Type 1\",\n{\n            'v': -1.3007566067591014e-05,\n            'f': \"-1.3007566067591014e-05\",\n        },\n{\n            'v': 4.411080267385268e-05,\n            'f': \"4.411080267385268e-05\",\n        }],\n [{\n            'v': 138,\n            'f': \"138\",\n        },\n\"ORGANIZATION_TYPE_Trade: type 6\",\n{\n            'v': -1.3007566067591014e-05,\n            'f': \"-1.3007566067591014e-05\",\n        },\n{\n            'v': 3.171404782084723e-05,\n            'f': \"3.171404782084723e-05\",\n        }],\n [{\n            'v': 139,\n            'f': \"139\",\n        },\n\"NAME_TYPE_SUITE_Group of people\",\n{\n            'v': -1.3007566067591014e-05,\n            'f': \"-1.3007566067591014e-05\",\n        },\n{\n            'v': 3.019573845508877e-05,\n            'f': \"3.019573845508877e-05\",\n        }],\n [{\n            'v': 140,\n            'f': \"140\",\n        },\n\"ORGANIZATION_TYPE_Hotel\",\n{\n            'v': -1.517549374552285e-05,\n            'f': \"-1.517549374552285e-05\",\n        },\n{\n            'v': 3.400261699514846e-05,\n            'f': \"3.400261699514846e-05\",\n        }],\n [{\n            'v': 141,\n            'f': \"141\",\n        },\n\"NONLIVINGAPARTMENTS_MODE\",\n{\n            'v': -1.7343421423454686e-05,\n            'f': \"-1.7343421423454686e-05\",\n        },\n{\n            'v': 1.6223285220250664e-05,\n            'f': \"1.6223285220250664e-05\",\n        }],\n [{\n            'v': 142,\n            'f': \"142\",\n        },\n\"ORGANIZATION_TYPE_Trade: type 4\",\n{\n            'v': -1.7343421423454686e-05,\n            'f': \"-1.7343421423454686e-05\",\n        },\n{\n            'v': 1.3007566067591014e-05,\n            'f': \"1.3007566067591014e-05\",\n        }],\n [{\n            'v': 143,\n            'f': \"143\",\n        },\n\"NAME_TYPE_SUITE_Other_A\",\n{\n            'v': -1.7343421423454686e-05,\n            'f': \"-1.7343421423454686e-05\",\n        },\n{\n            'v': 3.914295333592232e-05,\n            'f': \"3.914295333592232e-05\",\n        }],\n [{\n            'v': 144,\n            'f': \"144\",\n        },\n\"COMMONAREA_MODE\",\n{\n            'v': -1.7343421423454686e-05,\n            'f': \"-1.7343421423454686e-05\",\n        },\n{\n            'v': 3.0350987491045697e-05,\n            'f': \"3.0350987491045697e-05\",\n        }],\n [{\n            'v': 145,\n            'f': \"145\",\n        },\n\"ORGANIZATION_TYPE_Mobile\",\n{\n            'v': -1.951134910138652e-05,\n            'f': \"-1.951134910138652e-05\",\n        },\n{\n            'v': 2.101883867329103e-05,\n            'f': \"2.101883867329103e-05\",\n        }],\n [{\n            'v': 146,\n            'f': \"146\",\n        },\n\"NAME_EDUCATION_TYPE_Academic degree\",\n{\n            'v': -1.951134910138652e-05,\n            'f': \"-1.951134910138652e-05\",\n        },\n{\n            'v': 3.171404782084723e-05,\n            'f': \"3.171404782084723e-05\",\n        }],\n [{\n            'v': 147,\n            'f': \"147\",\n        },\n\"FLAG_CONT_MOBILE\",\n{\n            'v': -2.1679276779318357e-05,\n            'f': \"-2.1679276779318357e-05\",\n        },\n{\n            'v': 1.9390534632635423e-05,\n            'f': \"1.9390534632635423e-05\",\n        }],\n [{\n            'v': 148,\n            'f': \"148\",\n        },\n\"OBS_60_CNT_SOCIAL_CIRCLE\",\n{\n            'v': -2.1679276779318357e-05,\n            'f': \"-2.1679276779318357e-05\",\n        },\n{\n            'v': 5.17585639053429e-05,\n            'f': \"5.17585639053429e-05\",\n        }],\n [{\n            'v': 149,\n            'f': \"149\",\n        },\n\"NAME_HOUSING_TYPE_With parents\",\n{\n            'v': -2.1679276779318357e-05,\n            'f': \"-2.1679276779318357e-05\",\n        },\n{\n            'v': 0.00013222581726085854,\n            'f': \"0.00013222581726085854\",\n        }],\n [{\n            'v': 150,\n            'f': \"150\",\n        },\n\"REG_CITY_NOT_WORK_CITY\",\n{\n            'v': -2.1679276779340563e-05,\n            'f': \"-2.1679276779340563e-05\",\n        },\n{\n            'v': 0.00013434156467863326,\n            'f': \"0.00013434156467863326\",\n        }],\n [{\n            'v': 151,\n            'f': \"151\",\n        },\n\"OCCUPATION_TYPE_Secretaries\",\n{\n            'v': -2.601513213518203e-05,\n            'f': \"-2.601513213518203e-05\",\n        },\n{\n            'v': 3.2591099309227054e-05,\n            'f': \"3.2591099309227054e-05\",\n        }],\n [{\n            'v': 152,\n            'f': \"152\",\n        },\n\"ORGANIZATION_TYPE_Industry: type 2\",\n{\n            'v': -2.601513213518203e-05,\n            'f': \"-2.601513213518203e-05\",\n        },\n{\n            'v': 1.1054305533832324e-05,\n            'f': \"1.1054305533832324e-05\",\n        }],\n [{\n            'v': 153,\n            'f': \"153\",\n        },\n\"FLAG_DOCUMENT_17\",\n{\n            'v': -2.601513213518203e-05,\n            'f': \"-2.601513213518203e-05\",\n        },\n{\n            'v': 1.1054305533832324e-05,\n            'f': \"1.1054305533832324e-05\",\n        }],\n [{\n            'v': 154,\n            'f': \"154\",\n        },\n\"HOUSETYPE_MODE_specific housing\",\n{\n            'v': -2.8183059813113864e-05,\n            'f': \"-2.8183059813113864e-05\",\n        },\n{\n            'v': 2.0104534210965726e-05,\n            'f': \"2.0104534210965726e-05\",\n        }],\n [{\n            'v': 155,\n            'f': \"155\",\n        },\n\"ORGANIZATION_TYPE_Industry: type 6\",\n{\n            'v': -2.8183059813113864e-05,\n            'f': \"-2.8183059813113864e-05\",\n        },\n{\n            'v': 1.622328522025066e-05,\n            'f': \"1.622328522025066e-05\",\n        }],\n [{\n            'v': 156,\n            'f': \"156\",\n        },\n\"ORGANIZATION_TYPE_Emergency\",\n{\n            'v': -3.03509874910457e-05,\n            'f': \"-3.03509874910457e-05\",\n        },\n{\n            'v': 1.5930949830569355e-05,\n            'f': \"1.5930949830569355e-05\",\n        }],\n [{\n            'v': 157,\n            'f': \"157\",\n        },\n\"OCCUPATION_TYPE_IT staff\",\n{\n            'v': -3.468684284690937e-05,\n            'f': \"-3.468684284690937e-05\",\n        },\n{\n            'v': 2.101883867329103e-05,\n            'f': \"2.101883867329103e-05\",\n        }],\n [{\n            'v': 158,\n            'f': \"158\",\n        },\n\"NAME_FAMILY_STATUS_Married\",\n{\n            'v': -4.1190625880727084e-05,\n            'f': \"-4.1190625880727084e-05\",\n        },\n{\n            'v': 0.0002012089171231109,\n            'f': \"0.0002012089171231109\",\n        }],\n [{\n            'v': 159,\n            'f': \"159\",\n        },\n\"NAME_FAMILY_STATUS_Single / not married\",\n{\n            'v': -4.5526481236590756e-05,\n            'f': \"-4.5526481236590756e-05\",\n        },\n{\n            'v': 0.00019334706476904269,\n            'f': \"0.00019334706476904269\",\n        }],\n [{\n            'v': 160,\n            'f': \"160\",\n        },\n\"OCCUPATION_TYPE_HR staff\",\n{\n            'v': -4.769440891452259e-05,\n            'f': \"-4.769440891452259e-05\",\n        },\n{\n            'v': 7.465985369836808e-05,\n            'f': \"7.465985369836808e-05\",\n        }],\n [{\n            'v': 161,\n            'f': \"161\",\n        },\n\"YEARS_BEGINEXPLUATATION_AVG\",\n{\n            'v': -4.986233659245443e-05,\n            'f': \"-4.986233659245443e-05\",\n        },\n{\n            'v': 4.03257858472235e-05,\n            'f': \"4.03257858472235e-05\",\n        }],\n [{\n            'v': 162,\n            'f': \"162\",\n        },\n\"FLAG_DOCUMENT_9\",\n{\n            'v': -5.419819194829589e-05,\n            'f': \"-5.419819194829589e-05\",\n        },\n{\n            'v': 2.565126621326926e-05,\n            'f': \"2.565126621326926e-05\",\n        }],\n [{\n            'v': 163,\n            'f': \"163\",\n        },\n\"FLAG_DOCUMENT_15\",\n{\n            'v': -5.41981919483181e-05,\n            'f': \"-5.41981919483181e-05\",\n        },\n{\n            'v': 8.368313163925985e-05,\n            'f': \"8.368313163925985e-05\",\n        }],\n [{\n            'v': 164,\n            'f': \"164\",\n        },\n\"NAME_EDUCATION_TYPE_Incomplete higher\",\n{\n            'v': -5.636611962622773e-05,\n            'f': \"-5.636611962622773e-05\",\n        },\n{\n            'v': 2.7763020519133706e-05,\n            'f': \"2.7763020519133706e-05\",\n        }],\n [{\n            'v': 165,\n            'f': \"165\",\n        },\n\"ORGANIZATION_TYPE_Electricity\",\n{\n            'v': -5.8534047304159564e-05,\n            'f': \"-5.8534047304159564e-05\",\n        },\n{\n            'v': 1.1054305533832322e-05,\n            'f': \"1.1054305533832322e-05\",\n        }],\n [{\n            'v': 166,\n            'f': \"166\",\n        },\n\"OBS_30_CNT_SOCIAL_CIRCLE\",\n{\n            'v': -5.853404730418177e-05,\n            'f': \"-5.853404730418177e-05\",\n        },\n{\n            'v': 7.044931085599535e-05,\n            'f': \"7.044931085599535e-05\",\n        }],\n [{\n            'v': 167,\n            'f': \"167\",\n        },\n\"FLOORSMIN_MEDI\",\n{\n            'v': -6.0701974982113606e-05,\n            'f': \"-6.0701974982113606e-05\",\n        },\n{\n            'v': 6.0001094816928835e-05,\n            'f': \"6.0001094816928835e-05\",\n        }],\n [{\n            'v': 168,\n            'f': \"168\",\n        },\n\"YEARS_BEGINEXPLUATATION_MODE\",\n{\n            'v': -6.286990266006765e-05,\n            'f': \"-6.286990266006765e-05\",\n        },\n{\n            'v': 6.903411593251043e-05,\n            'f': \"6.903411593251043e-05\",\n        }],\n [{\n            'v': 169,\n            'f': \"169\",\n        },\n\"ENTRANCES_MODE\",\n{\n            'v': -6.503783033799948e-05,\n            'f': \"-6.503783033799948e-05\",\n        },\n{\n            'v': 6.394467970498092e-05,\n            'f': \"6.394467970498092e-05\",\n        }],\n [{\n            'v': 170,\n            'f': \"170\",\n        },\n\"COMMONAREA_MEDI\",\n{\n            'v': -6.503783033799948e-05,\n            'f': \"-6.503783033799948e-05\",\n        },\n{\n            'v': 0.00010796192770385789,\n            'f': \"0.00010796192770385789\",\n        }],\n [{\n            'v': 171,\n            'f': \"171\",\n        },\n\"WEEKDAY_APPR_PROCESS_START_THURSDAY\",\n{\n            'v': -6.503783033799948e-05,\n            'f': \"-6.503783033799948e-05\",\n        },\n{\n            'v': 6.751972381643644e-05,\n            'f': \"6.751972381643644e-05\",\n        }],\n [{\n            'v': 172,\n            'f': \"172\",\n        },\n\"OCCUPATION_TYPE_Security staff\",\n{\n            'v': -6.720575801593132e-05,\n            'f': \"-6.720575801593132e-05\",\n        },\n{\n            'v': 9.825281673315486e-05,\n            'f': \"9.825281673315486e-05\",\n        }],\n [{\n            'v': 173,\n            'f': \"173\",\n        },\n\"WALLSMATERIAL_MODE_Monolithic\",\n{\n            'v': -6.720575801593132e-05,\n            'f': \"-6.720575801593132e-05\",\n        },\n{\n            'v': 0.000129059995804071,\n            'f': \"0.000129059995804071\",\n        }],\n [{\n            'v': 174,\n            'f': \"174\",\n        },\n\"OCCUPATION_TYPE_Drivers\",\n{\n            'v': -6.937368569386315e-05,\n            'f': \"-6.937368569386315e-05\",\n        },\n{\n            'v': 5.800979105627222e-05,\n            'f': \"5.800979105627222e-05\",\n        }],\n [{\n            'v': 175,\n            'f': \"175\",\n        },\n\"LANDAREA_MODE\",\n{\n            'v': -7.154161337179499e-05,\n            'f': \"-7.154161337179499e-05\",\n        },\n{\n            'v': 9.782135558503955e-05,\n            'f': \"9.782135558503955e-05\",\n        }],\n [{\n            'v': 176,\n            'f': \"176\",\n        },\n\"WEEKDAY_APPR_PROCESS_START_SUNDAY\",\n{\n            'v': -7.370954104972683e-05,\n            'f': \"-7.370954104972683e-05\",\n        },\n{\n            'v': 0.00015427360872943472,\n            'f': \"0.00015427360872943472\",\n        }],\n [{\n            'v': 177,\n            'f': \"177\",\n        },\n\"ORGANIZATION_TYPE_Industry: type 12\",\n{\n            'v': -7.587746872765866e-05,\n            'f': \"-7.587746872765866e-05\",\n        },\n{\n            'v': 4.7989124853542026e-05,\n            'f': \"4.7989124853542026e-05\",\n        }],\n [{\n            'v': 178,\n            'f': \"178\",\n        },\n\"OWN_CAR_AGE\",\n{\n            'v': -8.021332408352233e-05,\n            'f': \"-8.021332408352233e-05\",\n        },\n{\n            'v': 0.00011360437493506466,\n            'f': \"0.00011360437493506466\",\n        }],\n [{\n            'v': 179,\n            'f': \"179\",\n        },\n\"FLOORSMAX_MODE\",\n{\n            'v': -8.021332408352233e-05,\n            'f': \"-8.021332408352233e-05\",\n        },\n{\n            'v': 7.924064813450747e-05,\n            'f': \"7.924064813450747e-05\",\n        }],\n [{\n            'v': 180,\n            'f': \"180\",\n        },\n\"OCCUPATION_TYPE_Core staff\",\n{\n            'v': -8.238125176145417e-05,\n            'f': \"-8.238125176145417e-05\",\n        },\n{\n            'v': 0.0002471437552843109,\n            'f': \"0.0002471437552843109\",\n        }],\n [{\n            'v': 181,\n            'f': \"181\",\n        },\n\"NONLIVINGAPARTMENTS_MEDI\",\n{\n            'v': -8.4549179439386e-05,\n            'f': \"-8.4549179439386e-05\",\n        },\n{\n            'v': 4.9150319980752786e-05,\n            'f': \"4.9150319980752786e-05\",\n        }],\n [{\n            'v': 182,\n            'f': \"182\",\n        },\n\"NONLIVINGAREA_AVG\",\n{\n            'v': -8.671710711731784e-05,\n            'f': \"-8.671710711731784e-05\",\n        },\n{\n            'v': 9.223252058961804e-05,\n            'f': \"9.223252058961804e-05\",\n        }],\n [{\n            'v': 183,\n            'f': \"183\",\n        },\n\"LIVE_REGION_NOT_WORK_REGION\",\n{\n            'v': -8.888503479524968e-05,\n            'f': \"-8.888503479524968e-05\",\n        },\n{\n            'v': 0.00014884682631669354,\n            'f': \"0.00014884682631669354\",\n        }],\n [{\n            'v': 184,\n            'f': \"184\",\n        },\n\"NONLIVINGAPARTMENTS_AVG\",\n{\n            'v': -9.10529624731593e-05,\n            'f': \"-9.10529624731593e-05\",\n        },\n{\n            'v': 2.9566591577588312e-05,\n            'f': \"2.9566591577588312e-05\",\n        }],\n [{\n            'v': 185,\n            'f': \"185\",\n        },\n\"HOUR_APPR_PROCESS_START\",\n{\n            'v': -9.105296247320371e-05,\n            'f': \"-9.105296247320371e-05\",\n        },\n{\n            'v': 7.144300324446737e-05,\n            'f': \"7.144300324446737e-05\",\n        }],\n [{\n            'v': 186,\n            'f': \"186\",\n        },\n\"ORGANIZATION_TYPE_Services\",\n{\n            'v': -9.322089015109113e-05,\n            'f': \"-9.322089015109113e-05\",\n        },\n{\n            'v': 1.8899555330049893e-05,\n            'f': \"1.8899555330049893e-05\",\n        }],\n [{\n            'v': 187,\n            'f': \"187\",\n        },\n\"NAME_INCOME_TYPE_Commercial associate\",\n{\n            'v': -9.538881782902297e-05,\n            'f': \"-9.538881782902297e-05\",\n        },\n{\n            'v': 0.00010607349121100349,\n            'f': \"0.00010607349121100349\",\n        }],\n [{\n            'v': 188,\n            'f': \"188\",\n        },\n\"ENTRANCES_AVG\",\n{\n            'v': -9.538881782906738e-05,\n            'f': \"-9.538881782906738e-05\",\n        },\n{\n            'v': 0.00010084942311109486,\n            'f': \"0.00010084942311109486\",\n        }],\n [{\n            'v': 189,\n            'f': \"189\",\n        },\n\"ANNUITY_INCOME_PERCENT\",\n{\n            'v': -9.972467318490885e-05,\n            'f': \"-9.972467318490885e-05\",\n        },\n{\n            'v': 0.00033009502132242823,\n            'f': \"0.00033009502132242823\",\n        }],\n [{\n            'v': 190,\n            'f': \"190\",\n        },\n\"ORGANIZATION_TYPE_Industry: type 9\",\n{\n            'v': -0.00010406052854077253,\n            'f': \"-0.00010406052854077253\",\n        },\n{\n            'v': 3.535783040370111e-05,\n            'f': \"3.535783040370111e-05\",\n        }],\n [{\n            'v': 191,\n            'f': \"191\",\n        },\n\"WEEKDAY_APPR_PROCESS_START_WEDNESDAY\",\n{\n            'v': -0.00010406052854077253,\n            'f': \"-0.00010406052854077253\",\n        },\n{\n            'v': 0.00016144876330053307,\n            'f': \"0.00016144876330053307\",\n        }],\n [{\n            'v': 192,\n            'f': \"192\",\n        },\n\"ORGANIZATION_TYPE_Bank\",\n{\n            'v': -0.00010622845621874877,\n            'f': \"-0.00010622845621874877\",\n        },\n{\n            'v': 6.445712379874255e-05,\n            'f': \"6.445712379874255e-05\",\n        }],\n [{\n            'v': 193,\n            'f': \"193\",\n        },\n\"YEARS_BUILD_AVG\",\n{\n            'v': -0.00011490016693047612,\n            'f': \"-0.00011490016693047612\",\n        },\n{\n            'v': 6.305651601991736e-05,\n            'f': \"6.305651601991736e-05\",\n        }],\n [{\n            'v': 194,\n            'f': \"194\",\n        },\n\"ORGANIZATION_TYPE_Industry: type 3\",\n{\n            'v': -0.00011706809460836354,\n            'f': \"-0.00011706809460836354\",\n        },\n{\n            'v': 7.235813847978005e-05,\n            'f': \"7.235813847978005e-05\",\n        }],\n [{\n            'v': 195,\n            'f': \"195\",\n        },\n\"YEARS_BUILD_MODE\",\n{\n            'v': -0.00012357187764220346,\n            'f': \"-0.00012357187764220346\",\n        },\n{\n            'v': 0.0001344464780602472,\n            'f': \"0.0001344464780602472\",\n        }],\n [{\n            'v': 196,\n            'f': \"196\",\n        },\n\"ORGANIZATION_TYPE_Industry: type 7\",\n{\n            'v': -0.00013007566067597677,\n            'f': \"-0.00013007566067597677\",\n        },\n{\n            'v': 6.889781942062878e-05,\n            'f': \"6.889781942062878e-05\",\n        }],\n [{\n            'v': 197,\n            'f': \"197\",\n        },\n\"FONDKAPREMONT_MODE_not specified\",\n{\n            'v': -0.0001322435883539086,\n            'f': \"-0.0001322435883539086\",\n        },\n{\n            'v': 0.00011418209796661037,\n            'f': \"0.00011418209796661037\",\n        }],\n [{\n            'v': 198,\n            'f': \"198\",\n        },\n\"NAME_HOUSING_TYPE_Office apartment\",\n{\n            'v': -0.00013657944370977227,\n            'f': \"-0.00013657944370977227\",\n        },\n{\n            'v': 8.300643752717569e-05,\n            'f': \"8.300643752717569e-05\",\n        }],\n [{\n            'v': 199,\n            'f': \"199\",\n        },\n\"COMMONAREA_AVG\",\n{\n            'v': -0.00013657944370979447,\n            'f': \"-0.00013657944370979447\",\n        },\n{\n            'v': 2.5282164003082693e-05,\n            'f': \"2.5282164003082693e-05\",\n        }],\n [{\n            'v': 200,\n            'f': \"200\",\n        },\n\"WEEKDAY_APPR_PROCESS_START_TUESDAY\",\n{\n            'v': -0.00013657944370979447,\n            'f': \"-0.00013657944370979447\",\n        },\n{\n            'v': 0.00018555738657646795,\n            'f': \"0.00018555738657646795\",\n        }],\n [{\n            'v': 201,\n            'f': \"201\",\n        },\n\"NONLIVINGAREA_MODE\",\n{\n            'v': -0.00014308322674356778,\n            'f': \"-0.00014308322674356778\",\n        },\n{\n            'v': 4.669859134249384e-05,\n            'f': \"4.669859134249384e-05\",\n        }],\n [{\n            'v': 202,\n            'f': \"202\",\n        },\n\"ENTRANCES_MEDI\",\n{\n            'v': -0.00014958700977734106,\n            'f': \"-0.00014958700977734106\",\n        },\n{\n            'v': 0.00013406139427007927,\n            'f': \"0.00013406139427007927\",\n        }],\n [{\n            'v': 203,\n            'f': \"203\",\n        },\n\"REGION_RATING_CLIENT_W_CITY\",\n{\n            'v': -0.00015392286513322696,\n            'f': \"-0.00015392286513322696\",\n        },\n{\n            'v': 0.00015396865960988764,\n            'f': \"0.00015396865960988764\",\n        }],\n [{\n            'v': 204,\n            'f': \"204\",\n        },\n\"NONLIVINGAREA_MEDI\",\n{\n            'v': -0.00016042664816704467,\n            'f': \"-0.00016042664816704467\",\n        },\n{\n            'v': 9.079450903536914e-05,\n            'f': \"9.079450903536914e-05\",\n        }],\n [{\n            'v': 205,\n            'f': \"205\",\n        },\n\"ORGANIZATION_TYPE_Restaurant\",\n{\n            'v': -0.0001625945758449987,\n            'f': \"-0.0001625945758449987\",\n        },\n{\n            'v': 4.495510515168946e-05,\n            'f': \"4.495510515168946e-05\",\n        }],\n [{\n            'v': 206,\n            'f': \"206\",\n        },\n\"ORGANIZATION_TYPE_Military\",\n{\n            'v': -0.00019511349101393184,\n            'f': \"-0.00019511349101393184\",\n        },\n{\n            'v': 0.00010990345659277026,\n            'f': \"0.00010990345659277026\",\n        }],\n [{\n            'v': 207,\n            'f': \"207\",\n        },\n\"FONDKAPREMONT_MODE_reg oper spec account\",\n{\n            'v': -0.00019511349101393184,\n            'f': \"-0.00019511349101393184\",\n        },\n{\n            'v': 0.0001893682034549815,\n            'f': \"0.0001893682034549815\",\n        }],\n [{\n            'v': 208,\n            'f': \"208\",\n        },\n\"ORGANIZATION_TYPE_Agriculture\",\n{\n            'v': -0.00020595312940363542,\n            'f': \"-0.00020595312940363542\",\n        },\n{\n            'v': 7.725856735187049e-05,\n            'f': \"7.725856735187049e-05\",\n        }],\n [{\n            'v': 209,\n            'f': \"209\",\n        },\n\"ORGANIZATION_TYPE_Police\",\n{\n            'v': -0.00021245691243743092,\n            'f': \"-0.00021245691243743092\",\n        },\n{\n            'v': 2.3349295671222694e-05,\n            'f': \"2.3349295671222694e-05\",\n        }],\n [{\n            'v': 210,\n            'f': \"210\",\n        },\n\"FLAG_DOCUMENT_14\",\n{\n            'v': -0.00022546447850502194,\n            'f': \"-0.00022546447850502194\",\n        },\n{\n            'v': 0.00014931970739673713,\n            'f': \"0.00014931970739673713\",\n        }],\n [{\n            'v': 211,\n            'f': \"211\",\n        },\n\"ORGANIZATION_TYPE_Trade: type 2\",\n{\n            'v': -0.00022763240618295377,\n            'f': \"-0.00022763240618295377\",\n        },\n{\n            'v': 5.653263732911447e-05,\n            'f': \"5.653263732911447e-05\",\n        }],\n [{\n            'v': 212,\n            'f': \"212\",\n        },\n\"DEF_60_CNT_SOCIAL_CIRCLE\",\n{\n            'v': -0.00022763240618295377,\n            'f': \"-0.00022763240618295377\",\n        },\n{\n            'v': 0.0002100765546491182,\n            'f': \"0.0002100765546491182\",\n        }],\n [{\n            'v': 213,\n            'f': \"213\",\n        },\n\"AMT_REQ_CREDIT_BUREAU_YEAR\",\n{\n            'v': -0.00023196826153881744,\n            'f': \"-0.00023196826153881744\",\n        },\n{\n            'v': 6.342809564169446e-05,\n            'f': \"6.342809564169446e-05\",\n        }],\n [{\n            'v': 214,\n            'f': \"214\",\n        },\n\"ORGANIZATION_TYPE_University\",\n{\n            'v': -0.0002406399722505448,\n            'f': \"-0.0002406399722505448\",\n        },\n{\n            'v': 7.491123438838162e-05,\n            'f': \"7.491123438838162e-05\",\n        }],\n [{\n            'v': 215,\n            'f': \"215\",\n        },\n\"NAME_FAMILY_STATUS_Civil marriage\",\n{\n            'v': -0.0002536475383181358,\n            'f': \"-0.0002536475383181358\",\n        },\n{\n            'v': 4.4745523100445304e-05,\n            'f': \"4.4745523100445304e-05\",\n        }],\n [{\n            'v': 216,\n            'f': \"216\",\n        },\n\"ORGANIZATION_TYPE_Security Ministries\",\n{\n            'v': -0.0002666551043857268,\n            'f': \"-0.0002666551043857268\",\n        },\n{\n            'v': 0.00012726307907682193,\n            'f': \"0.00012726307907682193\",\n        }],\n [{\n            'v': 217,\n            'f': \"217\",\n        },\n\"FLAG_DOCUMENT_13\",\n{\n            'v': -0.0002731588874195223,\n            'f': \"-0.0002731588874195223\",\n        },\n{\n            'v': 5.371913063220731e-05,\n            'f': \"5.371913063220731e-05\",\n        }],\n [{\n            'v': 218,\n            'f': \"218\",\n        },\n\"OCCUPATION_TYPE_Managers\",\n{\n            'v': -0.0002883343811650674,\n            'f': \"-0.0002883343811650674\",\n        },\n{\n            'v': 0.0002620055181613819,\n            'f': \"0.0002620055181613819\",\n        }],\n [{\n            'v': 219,\n            'f': \"219\",\n        },\n\"FLAG_WORK_PHONE\",\n{\n            'v': -0.0002970060918767725,\n            'f': \"-0.0002970060918767725\",\n        },\n{\n            'v': 0.00013018401193230997,\n            'f': \"0.00013018401193230997\",\n        }],\n [{\n            'v': 220,\n            'f': \"220\",\n        },\n\"AMT_CREDIT\",\n{\n            'v': -0.0003512042838251128,\n            'f': \"-0.0003512042838251128\",\n        },\n{\n            'v': 0.00015627134902282364,\n            'f': \"0.00015627134902282364\",\n        }],\n [{\n            'v': 221,\n            'f': \"221\",\n        },\n\"DAYS_REGISTRATION\",\n{\n            'v': -0.00037721941596027266,\n            'f': \"-0.00037721941596027266\",\n        },\n{\n            'v': 0.00025369385732993836,\n            'f': \"0.00025369385732993836\",\n        }],\n [{\n            'v': 222,\n            'f': \"222\",\n        },\n\"OCCUPATION_TYPE_High skill tech staff\",\n{\n            'v': -0.00037721941596027266,\n            'f': \"-0.00037721941596027266\",\n        },\n{\n            'v': 0.00017763782969300472,\n            'f': \"0.00017763782969300472\",\n        }],\n [{\n            'v': 223,\n            'f': \"223\",\n        },\n\"FLAG_OWN_REALTY\",\n{\n            'v': -0.00038372319899411257,\n            'f': \"-0.00038372319899411257\",\n        },\n{\n            'v': 0.00041878617110800524,\n            'f': \"0.00041878617110800524\",\n        }],\n [{\n            'v': 224,\n            'f': \"224\",\n        },\n\"DEF_30_CNT_SOCIAL_CIRCLE\",\n{\n            'v': -0.00043141760790861295,\n            'f': \"-0.00043141760790861295\",\n        },\n{\n            'v': 8.323261352550799e-05,\n            'f': \"8.323261352550799e-05\",\n        }],\n [{\n            'v': 225,\n            'f': \"225\",\n        },\n\"FLOORSMAX_MEDI\",\n{\n            'v': -0.0004617685953996808,\n            'f': \"-0.0004617685953996808\",\n        },\n{\n            'v': 0.00012198326270200823,\n            'f': \"0.00012198326270200823\",\n        }],\n [{\n            'v': 226,\n            'f': \"226\",\n        },\n\"FLOORSMAX_AVG\",\n{\n            'v': -0.00047260823378934,\n            'f': \"-0.00047260823378934\",\n        },\n{\n            'v': 0.00012945995730771415,\n            'f': \"0.00012945995730771415\",\n        }],\n [{\n            'v': 227,\n            'f': \"227\",\n        },\n\"FONDKAPREMONT_MODE_org spec account\",\n{\n            'v': -0.00047477616146724967,\n            'f': \"-0.00047477616146724967\",\n        },\n{\n            'v': 0.00013905190201681753,\n            'f': \"0.00013905190201681753\",\n        }],\n [{\n            'v': 228,\n            'f': \"228\",\n        },\n\"NAME_INCOME_TYPE_Working\",\n{\n            'v': -0.0005094630043141812,\n            'f': \"-0.0005094630043141812\",\n        },\n{\n            'v': 0.00016834624977404698,\n            'f': \"0.00016834624977404698\",\n        }],\n [{\n            'v': 229,\n            'f': \"229\",\n        },\n\"ELEVATORS_MEDI\",\n{\n            'v': -0.0005094630043142257,\n            'f': \"-0.0005094630043142257\",\n        },\n{\n            'v': 0.00010774404266298979,\n            'f': \"0.00010774404266298979\",\n        }],\n [{\n            'v': 230,\n            'f': \"230\",\n        },\n\"ORGANIZATION_TYPE_Self-employed\",\n{\n            'v': -0.0005463177748390669,\n            'f': \"-0.0005463177748390669\",\n        },\n{\n            'v': 0.0005919911486965769,\n            'f': \"0.0005919911486965769\",\n        }],\n [{\n            'v': 231,\n            'f': \"231\",\n        },\n\"FLAG_PHONE\",\n{\n            'v': -0.0005636611962624993,\n            'f': \"-0.0005636611962624993\",\n        },\n{\n            'v': 0.000393644568665865,\n            'f': \"0.000393644568665865\",\n        }],\n [{\n            'v': 232,\n            'f': \"232\",\n        },\n\"NAME_INCOME_TYPE_State servant\",\n{\n            'v': -0.0005766687623301126,\n            'f': \"-0.0005766687623301126\",\n        },\n{\n            'v': 0.00013528285613043653,\n            'f': \"0.00013528285613043653\",\n        }],\n [{\n            'v': 233,\n            'f': \"233\",\n        },\n\"OCCUPATION_TYPE_Accountants\",\n{\n            'v': -0.0006785613631929311,\n            'f': \"-0.0006785613631929311\",\n        },\n{\n            'v': 6.94414003861126e-05,\n            'f': \"6.94414003861126e-05\",\n        }],\n [{\n            'v': 234,\n            'f': \"234\",\n        },\n\"TOTALAREA_MODE\",\n{\n            'v': -0.0006828972185487725,\n            'f': \"-0.0006828972185487725\",\n        },\n{\n            'v': 0.0002676315279469497,\n            'f': \"0.0002676315279469497\",\n        }],\n [{\n            'v': 235,\n            'f': \"235\",\n        },\n\"DAYS_ID_PUBLISH\",\n{\n            'v': -0.0006894010015825903,\n            'f': \"-0.0006894010015825903\",\n        },\n{\n            'v': 0.0001504485578762647,\n            'f': \"0.0001504485578762647\",\n        }],\n [{\n            'v': 236,\n            'f': \"236\",\n        },\n\"WALLSMATERIAL_MODE_Panel\",\n{\n            'v': -0.0007002406399722494,\n            'f': \"-0.0007002406399722494\",\n        },\n{\n            'v': 0.00017009599797022462,\n            'f': \"0.00017009599797022462\",\n        }],\n [{\n            'v': 237,\n            'f': \"237\",\n        },\n\"ELEVATORS_AVG\",\n{\n            'v': -0.000739263338175089,\n            'f': \"-0.000739263338175089\",\n        },\n{\n            'v': 0.00019016074975253573,\n            'f': \"0.00019016074975253573\",\n        }],\n [{\n            'v': 238,\n            'f': \"238\",\n        },\n\"DAYS_LAST_PHONE_CHANGE\",\n{\n            'v': -0.0008238125176144306,\n            'f': \"-0.0008238125176144306\",\n        },\n{\n            'v': 0.0003065912724376407,\n            'f': \"0.0003065912724376407\",\n        }],\n [{\n            'v': 239,\n            'f': \"239\",\n        },\n\"NAME_EDUCATION_TYPE_Secondary / secondary special\",\n{\n            'v': -0.0009560561059683392,\n            'f': \"-0.0009560561059683392\",\n        },\n{\n            'v': 0.00038258856493517205,\n            'f': \"0.00038258856493517205\",\n        }],\n [{\n            'v': 240,\n            'f': \"240\",\n        },\n\"NAME_CONTRACT_TYPE\",\n{\n            'v': -0.0014460077611810895,\n            'f': \"-0.0014460077611810895\",\n        },\n{\n            'v': 0.0002451388475711688,\n            'f': \"0.0002451388475711688\",\n        }],\n [{\n            'v': 241,\n            'f': \"241\",\n        },\n\"DAYS_EMPLOYED_PERCENT\",\n{\n            'v': -0.00202267652351118,\n            'f': \"-0.00202267652351118\",\n        },\n{\n            'v': 0.00031814661829896,\n            'f': \"0.00031814661829896\",\n        }],\n [{\n            'v': 242,\n            'f': \"242\",\n        },\n\"EXT_SOURCE_1\",\n{\n            'v': -0.0022546447850499973,\n            'f': \"-0.0022546447850499973\",\n        },\n{\n            'v': 0.0006721624717000064,\n            'f': \"0.0006721624717000064\",\n        }],\n [{\n            'v': 243,\n            'f': \"243\",\n        },\n\"DAYS_EMPLOYED\",\n{\n            'v': -0.0025256357447915657,\n            'f': \"-0.0025256357447915657\",\n        },\n{\n            'v': 0.0002996135660477549,\n            'f': \"0.0002996135660477549\",\n        }]],\n        columns: [[\"number\", \"index\"], [\"string\", \"feature\"], [\"number\", \"weight\"], [\"number\", \"std\"]],\n        columnOptions: [{\"width\": \"1px\", \"className\": \"index_column\"}],\n        rowsPerPage: 25,\n        helpUrl: \"https://colab.research.google.com/notebooks/data_table.ipynb\",\n        suppressOutputScrolling: true,\n        minimumWidth: undefined,\n      });\n      \n      function appendQuickchartButton(parentElement) {\n        let quickchartButtonContainerElement = document.createElement('div');\n        quickchartButtonContainerElement.innerHTML = `\n    <div id=\"df-880f3d5b-e1ff-451a-a41c-e2a566cfbc53\">\n      <button class=\"colab-df-quickchart\" onclick=\"quickchart('df-880f3d5b-e1ff-451a-a41c-e2a566cfbc53')\"\n              title=\"Suggest charts.\"\n              style=\"display:none;\">\n\n<svg xmlns=\"http://www.w3.org/2000/svg\" height=\"24px\"viewBox=\"0 0 24 24\"\n     width=\"24px\">\n    <g>\n        <path d=\"M19 3H5c-1.1 0-2 .9-2 2v14c0 1.1.9 2 2 2h14c1.1 0 2-.9 2-2V5c0-1.1-.9-2-2-2zM9 17H7v-7h2v7zm4 0h-2V7h2v10zm4 0h-2v-4h2v4z\"/>\n    </g>\n</svg>\n      </button>\n    </div>\n\n<style>\n  .colab-df-quickchart {\n    background-color: #E8F0FE;\n    border: none;\n    border-radius: 50%;\n    cursor: pointer;\n    display: none;\n    fill: #1967D2;\n    height: 32px;\n    padding: 0 0 0 0;\n    width: 32px;\n  }\n\n  .colab-df-quickchart:hover {\n    background-color: #E2EBFA;\n    box-shadow: 0px 1px 2px rgba(60, 64, 67, 0.3), 0px 1px 3px 1px rgba(60, 64, 67, 0.15);\n    fill: #174EA6;\n  }\n\n  [theme=dark] .colab-df-quickchart {\n    background-color: #3B4455;\n    fill: #D2E3FC;\n  }\n\n  [theme=dark] .colab-df-quickchart:hover {\n    background-color: #434B5C;\n    box-shadow: 0px 1px 3px 1px rgba(0, 0, 0, 0.15);\n    filter: drop-shadow(0px 1px 2px rgba(0, 0, 0, 0.3));\n    fill: #FFFFFF;\n  }\n</style>\n\n    <script>\n      async function quickchart(key) {\n        const containerElement = document.querySelector('#' + key);\n        const charts = await google.colab.kernel.invokeFunction(\n            'suggestCharts', [key], {});\n      }\n    </script>\n`;\n        parentElement.appendChild(quickchartButtonContainerElement);\n        \nfunction displayQuickchartButton(domScope) {\n  let quickchartButtonEl =\n    domScope.querySelector('#df-880f3d5b-e1ff-451a-a41c-e2a566cfbc53 button.colab-df-quickchart');\n  quickchartButtonEl.style.display =\n    google.colab.kernel.accessAllowed ? 'block' : 'none';\n}\n\n        displayQuickchartButton(parentElement);\n      }\n\n      appendQuickchartButton(table);\n    "
          },
          "metadata": {},
          "execution_count": 38
        }
      ]
    },
    {
      "cell_type": "code",
      "source": [
        "sub_data = data[['AMT_GOODS_PRICE',\n",
        "'NAME_INCOME_TYPE_Pensioner',\n",
        "'AMT_ANNUITY',\n",
        "'CREDIT_TERM',\n",
        "'HOUSETYPE_MODE_block of flats',\n",
        "'EXT_SOURCE_3',\n",
        "'REGION_RATING_CLIENT',\n",
        "'NAME_EDUCATION_TYPE_Higher education',\n",
        "'FLAG_EMP_PHONE',\n",
        "'EXT_SOURCE_2',\n",
        "'FLAG_DOCUMENT_3',\n",
        "'FLAG_DOCUMENT_6',\n",
        "'FLAG_OWN_CAR',\n",
        "'ORGANIZATION_TYPE_Business Entity Type 3',\n",
        "'NAME_TYPE_SUITE_Unaccompanied',\n",
        "'FLAG_DOCUMENT_8',\n",
        "'ORGANIZATION_TYPE_XNA',\n",
        "'DAYS_EMPLOYED_ANOM',\n",
        "'APARTMENTS_MODE',\n",
        "'LIVINGAREA_MODE',\n",
        "'ELEVATORS_MODE',\n",
        "'OCCUPATION_TYPE_Sales staff',\n",
        "'NAME_TYPE_SUITE_Family',\n",
        "'CREDIT_INCOME_PERCENT',\n",
        "'ORGANIZATION_TYPE_Construction',\n",
        "\n",
        "'NAME_HOUSING_TYPE_House / apartment',\n",
        "'OCCUPATION_TYPE_Cooking staff',\n",
        "'OCCUPATION_TYPE_Laborers',\n",
        "'APARTMENTS_MEDI',\n",
        "'LIVINGAREA_AVG',\n",
        "'OCCUPATION_TYPE_Cleaning staff',\n",
        "'ORGANIZATION_TYPE_Medicine',\n",
        "'REG_REGION_NOT_WORK_REGION',\n",
        "'CODE_GENDER_F',\n",
        "'ORGANIZATION_TYPE_Business Entity Type 2',\n",
        "'CODE_GENDER_M',\n",
        "'FLAG_DOCUMENT_5',\n",
        "'NAME_HOUSING_TYPE_Municipal apartment',\n",
        "'ORGANIZATION_TYPE_Other',\n",
        "'FLOORSMIN_MODE',\n",
        "'REGION_POPULATION_RELATIVE',\n",
        "'FLAG_DOCUMENT_16',\n",
        "'APARTMENTS_AVG',\n",
        "'LIVINGAPARTMENTS_MEDI',\n",
        "'REG_REGION_NOT_LIVE_REGION',\n",
        "'ORGANIZATION_TYPE_Trade: type 3',\n",
        "'EMERGENCYSTATE_MODE_Yes',\n",
        "'NAME_EDUCATION_TYPE_Lower secondary',\n",
        "'FLAG_DOCUMENT_18',\n",
        "'OCCUPATION_TYPE_Private service staff',\n",
        "\n",
        "'WALLSMATERIAL_MODE_Wooden',\n",
        "'LIVE_CITY_NOT_WORK_CITY',\n",
        "'AMT_REQ_CREDIT_BUREAU_WEEK',\n",
        "'LANDAREA_AVG',\n",
        "'ORGANIZATION_TYPE_Kindergarten',\n",
        "'EMERGENCYSTATE_MODE_No',\n",
        "'ORGANIZATION_TYPE_Housing',\n",
        "'NAME_FAMILY_STATUS_Separated',\n",
        "'WALLSMATERIAL_MODE_Block',\n",
        "'NAME_FAMILY_STATUS_Widow',\n",
        "'OCCUPATION_TYPE_Medicine staff',\n",
        "'WEEKDAY_APPR_PROCESS_START_FRIDAY',\n",
        "'DAYS_BIRTH',\n",
        "'FONDKAPREMONT_MODE_reg oper account',\n",
        "'ORGANIZATION_TYPE_Realtor',\n",
        "'ORGANIZATION_TYPE_Government',\n",
        "'LIVINGAREA_MEDI',\n",
        "'CNT_CHILDREN',\n",
        "'LIVINGAPARTMENTS_MODE',\n",
        "'CNT_FAM_MEMBERS',\n",
        "'ORGANIZATION_TYPE_Transport: type 4',\n",
        "'BASEMENTAREA_MEDI',\n",
        "'AMT_INCOME_TOTAL',\n",
        "'NAME_HOUSING_TYPE_Rented apartment',\n",
        "'HOUSETYPE_MODE_terraced house',\n",
        "\n",
        "'OCCUPATION_TYPE_Low-skill Laborers',\n",
        "'SK_ID_CURR',\n",
        "'WALLSMATERIAL_MODE_Mixed',\n",
        "'AMT_REQ_CREDIT_BUREAU_QRT',\n",
        "'NAME_HOUSING_TYPE_Co-op apartment',\n",
        "'OCCUPATION_TYPE_Realty agents',\n",
        "'ORGANIZATION_TYPE_Transport: type 3',\n",
        "'AMT_REQ_CREDIT_BUREAU_HOUR',\n",
        "'WEEKDAY_APPR_PROCESS_START_MONDAY',\n",
        "'WEEKDAY_APPR_PROCESS_START_SATURDAY',\n",
        "'ORGANIZATION_TYPE_School',\n",
        "'BASEMENTAREA_MODE',\n",
        "'ORGANIZATION_TYPE_Culture',\n",
        "'ORGANIZATION_TYPE_Industry: type 4',\n",
        "'WALLSMATERIAL_MODE_Stone, brick',\n",
        "'OCCUPATION_TYPE_Waiters/barmen staff',\n",
        "'ORGANIZATION_TYPE_Advertising',\n",
        "'ORGANIZATION_TYPE_Trade: type 7',\n",
        "'ORGANIZATION_TYPE_Transport: type 2',\n",
        "'ORGANIZATION_TYPE_Security',\n",
        "'FLOORSMIN_AVG',\n",
        "'ORGANIZATION_TYPE_Industry: type 11',\n",
        "'ORGANIZATION_TYPE_Telecom',\n",
        "'LANDAREA_MEDI',\n",
        "'NAME_TYPE_SUITE_Spouse, partner',\n",
        "\n",
        "'LIVINGAPARTMENTS_AVG',\n",
        "'ORGANIZATION_TYPE_Transport: type 1',\n",
        "'NAME_TYPE_SUITE_Other_B',\n",
        "'FLAG_DOCUMENT_20',\n",
        "'WALLSMATERIAL_MODE_Others',\n",
        "'AMT_REQ_CREDIT_BUREAU_MON',\n",
        "'FLAG_DOCUMENT_7',\n",
        "'ORGANIZATION_TYPE_Industry: type 1',\n",
        "'ORGANIZATION_TYPE_Industry: type 10',\n",
        "'ORGANIZATION_TYPE_Industry: type 8',\n",
        "'YEARS_BEGINEXPLUATATION_MEDI',\n",
        "\n",
        "'TARGET'\n",
        "]]"
      ],
      "metadata": {
        "id": "LZoOHj2kYFLt"
      },
      "execution_count": 23,
      "outputs": []
    },
    {
      "cell_type": "code",
      "source": [
        "sub_data.shape"
      ],
      "metadata": {
        "colab": {
          "base_uri": "https://localhost:8080/"
        },
        "id": "7mnQ0gPTYF4m",
        "outputId": "21392809-2d43-4dc2-eb74-2be6da7c3433"
      },
      "execution_count": 24,
      "outputs": [
        {
          "output_type": "execute_result",
          "data": {
            "text/plain": [
              "(307511, 112)"
            ]
          },
          "metadata": {},
          "execution_count": 24
        }
      ]
    },
    {
      "cell_type": "code",
      "source": [
        "from sklearn.model_selection import train_test_split\n",
        "train1, test1  = train_test_split(sub_data, test_size = 0.30,\n",
        "                                                    random_state = 1)"
      ],
      "metadata": {
        "id": "Ryb8sNXGcaiX"
      },
      "execution_count": 25,
      "outputs": []
    },
    {
      "cell_type": "code",
      "source": [
        "X_train1 = train1.drop(columns = ['TARGET'])\n",
        "y_train1 = train1.iloc[:, -1]"
      ],
      "metadata": {
        "id": "sE7-Cfpacqbn"
      },
      "execution_count": 26,
      "outputs": []
    },
    {
      "cell_type": "code",
      "source": [
        "X_test1 = test1.drop(columns = ['TARGET'])\n",
        "y_test1 = test1.iloc[:, -1]"
      ],
      "metadata": {
        "id": "lJ0cNsmVcqeD"
      },
      "execution_count": 27,
      "outputs": []
    },
    {
      "cell_type": "code",
      "source": [
        "y_train1.head()"
      ],
      "metadata": {
        "colab": {
          "base_uri": "https://localhost:8080/"
        },
        "id": "9M-wGa8Pcqgc",
        "outputId": "e2799181-e1d7-4d2f-dbc8-923f0af53ced"
      },
      "execution_count": 28,
      "outputs": [
        {
          "output_type": "execute_result",
          "data": {
            "text/plain": [
              "208983    0\n",
              "71687     0\n",
              "301340    0\n",
              "216927    0\n",
              "109091    0\n",
              "Name: TARGET, dtype: int64"
            ]
          },
          "metadata": {},
          "execution_count": 28
        }
      ]
    },
    {
      "cell_type": "code",
      "source": [
        "y_train1.astype(int).plot.hist()"
      ],
      "metadata": {
        "colab": {
          "base_uri": "https://localhost:8080/",
          "height": 447
        },
        "id": "V3c83Y3FcqiN",
        "outputId": "df35ca9b-5626-44e8-c0e1-f025ea0e78de"
      },
      "execution_count": 29,
      "outputs": [
        {
          "output_type": "execute_result",
          "data": {
            "text/plain": [
              "<Axes: ylabel='Frequency'>"
            ]
          },
          "metadata": {},
          "execution_count": 29
        },
        {
          "output_type": "display_data",
          "data": {
            "text/plain": [
              "<Figure size 640x480 with 1 Axes>"
            ],
            "image/png": "[encoded data removed]"
          },
          "metadata": {}
        }
      ]
    },
    {
      "cell_type": "code",
      "source": [
        "from sklearn.preprocessing import MinMaxScaler\n",
        "from sklearn.impute import SimpleImputer\n",
        "\n",
        "# Drop the target from the training data\n",
        "\n",
        "train = X_train1.copy()\n",
        "\n",
        "# Feature names\n",
        "features = list(train.columns)\n",
        "\n",
        "# Copy of the testing data\n",
        "test = X_test1.copy()\n",
        "\n",
        "# Median imputation of missing values\n",
        "imputer = SimpleImputer(strategy = 'median')\n",
        "\n",
        "# Scale each feature to 0-1\n",
        "scaler = MinMaxScaler(feature_range = (0, 1))\n",
        "\n",
        "# Fit on the training data\n",
        "imputer.fit(train)\n",
        "\n",
        "# Transform both training and testing data\n",
        "train = imputer.transform(train)\n",
        "test = imputer.transform(test)\n",
        "\n",
        "# Repeat with the scaler\n",
        "scaler.fit(train)\n",
        "train = scaler.transform(train)\n",
        "test = scaler.transform(test)\n",
        "\n",
        "print('Training data shape: ', train.shape)\n",
        "print('Testing data shape: ', test.shape)"
      ],
      "metadata": {
        "colab": {
          "base_uri": "https://localhost:8080/"
        },
        "id": "7QTz_GTXcqkk",
        "outputId": "ff9e402d-b9da-4721-bd70-3d5e8544792f"
      },
      "execution_count": 30,
      "outputs": [
        {
          "output_type": "stream",
          "name": "stdout",
          "text": [
            "Training data shape:  (215257, 111)\n",
            "Testing data shape:  (92254, 111)\n"
          ]
        }
      ]
    },
    {
      "cell_type": "code",
      "source": [
        "from imblearn.over_sampling import SMOTE\n",
        "\n",
        "sm = SMOTE(random_state = 2)\n",
        "X_train_res, y_train_res = sm.fit_resample(train, y_train1.ravel())\n",
        "\n",
        "print('After OverSampling, the shape of train_X: {}'.format(X_train_res.shape))\n",
        "print('After OverSampling, the shape of train_y: {} \\n'.format(y_train_res.shape))\n",
        "\n",
        "print(\"After OverSampling, counts of label '1': {}\".format(sum(y_train_res == 1)))\n",
        "print(\"After OverSampling, counts of label '0': {}\".format(sum(y_train_res == 0)))"
      ],
      "metadata": {
        "colab": {
          "base_uri": "https://localhost:8080/"
        },
        "id": "KDO8xp_KdS0c",
        "outputId": "fd29d2af-2349-4112-d430-bdc4d9800daa"
      },
      "execution_count": 31,
      "outputs": [
        {
          "output_type": "stream",
          "name": "stdout",
          "text": [
            "After OverSampling, the shape of train_X: (395798, 111)\n",
            "After OverSampling, the shape of train_y: (395798,) \n",
            "\n",
            "After OverSampling, counts of label '1': 197899\n",
            "After OverSampling, counts of label '0': 197899\n"
          ]
        }
      ]
    },
    {
      "cell_type": "code",
      "source": [
        "from sklearn.linear_model import LogisticRegression\n",
        "\n",
        "log_class = LogisticRegression()\n",
        "log_class.fit(X_train_res, y_train_res.ravel())"
      ],
      "metadata": {
        "colab": {
          "base_uri": "https://localhost:8080/",
          "height": 74
        },
        "id": "8H7imXhKdS3T",
        "outputId": "20211c04-42bf-4e37-8147-e19a73283db7"
      },
      "execution_count": 32,
      "outputs": [
        {
          "output_type": "execute_result",
          "data": {
            "text/plain": [
              "LogisticRegression()"
            ],
            "text/html": [
              "<style>#sk-container-id-2 {color: black;background-color: white;}#sk-container-id-2 pre{padding: 0;}#sk-container-id-2 div.sk-toggleable {background-color: white;}#sk-container-id-2 label.sk-toggleable__label {cursor: pointer;display: block;width: 100%;margin-bottom: 0;padding: 0.3em;box-sizing: border-box;text-align: center;}#sk-container-id-2 label.sk-toggleable__label-arrow:before {content: \"▸\";float: left;margin-right: 0.25em;color: #696969;}#sk-container-id-2 label.sk-toggleable__label-arrow:hover:before {color: black;}#sk-container-id-2 div.sk-estimator:hover label.sk-toggleable__label-arrow:before {color: black;}#sk-container-id-2 div.sk-toggleable__content {max-height: 0;max-width: 0;overflow: hidden;text-align: left;background-color: #f0f8ff;}#sk-container-id-2 div.sk-toggleable__content pre {margin: 0.2em;color: black;border-radius: 0.25em;background-color: #f0f8ff;}#sk-container-id-2 input.sk-toggleable__control:checked~div.sk-toggleable__content {max-height: 200px;max-width: 100%;overflow: auto;}#sk-container-id-2 input.sk-toggleable__control:checked~label.sk-toggleable__label-arrow:before {content: \"▾\";}#sk-container-id-2 div.sk-estimator input.sk-toggleable__control:checked~label.sk-toggleable__label {background-color: #d4ebff;}#sk-container-id-2 div.sk-label input.sk-toggleable__control:checked~label.sk-toggleable__label {background-color: #d4ebff;}#sk-container-id-2 input.sk-hidden--visually {border: 0;clip: rect(1px 1px 1px 1px);clip: rect(1px, 1px, 1px, 1px);height: 1px;margin: -1px;overflow: hidden;padding: 0;position: absolute;width: 1px;}#sk-container-id-2 div.sk-estimator {font-family: monospace;background-color: #f0f8ff;border: 1px dotted black;border-radius: 0.25em;box-sizing: border-box;margin-bottom: 0.5em;}#sk-container-id-2 div.sk-estimator:hover {background-color: #d4ebff;}#sk-container-id-2 div.sk-parallel-item::after {content: \"\";width: 100%;border-bottom: 1px solid gray;flex-grow: 1;}#sk-container-id-2 div.sk-label:hover label.sk-toggleable__label {background-color: #d4ebff;}#sk-container-id-2 div.sk-serial::before {content: \"\";position: absolute;border-left: 1px solid gray;box-sizing: border-box;top: 0;bottom: 0;left: 50%;z-index: 0;}#sk-container-id-2 div.sk-serial {display: flex;flex-direction: column;align-items: center;background-color: white;padding-right: 0.2em;padding-left: 0.2em;position: relative;}#sk-container-id-2 div.sk-item {position: relative;z-index: 1;}#sk-container-id-2 div.sk-parallel {display: flex;align-items: stretch;justify-content: center;background-color: white;position: relative;}#sk-container-id-2 div.sk-item::before, #sk-container-id-2 div.sk-parallel-item::before {content: \"\";position: absolute;border-left: 1px solid gray;box-sizing: border-box;top: 0;bottom: 0;left: 50%;z-index: -1;}#sk-container-id-2 div.sk-parallel-item {display: flex;flex-direction: column;z-index: 1;position: relative;background-color: white;}#sk-container-id-2 div.sk-parallel-item:first-child::after {align-self: flex-end;width: 50%;}#sk-container-id-2 div.sk-parallel-item:last-child::after {align-self: flex-start;width: 50%;}#sk-container-id-2 div.sk-parallel-item:only-child::after {width: 0;}#sk-container-id-2 div.sk-dashed-wrapped {border: 1px dashed gray;margin: 0 0.4em 0.5em 0.4em;box-sizing: border-box;padding-bottom: 0.4em;background-color: white;}#sk-container-id-2 div.sk-label label {font-family: monospace;font-weight: bold;display: inline-block;line-height: 1.2em;}#sk-container-id-2 div.sk-label-container {text-align: center;}#sk-container-id-2 div.sk-container {/* jupyter's `normalize.less` sets `[hidden] { display: none; }` but bootstrap.min.css set `[hidden] { display: none !important; }` so we also need the `!important` here to be able to override the default hidden behavior on the sphinx rendered scikit-learn.org. See: https://github.com/scikit-learn/scikit-learn/issues/21755 */display: inline-block !important;position: relative;}#sk-container-id-2 div.sk-text-repr-fallback {display: none;}</style><div id=\"sk-container-id-2\" class=\"sk-top-container\"><div class=\"sk-text-repr-fallback\"><pre>LogisticRegression()</pre><b>In a Jupyter environment, please rerun this cell to show the HTML representation or trust the notebook. <br />On GitHub, the HTML representation is unable to render, please try loading this page with nbviewer.org.</b></div><div class=\"sk-container\" hidden><div class=\"sk-item\"><div class=\"sk-estimator sk-toggleable\"><input class=\"sk-toggleable__control sk-hidden--visually\" id=\"sk-estimator-id-2\" type=\"checkbox\" checked><label for=\"sk-estimator-id-2\" class=\"sk-toggleable__label sk-toggleable__label-arrow\">LogisticRegression</label><div class=\"sk-toggleable__content\"><pre>LogisticRegression()</pre></div></div></div></div></div>"
            ]
          },
          "metadata": {},
          "execution_count": 32
        }
      ]
    },
    {
      "cell_type": "code",
      "source": [
        "y_pred = log_class.predict(test)\n",
        "print(classification_report(y_test1, y_pred))"
      ],
      "metadata": {
        "colab": {
          "base_uri": "https://localhost:8080/"
        },
        "id": "4WfHN8X9dS5p",
        "outputId": "a5bd2d86-8df8-4121-a970-ffaa099b2a53"
      },
      "execution_count": 33,
      "outputs": [
        {
          "output_type": "stream",
          "name": "stdout",
          "text": [
            "              precision    recall  f1-score   support\n",
            "\n",
            "           0       0.96      0.69      0.80     84787\n",
            "           1       0.16      0.65      0.25      7467\n",
            "\n",
            "    accuracy                           0.69     92254\n",
            "   macro avg       0.56      0.67      0.53     92254\n",
            "weighted avg       0.89      0.69      0.76     92254\n",
            "\n"
          ]
        }
      ]
    },
    {
      "cell_type": "code",
      "source": [
        "from sklearn.metrics import confusion_matrix, classification_report\n",
        "\n",
        "cm = confusion_matrix(y_test1, y_pred)\n",
        "\n",
        "sns.heatmap(\n",
        "    cm,\n",
        "    annot = True,\n",
        "    fmt = 'g',\n",
        "    xticklabels = ['0', '1'],\n",
        "    yticklabels = ['0', '1']\n",
        ")\n",
        "\n",
        "plt.ylabel('Prediction', fontsize =13)\n",
        "plt.xlabel('Actual', fontsize = 13)\n",
        "plt.title('ConfusionMatrix', fontsize = 17)\n",
        "plt.show()"
      ],
      "metadata": {
        "colab": {
          "base_uri": "https://localhost:8080/",
          "height": 481
        },
        "id": "USdA2JDnebie",
        "outputId": "01a77d25-2fed-43f5-bf51-281116b89ac2"
      },
      "execution_count": 34,
      "outputs": [
        {
          "output_type": "display_data",
          "data": {
            "text/plain": [
              "<Figure size 640x480 with 2 Axes>"
            ],
            "image/png": "[encoded data removed]"
          },
          "metadata": {}
        }
      ]
    },
    {
      "cell_type": "code",
      "source": [
        "y_pred_prob = log_class.predict_proba(test)[:, 1]"
      ],
      "metadata": {
        "id": "5jZhtrxFetW0"
      },
      "execution_count": 35,
      "outputs": []
    },
    {
      "cell_type": "code",
      "source": [
        "# Compute the ROC AUC score\n",
        "roc_auc = roc_auc_score(y_test1, y_pred_prob)\n",
        "roc_auc"
      ],
      "metadata": {
        "colab": {
          "base_uri": "https://localhost:8080/"
        },
        "id": "TmiNPijb3NMI",
        "outputId": "ebade77a-dbba-42bc-afb2-0adee26e09e7"
      },
      "execution_count": 36,
      "outputs": [
        {
          "output_type": "execute_result",
          "data": {
            "text/plain": [
              "0.7325631151818849"
            ]
          },
          "metadata": {},
          "execution_count": 36
        }
      ]
    },
    {
      "cell_type": "code",
      "source": [
        "\n",
        "# Compute the false positive rate (FPR)\n",
        "# and true positive rate (TPR) for different classification thresholds\n",
        "fpr, tpr, thresholds = roc_curve(y_test1, y_pred_prob, pos_label=1)"
      ],
      "metadata": {
        "id": "6eQ_XYL13PZ1"
      },
      "execution_count": 38,
      "outputs": []
    },
    {
      "cell_type": "code",
      "source": [
        "\n",
        "# Plot the ROC curve\n",
        "plt.plot(fpr, tpr, label='ROC curve (area = %0.2f)' % roc_auc)\n",
        "# roc curve for tpr = fpr\n",
        "plt.plot([0, 1], [0, 1], 'k--', label='Logistic Regression')\n",
        "plt.xlabel('False Positive Rate')\n",
        "plt.ylabel('True Positive Rate')\n",
        "plt.title('ROC Curve')\n",
        "plt.legend(loc=\"lower right\")\n",
        "plt.show()"
      ],
      "metadata": {
        "colab": {
          "base_uri": "https://localhost:8080/",
          "height": 472
        },
        "id": "mE311nAViDRk",
        "outputId": "f57b43bf-856c-4230-c61f-3fe0dcf708e5"
      },
      "execution_count": 40,
      "outputs": [
        {
          "output_type": "display_data",
          "data": {
            "text/plain": [
              "<Figure size 640x480 with 1 Axes>"
            ],
            "image/png": "[encoded data removed]"
          },
          "metadata": {}
        }
      ]
    },
    {
      "cell_type": "code",
      "source": [],
      "metadata": {
        "id": "HUfIZQhWiHNI"
      },
      "execution_count": null,
      "outputs": []
    }
  ]
}