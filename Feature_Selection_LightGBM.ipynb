{
  "nbformat": 4,
  "nbformat_minor": 0,
  "metadata": {
    "colab": {
      "provenance": []
    },
    "kernelspec": {
      "name": "python3",
      "display_name": "Python 3"
    },
    "language_info": {
      "name": "python"
    }
  },
  "cells": [
    {
      "cell_type": "code",
      "execution_count": 1,
      "metadata": {
        "id": "BnC5UGZnfXjD"
      },
      "outputs": [],
      "source": [
        "import pandas as pd\n",
        "import numpy as np\n",
        "\n",
        "import matplotlib.pyplot as plt\n",
        "import seaborn as sns\n",
        "\n",
        "from sklearn.preprocessing import LabelEncoder\n",
        "\n",
        "import os\n",
        "import warnings\n",
        "warnings.filterwarnings('ignore')\n",
        "\n",
        "from sklearn.preprocessing import MinMaxScaler\n",
        "from sklearn.impute import SimpleImputer\n",
        "\n",
        "from sklearn.model_selection import train_test_split\n",
        "from imblearn.over_sampling import SMOTE\n",
        "\n",
        "from sklearn.linear_model import LogisticRegression\n",
        "from sklearn.metrics import*\n",
        "from sklearn.metrics import confusion_matrix, classification_report"
      ]
    },
    {
      "cell_type": "code",
      "source": [
        "data = pd.read_csv(\"/content/drive/MyDrive/Loan_Prediction_dataMining/dataset/home-credit-default-risk/loan_data_of.csv\")"
      ],
      "metadata": {
        "id": "_HYrbVMffz84"
      },
      "execution_count": 2,
      "outputs": []
    },
    {
      "cell_type": "code",
      "source": [
        "data.shape"
      ],
      "metadata": {
        "colab": {
          "base_uri": "https://localhost:8080/"
        },
        "id": "ehbo_GeRfz_L",
        "outputId": "6c9b66cb-06d4-47b9-c7a3-8acdeb8f9038"
      },
      "execution_count": 3,
      "outputs": [
        {
          "output_type": "execute_result",
          "data": {
            "text/plain": [
              "(307511, 246)"
            ]
          },
          "metadata": {},
          "execution_count": 3
        }
      ]
    },
    {
      "cell_type": "code",
      "source": [
        "data.head()"
      ],
      "metadata": {
        "colab": {
          "base_uri": "https://localhost:8080/",
          "height": 317
        },
        "id": "JyGFpstsf0Bg",
        "outputId": "5d2145e7-77bb-4f33-df36-5733cf071412"
      },
      "execution_count": 4,
      "outputs": [
        {
          "output_type": "execute_result",
          "data": {
            "text/plain": [
              "   Unnamed: 0  SK_ID_CURR  NAME_CONTRACT_TYPE  FLAG_OWN_CAR  FLAG_OWN_REALTY  \\\n",
              "0           0      100002                   0             0                1   \n",
              "1           1      100003                   0             0                0   \n",
              "2           2      100004                   1             1                1   \n",
              "3           3      100006                   0             0                1   \n",
              "4           4      100007                   0             0                1   \n",
              "\n",
              "   CNT_CHILDREN  AMT_INCOME_TOTAL  AMT_CREDIT  AMT_ANNUITY  AMT_GOODS_PRICE  \\\n",
              "0             0          202500.0    406597.5      24700.5         351000.0   \n",
              "1             0          270000.0   1293502.5      35698.5        1129500.0   \n",
              "2             0           67500.0    135000.0       6750.0         135000.0   \n",
              "3             0          135000.0    312682.5      29686.5         297000.0   \n",
              "4             0          121500.0    513000.0      21865.5         513000.0   \n",
              "\n",
              "   ...  WALLSMATERIAL_MODE_Stone, brick  WALLSMATERIAL_MODE_Wooden  \\\n",
              "0  ...                                1                          0   \n",
              "1  ...                                0                          0   \n",
              "2  ...                                0                          0   \n",
              "3  ...                                0                          0   \n",
              "4  ...                                0                          0   \n",
              "\n",
              "   EMERGENCYSTATE_MODE_No  EMERGENCYSTATE_MODE_Yes  TARGET  \\\n",
              "0                       1                        0       1   \n",
              "1                       1                        0       0   \n",
              "2                       0                        0       0   \n",
              "3                       0                        0       0   \n",
              "4                       0                        0       0   \n",
              "\n",
              "   DAYS_EMPLOYED_ANOM  CREDIT_INCOME_PERCENT  ANNUITY_INCOME_PERCENT  \\\n",
              "0               False               2.007889                0.121978   \n",
              "1               False               4.790750                0.132217   \n",
              "2               False               2.000000                0.100000   \n",
              "3               False               2.316167                0.219900   \n",
              "4               False               4.222222                0.179963   \n",
              "\n",
              "   CREDIT_TERM  DAYS_EMPLOYED_PERCENT  \n",
              "0     0.060749              -0.067329  \n",
              "1     0.027598              -0.070862  \n",
              "2     0.050000              -0.011814  \n",
              "3     0.094941              -0.159905  \n",
              "4     0.042623              -0.152418  \n",
              "\n",
              "[5 rows x 246 columns]"
            ],
            "text/html": [
              "\n",
              "\n",
              "  <div id=\"df-e2b0cd11-d4f5-4676-8a0e-937cc9469e48\">\n",
              "    <div class=\"colab-df-container\">\n",
              "      <div>\n",
              "<style scoped>\n",
              "    .dataframe tbody tr th:only-of-type {\n",
              "        vertical-align: middle;\n",
              "    }\n",
              "\n",
              "    .dataframe tbody tr th {\n",
              "        vertical-align: top;\n",
              "    }\n",
              "\n",
              "    .dataframe thead th {\n",
              "        text-align: right;\n",
              "    }\n",
              "</style>\n",
              "<table border=\"1\" class=\"dataframe\">\n",
              "  <thead>\n",
              "    <tr style=\"text-align: right;\">\n",
              "      <th></th>\n",
              "      <th>Unnamed: 0</th>\n",
              "      <th>SK_ID_CURR</th>\n",
              "      <th>NAME_CONTRACT_TYPE</th>\n",
              "      <th>FLAG_OWN_CAR</th>\n",
              "      <th>FLAG_OWN_REALTY</th>\n",
              "      <th>CNT_CHILDREN</th>\n",
              "      <th>AMT_INCOME_TOTAL</th>\n",
              "      <th>AMT_CREDIT</th>\n",
              "      <th>AMT_ANNUITY</th>\n",
              "      <th>AMT_GOODS_PRICE</th>\n",
              "      <th>...</th>\n",
              "      <th>WALLSMATERIAL_MODE_Stone, brick</th>\n",
              "      <th>WALLSMATERIAL_MODE_Wooden</th>\n",
              "      <th>EMERGENCYSTATE_MODE_No</th>\n",
              "      <th>EMERGENCYSTATE_MODE_Yes</th>\n",
              "      <th>TARGET</th>\n",
              "      <th>DAYS_EMPLOYED_ANOM</th>\n",
              "      <th>CREDIT_INCOME_PERCENT</th>\n",
              "      <th>ANNUITY_INCOME_PERCENT</th>\n",
              "      <th>CREDIT_TERM</th>\n",
              "      <th>DAYS_EMPLOYED_PERCENT</th>\n",
              "    </tr>\n",
              "  </thead>\n",
              "  <tbody>\n",
              "    <tr>\n",
              "      <th>0</th>\n",
              "      <td>0</td>\n",
              "      <td>100002</td>\n",
              "      <td>0</td>\n",
              "      <td>0</td>\n",
              "      <td>1</td>\n",
              "      <td>0</td>\n",
              "      <td>202500.0</td>\n",
              "      <td>406597.5</td>\n",
              "      <td>24700.5</td>\n",
              "      <td>351000.0</td>\n",
              "      <td>...</td>\n",
              "      <td>1</td>\n",
              "      <td>0</td>\n",
              "      <td>1</td>\n",
              "      <td>0</td>\n",
              "      <td>1</td>\n",
              "      <td>False</td>\n",
              "      <td>2.007889</td>\n",
              "      <td>0.121978</td>\n",
              "      <td>0.060749</td>\n",
              "      <td>-0.067329</td>\n",
              "    </tr>\n",
              "    <tr>\n",
              "      <th>1</th>\n",
              "      <td>1</td>\n",
              "      <td>100003</td>\n",
              "      <td>0</td>\n",
              "      <td>0</td>\n",
              "      <td>0</td>\n",
              "      <td>0</td>\n",
              "      <td>270000.0</td>\n",
              "      <td>1293502.5</td>\n",
              "      <td>35698.5</td>\n",
              "      <td>1129500.0</td>\n",
              "      <td>...</td>\n",
              "      <td>0</td>\n",
              "      <td>0</td>\n",
              "      <td>1</td>\n",
              "      <td>0</td>\n",
              "      <td>0</td>\n",
              "      <td>False</td>\n",
              "      <td>4.790750</td>\n",
              "      <td>0.132217</td>\n",
              "      <td>0.027598</td>\n",
              "      <td>-0.070862</td>\n",
              "    </tr>\n",
              "    <tr>\n",
              "      <th>2</th>\n",
              "      <td>2</td>\n",
              "      <td>100004</td>\n",
              "      <td>1</td>\n",
              "      <td>1</td>\n",
              "      <td>1</td>\n",
              "      <td>0</td>\n",
              "      <td>67500.0</td>\n",
              "      <td>135000.0</td>\n",
              "      <td>6750.0</td>\n",
              "      <td>135000.0</td>\n",
              "      <td>...</td>\n",
              "      <td>0</td>\n",
              "      <td>0</td>\n",
              "      <td>0</td>\n",
              "      <td>0</td>\n",
              "      <td>0</td>\n",
              "      <td>False</td>\n",
              "      <td>2.000000</td>\n",
              "      <td>0.100000</td>\n",
              "      <td>0.050000</td>\n",
              "      <td>-0.011814</td>\n",
              "    </tr>\n",
              "    <tr>\n",
              "      <th>3</th>\n",
              "      <td>3</td>\n",
              "      <td>100006</td>\n",
              "      <td>0</td>\n",
              "      <td>0</td>\n",
              "      <td>1</td>\n",
              "      <td>0</td>\n",
              "      <td>135000.0</td>\n",
              "      <td>312682.5</td>\n",
              "      <td>29686.5</td>\n",
              "      <td>297000.0</td>\n",
              "      <td>...</td>\n",
              "      <td>0</td>\n",
              "      <td>0</td>\n",
              "      <td>0</td>\n",
              "      <td>0</td>\n",
              "      <td>0</td>\n",
              "      <td>False</td>\n",
              "      <td>2.316167</td>\n",
              "      <td>0.219900</td>\n",
              "      <td>0.094941</td>\n",
              "      <td>-0.159905</td>\n",
              "    </tr>\n",
              "    <tr>\n",
              "      <th>4</th>\n",
              "      <td>4</td>\n",
              "      <td>100007</td>\n",
              "      <td>0</td>\n",
              "      <td>0</td>\n",
              "      <td>1</td>\n",
              "      <td>0</td>\n",
              "      <td>121500.0</td>\n",
              "      <td>513000.0</td>\n",
              "      <td>21865.5</td>\n",
              "      <td>513000.0</td>\n",
              "      <td>...</td>\n",
              "      <td>0</td>\n",
              "      <td>0</td>\n",
              "      <td>0</td>\n",
              "      <td>0</td>\n",
              "      <td>0</td>\n",
              "      <td>False</td>\n",
              "      <td>4.222222</td>\n",
              "      <td>0.179963</td>\n",
              "      <td>0.042623</td>\n",
              "      <td>-0.152418</td>\n",
              "    </tr>\n",
              "  </tbody>\n",
              "</table>\n",
              "<p>5 rows × 246 columns</p>\n",
              "</div>\n",
              "      <button class=\"colab-df-convert\" onclick=\"convertToInteractive('df-e2b0cd11-d4f5-4676-8a0e-937cc9469e48')\"\n",
              "              title=\"Convert this dataframe to an interactive table.\"\n",
              "              style=\"display:none;\">\n",
              "\n",
              "  <svg xmlns=\"http://www.w3.org/2000/svg\" height=\"24px\"viewBox=\"0 0 24 24\"\n",
              "       width=\"24px\">\n",
              "    <path d=\"M0 0h24v24H0V0z\" fill=\"none\"/>\n",
              "    <path d=\"M18.56 5.44l.94 2.06.94-2.06 2.06-.94-2.06-.94-.94-2.06-.94 2.06-2.06.94zm-11 1L8.5 8.5l.94-2.06 2.06-.94-2.06-.94L8.5 2.5l-.94 2.06-2.06.94zm10 10l.94 2.06.94-2.06 2.06-.94-2.06-.94-.94-2.06-.94 2.06-2.06.94z\"/><path d=\"M17.41 7.96l-1.37-1.37c-.4-.4-.92-.59-1.43-.59-.52 0-1.04.2-1.43.59L10.3 9.45l-7.72 7.72c-.78.78-.78 2.05 0 2.83L4 21.41c.39.39.9.59 1.41.59.51 0 1.02-.2 1.41-.59l7.78-7.78 2.81-2.81c.8-.78.8-2.07 0-2.86zM5.41 20L4 18.59l7.72-7.72 1.47 1.35L5.41 20z\"/>\n",
              "  </svg>\n",
              "      </button>\n",
              "\n",
              "\n",
              "\n",
              "    <div id=\"df-76138388-fd82-4e65-8089-78475ac6c837\">\n",
              "      <button class=\"colab-df-quickchart\" onclick=\"quickchart('df-76138388-fd82-4e65-8089-78475ac6c837')\"\n",
              "              title=\"Suggest charts.\"\n",
              "              style=\"display:none;\">\n",
              "\n",
              "<svg xmlns=\"http://www.w3.org/2000/svg\" height=\"24px\"viewBox=\"0 0 24 24\"\n",
              "     width=\"24px\">\n",
              "    <g>\n",
              "        <path d=\"M19 3H5c-1.1 0-2 .9-2 2v14c0 1.1.9 2 2 2h14c1.1 0 2-.9 2-2V5c0-1.1-.9-2-2-2zM9 17H7v-7h2v7zm4 0h-2V7h2v10zm4 0h-2v-4h2v4z\"/>\n",
              "    </g>\n",
              "</svg>\n",
              "      </button>\n",
              "    </div>\n",
              "\n",
              "<style>\n",
              "  .colab-df-quickchart {\n",
              "    background-color: #E8F0FE;\n",
              "    border: none;\n",
              "    border-radius: 50%;\n",
              "    cursor: pointer;\n",
              "    display: none;\n",
              "    fill: #1967D2;\n",
              "    height: 32px;\n",
              "    padding: 0 0 0 0;\n",
              "    width: 32px;\n",
              "  }\n",
              "\n",
              "  .colab-df-quickchart:hover {\n",
              "    background-color: #E2EBFA;\n",
              "    box-shadow: 0px 1px 2px rgba(60, 64, 67, 0.3), 0px 1px 3px 1px rgba(60, 64, 67, 0.15);\n",
              "    fill: #174EA6;\n",
              "  }\n",
              "\n",
              "  [theme=dark] .colab-df-quickchart {\n",
              "    background-color: #3B4455;\n",
              "    fill: #D2E3FC;\n",
              "  }\n",
              "\n",
              "  [theme=dark] .colab-df-quickchart:hover {\n",
              "    background-color: #434B5C;\n",
              "    box-shadow: 0px 1px 3px 1px rgba(0, 0, 0, 0.15);\n",
              "    filter: drop-shadow(0px 1px 2px rgba(0, 0, 0, 0.3));\n",
              "    fill: #FFFFFF;\n",
              "  }\n",
              "</style>\n",
              "\n",
              "    <script>\n",
              "      async function quickchart(key) {\n",
              "        const containerElement = document.querySelector('#' + key);\n",
              "        const charts = await google.colab.kernel.invokeFunction(\n",
              "            'suggestCharts', [key], {});\n",
              "      }\n",
              "    </script>\n",
              "\n",
              "      <script>\n",
              "\n",
              "function displayQuickchartButton(domScope) {\n",
              "  let quickchartButtonEl =\n",
              "    domScope.querySelector('#df-76138388-fd82-4e65-8089-78475ac6c837 button.colab-df-quickchart');\n",
              "  quickchartButtonEl.style.display =\n",
              "    google.colab.kernel.accessAllowed ? 'block' : 'none';\n",
              "}\n",
              "\n",
              "        displayQuickchartButton(document);\n",
              "      </script>\n",
              "      <style>\n",
              "    .colab-df-container {\n",
              "      display:flex;\n",
              "      flex-wrap:wrap;\n",
              "      gap: 12px;\n",
              "    }\n",
              "\n",
              "    .colab-df-convert {\n",
              "      background-color: #E8F0FE;\n",
              "      border: none;\n",
              "      border-radius: 50%;\n",
              "      cursor: pointer;\n",
              "      display: none;\n",
              "      fill: #1967D2;\n",
              "      height: 32px;\n",
              "      padding: 0 0 0 0;\n",
              "      width: 32px;\n",
              "    }\n",
              "\n",
              "    .colab-df-convert:hover {\n",
              "      background-color: #E2EBFA;\n",
              "      box-shadow: 0px 1px 2px rgba(60, 64, 67, 0.3), 0px 1px 3px 1px rgba(60, 64, 67, 0.15);\n",
              "      fill: #174EA6;\n",
              "    }\n",
              "\n",
              "    [theme=dark] .colab-df-convert {\n",
              "      background-color: #3B4455;\n",
              "      fill: #D2E3FC;\n",
              "    }\n",
              "\n",
              "    [theme=dark] .colab-df-convert:hover {\n",
              "      background-color: #434B5C;\n",
              "      box-shadow: 0px 1px 3px 1px rgba(0, 0, 0, 0.15);\n",
              "      filter: drop-shadow(0px 1px 2px rgba(0, 0, 0, 0.3));\n",
              "      fill: #FFFFFF;\n",
              "    }\n",
              "  </style>\n",
              "\n",
              "      <script>\n",
              "        const buttonEl =\n",
              "          document.querySelector('#df-e2b0cd11-d4f5-4676-8a0e-937cc9469e48 button.colab-df-convert');\n",
              "        buttonEl.style.display =\n",
              "          google.colab.kernel.accessAllowed ? 'block' : 'none';\n",
              "\n",
              "        async function convertToInteractive(key) {\n",
              "          const element = document.querySelector('#df-e2b0cd11-d4f5-4676-8a0e-937cc9469e48');\n",
              "          const dataTable =\n",
              "            await google.colab.kernel.invokeFunction('convertToInteractive',\n",
              "                                                     [key], {});\n",
              "          if (!dataTable) return;\n",
              "\n",
              "          const docLinkHtml = 'Like what you see? Visit the ' +\n",
              "            '<a target=\"_blank\" href=https://colab.research.google.com/notebooks/data_table.ipynb>data table notebook</a>'\n",
              "            + ' to learn more about interactive tables.';\n",
              "          element.innerHTML = '';\n",
              "          dataTable['output_type'] = 'display_data';\n",
              "          await google.colab.output.renderOutput(dataTable, element);\n",
              "          const docLink = document.createElement('div');\n",
              "          docLink.innerHTML = docLinkHtml;\n",
              "          element.appendChild(docLink);\n",
              "        }\n",
              "      </script>\n",
              "    </div>\n",
              "  </div>\n"
            ]
          },
          "metadata": {},
          "execution_count": 4
        }
      ]
    },
    {
      "cell_type": "code",
      "source": [
        "data = data.drop(columns = ['Unnamed: 0'])"
      ],
      "metadata": {
        "id": "Ay16WF_5f0Dm"
      },
      "execution_count": 5,
      "outputs": []
    },
    {
      "cell_type": "code",
      "source": [
        "data.shape"
      ],
      "metadata": {
        "colab": {
          "base_uri": "https://localhost:8080/"
        },
        "id": "ZW4uGhBhf0FL",
        "outputId": "f633369c-1221-4448-cc05-a6352ca7196e"
      },
      "execution_count": 6,
      "outputs": [
        {
          "output_type": "execute_result",
          "data": {
            "text/plain": [
              "(307511, 245)"
            ]
          },
          "metadata": {},
          "execution_count": 6
        }
      ]
    },
    {
      "cell_type": "code",
      "source": [
        "from sklearn.model_selection import train_test_split\n",
        "train, test  = train_test_split(data, test_size = 0.30,\n",
        "                                                    random_state = 1)"
      ],
      "metadata": {
        "id": "EerfnEa6f0G0"
      },
      "execution_count": 7,
      "outputs": []
    },
    {
      "cell_type": "code",
      "source": [
        "X_train = train.drop(columns = ['TARGET'])\n",
        "y_train = train.iloc[:, -6]"
      ],
      "metadata": {
        "id": "MkG4vTz8f0Iz"
      },
      "execution_count": 8,
      "outputs": []
    },
    {
      "cell_type": "code",
      "source": [
        "X_test = test.drop(columns = ['TARGET'])\n",
        "y_test = test.iloc[:, -6]"
      ],
      "metadata": {
        "id": "kKWS1m3zf0Kv"
      },
      "execution_count": 9,
      "outputs": []
    },
    {
      "cell_type": "code",
      "source": [
        "y_train.astype(int).plot.hist()"
      ],
      "metadata": {
        "colab": {
          "base_uri": "https://localhost:8080/",
          "height": 447
        },
        "id": "CVWw4n8VgWJ1",
        "outputId": "669a6558-7414-41a7-9104-9a34fbdc43aa"
      },
      "execution_count": 10,
      "outputs": [
        {
          "output_type": "execute_result",
          "data": {
            "text/plain": [
              "<Axes: ylabel='Frequency'>"
            ]
          },
          "metadata": {},
          "execution_count": 10
        },
        {
          "output_type": "display_data",
          "data": {
            "text/plain": [
              "<Figure size 640x480 with 1 Axes>"
            ],
            "image/png": "[encoded data removed]"
          },
          "metadata": {}
        }
      ]
    },
    {
      "cell_type": "code",
      "source": [
        "from sklearn.preprocessing import MinMaxScaler\n",
        "from sklearn.impute import SimpleImputer\n",
        "\n",
        "# Drop the target from the training data\n",
        "\n",
        "train = X_train.copy()\n",
        "\n",
        "# Feature names\n",
        "features = list(train.columns)\n",
        "\n",
        "# Copy of the testing data\n",
        "test = X_test.copy()\n",
        "\n",
        "# Median imputation of missing values\n",
        "imputer = SimpleImputer(strategy = 'median')\n",
        "\n",
        "# Scale each feature to 0-1\n",
        "scaler = MinMaxScaler(feature_range = (0, 1))\n",
        "\n",
        "# Fit on the training data\n",
        "imputer.fit(train)\n",
        "\n",
        "# Transform both training and testing data\n",
        "train = imputer.transform(train)\n",
        "test = imputer.transform(test)\n",
        "\n",
        "# Repeat with the scaler\n",
        "scaler.fit(train)\n",
        "train = scaler.transform(train)\n",
        "test = scaler.transform(test)\n",
        "\n",
        "print('Training data shape: ', train.shape)\n",
        "print('Testing data shape: ', test.shape)"
      ],
      "metadata": {
        "colab": {
          "base_uri": "https://localhost:8080/"
        },
        "id": "l0us0hPUgYaz",
        "outputId": "f68f2b12-ee24-4361-b1b0-20bcf01c759f"
      },
      "execution_count": null,
      "outputs": [
        {
          "output_type": "stream",
          "name": "stdout",
          "text": [
            "Training data shape:  (215257, 244)\n",
            "Testing data shape:  (92254, 244)\n"
          ]
        }
      ]
    },
    {
      "cell_type": "code",
      "source": [
        "from imblearn.over_sampling import SMOTE\n",
        "\n",
        "sm = SMOTE(random_state = 2)\n",
        "X_train_res, y_train_res = sm.fit_resample(train, y_train.ravel())\n",
        "\n",
        "print('After OverSampling, the shape of train_X: {}'.format(X_train_res.shape))\n",
        "print('After OverSampling, the shape of train_y: {} \\n'.format(y_train_res.shape))\n",
        "\n",
        "print(\"After OverSampling, counts of label '1': {}\".format(sum(y_train_res == 1)))\n",
        "print(\"After OverSampling, counts of label '0': {}\".format(sum(y_train_res == 0)))"
      ],
      "metadata": {
        "colab": {
          "base_uri": "https://localhost:8080/"
        },
        "id": "0tzdUXVPgaPn",
        "outputId": "a8decc04-9e73-4cd6-929f-600869307810"
      },
      "execution_count": null,
      "outputs": [
        {
          "output_type": "stream",
          "name": "stdout",
          "text": [
            "After OverSampling, the shape of train_X: (395798, 244)\n",
            "After OverSampling, the shape of train_y: (395798,) \n",
            "\n",
            "After OverSampling, counts of label '1': 197899\n",
            "After OverSampling, counts of label '0': 197899\n"
          ]
        }
      ]
    },
    {
      "cell_type": "code",
      "source": [
        "import lightgbm as lgb\n",
        "from lightgbm import LGBMClassifier\n",
        "from sklearn.metrics import confusion_matrix, classification_report\n",
        "model = LGBMClassifier()\n",
        "model.fit(X_train_res, y_train_res)"
      ],
      "metadata": {
        "colab": {
          "base_uri": "https://localhost:8080/",
          "height": 74
        },
        "id": "gGtZzbMdgbsP",
        "outputId": "e1386756-5996-4c93-80dd-d5ad12c6ef5b"
      },
      "execution_count": null,
      "outputs": [
        {
          "output_type": "execute_result",
          "data": {
            "text/plain": [
              "LGBMClassifier()"
            ],
            "text/html": [
              "<style>#sk-container-id-1 {color: black;background-color: white;}#sk-container-id-1 pre{padding: 0;}#sk-container-id-1 div.sk-toggleable {background-color: white;}#sk-container-id-1 label.sk-toggleable__label {cursor: pointer;display: block;width: 100%;margin-bottom: 0;padding: 0.3em;box-sizing: border-box;text-align: center;}#sk-container-id-1 label.sk-toggleable__label-arrow:before {content: \"▸\";float: left;margin-right: 0.25em;color: #696969;}#sk-container-id-1 label.sk-toggleable__label-arrow:hover:before {color: black;}#sk-container-id-1 div.sk-estimator:hover label.sk-toggleable__label-arrow:before {color: black;}#sk-container-id-1 div.sk-toggleable__content {max-height: 0;max-width: 0;overflow: hidden;text-align: left;background-color: #f0f8ff;}#sk-container-id-1 div.sk-toggleable__content pre {margin: 0.2em;color: black;border-radius: 0.25em;background-color: #f0f8ff;}#sk-container-id-1 input.sk-toggleable__control:checked~div.sk-toggleable__content {max-height: 200px;max-width: 100%;overflow: auto;}#sk-container-id-1 input.sk-toggleable__control:checked~label.sk-toggleable__label-arrow:before {content: \"▾\";}#sk-container-id-1 div.sk-estimator input.sk-toggleable__control:checked~label.sk-toggleable__label {background-color: #d4ebff;}#sk-container-id-1 div.sk-label input.sk-toggleable__control:checked~label.sk-toggleable__label {background-color: #d4ebff;}#sk-container-id-1 input.sk-hidden--visually {border: 0;clip: rect(1px 1px 1px 1px);clip: rect(1px, 1px, 1px, 1px);height: 1px;margin: -1px;overflow: hidden;padding: 0;position: absolute;width: 1px;}#sk-container-id-1 div.sk-estimator {font-family: monospace;background-color: #f0f8ff;border: 1px dotted black;border-radius: 0.25em;box-sizing: border-box;margin-bottom: 0.5em;}#sk-container-id-1 div.sk-estimator:hover {background-color: #d4ebff;}#sk-container-id-1 div.sk-parallel-item::after {content: \"\";width: 100%;border-bottom: 1px solid gray;flex-grow: 1;}#sk-container-id-1 div.sk-label:hover label.sk-toggleable__label {background-color: #d4ebff;}#sk-container-id-1 div.sk-serial::before {content: \"\";position: absolute;border-left: 1px solid gray;box-sizing: border-box;top: 0;bottom: 0;left: 50%;z-index: 0;}#sk-container-id-1 div.sk-serial {display: flex;flex-direction: column;align-items: center;background-color: white;padding-right: 0.2em;padding-left: 0.2em;position: relative;}#sk-container-id-1 div.sk-item {position: relative;z-index: 1;}#sk-container-id-1 div.sk-parallel {display: flex;align-items: stretch;justify-content: center;background-color: white;position: relative;}#sk-container-id-1 div.sk-item::before, #sk-container-id-1 div.sk-parallel-item::before {content: \"\";position: absolute;border-left: 1px solid gray;box-sizing: border-box;top: 0;bottom: 0;left: 50%;z-index: -1;}#sk-container-id-1 div.sk-parallel-item {display: flex;flex-direction: column;z-index: 1;position: relative;background-color: white;}#sk-container-id-1 div.sk-parallel-item:first-child::after {align-self: flex-end;width: 50%;}#sk-container-id-1 div.sk-parallel-item:last-child::after {align-self: flex-start;width: 50%;}#sk-container-id-1 div.sk-parallel-item:only-child::after {width: 0;}#sk-container-id-1 div.sk-dashed-wrapped {border: 1px dashed gray;margin: 0 0.4em 0.5em 0.4em;box-sizing: border-box;padding-bottom: 0.4em;background-color: white;}#sk-container-id-1 div.sk-label label {font-family: monospace;font-weight: bold;display: inline-block;line-height: 1.2em;}#sk-container-id-1 div.sk-label-container {text-align: center;}#sk-container-id-1 div.sk-container {/* jupyter's `normalize.less` sets `[hidden] { display: none; }` but bootstrap.min.css set `[hidden] { display: none !important; }` so we also need the `!important` here to be able to override the default hidden behavior on the sphinx rendered scikit-learn.org. See: https://github.com/scikit-learn/scikit-learn/issues/21755 */display: inline-block !important;position: relative;}#sk-container-id-1 div.sk-text-repr-fallback {display: none;}</style><div id=\"sk-container-id-1\" class=\"sk-top-container\"><div class=\"sk-text-repr-fallback\"><pre>LGBMClassifier()</pre><b>In a Jupyter environment, please rerun this cell to show the HTML representation or trust the notebook. <br />On GitHub, the HTML representation is unable to render, please try loading this page with nbviewer.org.</b></div><div class=\"sk-container\" hidden><div class=\"sk-item\"><div class=\"sk-estimator sk-toggleable\"><input class=\"sk-toggleable__control sk-hidden--visually\" id=\"sk-estimator-id-1\" type=\"checkbox\" checked><label for=\"sk-estimator-id-1\" class=\"sk-toggleable__label sk-toggleable__label-arrow\">LGBMClassifier</label><div class=\"sk-toggleable__content\"><pre>LGBMClassifier()</pre></div></div></div></div></div>"
            ]
          },
          "metadata": {},
          "execution_count": 13
        }
      ]
    },
    {
      "cell_type": "code",
      "source": [
        "pip install eli5"
      ],
      "metadata": {
        "colab": {
          "base_uri": "https://localhost:8080/"
        },
        "id": "Nco8zSMUhBWp",
        "outputId": "29d9fa41-a8dd-498f-92f6-768c2627ead5"
      },
      "execution_count": null,
      "outputs": [
        {
          "output_type": "stream",
          "name": "stdout",
          "text": [
            "Collecting eli5\n",
            "  Downloading eli5-0.13.0.tar.gz (216 kB)\n",
            "\u001b[?25l     \u001b[90m━━━━━━━━━━━━━━━━━━━━━━━━━━━━━━━━━━━━━━━━\u001b[0m \u001b[32m0.0/216.2 kB\u001b[0m \u001b[31m?\u001b[0m eta \u001b[36m-:--:--\u001b[0m\r\u001b[2K     \u001b[91m━━━━━━━━━━━━━━━━━━━━━━━━━━━━━━━━━━━━━━\u001b[0m\u001b[91m╸\u001b[0m \u001b[32m215.0/216.2 kB\u001b[0m \u001b[31m6.9 MB/s\u001b[0m eta \u001b[36m0:00:01\u001b[0m\r\u001b[2K     \u001b[90m━━━━━━━━━━━━━━━━━━━━━━━━━━━━━━━━━━━━━━━\u001b[0m \u001b[32m216.2/216.2 kB\u001b[0m \u001b[31m5.0 MB/s\u001b[0m eta \u001b[36m0:00:00\u001b[0m\n",
            "\u001b[?25h  Preparing metadata (setup.py) ... \u001b[?25l\u001b[?25hdone\n",
            "Requirement already satisfied: attrs>17.1.0 in /usr/local/lib/python3.10/dist-packages (from eli5) (23.1.0)\n",
            "Requirement already satisfied: jinja2>=3.0.0 in /usr/local/lib/python3.10/dist-packages (from eli5) (3.1.2)\n",
            "Requirement already satisfied: numpy>=1.9.0 in /usr/local/lib/python3.10/dist-packages (from eli5) (1.22.4)\n",
            "Requirement already satisfied: scipy in /usr/local/lib/python3.10/dist-packages (from eli5) (1.10.1)\n",
            "Requirement already satisfied: six in /usr/local/lib/python3.10/dist-packages (from eli5) (1.16.0)\n",
            "Requirement already satisfied: scikit-learn>=0.20 in /usr/local/lib/python3.10/dist-packages (from eli5) (1.2.2)\n",
            "Requirement already satisfied: graphviz in /usr/local/lib/python3.10/dist-packages (from eli5) (0.20.1)\n",
            "Requirement already satisfied: tabulate>=0.7.7 in /usr/local/lib/python3.10/dist-packages (from eli5) (0.8.10)\n",
            "Requirement already satisfied: MarkupSafe>=2.0 in /usr/local/lib/python3.10/dist-packages (from jinja2>=3.0.0->eli5) (2.1.3)\n",
            "Requirement already satisfied: joblib>=1.1.1 in /usr/local/lib/python3.10/dist-packages (from scikit-learn>=0.20->eli5) (1.2.0)\n",
            "Requirement already satisfied: threadpoolctl>=2.0.0 in /usr/local/lib/python3.10/dist-packages (from scikit-learn>=0.20->eli5) (3.1.0)\n",
            "Building wheels for collected packages: eli5\n",
            "  Building wheel for eli5 (setup.py) ... \u001b[?25l\u001b[?25hdone\n",
            "  Created wheel for eli5: filename=eli5-0.13.0-py2.py3-none-any.whl size=107730 sha256=0223c2bcba51801bd0b4ff32da1ae4f6d8902aad6b71746134bbc0f09b23ccff\n",
            "  Stored in directory: /root/.cache/pip/wheels/b8/58/ef/2cf4c306898c2338d51540e0922c8e0d6028e07007085c0004\n",
            "Successfully built eli5\n",
            "Installing collected packages: eli5\n",
            "Successfully installed eli5-0.13.0\n"
          ]
        }
      ]
    },
    {
      "cell_type": "code",
      "source": [
        "import eli5\n",
        "from eli5.sklearn import *"
      ],
      "metadata": {
        "id": "Oq9tI1j2g9m6"
      },
      "execution_count": null,
      "outputs": []
    },
    {
      "cell_type": "code",
      "source": [
        "train_col = data.drop(columns = ['TARGET'])"
      ],
      "metadata": {
        "id": "8XA5c4b9g_pY"
      },
      "execution_count": null,
      "outputs": []
    },
    {
      "cell_type": "code",
      "source": [
        "%load_ext google.colab.data_table"
      ],
      "metadata": {
        "id": "I0SJxKenhGNr"
      },
      "execution_count": null,
      "outputs": []
    },
    {
      "cell_type": "code",
      "source": [
        "perm = PermutationImportance(model, random_state = 1)\n",
        "perm.fit(test, y_test)\n",
        "eli5.show_weights(perm, feature_names = train_col.columns.tolist())"
      ],
      "metadata": {
        "colab": {
          "base_uri": "https://localhost:8080/",
          "height": 399
        },
        "id": "TM_3f8JbhGQc",
        "outputId": "e9073166-0111-49b4-f509-9d8b426beb2e"
      },
      "execution_count": null,
      "outputs": [
        {
          "output_type": "execute_result",
          "data": {
            "text/plain": [
              "<IPython.core.display.HTML object>"
            ],
            "text/html": [
              "\n",
              "    <style>\n",
              "    table.eli5-weights tr:hover {\n",
              "        filter: brightness(85%);\n",
              "    }\n",
              "</style>\n",
              "\n",
              "\n",
              "\n",
              "    \n",
              "\n",
              "    \n",
              "\n",
              "    \n",
              "\n",
              "    \n",
              "\n",
              "    \n",
              "\n",
              "    \n",
              "\n",
              "\n",
              "    \n",
              "\n",
              "    \n",
              "\n",
              "    \n",
              "\n",
              "    \n",
              "\n",
              "    \n",
              "\n",
              "    \n",
              "\n",
              "\n",
              "    \n",
              "\n",
              "    \n",
              "\n",
              "    \n",
              "\n",
              "    \n",
              "\n",
              "    \n",
              "        <table class=\"eli5-weights eli5-feature-importances\" style=\"border-collapse: collapse; border: none; margin-top: 0em; table-layout: auto;\">\n",
              "    <thead>\n",
              "    <tr style=\"border: none;\">\n",
              "        <th style=\"padding: 0 1em 0 0.5em; text-align: right; border: none;\">Weight</th>\n",
              "        <th style=\"padding: 0 0.5em 0 0.5em; text-align: left; border: none;\">Feature</th>\n",
              "    </tr>\n",
              "    </thead>\n",
              "    <tbody>\n",
              "    \n",
              "        <tr style=\"background-color: hsl(120, 100.00%, 80.00%); border: none;\">\n",
              "            <td style=\"padding: 0 1em 0 0.5em; text-align: right; border: none;\">\n",
              "                0.0009\n",
              "                \n",
              "                    &plusmn; 0.0003\n",
              "                \n",
              "            </td>\n",
              "            <td style=\"padding: 0 0.5em 0 0.5em; text-align: left; border: none;\">\n",
              "                CODE_GENDER_M\n",
              "            </td>\n",
              "        </tr>\n",
              "    \n",
              "        <tr style=\"background-color: hsl(120, 100.00%, 81.30%); border: none;\">\n",
              "            <td style=\"padding: 0 1em 0 0.5em; text-align: right; border: none;\">\n",
              "                0.0009\n",
              "                \n",
              "                    &plusmn; 0.0002\n",
              "                \n",
              "            </td>\n",
              "            <td style=\"padding: 0 0.5em 0 0.5em; text-align: left; border: none;\">\n",
              "                CODE_GENDER_F\n",
              "            </td>\n",
              "        </tr>\n",
              "    \n",
              "        <tr style=\"background-color: hsl(120, 100.00%, 83.74%); border: none;\">\n",
              "            <td style=\"padding: 0 1em 0 0.5em; text-align: right; border: none;\">\n",
              "                0.0007\n",
              "                \n",
              "                    &plusmn; 0.0001\n",
              "                \n",
              "            </td>\n",
              "            <td style=\"padding: 0 0.5em 0 0.5em; text-align: left; border: none;\">\n",
              "                EXT_SOURCE_3\n",
              "            </td>\n",
              "        </tr>\n",
              "    \n",
              "        <tr style=\"background-color: hsl(120, 100.00%, 89.38%); border: none;\">\n",
              "            <td style=\"padding: 0 1em 0 0.5em; text-align: right; border: none;\">\n",
              "                0.0004\n",
              "                \n",
              "                    &plusmn; 0.0001\n",
              "                \n",
              "            </td>\n",
              "            <td style=\"padding: 0 0.5em 0 0.5em; text-align: left; border: none;\">\n",
              "                EXT_SOURCE_2\n",
              "            </td>\n",
              "        </tr>\n",
              "    \n",
              "        <tr style=\"background-color: hsl(120, 100.00%, 90.67%); border: none;\">\n",
              "            <td style=\"padding: 0 1em 0 0.5em; text-align: right; border: none;\">\n",
              "                0.0003\n",
              "                \n",
              "                    &plusmn; 0.0002\n",
              "                \n",
              "            </td>\n",
              "            <td style=\"padding: 0 0.5em 0 0.5em; text-align: left; border: none;\">\n",
              "                ELEVATORS_MODE\n",
              "            </td>\n",
              "        </tr>\n",
              "    \n",
              "        <tr style=\"background-color: hsl(120, 100.00%, 92.53%); border: none;\">\n",
              "            <td style=\"padding: 0 1em 0 0.5em; text-align: right; border: none;\">\n",
              "                0.0002\n",
              "                \n",
              "                    &plusmn; 0.0001\n",
              "                \n",
              "            </td>\n",
              "            <td style=\"padding: 0 0.5em 0 0.5em; text-align: left; border: none;\">\n",
              "                DAYS_BIRTH\n",
              "            </td>\n",
              "        </tr>\n",
              "    \n",
              "        <tr style=\"background-color: hsl(120, 100.00%, 94.07%); border: none;\">\n",
              "            <td style=\"padding: 0 1em 0 0.5em; text-align: right; border: none;\">\n",
              "                0.0002\n",
              "                \n",
              "                    &plusmn; 0.0001\n",
              "                \n",
              "            </td>\n",
              "            <td style=\"padding: 0 0.5em 0 0.5em; text-align: left; border: none;\">\n",
              "                CREDIT_TERM\n",
              "            </td>\n",
              "        </tr>\n",
              "    \n",
              "        <tr style=\"background-color: hsl(120, 100.00%, 94.40%); border: none;\">\n",
              "            <td style=\"padding: 0 1em 0 0.5em; text-align: right; border: none;\">\n",
              "                0.0002\n",
              "                \n",
              "                    &plusmn; 0.0000\n",
              "                \n",
              "            </td>\n",
              "            <td style=\"padding: 0 0.5em 0 0.5em; text-align: left; border: none;\">\n",
              "                FLAG_PHONE\n",
              "            </td>\n",
              "        </tr>\n",
              "    \n",
              "        <tr style=\"background-color: hsl(120, 100.00%, 94.90%); border: none;\">\n",
              "            <td style=\"padding: 0 1em 0 0.5em; text-align: right; border: none;\">\n",
              "                0.0001\n",
              "                \n",
              "                    &plusmn; 0.0001\n",
              "                \n",
              "            </td>\n",
              "            <td style=\"padding: 0 0.5em 0 0.5em; text-align: left; border: none;\">\n",
              "                AMT_REQ_CREDIT_BUREAU_QRT\n",
              "            </td>\n",
              "        </tr>\n",
              "    \n",
              "        <tr style=\"background-color: hsl(120, 100.00%, 95.19%); border: none;\">\n",
              "            <td style=\"padding: 0 1em 0 0.5em; text-align: right; border: none;\">\n",
              "                0.0001\n",
              "                \n",
              "                    &plusmn; 0.0001\n",
              "                \n",
              "            </td>\n",
              "            <td style=\"padding: 0 0.5em 0 0.5em; text-align: left; border: none;\">\n",
              "                EXT_SOURCE_1\n",
              "            </td>\n",
              "        </tr>\n",
              "    \n",
              "        <tr style=\"background-color: hsl(120, 100.00%, 95.55%); border: none;\">\n",
              "            <td style=\"padding: 0 1em 0 0.5em; text-align: right; border: none;\">\n",
              "                0.0001\n",
              "                \n",
              "                    &plusmn; 0.0002\n",
              "                \n",
              "            </td>\n",
              "            <td style=\"padding: 0 0.5em 0 0.5em; text-align: left; border: none;\">\n",
              "                AMT_GOODS_PRICE\n",
              "            </td>\n",
              "        </tr>\n",
              "    \n",
              "        <tr style=\"background-color: hsl(120, 100.00%, 95.61%); border: none;\">\n",
              "            <td style=\"padding: 0 1em 0 0.5em; text-align: right; border: none;\">\n",
              "                0.0001\n",
              "                \n",
              "                    &plusmn; 0.0002\n",
              "                \n",
              "            </td>\n",
              "            <td style=\"padding: 0 0.5em 0 0.5em; text-align: left; border: none;\">\n",
              "                AMT_REQ_CREDIT_BUREAU_YEAR\n",
              "            </td>\n",
              "        </tr>\n",
              "    \n",
              "        <tr style=\"background-color: hsl(120, 100.00%, 96.05%); border: none;\">\n",
              "            <td style=\"padding: 0 1em 0 0.5em; text-align: right; border: none;\">\n",
              "                0.0001\n",
              "                \n",
              "                    &plusmn; 0.0001\n",
              "                \n",
              "            </td>\n",
              "            <td style=\"padding: 0 0.5em 0 0.5em; text-align: left; border: none;\">\n",
              "                AMT_INCOME_TOTAL\n",
              "            </td>\n",
              "        </tr>\n",
              "    \n",
              "        <tr style=\"background-color: hsl(120, 100.00%, 96.12%); border: none;\">\n",
              "            <td style=\"padding: 0 1em 0 0.5em; text-align: right; border: none;\">\n",
              "                0.0001\n",
              "                \n",
              "                    &plusmn; 0.0001\n",
              "                \n",
              "            </td>\n",
              "            <td style=\"padding: 0 0.5em 0 0.5em; text-align: left; border: none;\">\n",
              "                NAME_INCOME_TYPE_Working\n",
              "            </td>\n",
              "        </tr>\n",
              "    \n",
              "        <tr style=\"background-color: hsl(120, 100.00%, 96.18%); border: none;\">\n",
              "            <td style=\"padding: 0 1em 0 0.5em; text-align: right; border: none;\">\n",
              "                0.0001\n",
              "                \n",
              "                    &plusmn; 0.0001\n",
              "                \n",
              "            </td>\n",
              "            <td style=\"padding: 0 0.5em 0 0.5em; text-align: left; border: none;\">\n",
              "                AMT_REQ_CREDIT_BUREAU_MON\n",
              "            </td>\n",
              "        </tr>\n",
              "    \n",
              "        <tr style=\"background-color: hsl(120, 100.00%, 96.38%); border: none;\">\n",
              "            <td style=\"padding: 0 1em 0 0.5em; text-align: right; border: none;\">\n",
              "                0.0001\n",
              "                \n",
              "                    &plusmn; 0.0001\n",
              "                \n",
              "            </td>\n",
              "            <td style=\"padding: 0 0.5em 0 0.5em; text-align: left; border: none;\">\n",
              "                CNT_CHILDREN\n",
              "            </td>\n",
              "        </tr>\n",
              "    \n",
              "        <tr style=\"background-color: hsl(120, 100.00%, 97.01%); border: none;\">\n",
              "            <td style=\"padding: 0 1em 0 0.5em; text-align: right; border: none;\">\n",
              "                0.0001\n",
              "                \n",
              "                    &plusmn; 0.0001\n",
              "                \n",
              "            </td>\n",
              "            <td style=\"padding: 0 0.5em 0 0.5em; text-align: left; border: none;\">\n",
              "                FLAG_OWN_CAR\n",
              "            </td>\n",
              "        </tr>\n",
              "    \n",
              "        <tr style=\"background-color: hsl(120, 100.00%, 97.01%); border: none;\">\n",
              "            <td style=\"padding: 0 1em 0 0.5em; text-align: right; border: none;\">\n",
              "                0.0001\n",
              "                \n",
              "                    &plusmn; 0.0001\n",
              "                \n",
              "            </td>\n",
              "            <td style=\"padding: 0 0.5em 0 0.5em; text-align: left; border: none;\">\n",
              "                DAYS_EMPLOYED\n",
              "            </td>\n",
              "        </tr>\n",
              "    \n",
              "        <tr style=\"background-color: hsl(120, 100.00%, 97.38%); border: none;\">\n",
              "            <td style=\"padding: 0 1em 0 0.5em; text-align: right; border: none;\">\n",
              "                0.0001\n",
              "                \n",
              "                    &plusmn; 0.0001\n",
              "                \n",
              "            </td>\n",
              "            <td style=\"padding: 0 0.5em 0 0.5em; text-align: left; border: none;\">\n",
              "                OBS_30_CNT_SOCIAL_CIRCLE\n",
              "            </td>\n",
              "        </tr>\n",
              "    \n",
              "        <tr style=\"background-color: hsl(120, 100.00%, 97.53%); border: none;\">\n",
              "            <td style=\"padding: 0 1em 0 0.5em; text-align: right; border: none;\">\n",
              "                0.0000\n",
              "                \n",
              "                    &plusmn; 0.0001\n",
              "                \n",
              "            </td>\n",
              "            <td style=\"padding: 0 0.5em 0 0.5em; text-align: left; border: none;\">\n",
              "                FLOORSMAX_MODE\n",
              "            </td>\n",
              "        </tr>\n",
              "    \n",
              "    \n",
              "        \n",
              "            <tr style=\"background-color: hsl(120, 100.00%, 97.53%); border: none;\">\n",
              "                <td colspan=\"2\" style=\"padding: 0 0.5em 0 0.5em; text-align: center; border: none; white-space: nowrap;\">\n",
              "                    <i>&hellip; 224 more &hellip;</i>\n",
              "                </td>\n",
              "            </tr>\n",
              "        \n",
              "    \n",
              "    </tbody>\n",
              "</table>\n",
              "    \n",
              "\n",
              "    \n",
              "\n",
              "\n",
              "    \n",
              "\n",
              "    \n",
              "\n",
              "    \n",
              "\n",
              "    \n",
              "\n",
              "    \n",
              "\n",
              "    \n",
              "\n",
              "\n",
              "\n"
            ]
          },
          "metadata": {},
          "execution_count": 21
        }
      ]
    },
    {
      "cell_type": "code",
      "source": [
        "eli5.explain_weights_df(perm, feature_names = train_col.columns.tolist())"
      ],
      "metadata": {
        "colab": {
          "base_uri": "https://localhost:8080/",
          "height": 664
        },
        "id": "ARZk40DwhGSO",
        "outputId": "a46b5bc1-64ea-41a3-e0e3-2a46d55b16a9"
      },
      "execution_count": null,
      "outputs": [
        {
          "output_type": "execute_result",
          "data": {
            "text/plain": [
              "                      feature    weight       std\n",
              "0               CODE_GENDER_M  0.000947  0.000128\n",
              "1               CODE_GENDER_F  0.000861  0.000115\n",
              "2                EXT_SOURCE_3  0.000705  0.000069\n",
              "3                EXT_SOURCE_2  0.000384  0.000074\n",
              "4              ELEVATORS_MODE  0.000319  0.000093\n",
              "..                        ...       ...       ...\n",
              "239                AMT_CREDIT -0.000039  0.000067\n",
              "240     DAYS_EMPLOYED_PERCENT -0.000039  0.000039\n",
              "241                SK_ID_CURR -0.000039  0.000028\n",
              "242  WALLSMATERIAL_MODE_Panel -0.000041  0.000032\n",
              "243   HOUR_APPR_PROCESS_START -0.000043  0.000036\n",
              "\n",
              "[244 rows x 3 columns]"
            ],
            "text/html": [
              "\n",
              "\n",
              "  <div id=\"df-57aef638-00b1-4255-a0eb-8013bbdeefcb\">\n",
              "    <div class=\"colab-df-container\">\n",
              "      <div>\n",
              "<style scoped>\n",
              "    .dataframe tbody tr th:only-of-type {\n",
              "        vertical-align: middle;\n",
              "    }\n",
              "\n",
              "    .dataframe tbody tr th {\n",
              "        vertical-align: top;\n",
              "    }\n",
              "\n",
              "    .dataframe thead th {\n",
              "        text-align: right;\n",
              "    }\n",
              "</style>\n",
              "<table border=\"1\" class=\"dataframe\">\n",
              "  <thead>\n",
              "    <tr style=\"text-align: right;\">\n",
              "      <th></th>\n",
              "      <th>feature</th>\n",
              "      <th>weight</th>\n",
              "      <th>std</th>\n",
              "    </tr>\n",
              "  </thead>\n",
              "  <tbody>\n",
              "    <tr>\n",
              "      <th>0</th>\n",
              "      <td>CODE_GENDER_M</td>\n",
              "      <td>0.000947</td>\n",
              "      <td>0.000128</td>\n",
              "    </tr>\n",
              "    <tr>\n",
              "      <th>1</th>\n",
              "      <td>CODE_GENDER_F</td>\n",
              "      <td>0.000861</td>\n",
              "      <td>0.000115</td>\n",
              "    </tr>\n",
              "    <tr>\n",
              "      <th>2</th>\n",
              "      <td>EXT_SOURCE_3</td>\n",
              "      <td>0.000705</td>\n",
              "      <td>0.000069</td>\n",
              "    </tr>\n",
              "    <tr>\n",
              "      <th>3</th>\n",
              "      <td>EXT_SOURCE_2</td>\n",
              "      <td>0.000384</td>\n",
              "      <td>0.000074</td>\n",
              "    </tr>\n",
              "    <tr>\n",
              "      <th>4</th>\n",
              "      <td>ELEVATORS_MODE</td>\n",
              "      <td>0.000319</td>\n",
              "      <td>0.000093</td>\n",
              "    </tr>\n",
              "    <tr>\n",
              "      <th>...</th>\n",
              "      <td>...</td>\n",
              "      <td>...</td>\n",
              "      <td>...</td>\n",
              "    </tr>\n",
              "    <tr>\n",
              "      <th>239</th>\n",
              "      <td>AMT_CREDIT</td>\n",
              "      <td>-0.000039</td>\n",
              "      <td>0.000067</td>\n",
              "    </tr>\n",
              "    <tr>\n",
              "      <th>240</th>\n",
              "      <td>DAYS_EMPLOYED_PERCENT</td>\n",
              "      <td>-0.000039</td>\n",
              "      <td>0.000039</td>\n",
              "    </tr>\n",
              "    <tr>\n",
              "      <th>241</th>\n",
              "      <td>SK_ID_CURR</td>\n",
              "      <td>-0.000039</td>\n",
              "      <td>0.000028</td>\n",
              "    </tr>\n",
              "    <tr>\n",
              "      <th>242</th>\n",
              "      <td>WALLSMATERIAL_MODE_Panel</td>\n",
              "      <td>-0.000041</td>\n",
              "      <td>0.000032</td>\n",
              "    </tr>\n",
              "    <tr>\n",
              "      <th>243</th>\n",
              "      <td>HOUR_APPR_PROCESS_START</td>\n",
              "      <td>-0.000043</td>\n",
              "      <td>0.000036</td>\n",
              "    </tr>\n",
              "  </tbody>\n",
              "</table>\n",
              "<p>244 rows × 3 columns</p>\n",
              "</div>\n",
              "      <button class=\"colab-df-convert\" onclick=\"convertToInteractive('df-57aef638-00b1-4255-a0eb-8013bbdeefcb')\"\n",
              "              title=\"Convert this dataframe to an interactive table.\"\n",
              "              style=\"display:none;\">\n",
              "\n",
              "  <svg xmlns=\"http://www.w3.org/2000/svg\" height=\"24px\"viewBox=\"0 0 24 24\"\n",
              "       width=\"24px\">\n",
              "    <path d=\"M0 0h24v24H0V0z\" fill=\"none\"/>\n",
              "    <path d=\"M18.56 5.44l.94 2.06.94-2.06 2.06-.94-2.06-.94-.94-2.06-.94 2.06-2.06.94zm-11 1L8.5 8.5l.94-2.06 2.06-.94-2.06-.94L8.5 2.5l-.94 2.06-2.06.94zm10 10l.94 2.06.94-2.06 2.06-.94-2.06-.94-.94-2.06-.94 2.06-2.06.94z\"/><path d=\"M17.41 7.96l-1.37-1.37c-.4-.4-.92-.59-1.43-.59-.52 0-1.04.2-1.43.59L10.3 9.45l-7.72 7.72c-.78.78-.78 2.05 0 2.83L4 21.41c.39.39.9.59 1.41.59.51 0 1.02-.2 1.41-.59l7.78-7.78 2.81-2.81c.8-.78.8-2.07 0-2.86zM5.41 20L4 18.59l7.72-7.72 1.47 1.35L5.41 20z\"/>\n",
              "  </svg>\n",
              "      </button>\n",
              "\n",
              "\n",
              "\n",
              "    <div id=\"df-0c6ef05c-22c2-448a-84ce-4581d7078336\">\n",
              "      <button class=\"colab-df-quickchart\" onclick=\"quickchart('df-0c6ef05c-22c2-448a-84ce-4581d7078336')\"\n",
              "              title=\"Suggest charts.\"\n",
              "              style=\"display:none;\">\n",
              "\n",
              "<svg xmlns=\"http://www.w3.org/2000/svg\" height=\"24px\"viewBox=\"0 0 24 24\"\n",
              "     width=\"24px\">\n",
              "    <g>\n",
              "        <path d=\"M19 3H5c-1.1 0-2 .9-2 2v14c0 1.1.9 2 2 2h14c1.1 0 2-.9 2-2V5c0-1.1-.9-2-2-2zM9 17H7v-7h2v7zm4 0h-2V7h2v10zm4 0h-2v-4h2v4z\"/>\n",
              "    </g>\n",
              "</svg>\n",
              "      </button>\n",
              "    </div>\n",
              "\n",
              "<style>\n",
              "  .colab-df-quickchart {\n",
              "    background-color: #E8F0FE;\n",
              "    border: none;\n",
              "    border-radius: 50%;\n",
              "    cursor: pointer;\n",
              "    display: none;\n",
              "    fill: #1967D2;\n",
              "    height: 32px;\n",
              "    padding: 0 0 0 0;\n",
              "    width: 32px;\n",
              "  }\n",
              "\n",
              "  .colab-df-quickchart:hover {\n",
              "    background-color: #E2EBFA;\n",
              "    box-shadow: 0px 1px 2px rgba(60, 64, 67, 0.3), 0px 1px 3px 1px rgba(60, 64, 67, 0.15);\n",
              "    fill: #174EA6;\n",
              "  }\n",
              "\n",
              "  [theme=dark] .colab-df-quickchart {\n",
              "    background-color: #3B4455;\n",
              "    fill: #D2E3FC;\n",
              "  }\n",
              "\n",
              "  [theme=dark] .colab-df-quickchart:hover {\n",
              "    background-color: #434B5C;\n",
              "    box-shadow: 0px 1px 3px 1px rgba(0, 0, 0, 0.15);\n",
              "    filter: drop-shadow(0px 1px 2px rgba(0, 0, 0, 0.3));\n",
              "    fill: #FFFFFF;\n",
              "  }\n",
              "</style>\n",
              "\n",
              "    <script>\n",
              "      async function quickchart(key) {\n",
              "        const containerElement = document.querySelector('#' + key);\n",
              "        const charts = await google.colab.kernel.invokeFunction(\n",
              "            'suggestCharts', [key], {});\n",
              "      }\n",
              "    </script>\n",
              "\n",
              "      <script>\n",
              "\n",
              "function displayQuickchartButton(domScope) {\n",
              "  let quickchartButtonEl =\n",
              "    domScope.querySelector('#df-0c6ef05c-22c2-448a-84ce-4581d7078336 button.colab-df-quickchart');\n",
              "  quickchartButtonEl.style.display =\n",
              "    google.colab.kernel.accessAllowed ? 'block' : 'none';\n",
              "}\n",
              "\n",
              "        displayQuickchartButton(document);\n",
              "      </script>\n",
              "      <style>\n",
              "    .colab-df-container {\n",
              "      display:flex;\n",
              "      flex-wrap:wrap;\n",
              "      gap: 12px;\n",
              "    }\n",
              "\n",
              "    .colab-df-convert {\n",
              "      background-color: #E8F0FE;\n",
              "      border: none;\n",
              "      border-radius: 50%;\n",
              "      cursor: pointer;\n",
              "      display: none;\n",
              "      fill: #1967D2;\n",
              "      height: 32px;\n",
              "      padding: 0 0 0 0;\n",
              "      width: 32px;\n",
              "    }\n",
              "\n",
              "    .colab-df-convert:hover {\n",
              "      background-color: #E2EBFA;\n",
              "      box-shadow: 0px 1px 2px rgba(60, 64, 67, 0.3), 0px 1px 3px 1px rgba(60, 64, 67, 0.15);\n",
              "      fill: #174EA6;\n",
              "    }\n",
              "\n",
              "    [theme=dark] .colab-df-convert {\n",
              "      background-color: #3B4455;\n",
              "      fill: #D2E3FC;\n",
              "    }\n",
              "\n",
              "    [theme=dark] .colab-df-convert:hover {\n",
              "      background-color: #434B5C;\n",
              "      box-shadow: 0px 1px 3px 1px rgba(0, 0, 0, 0.15);\n",
              "      filter: drop-shadow(0px 1px 2px rgba(0, 0, 0, 0.3));\n",
              "      fill: #FFFFFF;\n",
              "    }\n",
              "  </style>\n",
              "\n",
              "      <script>\n",
              "        const buttonEl =\n",
              "          document.querySelector('#df-57aef638-00b1-4255-a0eb-8013bbdeefcb button.colab-df-convert');\n",
              "        buttonEl.style.display =\n",
              "          google.colab.kernel.accessAllowed ? 'block' : 'none';\n",
              "\n",
              "        async function convertToInteractive(key) {\n",
              "          const element = document.querySelector('#df-57aef638-00b1-4255-a0eb-8013bbdeefcb');\n",
              "          const dataTable =\n",
              "            await google.colab.kernel.invokeFunction('convertToInteractive',\n",
              "                                                     [key], {});\n",
              "          if (!dataTable) return;\n",
              "\n",
              "          const docLinkHtml = 'Like what you see? Visit the ' +\n",
              "            '<a target=\"_blank\" href=https://colab.research.google.com/notebooks/data_table.ipynb>data table notebook</a>'\n",
              "            + ' to learn more about interactive tables.';\n",
              "          element.innerHTML = '';\n",
              "          dataTable['output_type'] = 'display_data';\n",
              "          await google.colab.output.renderOutput(dataTable, element);\n",
              "          const docLink = document.createElement('div');\n",
              "          docLink.innerHTML = docLinkHtml;\n",
              "          element.appendChild(docLink);\n",
              "        }\n",
              "      </script>\n",
              "    </div>\n",
              "  </div>\n"
            ],
            "application/vnd.google.colaboratory.module+javascript": "\n      import \"https://ssl.gstatic.com/colaboratory/data_table/881c4a0d49046431/data_table.js\";\n\n      const table = window.createDataTable({\n        data: [[{\n            'v': 0,\n            'f': \"0\",\n        },\n\"CODE_GENDER_M\",\n{\n            'v': 0.0009473843952566118,\n            'f': \"0.0009473843952566118\",\n        },\n{\n            'v': 0.00012763185144956326,\n            'f': \"0.00012763185144956326\",\n        }],\n [{\n            'v': 1,\n            'f': \"1\",\n        },\n\"CODE_GENDER_F\",\n{\n            'v': 0.0008606672881393163,\n            'f': \"0.0008606672881393163\",\n        },\n{\n            'v': 0.00011545105431261376,\n            'f': \"0.00011545105431261376\",\n        }],\n [{\n            'v': 2,\n            'f': \"2\",\n        },\n\"EXT_SOURCE_3\",\n{\n            'v': 0.0007045764953281797,\n            'f': \"0.0007045764953281797\",\n        },\n{\n            'v': 6.889781942057637e-05,\n            'f': \"6.889781942057637e-05\",\n        }],\n [{\n            'v': 3,\n            'f': \"3\",\n        },\n\"EXT_SOURCE_2\",\n{\n            'v': 0.00038372319899411257,\n            'f': \"0.00038372319899411257\",\n        },\n{\n            'v': 7.402766743542479e-05,\n            'f': \"7.402766743542479e-05\",\n        }],\n [{\n            'v': 4,\n            'f': \"4\",\n        },\n\"ELEVATORS_MODE\",\n{\n            'v': 0.00031868536865613527,\n            'f': \"0.00031868536865613527\",\n        },\n{\n            'v': 9.263928119853552e-05,\n            'f': \"9.263928119853552e-05\",\n        }],\n [{\n            'v': 5,\n            'f': \"5\",\n        },\n\"DAYS_BIRTH\",\n{\n            'v': 0.00023196826153881744,\n            'f': \"0.00023196826153881744\",\n        },\n{\n            'v': 4.3141216081958064e-05,\n            'f': \"4.3141216081958064e-05\",\n        }],\n [{\n            'v': 6,\n            'f': \"6\",\n        },\n\"CREDIT_TERM\",\n{\n            'v': 0.00016693043120086237,\n            'f': \"0.00016693043120086237\",\n        },\n{\n            'v': 3.111561578772051e-05,\n            'f': \"3.111561578772051e-05\",\n        }],\n [{\n            'v': 7,\n            'f': \"7\",\n        },\n\"FLAG_PHONE\",\n{\n            'v': 0.00015392286513327136,\n            'f': \"0.00015392286513327136\",\n        },\n{\n            'v': 2.3147133462022745e-05,\n            'f': \"2.3147133462022745e-05\",\n        }],\n [{\n            'v': 8,\n            'f': \"8\",\n        },\n\"AMT_REQ_CREDIT_BUREAU_QRT\",\n{\n            'v': 0.00013441151603188484,\n            'f': \"0.00013441151603188484\",\n        },\n{\n            'v': 2.61951697998785e-05,\n            'f': \"2.61951697998785e-05\",\n        }],\n [{\n            'v': 9,\n            'f': \"9\",\n        },\n\"EXT_SOURCE_1\",\n{\n            'v': 0.00012357187764222566,\n            'f': \"0.00012357187764222566\",\n        },\n{\n            'v': 6.116476675118908e-05,\n            'f': \"6.116476675118908e-05\",\n        }],\n [{\n            'v': 10,\n            'f': \"10\",\n        },\n\"AMT_GOODS_PRICE\",\n{\n            'v': 0.00011056431157461244,\n            'f': \"0.00011056431157461244\",\n        },\n{\n            'v': 9.680713491779033e-05,\n            'f': \"9.680713491779033e-05\",\n        }],\n [{\n            'v': 11,\n            'f': \"11\",\n        },\n\"AMT_REQ_CREDIT_BUREAU_YEAR\",\n{\n            'v': 0.00010839638389668061,\n            'f': \"0.00010839638389668061\",\n        },\n{\n            'v': 0.0001044212246952141,\n            'f': \"0.0001044212246952141\",\n        }],\n [{\n            'v': 12,\n            'f': \"12\",\n        },\n\"AMT_INCOME_TOTAL\",\n{\n            'v': 9.322089015115776e-05,\n            'f': \"9.322089015115776e-05\",\n        },\n{\n            'v': 5.424153317233214e-05,\n            'f': \"5.424153317233214e-05\",\n        }],\n [{\n            'v': 13,\n            'f': \"13\",\n        },\n\"NAME_INCOME_TYPE_Working\",\n{\n            'v': 9.105296247324812e-05,\n            'f': \"9.105296247324812e-05\",\n        },\n{\n            'v': 4.314121608195806e-05,\n            'f': \"4.314121608195806e-05\",\n        }],\n [{\n            'v': 14,\n            'f': \"14\",\n        },\n\"AMT_REQ_CREDIT_BUREAU_MON\",\n{\n            'v': 8.888503479529409e-05,\n            'f': \"8.888503479529409e-05\",\n        },\n{\n            'v': 6.409151039129709e-05,\n            'f': \"6.409151039129709e-05\",\n        }],\n [{\n            'v': 15,\n            'f': \"15\",\n        },\n\"CNT_CHILDREN\",\n{\n            'v': 8.238125176149858e-05,\n            'f': \"8.238125176149858e-05\",\n        },\n{\n            'v': 6.305651601990973e-05,\n            'f': \"6.305651601990973e-05\",\n        }],\n [{\n            'v': 16,\n            'f': \"16\",\n        },\n\"FLAG_OWN_CAR\",\n{\n            'v': 6.286990266011206e-05,\n            'f': \"6.286990266011206e-05\",\n        },\n{\n            'v': 5.371913063224674e-05,\n            'f': \"5.371913063224674e-05\",\n        }],\n [{\n            'v': 17,\n            'f': \"17\",\n        },\n\"DAYS_EMPLOYED\",\n{\n            'v': 6.286990266008985e-05,\n            'f': \"6.286990266008985e-05\",\n        },\n{\n            'v': 5.371913063225928e-05,\n            'f': \"5.371913063225928e-05\",\n        }],\n [{\n            'v': 18,\n            'f': \"18\",\n        },\n\"OBS_30_CNT_SOCIAL_CIRCLE\",\n{\n            'v': 5.203026427043067e-05,\n            'f': \"5.203026427043067e-05\",\n        },\n{\n            'v': 4.078931585024015e-05,\n            'f': \"4.078931585024015e-05\",\n        }],\n [{\n            'v': 19,\n            'f': \"19\",\n        },\n\"FLOORSMAX_MODE\",\n{\n            'v': 4.76944089145892e-05,\n            'f': \"4.76944089145892e-05\",\n        },\n{\n            'v': 5.4241533172331255e-05,\n            'f': \"5.4241533172331255e-05\",\n        }],\n [{\n            'v': 20,\n            'f': \"20\",\n        },\n\"REGION_RATING_CLIENT_W_CITY\",\n{\n            'v': 4.552648123663516e-05,\n            'f': \"4.552648123663516e-05\",\n        },\n{\n            'v': 4.669859134248868e-05,\n            'f': \"4.669859134248868e-05\",\n        }],\n [{\n            'v': 21,\n            'f': \"21\",\n        },\n\"FLOORSMAX_MEDI\",\n{\n            'v': 3.6854770524930024e-05,\n            'f': \"3.6854770524930024e-05\",\n        },\n{\n            'v': 2.1241266440797663e-05,\n            'f': \"2.1241266440797663e-05\",\n        }],\n [{\n            'v': 22,\n            'f': \"22\",\n        },\n\"AMT_ANNUITY\",\n{\n            'v': 3.251891516902195e-05,\n            'f': \"3.251891516902195e-05\",\n        },\n{\n            'v': 4.055821305067413e-05,\n            'f': \"4.055821305067413e-05\",\n        }],\n [{\n            'v': 23,\n            'f': \"23\",\n        },\n\"DAYS_ID_PUBLISH\",\n{\n            'v': 3.251891516902195e-05,\n            'f': \"3.251891516902195e-05\",\n        },\n{\n            'v': 8.671710711732616e-05,\n            'f': \"8.671710711732616e-05\",\n        }],\n [{\n            'v': 24,\n            'f': \"24\",\n        },\n\"OWN_CAR_AGE\",\n{\n            'v': 3.251891516899974e-05,\n            'f': \"3.251891516899974e-05\",\n        },\n{\n            'v': 7.190202680330695e-05,\n            'f': \"7.190202680330695e-05\",\n        }],\n [{\n            'v': 25,\n            'f': \"25\",\n        },\n\"WEEKDAY_APPR_PROCESS_START_WEDNESDAY\",\n{\n            'v': 3.0350987491112314e-05,\n            'f': \"3.0350987491112314e-05\",\n        },\n{\n            'v': 1.4380405360696203e-05,\n            'f': \"1.4380405360696203e-05\",\n        }],\n [{\n            'v': 26,\n            'f': \"26\",\n        },\n\"NAME_EDUCATION_TYPE_Secondary / secondary special\",\n{\n            'v': 2.818305981318048e-05,\n            'f': \"2.818305981318048e-05\",\n        },\n{\n            'v': 3.111561578776847e-05,\n            'f': \"3.111561578776847e-05\",\n        }],\n [{\n            'v': 27,\n            'f': \"27\",\n        },\n\"FLAG_EMAIL\",\n{\n            'v': 2.38472044572946e-05,\n            'f': \"2.38472044572946e-05\",\n        },\n{\n            'v': 2.6015132135233837e-05,\n            'f': \"2.6015132135233837e-05\",\n        }],\n [{\n            'v': 28,\n            'f': \"28\",\n        },\n\"NAME_CONTRACT_TYPE\",\n{\n            'v': 2.167927677938497e-05,\n            'f': \"2.167927677938497e-05\",\n        },\n{\n            'v': 5.354386383347315e-05,\n            'f': \"5.354386383347315e-05\",\n        }],\n [{\n            'v': 29,\n            'f': \"29\",\n        },\n\"FLOORSMIN_MODE\",\n{\n            'v': 2.1679276779318357e-05,\n            'f': \"2.1679276779318357e-05\",\n        },\n{\n            'v': 0.0,\n            'f': \"0.0\",\n        }],\n [{\n            'v': 30,\n            'f': \"30\",\n        },\n\"OCCUPATION_TYPE_Core staff\",\n{\n            'v': 1.9511349101453136e-05,\n            'f': \"1.9511349101453136e-05\",\n        },\n{\n            'v': 2.601513213523384e-05,\n            'f': \"2.601513213523384e-05\",\n        }],\n [{\n            'v': 31,\n            'f': \"31\",\n        },\n\"NAME_FAMILY_STATUS_Single / not married\",\n{\n            'v': 1.951134910143093e-05,\n            'f': \"1.951134910143093e-05\",\n        },\n{\n            'v': 1.5930949830605615e-05,\n            'f': \"1.5930949830605615e-05\",\n        }],\n [{\n            'v': 32,\n            'f': \"32\",\n        },\n\"NONLIVINGAREA_MEDI\",\n{\n            'v': 1.951134910143093e-05,\n            'f': \"1.951134910143093e-05\",\n        },\n{\n            'v': 4.192572594322461e-05,\n            'f': \"4.192572594322461e-05\",\n        }],\n [{\n            'v': 33,\n            'f': \"33\",\n        },\n\"DEF_30_CNT_SOCIAL_CIRCLE\",\n{\n            'v': 1.7343421423499094e-05,\n            'f': \"1.7343421423499094e-05\",\n        },\n{\n            'v': 2.79317942349237e-05,\n            'f': \"2.79317942349237e-05\",\n        }],\n [{\n            'v': 34,\n            'f': \"34\",\n        },\n\"NAME_TYPE_SUITE_Unaccompanied\",\n{\n            'v': 1.5175493745567258e-05,\n            'f': \"1.5175493745567258e-05\",\n        },\n{\n            'v': 1.470360089133661e-05,\n            'f': \"1.470360089133661e-05\",\n        }],\n [{\n            'v': 35,\n            'f': \"35\",\n        },\n\"YEARS_BEGINEXPLUATATION_MODE\",\n{\n            'v': 1.5175493745545054e-05,\n            'f': \"1.5175493745545054e-05\",\n        },\n{\n            'v': 1.105430553386716e-05,\n            'f': \"1.105430553386716e-05\",\n        }],\n [{\n            'v': 36,\n            'f': \"36\",\n        },\n\"ENTRANCES_MODE\",\n{\n            'v': 1.5175493745545054e-05,\n            'f': \"1.5175493745545054e-05\",\n        },\n{\n            'v': 1.105430553386716e-05,\n            'f': \"1.105430553386716e-05\",\n        }],\n [{\n            'v': 37,\n            'f': \"37\",\n        },\n\"CREDIT_INCOME_PERCENT\",\n{\n            'v': 1.5175493745545054e-05,\n            'f': \"1.5175493745545054e-05\",\n        },\n{\n            'v': 2.2320181544433786e-05,\n            'f': \"2.2320181544433786e-05\",\n        }],\n [{\n            'v': 38,\n            'f': \"38\",\n        },\n\"NAME_INCOME_TYPE_State servant\",\n{\n            'v': 1.3007566067635423e-05,\n            'f': \"1.3007566067635423e-05\",\n        },\n{\n            'v': 1.7343421423504647e-05,\n            'f': \"1.7343421423504647e-05\",\n        }],\n [{\n            'v': 39,\n            'f': \"39\",\n        },\n\"WEEKDAY_APPR_PROCESS_START_TUESDAY\",\n{\n            'v': 1.3007566067591014e-05,\n            'f': \"1.3007566067591014e-05\",\n        },\n{\n            'v': 1.0620633220379568e-05,\n            'f': \"1.0620633220379568e-05\",\n        }],\n [{\n            'v': 40,\n            'f': \"40\",\n        },\n\"FLOORSMIN_MEDI\",\n{\n            'v': 8.671710711749547e-06,\n            'f': \"8.671710711749547e-06\",\n        },\n{\n            'v': 1.2641082001566099e-05,\n            'f': \"1.2641082001566099e-05\",\n        }],\n [{\n            'v': 41,\n            'f': \"41\",\n        },\n\"ORGANIZATION_TYPE_Construction\",\n{\n            'v': 8.671710711727343e-06,\n            'f': \"8.671710711727343e-06\",\n        },\n{\n            'v': 4.3358553558636714e-06,\n            'f': \"4.3358553558636714e-06\",\n        }],\n [{\n            'v': 42,\n            'f': \"42\",\n        },\n\"WEEKDAY_APPR_PROCESS_START_THURSDAY\",\n{\n            'v': 8.671710711727343e-06,\n            'f': \"8.671710711727343e-06\",\n        },\n{\n            'v': 4.3358553558636714e-06,\n            'f': \"4.3358553558636714e-06\",\n        }],\n [{\n            'v': 43,\n            'f': \"43\",\n        },\n\"FONDKAPREMONT_MODE_reg oper spec account\",\n{\n            'v': 8.671710711727343e-06,\n            'f': \"8.671710711727343e-06\",\n        },\n{\n            'v': 8.11164261012533e-06,\n            'f': \"8.11164261012533e-06\",\n        }],\n [{\n            'v': 44,\n            'f': \"44\",\n        },\n\"OCCUPATION_TYPE_Low-skill Laborers\",\n{\n            'v': 8.671710711727343e-06,\n            'f': \"8.671710711727343e-06\",\n        },\n{\n            'v': 4.3358553558636714e-06,\n            'f': \"4.3358553558636714e-06\",\n        }],\n [{\n            'v': 45,\n            'f': \"45\",\n        },\n\"NAME_INCOME_TYPE_Commercial associate\",\n{\n            'v': 8.671710711727343e-06,\n            'f': \"8.671710711727343e-06\",\n        },\n{\n            'v': 4.3358553558636714e-06,\n            'f': \"4.3358553558636714e-06\",\n        }],\n [{\n            'v': 46,\n            'f': \"46\",\n        },\n\"CNT_FAM_MEMBERS\",\n{\n            'v': 8.671710711727343e-06,\n            'f': \"8.671710711727343e-06\",\n        },\n{\n            'v': 4.3358553558636714e-06,\n            'f': \"4.3358553558636714e-06\",\n        }],\n [{\n            'v': 47,\n            'f': \"47\",\n        },\n\"AMT_REQ_CREDIT_BUREAU_WEEK\",\n{\n            'v': 6.503783033817711e-06,\n            'f': \"6.503783033817711e-06\",\n        },\n{\n            'v': 1.761232771402429e-05,\n            'f': \"1.761232771402429e-05\",\n        }],\n [{\n            'v': 48,\n            'f': \"48\",\n        },\n\"OCCUPATION_TYPE_Sales staff\",\n{\n            'v': 6.503783033795507e-06,\n            'f': \"6.503783033795507e-06\",\n        },\n{\n            'v': 8.671710711727343e-06,\n            'f': \"8.671710711727343e-06\",\n        }],\n [{\n            'v': 49,\n            'f': \"49\",\n        },\n\"BASEMENTAREA_MEDI\",\n{\n            'v': 6.503783033795507e-06,\n            'f': \"6.503783033795507e-06\",\n        },\n{\n            'v': 5.310316610189784e-06,\n            'f': \"5.310316610189784e-06\",\n        }],\n [{\n            'v': 50,\n            'f': \"50\",\n        },\n\"REGION_RATING_CLIENT\",\n{\n            'v': 4.3358553558858756e-06,\n            'f': \"4.3358553558858756e-06\",\n        },\n{\n            'v': 1.889955533005244e-05,\n            'f': \"1.889955533005244e-05\",\n        }],\n [{\n            'v': 51,\n            'f': \"51\",\n        },\n\"NAME_EDUCATION_TYPE_Lower secondary\",\n{\n            'v': 4.3358553558636714e-06,\n            'f': \"4.3358553558636714e-06\",\n        },\n{\n            'v': 5.310316610189784e-06,\n            'f': \"5.310316610189784e-06\",\n        }],\n [{\n            'v': 52,\n            'f': \"52\",\n        },\n\"NAME_HOUSING_TYPE_Municipal apartment\",\n{\n            'v': 4.3358553558636714e-06,\n            'f': \"4.3358553558636714e-06\",\n        },\n{\n            'v': 8.671710711727343e-06,\n            'f': \"8.671710711727343e-06\",\n        }],\n [{\n            'v': 53,\n            'f': \"53\",\n        },\n\"YEARS_BEGINEXPLUATATION_AVG\",\n{\n            'v': 2.1679276779540403e-06,\n            'f': \"2.1679276779540403e-06\",\n        },\n{\n            'v': 1.8649219041030218e-05,\n            'f': \"1.8649219041030218e-05\",\n        }],\n [{\n            'v': 54,\n            'f': \"54\",\n        },\n\"DAYS_LAST_PHONE_CHANGE\",\n{\n            'v': 2.1679276779540403e-06,\n            'f': \"2.1679276779540403e-06\",\n        },\n{\n            'v': 2.6903274971278853e-05,\n            'f': \"2.6903274971278853e-05\",\n        }],\n [{\n            'v': 55,\n            'f': \"55\",\n        },\n\"FLAG_DOCUMENT_16\",\n{\n            'v': 2.1679276779318357e-06,\n            'f': \"2.1679276779318357e-06\",\n        },\n{\n            'v': 4.3358553558636714e-06,\n            'f': \"4.3358553558636714e-06\",\n        }],\n [{\n            'v': 56,\n            'f': \"56\",\n        },\n\"NAME_HOUSING_TYPE_House / apartment\",\n{\n            'v': 2.1679276779318357e-06,\n            'f': \"2.1679276779318357e-06\",\n        },\n{\n            'v': 4.3358553558636714e-06,\n            'f': \"4.3358553558636714e-06\",\n        }],\n [{\n            'v': 57,\n            'f': \"57\",\n        },\n\"ORGANIZATION_TYPE_Industry: type 9\",\n{\n            'v': 2.1679276779318357e-06,\n            'f': \"2.1679276779318357e-06\",\n        },\n{\n            'v': 4.3358553558636714e-06,\n            'f': \"4.3358553558636714e-06\",\n        }],\n [{\n            'v': 58,\n            'f': \"58\",\n        },\n\"LIVINGAREA_AVG\",\n{\n            'v': 2.1679276779318357e-06,\n            'f': \"2.1679276779318357e-06\",\n        },\n{\n            'v': 4.3358553558636714e-06,\n            'f': \"4.3358553558636714e-06\",\n        }],\n [{\n            'v': 59,\n            'f': \"59\",\n        },\n\"NAME_HOUSING_TYPE_Rented apartment\",\n{\n            'v': 2.1679276779318357e-06,\n            'f': \"2.1679276779318357e-06\",\n        },\n{\n            'v': 4.3358553558636714e-06,\n            'f': \"4.3358553558636714e-06\",\n        }],\n [{\n            'v': 60,\n            'f': \"60\",\n        },\n\"FLAG_DOCUMENT_3\",\n{\n            'v': 2.2204460492503132e-17,\n            'f': \"2.2204460492503132e-17\",\n        },\n{\n            'v': 4.598869086567007e-05,\n            'f': \"4.598869086567007e-05\",\n        }],\n [{\n            'v': 61,\n            'f': \"61\",\n        },\n\"FLAG_DOCUMENT_15\",\n{\n            'v': 0.0,\n            'f': \"0.0\",\n        },\n{\n            'v': 0.0,\n            'f': \"0.0\",\n        }],\n [{\n            'v': 62,\n            'f': \"62\",\n        },\n\"AMT_REQ_CREDIT_BUREAU_HOUR\",\n{\n            'v': 0.0,\n            'f': \"0.0\",\n        },\n{\n            'v': 0.0,\n            'f': \"0.0\",\n        }],\n [{\n            'v': 63,\n            'f': \"63\",\n        },\n\"FLAG_DOCUMENT_14\",\n{\n            'v': 0.0,\n            'f': \"0.0\",\n        },\n{\n            'v': 0.0,\n            'f': \"0.0\",\n        }],\n [{\n            'v': 64,\n            'f': \"64\",\n        },\n\"FLAG_DOCUMENT_17\",\n{\n            'v': 0.0,\n            'f': \"0.0\",\n        },\n{\n            'v': 0.0,\n            'f': \"0.0\",\n        }],\n [{\n            'v': 65,\n            'f': \"65\",\n        },\n\"FLAG_DOCUMENT_19\",\n{\n            'v': 0.0,\n            'f': \"0.0\",\n        },\n{\n            'v': 0.0,\n            'f': \"0.0\",\n        }],\n [{\n            'v': 66,\n            'f': \"66\",\n        },\n\"FLAG_DOCUMENT_13\",\n{\n            'v': 0.0,\n            'f': \"0.0\",\n        },\n{\n            'v': 0.0,\n            'f': \"0.0\",\n        }],\n [{\n            'v': 67,\n            'f': \"67\",\n        },\n\"FLAG_DOCUMENT_20\",\n{\n            'v': 0.0,\n            'f': \"0.0\",\n        },\n{\n            'v': 0.0,\n            'f': \"0.0\",\n        }],\n [{\n            'v': 68,\n            'f': \"68\",\n        },\n\"FLAG_DOCUMENT_21\",\n{\n            'v': 0.0,\n            'f': \"0.0\",\n        },\n{\n            'v': 0.0,\n            'f': \"0.0\",\n        }],\n [{\n            'v': 69,\n            'f': \"69\",\n        },\n\"FLAG_DOCUMENT_12\",\n{\n            'v': 0.0,\n            'f': \"0.0\",\n        },\n{\n            'v': 0.0,\n            'f': \"0.0\",\n        }],\n [{\n            'v': 70,\n            'f': \"70\",\n        },\n\"FLAG_DOCUMENT_11\",\n{\n            'v': 0.0,\n            'f': \"0.0\",\n        },\n{\n            'v': 0.0,\n            'f': \"0.0\",\n        }],\n [{\n            'v': 71,\n            'f': \"71\",\n        },\n\"LIVINGAPARTMENTS_AVG\",\n{\n            'v': 0.0,\n            'f': \"0.0\",\n        },\n{\n            'v': 0.0,\n            'f': \"0.0\",\n        }],\n [{\n            'v': 72,\n            'f': \"72\",\n        },\n\"AMT_REQ_CREDIT_BUREAU_DAY\",\n{\n            'v': 0.0,\n            'f': \"0.0\",\n        },\n{\n            'v': 0.0,\n            'f': \"0.0\",\n        }],\n [{\n            'v': 73,\n            'f': \"73\",\n        },\n\"NAME_TYPE_SUITE_Family\",\n{\n            'v': 0.0,\n            'f': \"0.0\",\n        },\n{\n            'v': 0.0,\n            'f': \"0.0\",\n        }],\n [{\n            'v': 74,\n            'f': \"74\",\n        },\n\"DAYS_EMPLOYED_ANOM\",\n{\n            'v': 0.0,\n            'f': \"0.0\",\n        },\n{\n            'v': 0.0,\n            'f': \"0.0\",\n        }],\n [{\n            'v': 75,\n            'f': \"75\",\n        },\n\"FLAG_MOBIL\",\n{\n            'v': 0.0,\n            'f': \"0.0\",\n        },\n{\n            'v': 0.0,\n            'f': \"0.0\",\n        }],\n [{\n            'v': 76,\n            'f': \"76\",\n        },\n\"FLAG_EMP_PHONE\",\n{\n            'v': 0.0,\n            'f': \"0.0\",\n        },\n{\n            'v': 0.0,\n            'f': \"0.0\",\n        }],\n [{\n            'v': 77,\n            'f': \"77\",\n        },\n\"NAME_TYPE_SUITE_Other_B\",\n{\n            'v': 0.0,\n            'f': \"0.0\",\n        },\n{\n            'v': 0.0,\n            'f': \"0.0\",\n        }],\n [{\n            'v': 78,\n            'f': \"78\",\n        },\n\"NAME_TYPE_SUITE_Other_A\",\n{\n            'v': 0.0,\n            'f': \"0.0\",\n        },\n{\n            'v': 0.0,\n            'f': \"0.0\",\n        }],\n [{\n            'v': 79,\n            'f': \"79\",\n        },\n\"NAME_TYPE_SUITE_Group of people\",\n{\n            'v': 0.0,\n            'f': \"0.0\",\n        },\n{\n            'v': 0.0,\n            'f': \"0.0\",\n        }],\n [{\n            'v': 80,\n            'f': \"80\",\n        },\n\"NAME_TYPE_SUITE_Children\",\n{\n            'v': 0.0,\n            'f': \"0.0\",\n        },\n{\n            'v': 6.855589264784554e-06,\n            'f': \"6.855589264784554e-06\",\n        }],\n [{\n            'v': 81,\n            'f': \"81\",\n        },\n\"WALLSMATERIAL_MODE_Others\",\n{\n            'v': 0.0,\n            'f': \"0.0\",\n        },\n{\n            'v': 0.0,\n            'f': \"0.0\",\n        }],\n [{\n            'v': 82,\n            'f': \"82\",\n        },\n\"FLAG_CONT_MOBILE\",\n{\n            'v': 0.0,\n            'f': \"0.0\",\n        },\n{\n            'v': 0.0,\n            'f': \"0.0\",\n        }],\n [{\n            'v': 83,\n            'f': \"83\",\n        },\n\"HOUSETYPE_MODE_terraced house\",\n{\n            'v': 0.0,\n            'f': \"0.0\",\n        },\n{\n            'v': 0.0,\n            'f': \"0.0\",\n        }],\n [{\n            'v': 84,\n            'f': \"84\",\n        },\n\"WALLSMATERIAL_MODE_Block\",\n{\n            'v': 0.0,\n            'f': \"0.0\",\n        },\n{\n            'v': 0.0,\n            'f': \"0.0\",\n        }],\n [{\n            'v': 85,\n            'f': \"85\",\n        },\n\"WALLSMATERIAL_MODE_Mixed\",\n{\n            'v': 0.0,\n            'f': \"0.0\",\n        },\n{\n            'v': 0.0,\n            'f': \"0.0\",\n        }],\n [{\n            'v': 86,\n            'f': \"86\",\n        },\n\"EMERGENCYSTATE_MODE_Yes\",\n{\n            'v': 0.0,\n            'f': \"0.0\",\n        },\n{\n            'v': 0.0,\n            'f': \"0.0\",\n        }],\n [{\n            'v': 87,\n            'f': \"87\",\n        },\n\"WALLSMATERIAL_MODE_Monolithic\",\n{\n            'v': 0.0,\n            'f': \"0.0\",\n        },\n{\n            'v': 0.0,\n            'f': \"0.0\",\n        }],\n [{\n            'v': 88,\n            'f': \"88\",\n        },\n\"FLAG_DOCUMENT_10\",\n{\n            'v': 0.0,\n            'f': \"0.0\",\n        },\n{\n            'v': 0.0,\n            'f': \"0.0\",\n        }],\n [{\n            'v': 89,\n            'f': \"89\",\n        },\n\"FLAG_DOCUMENT_7\",\n{\n            'v': 0.0,\n            'f': \"0.0\",\n        },\n{\n            'v': 0.0,\n            'f': \"0.0\",\n        }],\n [{\n            'v': 90,\n            'f': \"90\",\n        },\n\"FLAG_DOCUMENT_9\",\n{\n            'v': 0.0,\n            'f': \"0.0\",\n        },\n{\n            'v': 0.0,\n            'f': \"0.0\",\n        }],\n [{\n            'v': 91,\n            'f': \"91\",\n        },\n\"FLAG_DOCUMENT_8\",\n{\n            'v': 0.0,\n            'f': \"0.0\",\n        },\n{\n            'v': 0.0,\n            'f': \"0.0\",\n        }],\n [{\n            'v': 92,\n            'f': \"92\",\n        },\n\"YEARS_BUILD_MEDI\",\n{\n            'v': 0.0,\n            'f': \"0.0\",\n        },\n{\n            'v': 0.0,\n            'f': \"0.0\",\n        }],\n [{\n            'v': 93,\n            'f': \"93\",\n        },\n\"YEARS_BEGINEXPLUATATION_MEDI\",\n{\n            'v': 0.0,\n            'f': \"0.0\",\n        },\n{\n            'v': 1.1874228922430611e-05,\n            'f': \"1.1874228922430611e-05\",\n        }],\n [{\n            'v': 94,\n            'f': \"94\",\n        },\n\"APARTMENTS_MEDI\",\n{\n            'v': 0.0,\n            'f': \"0.0\",\n        },\n{\n            'v': 0.0,\n            'f': \"0.0\",\n        }],\n [{\n            'v': 95,\n            'f': \"95\",\n        },\n\"NONLIVINGAREA_MODE\",\n{\n            'v': 0.0,\n            'f': \"0.0\",\n        },\n{\n            'v': 1.1874228922430611e-05,\n            'f': \"1.1874228922430611e-05\",\n        }],\n [{\n            'v': 96,\n            'f': \"96\",\n        },\n\"LIVINGAREA_MODE\",\n{\n            'v': 0.0,\n            'f': \"0.0\",\n        },\n{\n            'v': 0.0,\n            'f': \"0.0\",\n        }],\n [{\n            'v': 97,\n            'f': \"97\",\n        },\n\"LIVINGAPARTMENTS_MODE\",\n{\n            'v': 0.0,\n            'f': \"0.0\",\n        },\n{\n            'v': 0.0,\n            'f': \"0.0\",\n        }],\n [{\n            'v': 98,\n            'f': \"98\",\n        },\n\"LANDAREA_MODE\",\n{\n            'v': 0.0,\n            'f': \"0.0\",\n        },\n{\n            'v': 0.0,\n            'f': \"0.0\",\n        }],\n [{\n            'v': 99,\n            'f': \"99\",\n        },\n\"COMMONAREA_AVG\",\n{\n            'v': 0.0,\n            'f': \"0.0\",\n        },\n{\n            'v': 0.0,\n            'f': \"0.0\",\n        }],\n [{\n            'v': 100,\n            'f': \"100\",\n        },\n\"ELEVATORS_AVG\",\n{\n            'v': 0.0,\n            'f': \"0.0\",\n        },\n{\n            'v': 0.0,\n            'f': \"0.0\",\n        }],\n [{\n            'v': 101,\n            'f': \"101\",\n        },\n\"ENTRANCES_AVG\",\n{\n            'v': 0.0,\n            'f': \"0.0\",\n        },\n{\n            'v': 0.0,\n            'f': \"0.0\",\n        }],\n [{\n            'v': 102,\n            'f': \"102\",\n        },\n\"COMMONAREA_MODE\",\n{\n            'v': 0.0,\n            'f': \"0.0\",\n        },\n{\n            'v': 0.0,\n            'f': \"0.0\",\n        }],\n [{\n            'v': 103,\n            'f': \"103\",\n        },\n\"FLOORSMIN_AVG\",\n{\n            'v': 0.0,\n            'f': \"0.0\",\n        },\n{\n            'v': 0.0,\n            'f': \"0.0\",\n        }],\n [{\n            'v': 104,\n            'f': \"104\",\n        },\n\"BASEMENTAREA_MODE\",\n{\n            'v': 0.0,\n            'f': \"0.0\",\n        },\n{\n            'v': 0.0,\n            'f': \"0.0\",\n        }],\n [{\n            'v': 105,\n            'f': \"105\",\n        },\n\"APARTMENTS_MODE\",\n{\n            'v': 0.0,\n            'f': \"0.0\",\n        },\n{\n            'v': 0.0,\n            'f': \"0.0\",\n        }],\n [{\n            'v': 106,\n            'f': \"106\",\n        },\n\"NONLIVINGAPARTMENTS_AVG\",\n{\n            'v': 0.0,\n            'f': \"0.0\",\n        },\n{\n            'v': 0.0,\n            'f': \"0.0\",\n        }],\n [{\n            'v': 107,\n            'f': \"107\",\n        },\n\"COMMONAREA_MEDI\",\n{\n            'v': 0.0,\n            'f': \"0.0\",\n        },\n{\n            'v': 0.0,\n            'f': \"0.0\",\n        }],\n [{\n            'v': 108,\n            'f': \"108\",\n        },\n\"ELEVATORS_MEDI\",\n{\n            'v': 0.0,\n            'f': \"0.0\",\n        },\n{\n            'v': 0.0,\n            'f': \"0.0\",\n        }],\n [{\n            'v': 109,\n            'f': \"109\",\n        },\n\"ENTRANCES_MEDI\",\n{\n            'v': 0.0,\n            'f': \"0.0\",\n        },\n{\n            'v': 0.0,\n            'f': \"0.0\",\n        }],\n [{\n            'v': 110,\n            'f': \"110\",\n        },\n\"FLAG_DOCUMENT_2\",\n{\n            'v': 0.0,\n            'f': \"0.0\",\n        },\n{\n            'v': 0.0,\n            'f': \"0.0\",\n        }],\n [{\n            'v': 111,\n            'f': \"111\",\n        },\n\"FLAG_DOCUMENT_6\",\n{\n            'v': 0.0,\n            'f': \"0.0\",\n        },\n{\n            'v': 0.0,\n            'f': \"0.0\",\n        }],\n [{\n            'v': 112,\n            'f': \"112\",\n        },\n\"FLAG_DOCUMENT_5\",\n{\n            'v': 0.0,\n            'f': \"0.0\",\n        },\n{\n            'v': 0.0,\n            'f': \"0.0\",\n        }],\n [{\n            'v': 113,\n            'f': \"113\",\n        },\n\"FLAG_DOCUMENT_4\",\n{\n            'v': 0.0,\n            'f': \"0.0\",\n        },\n{\n            'v': 0.0,\n            'f': \"0.0\",\n        }],\n [{\n            'v': 114,\n            'f': \"114\",\n        },\n\"REG_REGION_NOT_LIVE_REGION\",\n{\n            'v': 0.0,\n            'f': \"0.0\",\n        },\n{\n            'v': 0.0,\n            'f': \"0.0\",\n        }],\n [{\n            'v': 115,\n            'f': \"115\",\n        },\n\"REG_REGION_NOT_WORK_REGION\",\n{\n            'v': 0.0,\n            'f': \"0.0\",\n        },\n{\n            'v': 0.0,\n            'f': \"0.0\",\n        }],\n [{\n            'v': 116,\n            'f': \"116\",\n        },\n\"LIVE_REGION_NOT_WORK_REGION\",\n{\n            'v': 0.0,\n            'f': \"0.0\",\n        },\n{\n            'v': 0.0,\n            'f': \"0.0\",\n        }],\n [{\n            'v': 117,\n            'f': \"117\",\n        },\n\"LIVE_CITY_NOT_WORK_CITY\",\n{\n            'v': 0.0,\n            'f': \"0.0\",\n        },\n{\n            'v': 6.855589264784554e-06,\n            'f': \"6.855589264784554e-06\",\n        }],\n [{\n            'v': 118,\n            'f': \"118\",\n        },\n\"BASEMENTAREA_AVG\",\n{\n            'v': 0.0,\n            'f': \"0.0\",\n        },\n{\n            'v': 0.0,\n            'f': \"0.0\",\n        }],\n [{\n            'v': 119,\n            'f': \"119\",\n        },\n\"WALLSMATERIAL_MODE_Wooden\",\n{\n            'v': 0.0,\n            'f': \"0.0\",\n        },\n{\n            'v': 0.0,\n            'f': \"0.0\",\n        }],\n [{\n            'v': 120,\n            'f': \"120\",\n        },\n\"TOTALAREA_MODE\",\n{\n            'v': 0.0,\n            'f': \"0.0\",\n        },\n{\n            'v': 0.0,\n            'f': \"0.0\",\n        }],\n [{\n            'v': 121,\n            'f': \"121\",\n        },\n\"WALLSMATERIAL_MODE_Stone, brick\",\n{\n            'v': 0.0,\n            'f': \"0.0\",\n        },\n{\n            'v': 9.695267316317712e-06,\n            'f': \"9.695267316317712e-06\",\n        }],\n [{\n            'v': 122,\n            'f': \"122\",\n        },\n\"LANDAREA_MEDI\",\n{\n            'v': 0.0,\n            'f': \"0.0\",\n        },\n{\n            'v': 0.0,\n            'f': \"0.0\",\n        }],\n [{\n            'v': 123,\n            'f': \"123\",\n        },\n\"NAME_INCOME_TYPE_Businessman\",\n{\n            'v': 0.0,\n            'f': \"0.0\",\n        },\n{\n            'v': 0.0,\n            'f': \"0.0\",\n        }],\n [{\n            'v': 124,\n            'f': \"124\",\n        },\n\"APARTMENTS_AVG\",\n{\n            'v': 0.0,\n            'f': \"0.0\",\n        },\n{\n            'v': 0.0,\n            'f': \"0.0\",\n        }],\n [{\n            'v': 125,\n            'f': \"125\",\n        },\n\"HOUSETYPE_MODE_block of flats\",\n{\n            'v': 0.0,\n            'f': \"0.0\",\n        },\n{\n            'v': 0.0,\n            'f': \"0.0\",\n        }],\n [{\n            'v': 126,\n            'f': \"126\",\n        },\n\"NAME_TYPE_SUITE_Spouse, partner\",\n{\n            'v': 0.0,\n            'f': \"0.0\",\n        },\n{\n            'v': 0.0,\n            'f': \"0.0\",\n        }],\n [{\n            'v': 127,\n            'f': \"127\",\n        },\n\"NAME_INCOME_TYPE_Pensioner\",\n{\n            'v': 0.0,\n            'f': \"0.0\",\n        },\n{\n            'v': 0.0,\n            'f': \"0.0\",\n        }],\n [{\n            'v': 128,\n            'f': \"128\",\n        },\n\"ORGANIZATION_TYPE_Government\",\n{\n            'v': 0.0,\n            'f': \"0.0\",\n        },\n{\n            'v': 0.0,\n            'f': \"0.0\",\n        }],\n [{\n            'v': 129,\n            'f': \"129\",\n        },\n\"ORGANIZATION_TYPE_Police\",\n{\n            'v': 0.0,\n            'f': \"0.0\",\n        },\n{\n            'v': 0.0,\n            'f': \"0.0\",\n        }],\n [{\n            'v': 130,\n            'f': \"130\",\n        },\n\"ORGANIZATION_TYPE_Other\",\n{\n            'v': 0.0,\n            'f': \"0.0\",\n        },\n{\n            'v': 0.0,\n            'f': \"0.0\",\n        }],\n [{\n            'v': 131,\n            'f': \"131\",\n        },\n\"ORGANIZATION_TYPE_Mobile\",\n{\n            'v': 0.0,\n            'f': \"0.0\",\n        },\n{\n            'v': 0.0,\n            'f': \"0.0\",\n        }],\n [{\n            'v': 132,\n            'f': \"132\",\n        },\n\"ORGANIZATION_TYPE_Medicine\",\n{\n            'v': 0.0,\n            'f': \"0.0\",\n        },\n{\n            'v': 0.0,\n            'f': \"0.0\",\n        }],\n [{\n            'v': 133,\n            'f': \"133\",\n        },\n\"ORGANIZATION_TYPE_Legal Services\",\n{\n            'v': 0.0,\n            'f': \"0.0\",\n        },\n{\n            'v': 0.0,\n            'f': \"0.0\",\n        }],\n [{\n            'v': 134,\n            'f': \"134\",\n        },\n\"ORGANIZATION_TYPE_Kindergarten\",\n{\n            'v': 0.0,\n            'f': \"0.0\",\n        },\n{\n            'v': 0.0,\n            'f': \"0.0\",\n        }],\n [{\n            'v': 135,\n            'f': \"135\",\n        },\n\"ORGANIZATION_TYPE_Insurance\",\n{\n            'v': 0.0,\n            'f': \"0.0\",\n        },\n{\n            'v': 0.0,\n            'f': \"0.0\",\n        }],\n [{\n            'v': 136,\n            'f': \"136\",\n        },\n\"ORGANIZATION_TYPE_Industry: type 8\",\n{\n            'v': 0.0,\n            'f': \"0.0\",\n        },\n{\n            'v': 0.0,\n            'f': \"0.0\",\n        }],\n [{\n            'v': 137,\n            'f': \"137\",\n        },\n\"ORGANIZATION_TYPE_Industry: type 7\",\n{\n            'v': 0.0,\n            'f': \"0.0\",\n        },\n{\n            'v': 0.0,\n            'f': \"0.0\",\n        }],\n [{\n            'v': 138,\n            'f': \"138\",\n        },\n\"ORGANIZATION_TYPE_Industry: type 6\",\n{\n            'v': 0.0,\n            'f': \"0.0\",\n        },\n{\n            'v': 0.0,\n            'f': \"0.0\",\n        }],\n [{\n            'v': 139,\n            'f': \"139\",\n        },\n\"ORGANIZATION_TYPE_Industry: type 5\",\n{\n            'v': 0.0,\n            'f': \"0.0\",\n        },\n{\n            'v': 0.0,\n            'f': \"0.0\",\n        }],\n [{\n            'v': 140,\n            'f': \"140\",\n        },\n\"ORGANIZATION_TYPE_Industry: type 4\",\n{\n            'v': 0.0,\n            'f': \"0.0\",\n        },\n{\n            'v': 0.0,\n            'f': \"0.0\",\n        }],\n [{\n            'v': 141,\n            'f': \"141\",\n        },\n\"ORGANIZATION_TYPE_Industry: type 3\",\n{\n            'v': 0.0,\n            'f': \"0.0\",\n        },\n{\n            'v': 0.0,\n            'f': \"0.0\",\n        }],\n [{\n            'v': 142,\n            'f': \"142\",\n        },\n\"ORGANIZATION_TYPE_Industry: type 2\",\n{\n            'v': 0.0,\n            'f': \"0.0\",\n        },\n{\n            'v': 0.0,\n            'f': \"0.0\",\n        }],\n [{\n            'v': 143,\n            'f': \"143\",\n        },\n\"ORGANIZATION_TYPE_Industry: type 13\",\n{\n            'v': 0.0,\n            'f': \"0.0\",\n        },\n{\n            'v': 0.0,\n            'f': \"0.0\",\n        }],\n [{\n            'v': 144,\n            'f': \"144\",\n        },\n\"HOUSETYPE_MODE_specific housing\",\n{\n            'v': 0.0,\n            'f': \"0.0\",\n        },\n{\n            'v': 0.0,\n            'f': \"0.0\",\n        }],\n [{\n            'v': 145,\n            'f': \"145\",\n        },\n\"ORGANIZATION_TYPE_Industry: type 12\",\n{\n            'v': 0.0,\n            'f': \"0.0\",\n        },\n{\n            'v': 0.0,\n            'f': \"0.0\",\n        }],\n [{\n            'v': 146,\n            'f': \"146\",\n        },\n\"ORGANIZATION_TYPE_Industry: type 11\",\n{\n            'v': 0.0,\n            'f': \"0.0\",\n        },\n{\n            'v': 0.0,\n            'f': \"0.0\",\n        }],\n [{\n            'v': 147,\n            'f': \"147\",\n        },\n\"ORGANIZATION_TYPE_Industry: type 10\",\n{\n            'v': 0.0,\n            'f': \"0.0\",\n        },\n{\n            'v': 0.0,\n            'f': \"0.0\",\n        }],\n [{\n            'v': 148,\n            'f': \"148\",\n        },\n\"ORGANIZATION_TYPE_Industry: type 1\",\n{\n            'v': 0.0,\n            'f': \"0.0\",\n        },\n{\n            'v': 0.0,\n            'f': \"0.0\",\n        }],\n [{\n            'v': 149,\n            'f': \"149\",\n        },\n\"ORGANIZATION_TYPE_Housing\",\n{\n            'v': 0.0,\n            'f': \"0.0\",\n        },\n{\n            'v': 0.0,\n            'f': \"0.0\",\n        }],\n [{\n            'v': 150,\n            'f': \"150\",\n        },\n\"ORGANIZATION_TYPE_Postal\",\n{\n            'v': 0.0,\n            'f': \"0.0\",\n        },\n{\n            'v': 0.0,\n            'f': \"0.0\",\n        }],\n [{\n            'v': 151,\n            'f': \"151\",\n        },\n\"ORGANIZATION_TYPE_Realtor\",\n{\n            'v': 0.0,\n            'f': \"0.0\",\n        },\n{\n            'v': 0.0,\n            'f': \"0.0\",\n        }],\n [{\n            'v': 152,\n            'f': \"152\",\n        },\n\"ORGANIZATION_TYPE_Religion\",\n{\n            'v': 0.0,\n            'f': \"0.0\",\n        },\n{\n            'v': 0.0,\n            'f': \"0.0\",\n        }],\n [{\n            'v': 153,\n            'f': \"153\",\n        },\n\"ORGANIZATION_TYPE_Trade: type 6\",\n{\n            'v': 0.0,\n            'f': \"0.0\",\n        },\n{\n            'v': 0.0,\n            'f': \"0.0\",\n        }],\n [{\n            'v': 154,\n            'f': \"154\",\n        },\n\"FONDKAPREMONT_MODE_reg oper account\",\n{\n            'v': 0.0,\n            'f': \"0.0\",\n        },\n{\n            'v': 0.0,\n            'f': \"0.0\",\n        }],\n [{\n            'v': 155,\n            'f': \"155\",\n        },\n\"FONDKAPREMONT_MODE_org spec account\",\n{\n            'v': 0.0,\n            'f': \"0.0\",\n        },\n{\n            'v': 0.0,\n            'f': \"0.0\",\n        }],\n [{\n            'v': 156,\n            'f': \"156\",\n        },\n\"FONDKAPREMONT_MODE_not specified\",\n{\n            'v': 0.0,\n            'f': \"0.0\",\n        },\n{\n            'v': 0.0,\n            'f': \"0.0\",\n        }],\n [{\n            'v': 157,\n            'f': \"157\",\n        },\n\"ORGANIZATION_TYPE_XNA\",\n{\n            'v': 0.0,\n            'f': \"0.0\",\n        },\n{\n            'v': 0.0,\n            'f': \"0.0\",\n        }],\n [{\n            'v': 158,\n            'f': \"158\",\n        },\n\"ORGANIZATION_TYPE_University\",\n{\n            'v': 0.0,\n            'f': \"0.0\",\n        },\n{\n            'v': 0.0,\n            'f': \"0.0\",\n        }],\n [{\n            'v': 159,\n            'f': \"159\",\n        },\n\"ORGANIZATION_TYPE_Transport: type 4\",\n{\n            'v': 0.0,\n            'f': \"0.0\",\n        },\n{\n            'v': 0.0,\n            'f': \"0.0\",\n        }],\n [{\n            'v': 160,\n            'f': \"160\",\n        },\n\"ORGANIZATION_TYPE_Transport: type 2\",\n{\n            'v': 0.0,\n            'f': \"0.0\",\n        },\n{\n            'v': 0.0,\n            'f': \"0.0\",\n        }],\n [{\n            'v': 161,\n            'f': \"161\",\n        },\n\"ORGANIZATION_TYPE_Transport: type 1\",\n{\n            'v': 0.0,\n            'f': \"0.0\",\n        },\n{\n            'v': 0.0,\n            'f': \"0.0\",\n        }],\n [{\n            'v': 162,\n            'f': \"162\",\n        },\n\"ORGANIZATION_TYPE_Trade: type 7\",\n{\n            'v': 0.0,\n            'f': \"0.0\",\n        },\n{\n            'v': 0.0,\n            'f': \"0.0\",\n        }],\n [{\n            'v': 163,\n            'f': \"163\",\n        },\n\"ORGANIZATION_TYPE_Trade: type 5\",\n{\n            'v': 0.0,\n            'f': \"0.0\",\n        },\n{\n            'v': 0.0,\n            'f': \"0.0\",\n        }],\n [{\n            'v': 164,\n            'f': \"164\",\n        },\n\"ORGANIZATION_TYPE_Restaurant\",\n{\n            'v': 0.0,\n            'f': \"0.0\",\n        },\n{\n            'v': 0.0,\n            'f': \"0.0\",\n        }],\n [{\n            'v': 165,\n            'f': \"165\",\n        },\n\"ORGANIZATION_TYPE_Trade: type 4\",\n{\n            'v': 0.0,\n            'f': \"0.0\",\n        },\n{\n            'v': 0.0,\n            'f': \"0.0\",\n        }],\n [{\n            'v': 166,\n            'f': \"166\",\n        },\n\"ORGANIZATION_TYPE_Trade: type 3\",\n{\n            'v': 0.0,\n            'f': \"0.0\",\n        },\n{\n            'v': 0.0,\n            'f': \"0.0\",\n        }],\n [{\n            'v': 167,\n            'f': \"167\",\n        },\n\"ORGANIZATION_TYPE_Trade: type 2\",\n{\n            'v': 0.0,\n            'f': \"0.0\",\n        },\n{\n            'v': 0.0,\n            'f': \"0.0\",\n        }],\n [{\n            'v': 168,\n            'f': \"168\",\n        },\n\"ORGANIZATION_TYPE_Trade: type 1\",\n{\n            'v': 0.0,\n            'f': \"0.0\",\n        },\n{\n            'v': 0.0,\n            'f': \"0.0\",\n        }],\n [{\n            'v': 169,\n            'f': \"169\",\n        },\n\"ORGANIZATION_TYPE_Telecom\",\n{\n            'v': 0.0,\n            'f': \"0.0\",\n        },\n{\n            'v': 0.0,\n            'f': \"0.0\",\n        }],\n [{\n            'v': 170,\n            'f': \"170\",\n        },\n\"ORGANIZATION_TYPE_Services\",\n{\n            'v': 0.0,\n            'f': \"0.0\",\n        },\n{\n            'v': 0.0,\n            'f': \"0.0\",\n        }],\n [{\n            'v': 171,\n            'f': \"171\",\n        },\n\"ORGANIZATION_TYPE_Security Ministries\",\n{\n            'v': 0.0,\n            'f': \"0.0\",\n        },\n{\n            'v': 0.0,\n            'f': \"0.0\",\n        }],\n [{\n            'v': 172,\n            'f': \"172\",\n        },\n\"ORGANIZATION_TYPE_Security\",\n{\n            'v': 0.0,\n            'f': \"0.0\",\n        },\n{\n            'v': 0.0,\n            'f': \"0.0\",\n        }],\n [{\n            'v': 173,\n            'f': \"173\",\n        },\n\"ORGANIZATION_TYPE_School\",\n{\n            'v': 0.0,\n            'f': \"0.0\",\n        },\n{\n            'v': 1.1874228922430611e-05,\n            'f': \"1.1874228922430611e-05\",\n        }],\n [{\n            'v': 174,\n            'f': \"174\",\n        },\n\"ORGANIZATION_TYPE_Hotel\",\n{\n            'v': 0.0,\n            'f': \"0.0\",\n        },\n{\n            'v': 0.0,\n            'f': \"0.0\",\n        }],\n [{\n            'v': 175,\n            'f': \"175\",\n        },\n\"NAME_INCOME_TYPE_Student\",\n{\n            'v': 0.0,\n            'f': \"0.0\",\n        },\n{\n            'v': 0.0,\n            'f': \"0.0\",\n        }],\n [{\n            'v': 176,\n            'f': \"176\",\n        },\n\"ORGANIZATION_TYPE_Emergency\",\n{\n            'v': 0.0,\n            'f': \"0.0\",\n        },\n{\n            'v': 0.0,\n            'f': \"0.0\",\n        }],\n [{\n            'v': 177,\n            'f': \"177\",\n        },\n\"NAME_FAMILY_STATUS_Separated\",\n{\n            'v': 0.0,\n            'f': \"0.0\",\n        },\n{\n            'v': 0.0,\n            'f': \"0.0\",\n        }],\n [{\n            'v': 178,\n            'f': \"178\",\n        },\n\"OCCUPATION_TYPE_Waiters/barmen staff\",\n{\n            'v': 0.0,\n            'f': \"0.0\",\n        },\n{\n            'v': 0.0,\n            'f': \"0.0\",\n        }],\n [{\n            'v': 179,\n            'f': \"179\",\n        },\n\"OCCUPATION_TYPE_Security staff\",\n{\n            'v': 0.0,\n            'f': \"0.0\",\n        },\n{\n            'v': 0.0,\n            'f': \"0.0\",\n        }],\n [{\n            'v': 180,\n            'f': \"180\",\n        },\n\"OCCUPATION_TYPE_Secretaries\",\n{\n            'v': 0.0,\n            'f': \"0.0\",\n        },\n{\n            'v': 0.0,\n            'f': \"0.0\",\n        }],\n [{\n            'v': 181,\n            'f': \"181\",\n        },\n\"OCCUPATION_TYPE_Realty agents\",\n{\n            'v': 0.0,\n            'f': \"0.0\",\n        },\n{\n            'v': 0.0,\n            'f': \"0.0\",\n        }],\n [{\n            'v': 182,\n            'f': \"182\",\n        },\n\"OCCUPATION_TYPE_Private service staff\",\n{\n            'v': 0.0,\n            'f': \"0.0\",\n        },\n{\n            'v': 0.0,\n            'f': \"0.0\",\n        }],\n [{\n            'v': 183,\n            'f': \"183\",\n        },\n\"OCCUPATION_TYPE_Medicine staff\",\n{\n            'v': 0.0,\n            'f': \"0.0\",\n        },\n{\n            'v': 0.0,\n            'f': \"0.0\",\n        }],\n [{\n            'v': 184,\n            'f': \"184\",\n        },\n\"NAME_FAMILY_STATUS_Widow\",\n{\n            'v': 0.0,\n            'f': \"0.0\",\n        },\n{\n            'v': 0.0,\n            'f': \"0.0\",\n        }],\n [{\n            'v': 185,\n            'f': \"185\",\n        },\n\"NAME_EDUCATION_TYPE_Incomplete higher\",\n{\n            'v': 0.0,\n            'f': \"0.0\",\n        },\n{\n            'v': 0.0,\n            'f': \"0.0\",\n        }],\n [{\n            'v': 186,\n            'f': \"186\",\n        },\n\"ORGANIZATION_TYPE_Electricity\",\n{\n            'v': 0.0,\n            'f': \"0.0\",\n        },\n{\n            'v': 0.0,\n            'f': \"0.0\",\n        }],\n [{\n            'v': 187,\n            'f': \"187\",\n        },\n\"OCCUPATION_TYPE_IT staff\",\n{\n            'v': 0.0,\n            'f': \"0.0\",\n        },\n{\n            'v': 0.0,\n            'f': \"0.0\",\n        }],\n [{\n            'v': 188,\n            'f': \"188\",\n        },\n\"NAME_HOUSING_TYPE_Co-op apartment\",\n{\n            'v': 0.0,\n            'f': \"0.0\",\n        },\n{\n            'v': 0.0,\n            'f': \"0.0\",\n        }],\n [{\n            'v': 189,\n            'f': \"189\",\n        },\n\"OCCUPATION_TYPE_HR staff\",\n{\n            'v': 0.0,\n            'f': \"0.0\",\n        },\n{\n            'v': 0.0,\n            'f': \"0.0\",\n        }],\n [{\n            'v': 190,\n            'f': \"190\",\n        },\n\"NAME_HOUSING_TYPE_Office apartment\",\n{\n            'v': 0.0,\n            'f': \"0.0\",\n        },\n{\n            'v': 0.0,\n            'f': \"0.0\",\n        }],\n [{\n            'v': 191,\n            'f': \"191\",\n        },\n\"NAME_HOUSING_TYPE_With parents\",\n{\n            'v': 0.0,\n            'f': \"0.0\",\n        },\n{\n            'v': 0.0,\n            'f': \"0.0\",\n        }],\n [{\n            'v': 192,\n            'f': \"192\",\n        },\n\"OCCUPATION_TYPE_Cooking staff\",\n{\n            'v': 0.0,\n            'f': \"0.0\",\n        },\n{\n            'v': 0.0,\n            'f': \"0.0\",\n        }],\n [{\n            'v': 193,\n            'f': \"193\",\n        },\n\"NAME_FAMILY_STATUS_Civil marriage\",\n{\n            'v': 0.0,\n            'f': \"0.0\",\n        },\n{\n            'v': 0.0,\n            'f': \"0.0\",\n        }],\n [{\n            'v': 194,\n            'f': \"194\",\n        },\n\"ORGANIZATION_TYPE_Bank\",\n{\n            'v': 0.0,\n            'f': \"0.0\",\n        },\n{\n            'v': 0.0,\n            'f': \"0.0\",\n        }],\n [{\n            'v': 195,\n            'f': \"195\",\n        },\n\"NAME_EDUCATION_TYPE_Academic degree\",\n{\n            'v': 0.0,\n            'f': \"0.0\",\n        },\n{\n            'v': 0.0,\n            'f': \"0.0\",\n        }],\n [{\n            'v': 196,\n            'f': \"196\",\n        },\n\"ORGANIZATION_TYPE_Culture\",\n{\n            'v': 0.0,\n            'f': \"0.0\",\n        },\n{\n            'v': 0.0,\n            'f': \"0.0\",\n        }],\n [{\n            'v': 197,\n            'f': \"197\",\n        },\n\"ORGANIZATION_TYPE_Cleaning\",\n{\n            'v': 0.0,\n            'f': \"0.0\",\n        },\n{\n            'v': 0.0,\n            'f': \"0.0\",\n        }],\n [{\n            'v': 198,\n            'f': \"198\",\n        },\n\"NAME_INCOME_TYPE_Unemployed\",\n{\n            'v': 0.0,\n            'f': \"0.0\",\n        },\n{\n            'v': 0.0,\n            'f': \"0.0\",\n        }],\n [{\n            'v': 199,\n            'f': \"199\",\n        },\n\"ORGANIZATION_TYPE_Business Entity Type 2\",\n{\n            'v': 0.0,\n            'f': \"0.0\",\n        },\n{\n            'v': 0.0,\n            'f': \"0.0\",\n        }],\n [{\n            'v': 200,\n            'f': \"200\",\n        },\n\"ORGANIZATION_TYPE_Business Entity Type 1\",\n{\n            'v': 0.0,\n            'f': \"0.0\",\n        },\n{\n            'v': 0.0,\n            'f': \"0.0\",\n        }],\n [{\n            'v': 201,\n            'f': \"201\",\n        },\n\"OCCUPATION_TYPE_Cleaning staff\",\n{\n            'v': 0.0,\n            'f': \"0.0\",\n        },\n{\n            'v': 0.0,\n            'f': \"0.0\",\n        }],\n [{\n            'v': 202,\n            'f': \"202\",\n        },\n\"ORGANIZATION_TYPE_Agriculture\",\n{\n            'v': 0.0,\n            'f': \"0.0\",\n        },\n{\n            'v': 0.0,\n            'f': \"0.0\",\n        }],\n [{\n            'v': 203,\n            'f': \"203\",\n        },\n\"ORGANIZATION_TYPE_Advertising\",\n{\n            'v': 0.0,\n            'f': \"0.0\",\n        },\n{\n            'v': 0.0,\n            'f': \"0.0\",\n        }],\n [{\n            'v': 204,\n            'f': \"204\",\n        },\n\"WEEKDAY_APPR_PROCESS_START_SUNDAY\",\n{\n            'v': 0.0,\n            'f': \"0.0\",\n        },\n{\n            'v': 0.0,\n            'f': \"0.0\",\n        }],\n [{\n            'v': 205,\n            'f': \"205\",\n        },\n\"WEEKDAY_APPR_PROCESS_START_SATURDAY\",\n{\n            'v': -2.1679276779318357e-06,\n            'f': \"-2.1679276779318357e-06\",\n        },\n{\n            'v': 4.3358553558636714e-06,\n            'f': \"4.3358553558636714e-06\",\n        }],\n [{\n            'v': 206,\n            'f': \"206\",\n        },\n\"LANDAREA_AVG\",\n{\n            'v': -2.1679276779318357e-06,\n            'f': \"-2.1679276779318357e-06\",\n        },\n{\n            'v': 4.3358553558636714e-06,\n            'f': \"4.3358553558636714e-06\",\n        }],\n [{\n            'v': 207,\n            'f': \"207\",\n        },\n\"ORGANIZATION_TYPE_Business Entity Type 3\",\n{\n            'v': -2.1679276779318357e-06,\n            'f': \"-2.1679276779318357e-06\",\n        },\n{\n            'v': 1.864921904099408e-05,\n            'f': \"1.864921904099408e-05\",\n        }],\n [{\n            'v': 208,\n            'f': \"208\",\n        },\n\"ORGANIZATION_TYPE_Military\",\n{\n            'v': -2.1679276779318357e-06,\n            'f': \"-2.1679276779318357e-06\",\n        },\n{\n            'v': 1.0620633220379568e-05,\n            'f': \"1.0620633220379568e-05\",\n        }],\n [{\n            'v': 209,\n            'f': \"209\",\n        },\n\"LIVINGAREA_MEDI\",\n{\n            'v': -2.1679276779318357e-06,\n            'f': \"-2.1679276779318357e-06\",\n        },\n{\n            'v': 4.3358553558636714e-06,\n            'f': \"4.3358553558636714e-06\",\n        }],\n [{\n            'v': 210,\n            'f': \"210\",\n        },\n\"YEARS_BUILD_MODE\",\n{\n            'v': -2.1679276779318357e-06,\n            'f': \"-2.1679276779318357e-06\",\n        },\n{\n            'v': 4.3358553558636714e-06,\n            'f': \"4.3358553558636714e-06\",\n        }],\n [{\n            'v': 211,\n            'f': \"211\",\n        },\n\"OCCUPATION_TYPE_Accountants\",\n{\n            'v': -2.1679276779318357e-06,\n            'f': \"-2.1679276779318357e-06\",\n        },\n{\n            'v': 4.3358553558636714e-06,\n            'f': \"4.3358553558636714e-06\",\n        }],\n [{\n            'v': 212,\n            'f': \"212\",\n        },\n\"REG_CITY_NOT_LIVE_CITY\",\n{\n            'v': -2.1679276779318357e-06,\n            'f': \"-2.1679276779318357e-06\",\n        },\n{\n            'v': 1.264108200152421e-05,\n            'f': \"1.264108200152421e-05\",\n        }],\n [{\n            'v': 213,\n            'f': \"213\",\n        },\n\"WEEKDAY_APPR_PROCESS_START_MONDAY\",\n{\n            'v': -2.1679276779318357e-06,\n            'f': \"-2.1679276779318357e-06\",\n        },\n{\n            'v': 4.3358553558636714e-06,\n            'f': \"4.3358553558636714e-06\",\n        }],\n [{\n            'v': 214,\n            'f': \"214\",\n        },\n\"OBS_60_CNT_SOCIAL_CIRCLE\",\n{\n            'v': -4.335855355841467e-06,\n            'f': \"-4.335855355841467e-06\",\n        },\n{\n            'v': 8.954354901928935e-05,\n            'f': \"8.954354901928935e-05\",\n        }],\n [{\n            'v': 215,\n            'f': \"215\",\n        },\n\"ORGANIZATION_TYPE_Transport: type 3\",\n{\n            'v': -4.3358553558636714e-06,\n            'f': \"-4.3358553558636714e-06\",\n        },\n{\n            'v': 8.671710711727343e-06,\n            'f': \"8.671710711727343e-06\",\n        }],\n [{\n            'v': 216,\n            'f': \"216\",\n        },\n\"LIVINGAPARTMENTS_MEDI\",\n{\n            'v': -4.3358553558636714e-06,\n            'f': \"-4.3358553558636714e-06\",\n        },\n{\n            'v': 5.310316610189784e-06,\n            'f': \"5.310316610189784e-06\",\n        }],\n [{\n            'v': 217,\n            'f': \"217\",\n        },\n\"OCCUPATION_TYPE_Laborers\",\n{\n            'v': -6.503783033795507e-06,\n            'f': \"-6.503783033795507e-06\",\n        },\n{\n            'v': 1.1054305533832324e-05,\n            'f': \"1.1054305533832324e-05\",\n        }],\n [{\n            'v': 218,\n            'f': \"218\",\n        },\n\"OCCUPATION_TYPE_Managers\",\n{\n            'v': -6.503783033795507e-06,\n            'f': \"-6.503783033795507e-06\",\n        },\n{\n            'v': 1.1054305533832326e-05,\n            'f': \"1.1054305533832326e-05\",\n        }],\n [{\n            'v': 219,\n            'f': \"219\",\n        },\n\"FLAG_DOCUMENT_18\",\n{\n            'v': -6.503783033795507e-06,\n            'f': \"-6.503783033795507e-06\",\n        },\n{\n            'v': 8.671710711727343e-06,\n            'f': \"8.671710711727343e-06\",\n        }],\n [{\n            'v': 220,\n            'f': \"220\",\n        },\n\"FLOORSMAX_AVG\",\n{\n            'v': -8.671710711705139e-06,\n            'f': \"-8.671710711705139e-06\",\n        },\n{\n            'v': 2.3147133462062257e-05,\n            'f': \"2.3147133462062257e-05\",\n        }],\n [{\n            'v': 221,\n            'f': \"221\",\n        },\n\"NONLIVINGAREA_AVG\",\n{\n            'v': -8.671710711727343e-06,\n            'f': \"-8.671710711727343e-06\",\n        },\n{\n            'v': 8.11164261012533e-06,\n            'f': \"8.11164261012533e-06\",\n        }],\n [{\n            'v': 222,\n            'f': \"222\",\n        },\n\"DEF_60_CNT_SOCIAL_CIRCLE\",\n{\n            'v': -8.671710711727343e-06,\n            'f': \"-8.671710711727343e-06\",\n        },\n{\n            'v': 1.4380405360652686e-05,\n            'f': \"1.4380405360652686e-05\",\n        }],\n [{\n            'v': 223,\n            'f': \"223\",\n        },\n\"WEEKDAY_APPR_PROCESS_START_FRIDAY\",\n{\n            'v': -8.671710711727343e-06,\n            'f': \"-8.671710711727343e-06\",\n        },\n{\n            'v': 4.3358553558636714e-06,\n            'f': \"4.3358553558636714e-06\",\n        }],\n [{\n            'v': 224,\n            'f': \"224\",\n        },\n\"REGION_POPULATION_RELATIVE\",\n{\n            'v': -1.083963838961477e-05,\n            'f': \"-1.083963838961477e-05\",\n        },\n{\n            'v': 7.756213853058513e-05,\n            'f': \"7.756213853058513e-05\",\n        }],\n [{\n            'v': 225,\n            'f': \"225\",\n        },\n\"NAME_EDUCATION_TYPE_Higher education\",\n{\n            'v': -1.0839638389636974e-05,\n            'f': \"-1.0839638389636974e-05\",\n        },\n{\n            'v': 4.5474834616194656e-05,\n            'f': \"4.5474834616194656e-05\",\n        }],\n [{\n            'v': 226,\n            'f': \"226\",\n        },\n\"FLAG_OWN_REALTY\",\n{\n            'v': -1.0839638389659179e-05,\n            'f': \"-1.0839638389659179e-05\",\n        },\n{\n            'v': 2.7422357059138217e-05,\n            'f': \"2.7422357059138217e-05\",\n        }],\n [{\n            'v': 227,\n            'f': \"227\",\n        },\n\"DAYS_REGISTRATION\",\n{\n            'v': -1.0839638389659179e-05,\n            'f': \"-1.0839638389659179e-05\",\n        },\n{\n            'v': 1.8138184285424064e-05,\n            'f': \"1.8138184285424064e-05\",\n        }],\n [{\n            'v': 228,\n            'f': \"228\",\n        },\n\"NONLIVINGAPARTMENTS_MODE\",\n{\n            'v': -1.0839638389659179e-05,\n            'f': \"-1.0839638389659179e-05\",\n        },\n{\n            'v': 0.0,\n            'f': \"0.0\",\n        }],\n [{\n            'v': 229,\n            'f': \"229\",\n        },\n\"REG_CITY_NOT_WORK_CITY\",\n{\n            'v': -1.0839638389659179e-05,\n            'f': \"-1.0839638389659179e-05\",\n        },\n{\n            'v': 0.0,\n            'f': \"0.0\",\n        }],\n [{\n            'v': 230,\n            'f': \"230\",\n        },\n\"YEARS_BUILD_AVG\",\n{\n            'v': -1.3007566067591014e-05,\n            'f': \"-1.3007566067591014e-05\",\n        },\n{\n            'v': 8.111642610125332e-06,\n            'f': \"8.111642610125332e-06\",\n        }],\n [{\n            'v': 231,\n            'f': \"231\",\n        },\n\"NONLIVINGAPARTMENTS_MEDI\",\n{\n            'v': -1.3007566067591014e-05,\n            'f': \"-1.3007566067591014e-05\",\n        },\n{\n            'v': 4.3358553558636714e-06,\n            'f': \"4.3358553558636714e-06\",\n        }],\n [{\n            'v': 232,\n            'f': \"232\",\n        },\n\"OCCUPATION_TYPE_High skill tech staff\",\n{\n            'v': -1.517549374552285e-05,\n            'f': \"-1.517549374552285e-05\",\n        },\n{\n            'v': 1.7612327713991493e-05,\n            'f': \"1.7612327713991493e-05\",\n        }],\n [{\n            'v': 233,\n            'f': \"233\",\n        },\n\"ANNUITY_INCOME_PERCENT\",\n{\n            'v': -1.517549374552285e-05,\n            'f': \"-1.517549374552285e-05\",\n        },\n{\n            'v': 2.793179423487372e-05,\n            'f': \"2.793179423487372e-05\",\n        }],\n [{\n            'v': 234,\n            'f': \"234\",\n        },\n\"EMERGENCYSTATE_MODE_No\",\n{\n            'v': -2.1679276779318357e-05,\n            'f': \"-2.1679276779318357e-05\",\n        },\n{\n            'v': 1.8138184285424064e-05,\n            'f': \"1.8138184285424064e-05\",\n        }],\n [{\n            'v': 235,\n            'f': \"235\",\n        },\n\"NAME_FAMILY_STATUS_Married\",\n{\n            'v': -2.3847204457250193e-05,\n            'f': \"-2.3847204457250193e-05\",\n        },\n{\n            'v': 3.522465542798299e-05,\n            'f': \"3.522465542798299e-05\",\n        }],\n [{\n            'v': 236,\n            'f': \"236\",\n        },\n\"FLAG_WORK_PHONE\",\n{\n            'v': -2.3847204457250193e-05,\n            'f': \"-2.3847204457250193e-05\",\n        },\n{\n            'v': 2.2108611067664648e-05,\n            'f': \"2.2108611067664648e-05\",\n        }],\n [{\n            'v': 237,\n            'f': \"237\",\n        },\n\"ORGANIZATION_TYPE_Self-employed\",\n{\n            'v': -2.601513213518203e-05,\n            'f': \"-2.601513213518203e-05\",\n        },\n{\n            'v': 2.8760810721305372e-05,\n            'f': \"2.8760810721305372e-05\",\n        }],\n [{\n            'v': 238,\n            'f': \"238\",\n        },\n\"OCCUPATION_TYPE_Drivers\",\n{\n            'v': -2.8183059813113864e-05,\n            'f': \"-2.8183059813113864e-05\",\n        },\n{\n            'v': 1.3007566067591014e-05,\n            'f': \"1.3007566067591014e-05\",\n        }],\n [{\n            'v': 239,\n            'f': \"239\",\n        },\n\"AMT_CREDIT\",\n{\n            'v': -3.902269820275084e-05,\n            'f': \"-3.902269820275084e-05\",\n        },\n{\n            'v': 6.738036407276085e-05,\n            'f': \"6.738036407276085e-05\",\n        }],\n [{\n            'v': 240,\n            'f': \"240\",\n        },\n\"DAYS_EMPLOYED_PERCENT\",\n{\n            'v': -3.902269820277304e-05,\n            'f': \"-3.902269820277304e-05\",\n        },\n{\n            'v': 3.914295333592232e-05,\n            'f': \"3.914295333592232e-05\",\n        }],\n [{\n            'v': 241,\n            'f': \"241\",\n        },\n\"SK_ID_CURR\",\n{\n            'v': -3.902269820277304e-05,\n            'f': \"-3.902269820277304e-05\",\n        },\n{\n            'v': 2.793179423487372e-05,\n            'f': \"2.793179423487372e-05\",\n        }],\n [{\n            'v': 242,\n            'f': \"242\",\n        },\n\"WALLSMATERIAL_MODE_Panel\",\n{\n            'v': -4.119062588070488e-05,\n            'f': \"-4.119062588070488e-05\",\n        },\n{\n            'v': 3.171404782084723e-05,\n            'f': \"3.171404782084723e-05\",\n        }],\n [{\n            'v': 243,\n            'f': \"243\",\n        },\n\"HOUR_APPR_PROCESS_START\",\n{\n            'v': -4.3358553558636714e-05,\n            'f': \"-4.3358553558636714e-05\",\n        },\n{\n            'v': 3.562268676729183e-05,\n            'f': \"3.562268676729183e-05\",\n        }]],\n        columns: [[\"number\", \"index\"], [\"string\", \"feature\"], [\"number\", \"weight\"], [\"number\", \"std\"]],\n        columnOptions: [{\"width\": \"1px\", \"className\": \"index_column\"}],\n        rowsPerPage: 25,\n        helpUrl: \"https://colab.research.google.com/notebooks/data_table.ipynb\",\n        suppressOutputScrolling: true,\n        minimumWidth: undefined,\n      });\n      \n      function appendQuickchartButton(parentElement) {\n        let quickchartButtonContainerElement = document.createElement('div');\n        quickchartButtonContainerElement.innerHTML = `\n    <div id=\"df-58256d84-fc39-4fcb-9339-36333c13dbab\">\n      <button class=\"colab-df-quickchart\" onclick=\"quickchart('df-58256d84-fc39-4fcb-9339-36333c13dbab')\"\n              title=\"Suggest charts.\"\n              style=\"display:none;\">\n\n<svg xmlns=\"http://www.w3.org/2000/svg\" height=\"24px\"viewBox=\"0 0 24 24\"\n     width=\"24px\">\n    <g>\n        <path d=\"M19 3H5c-1.1 0-2 .9-2 2v14c0 1.1.9 2 2 2h14c1.1 0 2-.9 2-2V5c0-1.1-.9-2-2-2zM9 17H7v-7h2v7zm4 0h-2V7h2v10zm4 0h-2v-4h2v4z\"/>\n    </g>\n</svg>\n      </button>\n    </div>\n\n<style>\n  .colab-df-quickchart {\n    background-color: #E8F0FE;\n    border: none;\n    border-radius: 50%;\n    cursor: pointer;\n    display: none;\n    fill: #1967D2;\n    height: 32px;\n    padding: 0 0 0 0;\n    width: 32px;\n  }\n\n  .colab-df-quickchart:hover {\n    background-color: #E2EBFA;\n    box-shadow: 0px 1px 2px rgba(60, 64, 67, 0.3), 0px 1px 3px 1px rgba(60, 64, 67, 0.15);\n    fill: #174EA6;\n  }\n\n  [theme=dark] .colab-df-quickchart {\n    background-color: #3B4455;\n    fill: #D2E3FC;\n  }\n\n  [theme=dark] .colab-df-quickchart:hover {\n    background-color: #434B5C;\n    box-shadow: 0px 1px 3px 1px rgba(0, 0, 0, 0.15);\n    filter: drop-shadow(0px 1px 2px rgba(0, 0, 0, 0.3));\n    fill: #FFFFFF;\n  }\n</style>\n\n    <script>\n      async function quickchart(key) {\n        const containerElement = document.querySelector('#' + key);\n        const charts = await google.colab.kernel.invokeFunction(\n            'suggestCharts', [key], {});\n      }\n    </script>\n`;\n        parentElement.appendChild(quickchartButtonContainerElement);\n        \nfunction displayQuickchartButton(domScope) {\n  let quickchartButtonEl =\n    domScope.querySelector('#df-58256d84-fc39-4fcb-9339-36333c13dbab button.colab-df-quickchart');\n  quickchartButtonEl.style.display =\n    google.colab.kernel.accessAllowed ? 'block' : 'none';\n}\n\n        displayQuickchartButton(parentElement);\n      }\n\n      appendQuickchartButton(table);\n    "
          },
          "metadata": {},
          "execution_count": 22
        }
      ]
    },
    {
      "cell_type": "code",
      "source": [
        "sub_data = data[['CODE_GENDER_M',\n",
        "'CODE_GENDER_F',\n",
        "'EXT_SOURCE_3',\n",
        "'EXT_SOURCE_2',\n",
        "'ELEVATORS_MODE',\n",
        "'DAYS_BIRTH',\n",
        "'CREDIT_TERM',\n",
        "'FLAG_PHONE',\n",
        "'AMT_REQ_CREDIT_BUREAU_QRT',\n",
        "'EXT_SOURCE_1',\n",
        "'AMT_GOODS_PRICE',\n",
        "'AMT_REQ_CREDIT_BUREAU_YEAR',\n",
        "'AMT_INCOME_TOTAL',\n",
        "'NAME_INCOME_TYPE_Working',\n",
        "'AMT_REQ_CREDIT_BUREAU_MON',\n",
        "'CNT_CHILDREN',\n",
        "'FLAG_OWN_CAR',\n",
        "'DAYS_EMPLOYED',\n",
        "'OBS_30_CNT_SOCIAL_CIRCLE',\n",
        "'FLOORSMAX_MODE',\n",
        "'REGION_RATING_CLIENT_W_CITY',\n",
        "'FLOORSMAX_MEDI',\n",
        "'AMT_ANNUITY',\n",
        "'DAYS_ID_PUBLISH',\n",
        "'OWN_CAR_AGE',\n",
        "\n",
        "'WEEKDAY_APPR_PROCESS_START_WEDNESDAY',\n",
        "'NAME_EDUCATION_TYPE_Secondary / secondary special',\n",
        "'FLAG_EMAIL',\n",
        "'NAME_CONTRACT_TYPE',\n",
        "'FLOORSMIN_MODE',\n",
        "'OCCUPATION_TYPE_Core staff',\n",
        "'NAME_FAMILY_STATUS_Single / not married',\n",
        "'NONLIVINGAREA_MEDI',\n",
        "'DEF_30_CNT_SOCIAL_CIRCLE',\n",
        "'NAME_TYPE_SUITE_Unaccompanied',\n",
        "'YEARS_BEGINEXPLUATATION_MODE',\n",
        "'ENTRANCES_MODE',\n",
        "'CREDIT_INCOME_PERCENT',\n",
        "'NAME_INCOME_TYPE_State servant',\n",
        "'WEEKDAY_APPR_PROCESS_START_TUESDAY',\n",
        "'FLOORSMIN_MEDI',\n",
        "'ORGANIZATION_TYPE_Construction',\n",
        "'WEEKDAY_APPR_PROCESS_START_THURSDAY',\n",
        "'FONDKAPREMONT_MODE_reg oper spec account',\n",
        "'OCCUPATION_TYPE_Low-skill Laborers',\n",
        "'NAME_INCOME_TYPE_Commercial associate',\n",
        "'CNT_FAM_MEMBERS',\n",
        "'AMT_REQ_CREDIT_BUREAU_WEEK',\n",
        "'OCCUPATION_TYPE_Sales staff',\n",
        "'BASEMENTAREA_MEDI',\n",
        "\n",
        "'REGION_RATING_CLIENT',\n",
        "'NAME_EDUCATION_TYPE_Lower secondary',\n",
        "'NAME_HOUSING_TYPE_Municipal apartment',\n",
        "'YEARS_BEGINEXPLUATATION_AVG',\n",
        "'DAYS_LAST_PHONE_CHANGE',\n",
        "'FLAG_DOCUMENT_16',\n",
        "'NAME_HOUSING_TYPE_House / apartment',\n",
        "'ORGANIZATION_TYPE_Industry: type 9',\n",
        "'LIVINGAREA_AVG',\n",
        "'NAME_HOUSING_TYPE_Rented apartment',\n",
        "'FLAG_DOCUMENT_3',\n",
        "'TARGET'\n",
        "\n",
        "]]"
      ],
      "metadata": {
        "id": "FmsOIz9ohbX4"
      },
      "execution_count": 11,
      "outputs": []
    },
    {
      "cell_type": "code",
      "source": [
        "sub_data.shape"
      ],
      "metadata": {
        "colab": {
          "base_uri": "https://localhost:8080/"
        },
        "id": "Wc9n0bStnWwA",
        "outputId": "ea7b490d-1e0c-47ba-fbe7-4e45e4853cb2"
      },
      "execution_count": 12,
      "outputs": [
        {
          "output_type": "execute_result",
          "data": {
            "text/plain": [
              "(307511, 62)"
            ]
          },
          "metadata": {},
          "execution_count": 12
        }
      ]
    },
    {
      "cell_type": "code",
      "source": [
        "from sklearn.model_selection import train_test_split\n",
        "train1, test1  = train_test_split(sub_data, test_size = 0.30,\n",
        "                                                    random_state = 1)"
      ],
      "metadata": {
        "id": "4S2DTnLNnbo6"
      },
      "execution_count": 13,
      "outputs": []
    },
    {
      "cell_type": "code",
      "source": [
        "X_train1 = train1.drop(columns = ['TARGET'])\n",
        "y_train1 = train1.iloc[:, -1]"
      ],
      "metadata": {
        "id": "CjCTyo6Unfwa"
      },
      "execution_count": 14,
      "outputs": []
    },
    {
      "cell_type": "code",
      "source": [
        "X_test1 = test1.drop(columns = ['TARGET'])\n",
        "y_test1 = test1.iloc[:, -1]"
      ],
      "metadata": {
        "id": "WdPgFYwHnfyq"
      },
      "execution_count": 15,
      "outputs": []
    },
    {
      "cell_type": "code",
      "source": [
        "y_train1.head()"
      ],
      "metadata": {
        "colab": {
          "base_uri": "https://localhost:8080/"
        },
        "id": "j7u4ka5Bnf0z",
        "outputId": "d1ab63df-0e6a-4332-c45b-c2ff33bca987"
      },
      "execution_count": 16,
      "outputs": [
        {
          "output_type": "execute_result",
          "data": {
            "text/plain": [
              "208983    0\n",
              "71687     0\n",
              "301340    0\n",
              "216927    0\n",
              "109091    0\n",
              "Name: TARGET, dtype: int64"
            ]
          },
          "metadata": {},
          "execution_count": 16
        }
      ]
    },
    {
      "cell_type": "code",
      "source": [
        "y_train1.astype(int).plot.hist()"
      ],
      "metadata": {
        "colab": {
          "base_uri": "https://localhost:8080/",
          "height": 447
        },
        "id": "g-cX2VSjnf3J",
        "outputId": "0073c8d2-0294-48f0-98cb-1c0bab32e98a"
      },
      "execution_count": 17,
      "outputs": [
        {
          "output_type": "execute_result",
          "data": {
            "text/plain": [
              "<Axes: ylabel='Frequency'>"
            ]
          },
          "metadata": {},
          "execution_count": 17
        },
        {
          "output_type": "display_data",
          "data": {
            "text/plain": [
              "<Figure size 640x480 with 1 Axes>"
            ],
            "image/png": "[encoded data removed]"
          },
          "metadata": {}
        }
      ]
    },
    {
      "cell_type": "code",
      "source": [
        "from sklearn.preprocessing import MinMaxScaler\n",
        "from sklearn.impute import SimpleImputer\n",
        "\n",
        "# Drop the target from the training data\n",
        "\n",
        "train = X_train1.copy()\n",
        "\n",
        "# Feature names\n",
        "features = list(train.columns)\n",
        "\n",
        "# Copy of the testing data\n",
        "test = X_test1.copy()\n",
        "\n",
        "# Median imputation of missing values\n",
        "imputer = SimpleImputer(strategy = 'median')\n",
        "\n",
        "# Scale each feature to 0-1\n",
        "scaler = MinMaxScaler(feature_range = (0, 1))\n",
        "\n",
        "# Fit on the training data\n",
        "imputer.fit(train)\n",
        "\n",
        "# Transform both training and testing data\n",
        "train = imputer.transform(train)\n",
        "test = imputer.transform(test)\n",
        "\n",
        "# Repeat with the scaler\n",
        "scaler.fit(train)\n",
        "train = scaler.transform(train)\n",
        "test = scaler.transform(test)\n",
        "\n",
        "print('Training data shape: ', train.shape)\n",
        "print('Testing data shape: ', test.shape)"
      ],
      "metadata": {
        "colab": {
          "base_uri": "https://localhost:8080/"
        },
        "id": "P0rjGb93nf5m",
        "outputId": "a8e60ac8-c1e8-4fc6-ce6b-c7ed43e519ba"
      },
      "execution_count": 18,
      "outputs": [
        {
          "output_type": "stream",
          "name": "stdout",
          "text": [
            "Training data shape:  (215257, 61)\n",
            "Testing data shape:  (92254, 61)\n"
          ]
        }
      ]
    },
    {
      "cell_type": "code",
      "source": [
        "from imblearn.over_sampling import SMOTE\n",
        "\n",
        "sm = SMOTE(random_state = 2)\n",
        "X_train_res, y_train_res = sm.fit_resample(train, y_train.ravel())\n",
        "\n",
        "print('After OverSampling, the shape of train_X: {}'.format(X_train_res.shape))\n",
        "print('After OverSampling, the shape of train_y: {} \\n'.format(y_train_res.shape))\n",
        "\n",
        "print(\"After OverSampling, counts of label '1': {}\".format(sum(y_train_res == 1)))\n",
        "print(\"After OverSampling, counts of label '0': {}\".format(sum(y_train_res == 0)))"
      ],
      "metadata": {
        "colab": {
          "base_uri": "https://localhost:8080/"
        },
        "id": "ejZAS0p7nqRm",
        "outputId": "cc8c7d0b-b18e-4f70-8da6-f8b15cdb795c"
      },
      "execution_count": 19,
      "outputs": [
        {
          "output_type": "stream",
          "name": "stdout",
          "text": [
            "After OverSampling, the shape of train_X: (395798, 61)\n",
            "After OverSampling, the shape of train_y: (395798,) \n",
            "\n",
            "After OverSampling, counts of label '1': 197899\n",
            "After OverSampling, counts of label '0': 197899\n"
          ]
        }
      ]
    },
    {
      "cell_type": "code",
      "source": [
        "import lightgbm as lgb\n",
        "from lightgbm import LGBMClassifier\n",
        "from sklearn.metrics import confusion_matrix, classification_report\n",
        "model = LGBMClassifier()\n",
        "model.fit(X_train_res, y_train_res)"
      ],
      "metadata": {
        "colab": {
          "base_uri": "https://localhost:8080/",
          "height": 74
        },
        "id": "2Wwzm_jnnr61",
        "outputId": "0799ec38-0582-4b46-bb62-eabba2210296"
      },
      "execution_count": 20,
      "outputs": [
        {
          "output_type": "execute_result",
          "data": {
            "text/plain": [
              "LGBMClassifier()"
            ],
            "text/html": [
              "<style>#sk-container-id-1 {color: black;background-color: white;}#sk-container-id-1 pre{padding: 0;}#sk-container-id-1 div.sk-toggleable {background-color: white;}#sk-container-id-1 label.sk-toggleable__label {cursor: pointer;display: block;width: 100%;margin-bottom: 0;padding: 0.3em;box-sizing: border-box;text-align: center;}#sk-container-id-1 label.sk-toggleable__label-arrow:before {content: \"▸\";float: left;margin-right: 0.25em;color: #696969;}#sk-container-id-1 label.sk-toggleable__label-arrow:hover:before {color: black;}#sk-container-id-1 div.sk-estimator:hover label.sk-toggleable__label-arrow:before {color: black;}#sk-container-id-1 div.sk-toggleable__content {max-height: 0;max-width: 0;overflow: hidden;text-align: left;background-color: #f0f8ff;}#sk-container-id-1 div.sk-toggleable__content pre {margin: 0.2em;color: black;border-radius: 0.25em;background-color: #f0f8ff;}#sk-container-id-1 input.sk-toggleable__control:checked~div.sk-toggleable__content {max-height: 200px;max-width: 100%;overflow: auto;}#sk-container-id-1 input.sk-toggleable__control:checked~label.sk-toggleable__label-arrow:before {content: \"▾\";}#sk-container-id-1 div.sk-estimator input.sk-toggleable__control:checked~label.sk-toggleable__label {background-color: #d4ebff;}#sk-container-id-1 div.sk-label input.sk-toggleable__control:checked~label.sk-toggleable__label {background-color: #d4ebff;}#sk-container-id-1 input.sk-hidden--visually {border: 0;clip: rect(1px 1px 1px 1px);clip: rect(1px, 1px, 1px, 1px);height: 1px;margin: -1px;overflow: hidden;padding: 0;position: absolute;width: 1px;}#sk-container-id-1 div.sk-estimator {font-family: monospace;background-color: #f0f8ff;border: 1px dotted black;border-radius: 0.25em;box-sizing: border-box;margin-bottom: 0.5em;}#sk-container-id-1 div.sk-estimator:hover {background-color: #d4ebff;}#sk-container-id-1 div.sk-parallel-item::after {content: \"\";width: 100%;border-bottom: 1px solid gray;flex-grow: 1;}#sk-container-id-1 div.sk-label:hover label.sk-toggleable__label {background-color: #d4ebff;}#sk-container-id-1 div.sk-serial::before {content: \"\";position: absolute;border-left: 1px solid gray;box-sizing: border-box;top: 0;bottom: 0;left: 50%;z-index: 0;}#sk-container-id-1 div.sk-serial {display: flex;flex-direction: column;align-items: center;background-color: white;padding-right: 0.2em;padding-left: 0.2em;position: relative;}#sk-container-id-1 div.sk-item {position: relative;z-index: 1;}#sk-container-id-1 div.sk-parallel {display: flex;align-items: stretch;justify-content: center;background-color: white;position: relative;}#sk-container-id-1 div.sk-item::before, #sk-container-id-1 div.sk-parallel-item::before {content: \"\";position: absolute;border-left: 1px solid gray;box-sizing: border-box;top: 0;bottom: 0;left: 50%;z-index: -1;}#sk-container-id-1 div.sk-parallel-item {display: flex;flex-direction: column;z-index: 1;position: relative;background-color: white;}#sk-container-id-1 div.sk-parallel-item:first-child::after {align-self: flex-end;width: 50%;}#sk-container-id-1 div.sk-parallel-item:last-child::after {align-self: flex-start;width: 50%;}#sk-container-id-1 div.sk-parallel-item:only-child::after {width: 0;}#sk-container-id-1 div.sk-dashed-wrapped {border: 1px dashed gray;margin: 0 0.4em 0.5em 0.4em;box-sizing: border-box;padding-bottom: 0.4em;background-color: white;}#sk-container-id-1 div.sk-label label {font-family: monospace;font-weight: bold;display: inline-block;line-height: 1.2em;}#sk-container-id-1 div.sk-label-container {text-align: center;}#sk-container-id-1 div.sk-container {/* jupyter's `normalize.less` sets `[hidden] { display: none; }` but bootstrap.min.css set `[hidden] { display: none !important; }` so we also need the `!important` here to be able to override the default hidden behavior on the sphinx rendered scikit-learn.org. See: https://github.com/scikit-learn/scikit-learn/issues/21755 */display: inline-block !important;position: relative;}#sk-container-id-1 div.sk-text-repr-fallback {display: none;}</style><div id=\"sk-container-id-1\" class=\"sk-top-container\"><div class=\"sk-text-repr-fallback\"><pre>LGBMClassifier()</pre><b>In a Jupyter environment, please rerun this cell to show the HTML representation or trust the notebook. <br />On GitHub, the HTML representation is unable to render, please try loading this page with nbviewer.org.</b></div><div class=\"sk-container\" hidden><div class=\"sk-item\"><div class=\"sk-estimator sk-toggleable\"><input class=\"sk-toggleable__control sk-hidden--visually\" id=\"sk-estimator-id-1\" type=\"checkbox\" checked><label for=\"sk-estimator-id-1\" class=\"sk-toggleable__label sk-toggleable__label-arrow\">LGBMClassifier</label><div class=\"sk-toggleable__content\"><pre>LGBMClassifier()</pre></div></div></div></div></div>"
            ]
          },
          "metadata": {},
          "execution_count": 20
        }
      ]
    },
    {
      "cell_type": "code",
      "source": [
        "y_pred = model.predict(test)\n",
        "print(classification_report(y_test, y_pred))"
      ],
      "metadata": {
        "id": "OFw-b4CXp2Ya",
        "colab": {
          "base_uri": "https://localhost:8080/"
        },
        "outputId": "a49cdb89-431e-4b03-820d-a2eab1788a8e"
      },
      "execution_count": 21,
      "outputs": [
        {
          "output_type": "stream",
          "name": "stdout",
          "text": [
            "              precision    recall  f1-score   support\n",
            "\n",
            "           0       0.92      1.00      0.96     84787\n",
            "           1       0.41      0.03      0.06      7467\n",
            "\n",
            "    accuracy                           0.92     92254\n",
            "   macro avg       0.67      0.51      0.51     92254\n",
            "weighted avg       0.88      0.92      0.88     92254\n",
            "\n"
          ]
        }
      ]
    },
    {
      "cell_type": "code",
      "source": [
        "accuracy = accuracy_score(y_test, y_pred)\n",
        "print(\"Accuracy   :\", accuracy)\n",
        "precision = precision_score(y_test, y_pred)\n",
        "print(\"Precision :\", precision)\n",
        "recall = recall_score(y_test, y_pred)\n",
        "print(\"Recall    :\", recall)\n",
        "F1_score = f1_score(y_test, y_pred)\n",
        "print(\"F1-score  :\", F1_score)"
      ],
      "metadata": {
        "colab": {
          "base_uri": "https://localhost:8080/"
        },
        "id": "GV9dSTBO0LGJ",
        "outputId": "1cf95bc6-e93a-4ced-e0e6-2a2801e33039"
      },
      "execution_count": 22,
      "outputs": [
        {
          "output_type": "stream",
          "name": "stdout",
          "text": [
            "Accuracy   : 0.918030654497366\n",
            "Precision : 0.4125230202578269\n",
            "Recall    : 0.029998660774072587\n",
            "F1-score  : 0.05593008739076155\n"
          ]
        }
      ]
    },
    {
      "cell_type": "code",
      "source": [
        "from sklearn.metrics import confusion_matrix, classification_report\n",
        "\n",
        "cm = confusion_matrix(y_test, y_pred)\n",
        "\n",
        "sns.heatmap(\n",
        "    cm,\n",
        "    annot = True,\n",
        "    fmt = 'g',\n",
        "    xticklabels = ['0', '1'],\n",
        "    yticklabels = ['0', '1']\n",
        ")\n",
        "\n",
        "plt.ylabel('Prediction', fontsize =13)\n",
        "plt.xlabel('Actual', fontsize = 13)\n",
        "plt.title('ConfusionMatrix', fontsize = 17)\n",
        "plt.show()"
      ],
      "metadata": {
        "colab": {
          "base_uri": "https://localhost:8080/",
          "height": 481
        },
        "id": "vzfpyj6P0FDw",
        "outputId": "60281272-f19f-4854-945b-497f04342651"
      },
      "execution_count": 23,
      "outputs": [
        {
          "output_type": "display_data",
          "data": {
            "text/plain": [
              "<Figure size 640x480 with 2 Axes>"
            ],
            "image/png": "[encoded data removed]"
          },
          "metadata": {}
        }
      ]
    },
    {
      "cell_type": "code",
      "source": [
        "y_pred_prob = model.predict_proba(test)[:, 1]"
      ],
      "metadata": {
        "id": "X3f2BbmY0JBJ"
      },
      "execution_count": 24,
      "outputs": []
    },
    {
      "cell_type": "code",
      "source": [
        "\n",
        "# Compute the false positive rate (FPR)\n",
        "# and true positive rate (TPR) for different classification thresholds\n",
        "# fpr, tpr, thresholds = roc_curve(y_test, y_pred_prob, pos_label=1)\n",
        "# Compute the ROC AUC score\n",
        "roc_auc = roc_auc_score(y_test, y_pred_prob)\n",
        "roc_auc"
      ],
      "metadata": {
        "colab": {
          "base_uri": "https://localhost:8080/"
        },
        "id": "VqL6U8v31n9d",
        "outputId": "cdf48397-035f-4c5c-f8b2-ae78c4bd6a2a"
      },
      "execution_count": 25,
      "outputs": [
        {
          "output_type": "execute_result",
          "data": {
            "text/plain": [
              "0.7408698919606054"
            ]
          },
          "metadata": {},
          "execution_count": 25
        }
      ]
    },
    {
      "cell_type": "code",
      "source": [
        "# Compute the ROC AUC score\n",
        "roc_auc = roc_auc_score(y_test, y_pred_prob)\n",
        "roc_auc"
      ],
      "metadata": {
        "id": "vU8H0CG7140L",
        "colab": {
          "base_uri": "https://localhost:8080/"
        },
        "outputId": "e4a5855f-96ee-4cd0-fe33-cb2c152ad694"
      },
      "execution_count": 26,
      "outputs": [
        {
          "output_type": "execute_result",
          "data": {
            "text/plain": [
              "0.7408698919606054"
            ]
          },
          "metadata": {},
          "execution_count": 26
        }
      ]
    },
    {
      "cell_type": "code",
      "source": [
        "# Compute the false positive rate (FPR)\n",
        "# and true positive rate (TPR) for different classification thresholds\n",
        "fpr, tpr, thresholds = roc_curve(y_test, y_pred_prob, pos_label=1)"
      ],
      "metadata": {
        "id": "vcMedc-djKlL"
      },
      "execution_count": 27,
      "outputs": []
    },
    {
      "cell_type": "code",
      "source": [
        "# Plot the ROC curve\n",
        "plt.plot(fpr, tpr, label='ROC curve (area = %0.2f)' % roc_auc)\n",
        "# roc curve for tpr = fpr\n",
        "plt.plot([0, 1], [0, 1], 'k--', label='LightGBM')\n",
        "plt.xlabel('False Positive Rate')\n",
        "plt.ylabel('True Positive Rate')\n",
        "plt.title('ROC Curve')\n",
        "plt.legend(loc=\"lower right\")\n",
        "plt.show()"
      ],
      "metadata": {
        "colab": {
          "base_uri": "https://localhost:8080/",
          "height": 472
        },
        "id": "W2waw9GrjM5l",
        "outputId": "e35fe70e-65e8-458b-ef63-871d23192c02"
      },
      "execution_count": 28,
      "outputs": [
        {
          "output_type": "display_data",
          "data": {
            "text/plain": [
              "<Figure size 640x480 with 1 Axes>"
            ],
            "image/png": "[encoded data removed]"
          },
          "metadata": {}
        }
      ]
    },
    {
      "cell_type": "code",
      "source": [],
      "metadata": {
        "id": "eQeqhHHpjSLl"
      },
      "execution_count": null,
      "outputs": []
    }
  ]
}